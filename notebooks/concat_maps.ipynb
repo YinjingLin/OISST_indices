{
 "cells": [
  {
   "cell_type": "code",
   "execution_count": 1,
   "id": "acb452df-1c61-427d-9ab8-887794e48167",
   "metadata": {},
   "outputs": [],
   "source": [
    "import sys\n",
    "import pathlib\n",
    "import shutil\n",
    "import subprocess"
   ]
  },
  {
   "cell_type": "code",
   "execution_count": 2,
   "id": "40b80578-5a9c-4e56-89fa-e1a2d7066cb7",
   "metadata": {},
   "outputs": [],
   "source": [
    "CWD = pathlib.Path.cwd()"
   ]
  },
  {
   "cell_type": "code",
   "execution_count": 3,
   "id": "e0a6e68d-a69a-4c1b-a235-bca2ed1a2468",
   "metadata": {},
   "outputs": [],
   "source": [
    "fig_path  = CWD.parent.joinpath('figures')"
   ]
  },
  {
   "cell_type": "markdown",
   "id": "d27fcc55-562b-4e83-80c0-9fd10c6881e4",
   "metadata": {},
   "source": [
    "### parameters for papermill (pattern = ['anoms','heatwave_days'])"
   ]
  },
  {
   "cell_type": "code",
   "execution_count": 4,
   "id": "4861200a-9e97-4027-801c-2040ad3bf257",
   "metadata": {
    "tags": [
     "parameters"
    ]
   },
   "outputs": [],
   "source": [
    "# pattern = 'anoms'\n",
    "pattern = 'heatwave_days'"
   ]
  },
  {
   "cell_type": "code",
   "execution_count": 5,
   "id": "ad201ec3-be4e-41d5-b9c2-fced01559248",
   "metadata": {},
   "outputs": [],
   "source": [
    "list_images = list(fig_path.glob(f\"proto_OISST_{pattern}_??_days.png\"))"
   ]
  },
  {
   "cell_type": "code",
   "execution_count": 6,
   "id": "087875f2-bb07-471f-850e-79286682a6a4",
   "metadata": {},
   "outputs": [],
   "source": [
    "list_images.sort()"
   ]
  },
  {
   "cell_type": "code",
   "execution_count": 7,
   "id": "9e1051bf-4258-4410-b140-96ae70c653d5",
   "metadata": {},
   "outputs": [
    {
     "data": {
      "text/plain": [
       "[PosixPath('/home/nicolasf/operational/OISST_indices/figures/proto_OISST_heatwave_days_01_days.png'),\n",
       " PosixPath('/home/nicolasf/operational/OISST_indices/figures/proto_OISST_heatwave_days_07_days.png'),\n",
       " PosixPath('/home/nicolasf/operational/OISST_indices/figures/proto_OISST_heatwave_days_30_days.png')]"
      ]
     },
     "execution_count": 7,
     "metadata": {},
     "output_type": "execute_result"
    }
   ],
   "source": [
    "list_images"
   ]
  },
  {
   "cell_type": "code",
   "execution_count": 8,
   "id": "b965729f-1461-425a-b32c-6eded3e28755",
   "metadata": {},
   "outputs": [],
   "source": [
    "list_images = list(map(str, list_images)) "
   ]
  },
  {
   "cell_type": "code",
   "execution_count": 9,
   "id": "d3c34f24-9175-4662-b776-0fc2ecffcdd1",
   "metadata": {},
   "outputs": [
    {
     "data": {
      "text/plain": [
       "['/home/nicolasf/operational/OISST_indices/figures/proto_OISST_heatwave_days_01_days.png',\n",
       " '/home/nicolasf/operational/OISST_indices/figures/proto_OISST_heatwave_days_07_days.png',\n",
       " '/home/nicolasf/operational/OISST_indices/figures/proto_OISST_heatwave_days_30_days.png']"
      ]
     },
     "execution_count": 9,
     "metadata": {},
     "output_type": "execute_result"
    }
   ],
   "source": [
    "list_images"
   ]
  },
  {
   "cell_type": "code",
   "execution_count": 10,
   "id": "db19a672-cc0e-4b0b-8dce-832e8bdfd6fc",
   "metadata": {},
   "outputs": [],
   "source": [
    "convert = shutil.which('convert')"
   ]
  },
  {
   "cell_type": "code",
   "execution_count": 11,
   "id": "894c095b-2181-43f5-af1f-d4a16ff0d720",
   "metadata": {},
   "outputs": [],
   "source": [
    "cmd = f\"{convert} +append {' '.join(list_images)} {str(fig_path.joinpath(f'combo_images_{pattern}.png'))}\""
   ]
  },
  {
   "cell_type": "code",
   "execution_count": 12,
   "id": "47e6a4b4-33c2-4fa1-9ef6-dfbd4c9ba01a",
   "metadata": {},
   "outputs": [
    {
     "data": {
      "text/plain": [
       "'/usr/bin/convert +append /home/nicolasf/operational/OISST_indices/figures/proto_OISST_heatwave_days_01_days.png /home/nicolasf/operational/OISST_indices/figures/proto_OISST_heatwave_days_07_days.png /home/nicolasf/operational/OISST_indices/figures/proto_OISST_heatwave_days_30_days.png /home/nicolasf/operational/OISST_indices/figures/combo_images_heatwave_days.png'"
      ]
     },
     "execution_count": 12,
     "metadata": {},
     "output_type": "execute_result"
    }
   ],
   "source": [
    "cmd"
   ]
  },
  {
   "cell_type": "code",
   "execution_count": 13,
   "id": "9b51b4a2-0632-4b8b-abda-373ae7e4daf3",
   "metadata": {},
   "outputs": [],
   "source": [
    "return_code = subprocess.call(cmd, shell=True)"
   ]
  },
  {
   "cell_type": "code",
   "execution_count": 14,
   "id": "79dd6011-88b2-4f8e-a149-040f9c6714f1",
   "metadata": {},
   "outputs": [
    {
     "data": {
      "text/plain": [
       "0"
      ]
     },
     "execution_count": 14,
     "metadata": {},
     "output_type": "execute_result"
    }
   ],
   "source": [
    "return_code"
   ]
  },
  {
   "cell_type": "code",
   "execution_count": null,
   "id": "ec74979a-897c-4d65-89b8-64346bae3469",
   "metadata": {},
   "outputs": [],
   "source": []
  }
 ],
 "metadata": {
  "kernelspec": {
   "display_name": "Python 3 (ipykernel)",
   "language": "python",
   "name": "python3"
  },
  "language_info": {
   "codemirror_mode": {
    "name": "ipython",
    "version": 3
   },
   "file_extension": ".py",
   "mimetype": "text/x-python",
   "name": "python",
   "nbconvert_exporter": "python",
   "pygments_lexer": "ipython3",
   "version": "3.8.13"
  }
 },
 "nbformat": 4,
 "nbformat_minor": 5
}
