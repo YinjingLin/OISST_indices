{
 "cells": [
  {
   "cell_type": "code",
   "execution_count": 2,
   "id": "e7e734bd-64a5-4a3b-a208-dffb155a1711",
   "metadata": {},
   "outputs": [],
   "source": [
    "import numpy as np"
   ]
  },
  {
   "cell_type": "code",
   "execution_count": 1,
   "id": "5eeb43e8-e3c2-4ee6-abd0-6a032da0c72b",
   "metadata": {},
   "outputs": [],
   "source": [
    "from PIL import Image"
   ]
  },
  {
   "cell_type": "code",
   "execution_count": 67,
   "id": "acb452df-1c61-427d-9ab8-887794e48167",
   "metadata": {},
   "outputs": [],
   "source": [
    "import sys\n",
    "import pathlib\n",
    "import shutil\n",
    "import subprocess"
   ]
  },
  {
   "cell_type": "code",
   "execution_count": 68,
   "id": "8c220cd6-bace-4443-97cb-618b4a0811fd",
   "metadata": {},
   "outputs": [],
   "source": [
    "fig_path = '/home/nicolasf/Desktop/'"
   ]
  },
  {
   "cell_type": "code",
   "execution_count": 69,
   "id": "80481b25-3f23-440d-bbd5-c136d39cec7a",
   "metadata": {},
   "outputs": [],
   "source": [
    "fig_path = pathlib.Path(fig_path)"
   ]
  },
  {
   "cell_type": "code",
   "execution_count": 70,
   "id": "ad201ec3-be4e-41d5-b9c2-fced01559248",
   "metadata": {},
   "outputs": [],
   "source": [
    "list_images = list(fig_path.glob(\"proto_OISST_anoms_??_days.png\"))"
   ]
  },
  {
   "cell_type": "code",
   "execution_count": 71,
   "id": "087875f2-bb07-471f-850e-79286682a6a4",
   "metadata": {},
   "outputs": [],
   "source": [
    "list_images.sort()"
   ]
  },
  {
   "cell_type": "code",
   "execution_count": 72,
   "id": "9e1051bf-4258-4410-b140-96ae70c653d5",
   "metadata": {},
   "outputs": [
    {
     "data": {
      "text/plain": [
       "[PosixPath('/home/nicolasf/Desktop/proto_OISST_anoms_01_days.png'),\n",
       " PosixPath('/home/nicolasf/Desktop/proto_OISST_anoms_07_days.png'),\n",
       " PosixPath('/home/nicolasf/Desktop/proto_OISST_anoms_30_days.png')]"
      ]
     },
     "execution_count": 72,
     "metadata": {},
     "output_type": "execute_result"
    }
   ],
   "source": [
    "list_images"
   ]
  },
  {
   "cell_type": "code",
   "execution_count": 73,
   "id": "b965729f-1461-425a-b32c-6eded3e28755",
   "metadata": {},
   "outputs": [],
   "source": [
    "list_images = list(map(str, list_images)) "
   ]
  },
  {
   "cell_type": "code",
   "execution_count": 74,
   "id": "d3c34f24-9175-4662-b776-0fc2ecffcdd1",
   "metadata": {},
   "outputs": [
    {
     "data": {
      "text/plain": [
       "['/home/nicolasf/Desktop/proto_OISST_anoms_01_days.png',\n",
       " '/home/nicolasf/Desktop/proto_OISST_anoms_07_days.png',\n",
       " '/home/nicolasf/Desktop/proto_OISST_anoms_30_days.png']"
      ]
     },
     "execution_count": 74,
     "metadata": {},
     "output_type": "execute_result"
    }
   ],
   "source": [
    "list_images"
   ]
  },
  {
   "cell_type": "code",
   "execution_count": 75,
   "id": "db19a672-cc0e-4b0b-8dce-832e8bdfd6fc",
   "metadata": {},
   "outputs": [],
   "source": [
    "convert = shutil.which('convert')"
   ]
  },
  {
   "cell_type": "code",
   "execution_count": 76,
   "id": "894c095b-2181-43f5-af1f-d4a16ff0d720",
   "metadata": {},
   "outputs": [],
   "source": [
    "cmd = f\"{convert} +append {' '.join(list_images)} {str(fig_path.joinpath('combo_images.png'))}\""
   ]
  },
  {
   "cell_type": "code",
   "execution_count": 77,
   "id": "47e6a4b4-33c2-4fa1-9ef6-dfbd4c9ba01a",
   "metadata": {},
   "outputs": [
    {
     "data": {
      "text/plain": [
       "'/usr/bin/convert +append /home/nicolasf/Desktop/proto_OISST_anoms_01_days.png /home/nicolasf/Desktop/proto_OISST_anoms_07_days.png /home/nicolasf/Desktop/proto_OISST_anoms_30_days.png /home/nicolasf/Desktop/combo_images.png'"
      ]
     },
     "execution_count": 77,
     "metadata": {},
     "output_type": "execute_result"
    }
   ],
   "source": [
    "cmd"
   ]
  },
  {
   "cell_type": "code",
   "execution_count": 78,
   "id": "9b51b4a2-0632-4b8b-abda-373ae7e4daf3",
   "metadata": {},
   "outputs": [],
   "source": [
    "return_code = subprocess.call(cmd, shell=True)"
   ]
  },
  {
   "cell_type": "code",
   "execution_count": 79,
   "id": "79dd6011-88b2-4f8e-a149-040f9c6714f1",
   "metadata": {},
   "outputs": [
    {
     "data": {
      "text/plain": [
       "0"
      ]
     },
     "execution_count": 79,
     "metadata": {},
     "output_type": "execute_result"
    }
   ],
   "source": [
    "return_code"
   ]
  }
 ],
 "metadata": {
  "kernelspec": {
   "display_name": "Python 3 (ipykernel)",
   "language": "python",
   "name": "python3"
  },
  "language_info": {
   "codemirror_mode": {
    "name": "ipython",
    "version": 3
   },
   "file_extension": ".py",
   "mimetype": "text/x-python",
   "name": "python",
   "nbconvert_exporter": "python",
   "pygments_lexer": "ipython3",
   "version": "3.8.13"
  }
 },
 "nbformat": 4,
 "nbformat_minor": 5
}
