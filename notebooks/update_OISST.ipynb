{
 "cells": [
  {
   "cell_type": "code",
   "execution_count": 1,
   "id": "0ce62e80-fe2f-4b21-a336-369bd2f7e41a",
   "metadata": {},
   "outputs": [],
   "source": [
    "%load_ext autoreload\n",
    "%autoreload 2"
   ]
  },
  {
   "cell_type": "code",
   "execution_count": 2,
   "id": "02309d80-d4d6-43be-ba1e-af4cf4565b5a",
   "metadata": {},
   "outputs": [],
   "source": [
    "%matplotlib inline\n",
    "from matplotlib import pyplot as plt"
   ]
  },
  {
   "cell_type": "code",
   "execution_count": 3,
   "id": "3976549a-6034-44f8-b987-a25b81cca703",
   "metadata": {},
   "outputs": [],
   "source": [
    "import sys\n",
    "import os\n",
    "from subprocess import call \n",
    "import pathlib"
   ]
  },
  {
   "cell_type": "code",
   "execution_count": 4,
   "id": "81597662-4a0c-4a89-b02e-b4ad22c949fd",
   "metadata": {},
   "outputs": [],
   "source": [
    "from datetime import datetime"
   ]
  },
  {
   "cell_type": "code",
   "execution_count": 5,
   "id": "300f10a7-fcc4-4c37-beed-27742f8f064c",
   "metadata": {},
   "outputs": [],
   "source": [
    "import numpy as np\n",
    "import pandas as pd\n",
    "import xarray as xr"
   ]
  },
  {
   "cell_type": "code",
   "execution_count": 6,
   "id": "72f98801-53fc-4f5c-8359-1199d485b9cb",
   "metadata": {},
   "outputs": [],
   "source": [
    "sys.path.append('../code/')"
   ]
  },
  {
   "cell_type": "code",
   "execution_count": 7,
   "id": "e0a008b2-8812-4bca-9f53-0e50584e4450",
   "metadata": {},
   "outputs": [],
   "source": [
    "import src"
   ]
  },
  {
   "cell_type": "code",
   "execution_count": 8,
   "id": "49d2bed1-93c4-4920-a5f2-5f09be820b6c",
   "metadata": {},
   "outputs": [],
   "source": [
    "regions = ['NZ','Ninos','IOD']"
   ]
  },
  {
   "cell_type": "code",
   "execution_count": 9,
   "id": "5eaac75f-82fa-4de4-b286-c7dedceeaa05",
   "metadata": {},
   "outputs": [],
   "source": [
    "opath = '/media/nicolasf/END19101/data/OISST/daily/'"
   ]
  },
  {
   "cell_type": "code",
   "execution_count": 10,
   "id": "0ddd9d60-15e8-4b2c-a790-f8aaea21adaf",
   "metadata": {},
   "outputs": [],
   "source": [
    "current_year = datetime.utcnow().year"
   ]
  },
  {
   "cell_type": "code",
   "execution_count": 11,
   "id": "83407d5f-2ab2-4a21-ae85-11c1f82621da",
   "metadata": {},
   "outputs": [
    {
     "name": "stdout",
     "output_type": "stream",
     "text": [
      "sst.day.mean.2022.v2.nc successfully saved in /media/nicolasf/END19101/data/OISST/daily/NZ\n",
      "sst.day.mean.2022.v2.nc successfully saved in /media/nicolasf/END19101/data/OISST/daily/Ninos\n",
      "sst.day.mean.2022.v2.nc successfully saved in /media/nicolasf/END19101/data/OISST/daily/IOD\n"
     ]
    }
   ],
   "source": [
    "for region in regions: \n",
    "    \n",
    "    download_path = pathlib.Path(opath).joinpath(region)\n",
    "    \n",
    "    domain = src.get_domain(region)\n",
    "    \n",
    "    src.download_OISST(year=current_year, opath=download_path, domain=domain)"
   ]
  },
  {
   "cell_type": "code",
   "execution_count": null,
   "id": "701cf142-c9b3-4de2-a63d-ae1f6ec2c5e3",
   "metadata": {},
   "outputs": [],
   "source": []
  },
  {
   "cell_type": "code",
   "execution_count": null,
   "id": "9a3d0585-b4b5-4e79-93cd-3495ce13bb0d",
   "metadata": {},
   "outputs": [],
   "source": []
  }
 ],
 "metadata": {
  "kernelspec": {
   "display_name": "Python 3 (ipykernel)",
   "language": "python",
   "name": "python3"
  },
  "language_info": {
   "codemirror_mode": {
    "name": "ipython",
    "version": 3
   },
   "file_extension": ".py",
   "mimetype": "text/x-python",
   "name": "python",
   "nbconvert_exporter": "python",
   "pygments_lexer": "ipython3",
   "version": "3.8.13"
  }
 },
 "nbformat": 4,
 "nbformat_minor": 5
}
