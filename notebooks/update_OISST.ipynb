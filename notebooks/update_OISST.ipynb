{
 "cells": [
  {
   "cell_type": "code",
   "execution_count": 1,
   "id": "0ce62e80-fe2f-4b21-a336-369bd2f7e41a",
   "metadata": {
    "execution": {
     "iopub.execute_input": "2022-11-02T21:24:30.988229Z",
     "iopub.status.busy": "2022-11-02T21:24:30.986000Z",
     "iopub.status.idle": "2022-11-02T21:24:31.029997Z",
     "shell.execute_reply": "2022-11-02T21:24:31.029156Z"
    },
    "papermill": {
     "duration": 0.057659,
     "end_time": "2022-11-02T21:24:31.032234",
     "exception": false,
     "start_time": "2022-11-02T21:24:30.974575",
     "status": "completed"
    },
    "tags": []
   },
   "outputs": [],
   "source": [
    "%load_ext autoreload\n",
    "%autoreload 2"
   ]
  },
  {
   "cell_type": "code",
   "execution_count": 2,
   "id": "02309d80-d4d6-43be-ba1e-af4cf4565b5a",
   "metadata": {
    "execution": {
     "iopub.execute_input": "2022-11-02T21:24:31.040527Z",
     "iopub.status.busy": "2022-11-02T21:24:31.040318Z",
     "iopub.status.idle": "2022-11-02T21:24:31.449587Z",
     "shell.execute_reply": "2022-11-02T21:24:31.449099Z"
    },
    "papermill": {
     "duration": 0.415613,
     "end_time": "2022-11-02T21:24:31.450829",
     "exception": false,
     "start_time": "2022-11-02T21:24:31.035216",
     "status": "completed"
    },
    "tags": []
   },
   "outputs": [],
   "source": [
    "%matplotlib inline\n",
    "from matplotlib import pyplot as plt"
   ]
  },
  {
   "cell_type": "code",
   "execution_count": 3,
   "id": "3976549a-6034-44f8-b987-a25b81cca703",
   "metadata": {
    "execution": {
     "iopub.execute_input": "2022-11-02T21:24:31.454381Z",
     "iopub.status.busy": "2022-11-02T21:24:31.454255Z",
     "iopub.status.idle": "2022-11-02T21:24:31.462588Z",
     "shell.execute_reply": "2022-11-02T21:24:31.462139Z"
    },
    "papermill": {
     "duration": 0.011593,
     "end_time": "2022-11-02T21:24:31.463916",
     "exception": false,
     "start_time": "2022-11-02T21:24:31.452323",
     "status": "completed"
    },
    "tags": []
   },
   "outputs": [],
   "source": [
    "import sys\n",
    "import os\n",
    "from subprocess import call \n",
    "import pathlib"
   ]
  },
  {
   "cell_type": "code",
   "execution_count": 4,
   "id": "81597662-4a0c-4a89-b02e-b4ad22c949fd",
   "metadata": {
    "execution": {
     "iopub.execute_input": "2022-11-02T21:24:31.467561Z",
     "iopub.status.busy": "2022-11-02T21:24:31.467442Z",
     "iopub.status.idle": "2022-11-02T21:24:31.475530Z",
     "shell.execute_reply": "2022-11-02T21:24:31.475086Z"
    },
    "papermill": {
     "duration": 0.011268,
     "end_time": "2022-11-02T21:24:31.476887",
     "exception": false,
     "start_time": "2022-11-02T21:24:31.465619",
     "status": "completed"
    },
    "tags": []
   },
   "outputs": [],
   "source": [
    "from datetime import datetime"
   ]
  },
  {
   "cell_type": "code",
   "execution_count": 5,
   "id": "300f10a7-fcc4-4c37-beed-27742f8f064c",
   "metadata": {
    "execution": {
     "iopub.execute_input": "2022-11-02T21:24:31.483691Z",
     "iopub.status.busy": "2022-11-02T21:24:31.483553Z",
     "iopub.status.idle": "2022-11-02T21:24:32.227973Z",
     "shell.execute_reply": "2022-11-02T21:24:32.227501Z"
    },
    "papermill": {
     "duration": 0.749198,
     "end_time": "2022-11-02T21:24:32.229193",
     "exception": false,
     "start_time": "2022-11-02T21:24:31.479995",
     "status": "completed"
    },
    "tags": []
   },
   "outputs": [],
   "source": [
    "import numpy as np\n",
    "import pandas as pd\n",
    "import xarray as xr"
   ]
  },
  {
   "cell_type": "code",
   "execution_count": 6,
   "id": "72f98801-53fc-4f5c-8359-1199d485b9cb",
   "metadata": {
    "execution": {
     "iopub.execute_input": "2022-11-02T21:24:32.232893Z",
     "iopub.status.busy": "2022-11-02T21:24:32.232735Z",
     "iopub.status.idle": "2022-11-02T21:24:32.245407Z",
     "shell.execute_reply": "2022-11-02T21:24:32.245010Z"
    },
    "papermill": {
     "duration": 0.015772,
     "end_time": "2022-11-02T21:24:32.246523",
     "exception": false,
     "start_time": "2022-11-02T21:24:32.230751",
     "status": "completed"
    },
    "tags": []
   },
   "outputs": [],
   "source": [
    "sys.path.append('../code/')"
   ]
  },
  {
   "cell_type": "code",
   "execution_count": 7,
   "id": "e0a008b2-8812-4bca-9f53-0e50584e4450",
   "metadata": {
    "execution": {
     "iopub.execute_input": "2022-11-02T21:24:32.250041Z",
     "iopub.status.busy": "2022-11-02T21:24:32.249925Z",
     "iopub.status.idle": "2022-11-02T21:24:32.263279Z",
     "shell.execute_reply": "2022-11-02T21:24:32.262818Z"
    },
    "papermill": {
     "duration": 0.016456,
     "end_time": "2022-11-02T21:24:32.264509",
     "exception": false,
     "start_time": "2022-11-02T21:24:32.248053",
     "status": "completed"
    },
    "tags": []
   },
   "outputs": [],
   "source": [
    "import src"
   ]
  },
  {
   "cell_type": "markdown",
   "id": "2db4f19f-2772-46a9-992a-9c71246fd828",
   "metadata": {
    "papermill": {
     "duration": 0.001405,
     "end_time": "2022-11-02T21:24:32.267415",
     "exception": false,
     "start_time": "2022-11-02T21:24:32.266010",
     "status": "completed"
    },
    "tags": []
   },
   "source": [
    "### parameters for papermill"
   ]
  },
  {
   "cell_type": "code",
   "execution_count": 8,
   "id": "6aa16f91-ad34-4db4-82f7-53df506e147f",
   "metadata": {
    "execution": {
     "iopub.execute_input": "2022-11-02T21:24:32.271133Z",
     "iopub.status.busy": "2022-11-02T21:24:32.271005Z",
     "iopub.status.idle": "2022-11-02T21:24:32.283355Z",
     "shell.execute_reply": "2022-11-02T21:24:32.282922Z"
    },
    "papermill": {
     "duration": 0.015599,
     "end_time": "2022-11-02T21:24:32.284409",
     "exception": false,
     "start_time": "2022-11-02T21:24:32.268810",
     "status": "completed"
    },
    "tags": [
     "parameters"
    ]
   },
   "outputs": [],
   "source": [
    "domains = ['NZ','Ninos','IOD']\n",
    "opath = '/media/nicolasf/END19101/data/OISST/daily/'"
   ]
  },
  {
   "cell_type": "code",
   "execution_count": 9,
   "id": "0ddd9d60-15e8-4b2c-a790-f8aaea21adaf",
   "metadata": {
    "execution": {
     "iopub.execute_input": "2022-11-02T21:24:32.288043Z",
     "iopub.status.busy": "2022-11-02T21:24:32.287928Z",
     "iopub.status.idle": "2022-11-02T21:24:32.300107Z",
     "shell.execute_reply": "2022-11-02T21:24:32.299675Z"
    },
    "papermill": {
     "duration": 0.015152,
     "end_time": "2022-11-02T21:24:32.301177",
     "exception": false,
     "start_time": "2022-11-02T21:24:32.286025",
     "status": "completed"
    },
    "tags": []
   },
   "outputs": [],
   "source": [
    "current_year = datetime.utcnow().year"
   ]
  },
  {
   "cell_type": "code",
   "execution_count": 10,
   "id": "83407d5f-2ab2-4a21-ae85-11c1f82621da",
   "metadata": {
    "execution": {
     "iopub.execute_input": "2022-11-02T21:24:32.304757Z",
     "iopub.status.busy": "2022-11-02T21:24:32.304636Z",
     "iopub.status.idle": "2022-11-02T21:33:01.559185Z",
     "shell.execute_reply": "2022-11-02T21:33:01.558572Z"
    },
    "papermill": {
     "duration": 509.257981,
     "end_time": "2022-11-02T21:33:01.560644",
     "exception": false,
     "start_time": "2022-11-02T21:24:32.302663",
     "status": "completed"
    },
    "tags": []
   },
   "outputs": [],
   "source": [
    "for domain in domains: \n",
    "    \n",
    "    download_path = pathlib.Path(opath).joinpath(domain)\n",
    "    \n",
    "    domain = src.get_domain(domain)\n",
    "    \n",
    "    src.download_OISST(year=current_year, opath=download_path, domain=domain)"
   ]
  },
  {
   "cell_type": "code",
   "execution_count": null,
   "id": "1d8d23b3-d12f-4476-97f0-42381e857501",
   "metadata": {
    "papermill": {
     "duration": 0.001589,
     "end_time": "2022-11-02T21:33:01.564348",
     "exception": false,
     "start_time": "2022-11-02T21:33:01.562759",
     "status": "completed"
    },
    "tags": []
   },
   "outputs": [],
   "source": []
  }
 ],
 "metadata": {
  "kernelspec": {
   "display_name": "Python 3 (ipykernel)",
   "language": "python",
   "name": "python3"
  },
  "language_info": {
   "codemirror_mode": {
    "name": "ipython",
    "version": 3
   },
   "file_extension": ".py",
   "mimetype": "text/x-python",
   "name": "python",
   "nbconvert_exporter": "python",
   "pygments_lexer": "ipython3",
   "version": "3.8.13"
  },
  "papermill": {
   "default_parameters": {},
   "duration": 512.031711,
   "end_time": "2022-11-02T21:33:01.884821",
   "environment_variables": {},
   "exception": null,
   "input_path": "update_OISST.ipynb",
   "output_path": "update_OISST.ipynb",
   "parameters": {},
   "start_time": "2022-11-02T21:24:29.853110",
   "version": "2.3.3"
  }
 },
 "nbformat": 4,
 "nbformat_minor": 5
}