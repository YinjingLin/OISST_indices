{
 "cells": [
  {
   "cell_type": "code",
   "execution_count": 1,
   "id": "0ce62e80-fe2f-4b21-a336-369bd2f7e41a",
   "metadata": {
    "execution": {
     "iopub.execute_input": "2022-12-07T00:50:25.676305Z",
     "iopub.status.busy": "2022-12-07T00:50:25.676009Z",
     "iopub.status.idle": "2022-12-07T00:50:25.687968Z",
     "shell.execute_reply": "2022-12-07T00:50:25.687526Z"
    },
    "papermill": {
     "duration": 0.01622,
     "end_time": "2022-12-07T00:50:25.689289",
     "exception": false,
     "start_time": "2022-12-07T00:50:25.673069",
     "status": "completed"
    },
    "tags": []
   },
   "outputs": [],
   "source": [
    "%load_ext autoreload\n",
    "%autoreload 2"
   ]
  },
  {
   "cell_type": "code",
   "execution_count": 2,
   "id": "02309d80-d4d6-43be-ba1e-af4cf4565b5a",
   "metadata": {
    "execution": {
     "iopub.execute_input": "2022-12-07T00:50:25.693471Z",
     "iopub.status.busy": "2022-12-07T00:50:25.693333Z",
     "iopub.status.idle": "2022-12-07T00:50:26.229037Z",
     "shell.execute_reply": "2022-12-07T00:50:26.228537Z"
    },
    "papermill": {
     "duration": 0.540075,
     "end_time": "2022-12-07T00:50:26.231367",
     "exception": false,
     "start_time": "2022-12-07T00:50:25.691292",
     "status": "completed"
    },
    "tags": []
   },
   "outputs": [],
   "source": [
    "%matplotlib inline\n",
    "from matplotlib import pyplot as plt"
   ]
  },
  {
   "cell_type": "code",
   "execution_count": 3,
   "id": "3976549a-6034-44f8-b987-a25b81cca703",
   "metadata": {
    "execution": {
     "iopub.execute_input": "2022-12-07T00:50:26.242020Z",
     "iopub.status.busy": "2022-12-07T00:50:26.241875Z",
     "iopub.status.idle": "2022-12-07T00:50:26.250169Z",
     "shell.execute_reply": "2022-12-07T00:50:26.249721Z"
    },
    "papermill": {
     "duration": 0.015618,
     "end_time": "2022-12-07T00:50:26.252110",
     "exception": false,
     "start_time": "2022-12-07T00:50:26.236492",
     "status": "completed"
    },
    "tags": []
   },
   "outputs": [],
   "source": [
    "import sys\n",
    "import os\n",
    "from subprocess import call \n",
    "import pathlib"
   ]
  },
  {
   "cell_type": "code",
   "execution_count": 4,
   "id": "81597662-4a0c-4a89-b02e-b4ad22c949fd",
   "metadata": {
    "execution": {
     "iopub.execute_input": "2022-12-07T00:50:26.262029Z",
     "iopub.status.busy": "2022-12-07T00:50:26.261897Z",
     "iopub.status.idle": "2022-12-07T00:50:26.269971Z",
     "shell.execute_reply": "2022-12-07T00:50:26.269521Z"
    },
    "papermill": {
     "duration": 0.015443,
     "end_time": "2022-12-07T00:50:26.272205",
     "exception": false,
     "start_time": "2022-12-07T00:50:26.256762",
     "status": "completed"
    },
    "tags": []
   },
   "outputs": [],
   "source": [
    "from datetime import datetime"
   ]
  },
  {
   "cell_type": "code",
   "execution_count": 5,
   "id": "300f10a7-fcc4-4c37-beed-27742f8f064c",
   "metadata": {
    "execution": {
     "iopub.execute_input": "2022-12-07T00:50:26.283019Z",
     "iopub.status.busy": "2022-12-07T00:50:26.282573Z",
     "iopub.status.idle": "2022-12-07T00:50:27.233408Z",
     "shell.execute_reply": "2022-12-07T00:50:27.232864Z"
    },
    "papermill": {
     "duration": 0.957744,
     "end_time": "2022-12-07T00:50:27.234742",
     "exception": false,
     "start_time": "2022-12-07T00:50:26.276998",
     "status": "completed"
    },
    "tags": []
   },
   "outputs": [],
   "source": [
    "import numpy as np\n",
    "import pandas as pd\n",
    "import xarray as xr"
   ]
  },
  {
   "cell_type": "code",
   "execution_count": 6,
   "id": "72f98801-53fc-4f5c-8359-1199d485b9cb",
   "metadata": {
    "execution": {
     "iopub.execute_input": "2022-12-07T00:50:27.238926Z",
     "iopub.status.busy": "2022-12-07T00:50:27.238740Z",
     "iopub.status.idle": "2022-12-07T00:50:27.256350Z",
     "shell.execute_reply": "2022-12-07T00:50:27.255833Z"
    },
    "papermill": {
     "duration": 0.021368,
     "end_time": "2022-12-07T00:50:27.257841",
     "exception": false,
     "start_time": "2022-12-07T00:50:27.236473",
     "status": "completed"
    },
    "tags": []
   },
   "outputs": [],
   "source": [
    "sys.path.append('../code/')"
   ]
  },
  {
   "cell_type": "code",
   "execution_count": 7,
   "id": "e0a008b2-8812-4bca-9f53-0e50584e4450",
   "metadata": {
    "execution": {
     "iopub.execute_input": "2022-12-07T00:50:27.265447Z",
     "iopub.status.busy": "2022-12-07T00:50:27.265083Z",
     "iopub.status.idle": "2022-12-07T00:50:27.278851Z",
     "shell.execute_reply": "2022-12-07T00:50:27.278433Z"
    },
    "papermill": {
     "duration": 0.019281,
     "end_time": "2022-12-07T00:50:27.280331",
     "exception": false,
     "start_time": "2022-12-07T00:50:27.261050",
     "status": "completed"
    },
    "tags": []
   },
   "outputs": [],
   "source": [
    "import src"
   ]
  },
  {
   "cell_type": "markdown",
   "id": "2db4f19f-2772-46a9-992a-9c71246fd828",
   "metadata": {
    "papermill": {
     "duration": 0.003059,
     "end_time": "2022-12-07T00:50:27.286673",
     "exception": false,
     "start_time": "2022-12-07T00:50:27.283614",
     "status": "completed"
    },
    "tags": []
   },
   "source": [
    "### parameters for papermill"
   ]
  },
  {
   "cell_type": "code",
   "execution_count": 8,
   "id": "6aa16f91-ad34-4db4-82f7-53df506e147f",
   "metadata": {
    "execution": {
     "iopub.execute_input": "2022-12-07T00:50:27.290617Z",
     "iopub.status.busy": "2022-12-07T00:50:27.290188Z",
     "iopub.status.idle": "2022-12-07T00:50:27.302527Z",
     "shell.execute_reply": "2022-12-07T00:50:27.302084Z"
    },
    "papermill": {
     "duration": 0.015433,
     "end_time": "2022-12-07T00:50:27.303586",
     "exception": false,
     "start_time": "2022-12-07T00:50:27.288153",
     "status": "completed"
    },
    "tags": [
     "parameters"
    ]
   },
   "outputs": [],
   "source": [
    "domains = ['NZ','Ninos','IOD']\n",
    "opath = '/media/nicolasf/END19101/data/OISST/daily/'"
   ]
  },
  {
   "cell_type": "code",
   "execution_count": 9,
   "id": "0ddd9d60-15e8-4b2c-a790-f8aaea21adaf",
   "metadata": {
    "execution": {
     "iopub.execute_input": "2022-12-07T00:50:27.307316Z",
     "iopub.status.busy": "2022-12-07T00:50:27.307159Z",
     "iopub.status.idle": "2022-12-07T00:50:27.324105Z",
     "shell.execute_reply": "2022-12-07T00:50:27.323445Z"
    },
    "papermill": {
     "duration": 0.021323,
     "end_time": "2022-12-07T00:50:27.326481",
     "exception": false,
     "start_time": "2022-12-07T00:50:27.305158",
     "status": "completed"
    },
    "tags": []
   },
   "outputs": [],
   "source": [
    "current_year = datetime.utcnow().year"
   ]
  },
  {
   "cell_type": "code",
   "execution_count": 10,
   "id": "83407d5f-2ab2-4a21-ae85-11c1f82621da",
   "metadata": {
    "execution": {
     "iopub.execute_input": "2022-12-07T00:50:27.337771Z",
     "iopub.status.busy": "2022-12-07T00:50:27.337237Z",
     "iopub.status.idle": "2022-12-07T00:59:25.318243Z",
     "shell.execute_reply": "2022-12-07T00:59:25.317715Z"
    },
    "papermill": {
     "duration": 537.988492,
     "end_time": "2022-12-07T00:59:25.319839",
     "exception": false,
     "start_time": "2022-12-07T00:50:27.331347",
     "status": "completed"
    },
    "tags": []
   },
   "outputs": [],
   "source": [
    "for domain in domains: \n",
    "    \n",
    "    download_path = pathlib.Path(opath).joinpath(domain)\n",
    "    \n",
    "    domain = src.get_domain(domain)\n",
    "    \n",
    "    src.download_OISST(year=current_year, opath=download_path, domain=domain)"
   ]
  },
  {
   "cell_type": "code",
   "execution_count": null,
   "id": "1d8d23b3-d12f-4476-97f0-42381e857501",
   "metadata": {
    "papermill": {
     "duration": 0.001632,
     "end_time": "2022-12-07T00:59:25.324797",
     "exception": false,
     "start_time": "2022-12-07T00:59:25.323165",
     "status": "completed"
    },
    "tags": []
   },
   "outputs": [],
   "source": []
  }
 ],
 "metadata": {
  "kernelspec": {
   "display_name": "Python 3 (ipykernel)",
   "language": "python",
   "name": "python3"
  },
  "language_info": {
   "codemirror_mode": {
    "name": "ipython",
    "version": 3
   },
   "file_extension": ".py",
   "mimetype": "text/x-python",
   "name": "python",
   "nbconvert_exporter": "python",
   "pygments_lexer": "ipython3",
   "version": "3.8.13"
  },
  "papermill": {
   "default_parameters": {},
   "duration": 541.033758,
   "end_time": "2022-12-07T00:59:25.643768",
   "environment_variables": {},
   "exception": null,
   "input_path": "update_OISST.ipynb",
   "output_path": "update_OISST.ipynb",
   "parameters": {},
   "start_time": "2022-12-07T00:50:24.610010",
   "version": "2.3.3"
  }
 },
 "nbformat": 4,
 "nbformat_minor": 5
}