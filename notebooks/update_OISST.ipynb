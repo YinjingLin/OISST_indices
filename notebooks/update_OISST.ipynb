{
 "cells": [
  {
   "cell_type": "code",
   "execution_count": 1,
   "id": "0ce62e80-fe2f-4b21-a336-369bd2f7e41a",
   "metadata": {
    "execution": {
     "iopub.execute_input": "2024-05-28T00:38:07.632547Z",
     "iopub.status.busy": "2024-05-28T00:38:07.632166Z",
     "iopub.status.idle": "2024-05-28T00:38:07.657905Z",
     "shell.execute_reply": "2024-05-28T00:38:07.657129Z",
     "shell.execute_reply.started": "2024-05-28T00:38:07.632522Z"
    },
    "papermill": {
     "duration": 0.01622,
     "end_time": "2022-12-07T00:50:25.689289",
     "exception": false,
     "start_time": "2022-12-07T00:50:25.673069",
     "status": "completed"
    },
    "tags": []
   },
   "outputs": [],
   "source": [
    "%load_ext autoreload\n",
    "%autoreload 2"
   ]
  },
  {
   "cell_type": "code",
   "execution_count": 2,
   "id": "02309d80-d4d6-43be-ba1e-af4cf4565b5a",
   "metadata": {
    "execution": {
     "iopub.execute_input": "2024-05-28T00:38:07.658989Z",
     "iopub.status.busy": "2024-05-28T00:38:07.658725Z",
     "iopub.status.idle": "2024-05-28T00:38:09.405314Z",
     "shell.execute_reply": "2024-05-28T00:38:09.405021Z",
     "shell.execute_reply.started": "2024-05-28T00:38:07.658965Z"
    },
    "papermill": {
     "duration": 0.540075,
     "end_time": "2022-12-07T00:50:26.231367",
     "exception": false,
     "start_time": "2022-12-07T00:50:25.691292",
     "status": "completed"
    },
    "tags": []
   },
   "outputs": [],
   "source": [
    "%matplotlib inline\n",
    "from matplotlib import pyplot as plt"
   ]
  },
  {
   "cell_type": "code",
   "execution_count": 3,
   "id": "3976549a-6034-44f8-b987-a25b81cca703",
   "metadata": {
    "execution": {
     "iopub.execute_input": "2024-05-28T00:38:09.405820Z",
     "iopub.status.busy": "2024-05-28T00:38:09.405690Z",
     "iopub.status.idle": "2024-05-28T00:38:09.417521Z",
     "shell.execute_reply": "2024-05-28T00:38:09.416622Z",
     "shell.execute_reply.started": "2024-05-28T00:38:09.405811Z"
    },
    "papermill": {
     "duration": 0.015618,
     "end_time": "2022-12-07T00:50:26.252110",
     "exception": false,
     "start_time": "2022-12-07T00:50:26.236492",
     "status": "completed"
    },
    "tags": []
   },
   "outputs": [],
   "source": [
    "import sys\n",
    "import os\n",
    "from subprocess import call \n",
    "import pathlib"
   ]
  },
  {
   "cell_type": "code",
   "execution_count": 4,
   "id": "81597662-4a0c-4a89-b02e-b4ad22c949fd",
   "metadata": {
    "execution": {
     "iopub.execute_input": "2024-05-28T00:38:09.419673Z",
     "iopub.status.busy": "2024-05-28T00:38:09.419221Z",
     "iopub.status.idle": "2024-05-28T00:38:09.431655Z",
     "shell.execute_reply": "2024-05-28T00:38:09.430875Z",
     "shell.execute_reply.started": "2024-05-28T00:38:09.419646Z"
    },
    "papermill": {
     "duration": 0.015443,
     "end_time": "2022-12-07T00:50:26.272205",
     "exception": false,
     "start_time": "2022-12-07T00:50:26.256762",
     "status": "completed"
    },
    "tags": []
   },
   "outputs": [],
   "source": [
    "from datetime import datetime"
   ]
  },
  {
   "cell_type": "code",
   "execution_count": 5,
   "id": "300f10a7-fcc4-4c37-beed-27742f8f064c",
   "metadata": {
    "execution": {
     "iopub.execute_input": "2024-05-28T00:38:09.432321Z",
     "iopub.status.busy": "2024-05-28T00:38:09.432143Z",
     "iopub.status.idle": "2024-05-28T00:38:12.756291Z",
     "shell.execute_reply": "2024-05-28T00:38:12.755345Z",
     "shell.execute_reply.started": "2024-05-28T00:38:09.432309Z"
    },
    "papermill": {
     "duration": 0.957744,
     "end_time": "2022-12-07T00:50:27.234742",
     "exception": false,
     "start_time": "2022-12-07T00:50:26.276998",
     "status": "completed"
    },
    "tags": []
   },
   "outputs": [],
   "source": [
    "import numpy as np\n",
    "import pandas as pd\n",
    "import xarray as xr"
   ]
  },
  {
   "cell_type": "code",
   "execution_count": 6,
   "id": "e0a008b2-8812-4bca-9f53-0e50584e4450",
   "metadata": {
    "execution": {
     "iopub.execute_input": "2024-05-28T00:38:12.757146Z",
     "iopub.status.busy": "2024-05-28T00:38:12.756870Z",
     "iopub.status.idle": "2024-05-28T00:38:14.059428Z",
     "shell.execute_reply": "2024-05-28T00:38:14.058675Z",
     "shell.execute_reply.started": "2024-05-28T00:38:12.757132Z"
    },
    "papermill": {
     "duration": 0.019281,
     "end_time": "2022-12-07T00:50:27.280331",
     "exception": false,
     "start_time": "2022-12-07T00:50:27.261050",
     "status": "completed"
    },
    "tags": []
   },
   "outputs": [],
   "source": [
    "import OISST"
   ]
  },
  {
   "cell_type": "markdown",
   "id": "2db4f19f-2772-46a9-992a-9c71246fd828",
   "metadata": {
    "papermill": {
     "duration": 0.003059,
     "end_time": "2022-12-07T00:50:27.286673",
     "exception": false,
     "start_time": "2022-12-07T00:50:27.283614",
     "status": "completed"
    },
    "tags": []
   },
   "source": [
    "### parameters for papermill"
   ]
  },
  {
   "cell_type": "code",
   "execution_count": 7,
   "id": "6aa16f91-ad34-4db4-82f7-53df506e147f",
   "metadata": {
    "execution": {
     "iopub.execute_input": "2024-05-28T00:38:14.060695Z",
     "iopub.status.busy": "2024-05-28T00:38:14.060398Z",
     "iopub.status.idle": "2024-05-28T00:38:14.089188Z",
     "shell.execute_reply": "2024-05-28T00:38:14.088287Z",
     "shell.execute_reply.started": "2024-05-28T00:38:14.060681Z"
    },
    "papermill": {
     "duration": 0.015433,
     "end_time": "2022-12-07T00:50:27.303586",
     "exception": false,
     "start_time": "2022-12-07T00:50:27.288153",
     "status": "completed"
    },
    "tags": [
     "parameters"
    ]
   },
   "outputs": [],
   "source": [
    "domains = ['NZ','Ninos','IOD','global']\n",
    "opath = '/mnt/c/Users/fauchereaun/data/OISST/daily/'"
   ]
  },
  {
   "cell_type": "code",
   "execution_count": 8,
   "id": "0ddd9d60-15e8-4b2c-a790-f8aaea21adaf",
   "metadata": {
    "execution": {
     "iopub.execute_input": "2024-05-28T00:38:14.090932Z",
     "iopub.status.busy": "2024-05-28T00:38:14.090101Z",
     "iopub.status.idle": "2024-05-28T00:38:14.118827Z",
     "shell.execute_reply": "2024-05-28T00:38:14.118005Z",
     "shell.execute_reply.started": "2024-05-28T00:38:14.090906Z"
    },
    "papermill": {
     "duration": 0.021323,
     "end_time": "2022-12-07T00:50:27.326481",
     "exception": false,
     "start_time": "2022-12-07T00:50:27.305158",
     "status": "completed"
    },
    "tags": []
   },
   "outputs": [],
   "source": [
    "current_year = datetime.now().year"
   ]
  },
  {
   "cell_type": "code",
   "execution_count": 9,
   "id": "76545f17-0eeb-4f65-a1fb-6cf5d679ec3f",
   "metadata": {
    "execution": {
     "iopub.execute_input": "2024-05-28T00:38:14.119796Z",
     "iopub.status.busy": "2024-05-28T00:38:14.119579Z",
     "iopub.status.idle": "2024-05-28T00:38:14.148698Z",
     "shell.execute_reply": "2024-05-28T00:38:14.148051Z",
     "shell.execute_reply.started": "2024-05-28T00:38:14.119779Z"
    }
   },
   "outputs": [
    {
     "name": "stdout",
     "output_type": "stream",
     "text": [
      "2024\n"
     ]
    }
   ],
   "source": [
    "print(current_year)"
   ]
  },
  {
   "cell_type": "code",
   "execution_count": 10,
   "id": "83407d5f-2ab2-4a21-ae85-11c1f82621da",
   "metadata": {
    "execution": {
     "iopub.execute_input": "2024-05-28T00:38:14.149576Z",
     "iopub.status.busy": "2024-05-28T00:38:14.149383Z",
     "iopub.status.idle": "2024-05-28T00:39:49.998999Z",
     "shell.execute_reply": "2024-05-28T00:39:49.998171Z",
     "shell.execute_reply.started": "2024-05-28T00:38:14.149559Z"
    },
    "papermill": {
     "duration": 537.988492,
     "end_time": "2022-12-07T00:59:25.319839",
     "exception": false,
     "start_time": "2022-12-07T00:50:27.331347",
     "status": "completed"
    },
    "tags": []
   },
   "outputs": [
    {
     "name": "stdout",
     "output_type": "stream",
     "text": [
      "https://downloads.psl.noaa.gov/Datasets/noaa.oisst.v2.highres/sst.day.mean.2024.nc\n"
     ]
    },
    {
     "name": "stderr",
     "output_type": "stream",
     "text": [
      "/home/nicolasf/anaconda3/envs/S2S/lib/python3.12/site-packages/numpy/core/getlimits.py:542: UserWarning: Signature b'\\x00\\xd0\\xcc\\xcc\\xcc\\xcc\\xcc\\xcc\\xfb\\xbf\\x00\\x00\\x00\\x00\\x00\\x00' for <class 'numpy.longdouble'> does not match any known type: falling back to type probe function.\n",
      "This warnings indicates broken support for the dtype!\n",
      "  machar = _get_machar(dtype)\n"
     ]
    },
    {
     "name": "stdout",
     "output_type": "stream",
     "text": [
      "https://downloads.psl.noaa.gov/Datasets/noaa.oisst.v2.highres/sst.day.mean.2024.nc\n",
      "https://downloads.psl.noaa.gov/Datasets/noaa.oisst.v2.highres/sst.day.mean.2024.nc\n",
      "https://downloads.psl.noaa.gov/Datasets/noaa.oisst.v2.highres/sst.day.mean.2024.nc\n"
     ]
    }
   ],
   "source": [
    "for domain in domains: \n",
    "    \n",
    "    download_path = pathlib.Path(opath).joinpath(domain)\n",
    "    \n",
    "    domain = OISST.get_domain(domain)\n",
    "    \n",
    "    OISST.download_OISST(year=current_year, opath=download_path, domain=domain)"
   ]
  },
  {
   "cell_type": "code",
   "execution_count": null,
   "id": "1fc299a9-8500-4524-aca2-af930e886b1c",
   "metadata": {},
   "outputs": [],
   "source": []
  },
  {
   "cell_type": "code",
   "execution_count": null,
   "id": "8b96f98b-c6b6-45f1-b0a6-d2a9026edfa3",
   "metadata": {},
   "outputs": [],
   "source": []
  }
 ],
 "metadata": {
  "kernelspec": {
   "display_name": "S2S",
   "language": "python",
   "name": "s2s"
  },
  "language_info": {
   "codemirror_mode": {
    "name": "ipython",
    "version": 3
   },
   "file_extension": ".py",
   "mimetype": "text/x-python",
   "name": "python",
   "nbconvert_exporter": "python",
   "pygments_lexer": "ipython3",
   "version": "3.12.1"
  },
  "papermill": {
   "default_parameters": {},
   "duration": 541.033758,
   "end_time": "2022-12-07T00:59:25.643768",
   "environment_variables": {},
   "exception": null,
   "input_path": "update_OISST.ipynb",
   "output_path": "update_OISST.ipynb",
   "parameters": {},
   "start_time": "2022-12-07T00:50:24.610010",
   "version": "2.3.3"
  }
 },
 "nbformat": 4,
 "nbformat_minor": 5
}
