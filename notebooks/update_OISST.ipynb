{
 "cells": [
  {
   "cell_type": "code",
   "execution_count": 1,
   "id": "0ce62e80-fe2f-4b21-a336-369bd2f7e41a",
   "metadata": {
    "execution": {
     "iopub.execute_input": "2022-10-06T21:03:59.244702Z",
     "iopub.status.busy": "2022-10-06T21:03:59.243997Z",
     "iopub.status.idle": "2022-10-06T21:03:59.287803Z",
     "shell.execute_reply": "2022-10-06T21:03:59.287038Z"
    },
    "papermill": {
     "duration": 0.058889,
     "end_time": "2022-10-06T21:03:59.290023",
     "exception": false,
     "start_time": "2022-10-06T21:03:59.231134",
     "status": "completed"
    },
    "tags": []
   },
   "outputs": [],
   "source": [
    "%load_ext autoreload\n",
    "%autoreload 2"
   ]
  },
  {
   "cell_type": "code",
   "execution_count": 2,
   "id": "02309d80-d4d6-43be-ba1e-af4cf4565b5a",
   "metadata": {
    "execution": {
     "iopub.execute_input": "2022-10-06T21:03:59.296960Z",
     "iopub.status.busy": "2022-10-06T21:03:59.296770Z",
     "iopub.status.idle": "2022-10-06T21:03:59.800929Z",
     "shell.execute_reply": "2022-10-06T21:03:59.800443Z"
    },
    "papermill": {
     "duration": 0.508661,
     "end_time": "2022-10-06T21:03:59.802129",
     "exception": false,
     "start_time": "2022-10-06T21:03:59.293468",
     "status": "completed"
    },
    "tags": []
   },
   "outputs": [],
   "source": [
    "%matplotlib inline\n",
    "from matplotlib import pyplot as plt"
   ]
  },
  {
   "cell_type": "code",
   "execution_count": 3,
   "id": "3976549a-6034-44f8-b987-a25b81cca703",
   "metadata": {
    "execution": {
     "iopub.execute_input": "2022-10-06T21:03:59.806140Z",
     "iopub.status.busy": "2022-10-06T21:03:59.806014Z",
     "iopub.status.idle": "2022-10-06T21:03:59.813922Z",
     "shell.execute_reply": "2022-10-06T21:03:59.813521Z"
    },
    "papermill": {
     "duration": 0.011159,
     "end_time": "2022-10-06T21:03:59.815021",
     "exception": false,
     "start_time": "2022-10-06T21:03:59.803862",
     "status": "completed"
    },
    "tags": []
   },
   "outputs": [],
   "source": [
    "import sys\n",
    "import os\n",
    "from subprocess import call \n",
    "import pathlib"
   ]
  },
  {
   "cell_type": "code",
   "execution_count": 4,
   "id": "81597662-4a0c-4a89-b02e-b4ad22c949fd",
   "metadata": {
    "execution": {
     "iopub.execute_input": "2022-10-06T21:03:59.818939Z",
     "iopub.status.busy": "2022-10-06T21:03:59.818785Z",
     "iopub.status.idle": "2022-10-06T21:03:59.826377Z",
     "shell.execute_reply": "2022-10-06T21:03:59.825937Z"
    },
    "papermill": {
     "duration": 0.010808,
     "end_time": "2022-10-06T21:03:59.827377",
     "exception": false,
     "start_time": "2022-10-06T21:03:59.816569",
     "status": "completed"
    },
    "tags": []
   },
   "outputs": [],
   "source": [
    "from datetime import datetime"
   ]
  },
  {
   "cell_type": "code",
   "execution_count": 5,
   "id": "300f10a7-fcc4-4c37-beed-27742f8f064c",
   "metadata": {
    "execution": {
     "iopub.execute_input": "2022-10-06T21:03:59.831856Z",
     "iopub.status.busy": "2022-10-06T21:03:59.831211Z",
     "iopub.status.idle": "2022-10-06T21:04:00.540509Z",
     "shell.execute_reply": "2022-10-06T21:04:00.539953Z"
    },
    "papermill": {
     "duration": 0.712534,
     "end_time": "2022-10-06T21:04:00.541655",
     "exception": false,
     "start_time": "2022-10-06T21:03:59.829121",
     "status": "completed"
    },
    "tags": []
   },
   "outputs": [],
   "source": [
    "import numpy as np\n",
    "import pandas as pd\n",
    "import xarray as xr"
   ]
  },
  {
   "cell_type": "code",
   "execution_count": 6,
   "id": "72f98801-53fc-4f5c-8359-1199d485b9cb",
   "metadata": {
    "execution": {
     "iopub.execute_input": "2022-10-06T21:04:00.545733Z",
     "iopub.status.busy": "2022-10-06T21:04:00.545603Z",
     "iopub.status.idle": "2022-10-06T21:04:00.558536Z",
     "shell.execute_reply": "2022-10-06T21:04:00.558119Z"
    },
    "papermill": {
     "duration": 0.016285,
     "end_time": "2022-10-06T21:04:00.559681",
     "exception": false,
     "start_time": "2022-10-06T21:04:00.543396",
     "status": "completed"
    },
    "tags": []
   },
   "outputs": [],
   "source": [
    "sys.path.append('../code/')"
   ]
  },
  {
   "cell_type": "code",
   "execution_count": 7,
   "id": "e0a008b2-8812-4bca-9f53-0e50584e4450",
   "metadata": {
    "execution": {
     "iopub.execute_input": "2022-10-06T21:04:00.563536Z",
     "iopub.status.busy": "2022-10-06T21:04:00.563415Z",
     "iopub.status.idle": "2022-10-06T21:04:00.576585Z",
     "shell.execute_reply": "2022-10-06T21:04:00.576110Z"
    },
    "papermill": {
     "duration": 0.016397,
     "end_time": "2022-10-06T21:04:00.577717",
     "exception": false,
     "start_time": "2022-10-06T21:04:00.561320",
     "status": "completed"
    },
    "tags": []
   },
   "outputs": [],
   "source": [
    "import src"
   ]
  },
  {
   "cell_type": "markdown",
   "id": "2db4f19f-2772-46a9-992a-9c71246fd828",
   "metadata": {
    "papermill": {
     "duration": 0.001477,
     "end_time": "2022-10-06T21:04:00.580942",
     "exception": false,
     "start_time": "2022-10-06T21:04:00.579465",
     "status": "completed"
    },
    "tags": []
   },
   "source": [
    "### parameters for papermill"
   ]
  },
  {
   "cell_type": "code",
   "execution_count": 8,
   "id": "6aa16f91-ad34-4db4-82f7-53df506e147f",
   "metadata": {
    "execution": {
     "iopub.execute_input": "2022-10-06T21:04:00.584561Z",
     "iopub.status.busy": "2022-10-06T21:04:00.584435Z",
     "iopub.status.idle": "2022-10-06T21:04:00.596780Z",
     "shell.execute_reply": "2022-10-06T21:04:00.596351Z"
    },
    "papermill": {
     "duration": 0.015464,
     "end_time": "2022-10-06T21:04:00.597876",
     "exception": false,
     "start_time": "2022-10-06T21:04:00.582412",
     "status": "completed"
    },
    "tags": [
     "parameters"
    ]
   },
   "outputs": [],
   "source": [
    "domains = ['NZ','Ninos','IOD']\n",
    "opath = '/media/nicolasf/END19101/data/OISST/daily/'"
   ]
  },
  {
   "cell_type": "code",
   "execution_count": 9,
   "id": "0ddd9d60-15e8-4b2c-a790-f8aaea21adaf",
   "metadata": {
    "execution": {
     "iopub.execute_input": "2022-10-06T21:04:00.601792Z",
     "iopub.status.busy": "2022-10-06T21:04:00.601671Z",
     "iopub.status.idle": "2022-10-06T21:04:00.613750Z",
     "shell.execute_reply": "2022-10-06T21:04:00.613316Z"
    },
    "papermill": {
     "duration": 0.0152,
     "end_time": "2022-10-06T21:04:00.614741",
     "exception": false,
     "start_time": "2022-10-06T21:04:00.599541",
     "status": "completed"
    },
    "tags": []
   },
   "outputs": [],
   "source": [
    "current_year = datetime.utcnow().year"
   ]
  },
  {
   "cell_type": "code",
   "execution_count": 10,
   "id": "83407d5f-2ab2-4a21-ae85-11c1f82621da",
   "metadata": {
    "execution": {
     "iopub.execute_input": "2022-10-06T21:04:00.618768Z",
     "iopub.status.busy": "2022-10-06T21:04:00.618607Z",
     "iopub.status.idle": "2022-10-06T21:04:41.181549Z",
     "shell.execute_reply": "2022-10-06T21:04:41.179295Z"
    },
    "papermill": {
     "duration": 40.573149,
     "end_time": "2022-10-06T21:04:41.189461",
     "exception": false,
     "start_time": "2022-10-06T21:04:00.616312",
     "status": "completed"
    },
    "tags": []
   },
   "outputs": [
    {
     "name": "stdout",
     "output_type": "stream",
     "text": [
      "sst.day.mean.2022.v2.nc successfully saved in /media/nicolasf/END19101/data/OISST/daily/NZ\n"
     ]
    },
    {
     "name": "stdout",
     "output_type": "stream",
     "text": [
      "sst.day.mean.2022.v2.nc successfully saved in /media/nicolasf/END19101/data/OISST/daily/Ninos\n"
     ]
    },
    {
     "name": "stdout",
     "output_type": "stream",
     "text": [
      "sst.day.mean.2022.v2.nc successfully saved in /media/nicolasf/END19101/data/OISST/daily/IOD\n"
     ]
    }
   ],
   "source": [
    "for domain in domains: \n",
    "    \n",
    "    download_path = pathlib.Path(opath).joinpath(domain)\n",
    "    \n",
    "    domain = src.get_domain(domain)\n",
    "    \n",
    "    src.download_OISST(year=current_year, opath=download_path, domain=domain)"
   ]
  },
  {
   "cell_type": "code",
   "execution_count": null,
   "id": "701cf142-c9b3-4de2-a63d-ae1f6ec2c5e3",
   "metadata": {
    "papermill": {
     "duration": 0.004785,
     "end_time": "2022-10-06T21:04:41.198966",
     "exception": false,
     "start_time": "2022-10-06T21:04:41.194181",
     "status": "completed"
    },
    "tags": []
   },
   "outputs": [],
   "source": []
  },
  {
   "cell_type": "code",
   "execution_count": null,
   "id": "9a3d0585-b4b5-4e79-93cd-3495ce13bb0d",
   "metadata": {
    "papermill": {
     "duration": 0.004901,
     "end_time": "2022-10-06T21:04:41.208513",
     "exception": false,
     "start_time": "2022-10-06T21:04:41.203612",
     "status": "completed"
    },
    "tags": []
   },
   "outputs": [],
   "source": []
  }
 ],
 "metadata": {
  "kernelspec": {
   "display_name": "Python 3 (ipykernel)",
   "language": "python",
   "name": "python3"
  },
  "language_info": {
   "codemirror_mode": {
    "name": "ipython",
    "version": 3
   },
   "file_extension": ".py",
   "mimetype": "text/x-python",
   "name": "python",
   "nbconvert_exporter": "python",
   "pygments_lexer": "ipython3",
   "version": "3.8.13"
  },
  "papermill": {
   "default_parameters": {},
   "duration": 43.493029,
   "end_time": "2022-10-06T21:04:41.531709",
   "environment_variables": {},
   "exception": null,
   "input_path": "update_OISST.ipynb",
   "output_path": "update_OISST.ipynb",
   "parameters": {},
   "start_time": "2022-10-06T21:03:58.038680",
   "version": "2.3.3"
  }
 },
 "nbformat": 4,
 "nbformat_minor": 5
}