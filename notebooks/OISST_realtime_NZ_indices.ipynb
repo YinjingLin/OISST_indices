{
 "cells": [
  {
   "cell_type": "code",
   "execution_count": 1,
   "id": "f72f9387-9648-4dc7-8339-ed9c5b250975",
   "metadata": {
    "execution": {
     "iopub.execute_input": "2022-10-06T21:16:16.262812Z",
     "iopub.status.busy": "2022-10-06T21:16:16.262305Z",
     "iopub.status.idle": "2022-10-06T21:16:16.274456Z",
     "shell.execute_reply": "2022-10-06T21:16:16.273876Z"
    },
    "papermill": {
     "duration": 0.038291,
     "end_time": "2022-10-06T21:16:16.275739",
     "exception": false,
     "start_time": "2022-10-06T21:16:16.237448",
     "status": "completed"
    },
    "tags": []
   },
   "outputs": [],
   "source": [
    "%load_ext autoreload\n",
    "%autoreload 2"
   ]
  },
  {
   "cell_type": "code",
   "execution_count": 2,
   "id": "683000b0-85be-444b-be7b-d9142c221708",
   "metadata": {
    "execution": {
     "iopub.execute_input": "2022-10-06T21:16:16.291604Z",
     "iopub.status.busy": "2022-10-06T21:16:16.291454Z",
     "iopub.status.idle": "2022-10-06T21:16:16.678218Z",
     "shell.execute_reply": "2022-10-06T21:16:16.677747Z"
    },
    "papermill": {
     "duration": 0.395925,
     "end_time": "2022-10-06T21:16:16.679463",
     "exception": false,
     "start_time": "2022-10-06T21:16:16.283538",
     "status": "completed"
    },
    "tags": []
   },
   "outputs": [],
   "source": [
    "%matplotlib inline\n",
    "import cmocean\n",
    "from matplotlib import pyplot as plt\n",
    "from matplotlib import rc"
   ]
  },
  {
   "cell_type": "code",
   "execution_count": 3,
   "id": "9edbad3d-cdc6-4352-af94-836214504bc8",
   "metadata": {
    "execution": {
     "iopub.execute_input": "2022-10-06T21:16:16.720439Z",
     "iopub.status.busy": "2022-10-06T21:16:16.720288Z",
     "iopub.status.idle": "2022-10-06T21:16:16.728475Z",
     "shell.execute_reply": "2022-10-06T21:16:16.727968Z"
    },
    "papermill": {
     "duration": 0.042689,
     "end_time": "2022-10-06T21:16:16.729525",
     "exception": false,
     "start_time": "2022-10-06T21:16:16.686836",
     "status": "completed"
    },
    "tags": []
   },
   "outputs": [],
   "source": [
    "import os\n",
    "import pathlib\n",
    "import sys"
   ]
  },
  {
   "cell_type": "code",
   "execution_count": 4,
   "id": "7c568508-e27c-4598-b9c0-95dc1cfae64a",
   "metadata": {
    "execution": {
     "iopub.execute_input": "2022-10-06T21:16:16.744881Z",
     "iopub.status.busy": "2022-10-06T21:16:16.744735Z",
     "iopub.status.idle": "2022-10-06T21:16:17.015520Z",
     "shell.execute_reply": "2022-10-06T21:16:17.015051Z"
    },
    "papermill": {
     "duration": 0.279832,
     "end_time": "2022-10-06T21:16:17.016769",
     "exception": false,
     "start_time": "2022-10-06T21:16:16.736937",
     "status": "completed"
    },
    "tags": []
   },
   "outputs": [],
   "source": [
    "from datetime import datetime, timedelta\n",
    "\n",
    "from dateparser import parse"
   ]
  },
  {
   "cell_type": "code",
   "execution_count": 5,
   "id": "a33ef180-19ea-44d6-86c4-1ee1eebfbf4c",
   "metadata": {
    "execution": {
     "iopub.execute_input": "2022-10-06T21:16:17.032610Z",
     "iopub.status.busy": "2022-10-06T21:16:17.032474Z",
     "iopub.status.idle": "2022-10-06T21:16:17.599226Z",
     "shell.execute_reply": "2022-10-06T21:16:17.598719Z"
    },
    "papermill": {
     "duration": 0.576306,
     "end_time": "2022-10-06T21:16:17.600542",
     "exception": false,
     "start_time": "2022-10-06T21:16:17.024236",
     "status": "completed"
    },
    "tags": []
   },
   "outputs": [],
   "source": [
    "import numpy as np\n",
    "import pandas as pd\n",
    "import xarray as xr"
   ]
  },
  {
   "cell_type": "code",
   "execution_count": 6,
   "id": "c1387ac6-8911-4926-99f2-5ab76db58a1d",
   "metadata": {
    "execution": {
     "iopub.execute_input": "2022-10-06T21:16:17.616037Z",
     "iopub.status.busy": "2022-10-06T21:16:17.615899Z",
     "iopub.status.idle": "2022-10-06T21:16:17.628658Z",
     "shell.execute_reply": "2022-10-06T21:16:17.628228Z"
    },
    "papermill": {
     "duration": 0.02179,
     "end_time": "2022-10-06T21:16:17.629800",
     "exception": false,
     "start_time": "2022-10-06T21:16:17.608010",
     "status": "completed"
    },
    "tags": []
   },
   "outputs": [],
   "source": [
    "sys.path.append(\"../code/\")"
   ]
  },
  {
   "cell_type": "code",
   "execution_count": 7,
   "id": "6ac12e73-4926-4f8b-9d3d-f7819656baf0",
   "metadata": {
    "execution": {
     "iopub.execute_input": "2022-10-06T21:16:17.645629Z",
     "iopub.status.busy": "2022-10-06T21:16:17.645483Z",
     "iopub.status.idle": "2022-10-06T21:16:17.658559Z",
     "shell.execute_reply": "2022-10-06T21:16:17.658121Z"
    },
    "papermill": {
     "duration": 0.022223,
     "end_time": "2022-10-06T21:16:17.659789",
     "exception": false,
     "start_time": "2022-10-06T21:16:17.637566",
     "status": "completed"
    },
    "tags": []
   },
   "outputs": [],
   "source": [
    "import src"
   ]
  },
  {
   "cell_type": "markdown",
   "id": "d08e6eb8-0a53-477a-b1b3-453ecfa6bd08",
   "metadata": {
    "papermill": {
     "duration": 0.00706,
     "end_time": "2022-10-06T21:16:17.674218",
     "exception": false,
     "start_time": "2022-10-06T21:16:17.667158",
     "status": "completed"
    },
    "tags": []
   },
   "source": [
    "### parameters for papermill "
   ]
  },
  {
   "cell_type": "code",
   "execution_count": 8,
   "id": "d32af641-a879-4a61-bc6f-201e825cf04a",
   "metadata": {
    "execution": {
     "iopub.execute_input": "2022-10-06T21:16:17.689231Z",
     "iopub.status.busy": "2022-10-06T21:16:17.689091Z",
     "iopub.status.idle": "2022-10-06T21:16:17.702482Z",
     "shell.execute_reply": "2022-10-06T21:16:17.702033Z"
    },
    "papermill": {
     "duration": 0.022622,
     "end_time": "2022-10-06T21:16:17.703787",
     "exception": false,
     "start_time": "2022-10-06T21:16:17.681165",
     "status": "completed"
    },
    "tags": [
     "parameters"
    ]
   },
   "outputs": [],
   "source": [
    "domain = \"NZ\"\n",
    "NZ_regions = [\"NNI\", \"WNI\", \"ENI\", \"NSI\", \"WSI\", \"ESI\"]\n",
    "ipath = \"/media/nicolasf/END19101/data/OISST/daily\"\n",
    "clim_path = \"/home/nicolasf/operational/OISST_indices/outputs/\"\n",
    "shapes_path = \"/home/nicolasf/operational/OISST_indices/data/shapefiles/\"\n",
    "fig_path = \"/home/nicolasf/operational/OISST_indices/figures/\"\n",
    "ndays_agg = 1\n",
    "nmonths_back = 12 * 3"
   ]
  },
  {
   "cell_type": "code",
   "execution_count": 9,
   "id": "0615dc66",
   "metadata": {
    "execution": {
     "iopub.execute_input": "2022-10-06T21:16:17.727540Z",
     "iopub.status.busy": "2022-10-06T21:16:17.727396Z",
     "iopub.status.idle": "2022-10-06T21:16:17.740058Z",
     "shell.execute_reply": "2022-10-06T21:16:17.739613Z"
    },
    "papermill": {
     "duration": 0.021937,
     "end_time": "2022-10-06T21:16:17.741159",
     "exception": false,
     "start_time": "2022-10-06T21:16:17.719222",
     "status": "completed"
    },
    "tags": [
     "injected-parameters"
    ]
   },
   "outputs": [],
   "source": [
    "# Parameters\n",
    "ndays = 30\n"
   ]
  },
  {
   "cell_type": "markdown",
   "id": "73787fde-9a72-4cb2-b4a7-b55a0aa2656b",
   "metadata": {
    "papermill": {
     "duration": 0.007408,
     "end_time": "2022-10-06T21:16:17.756359",
     "exception": false,
     "start_time": "2022-10-06T21:16:17.748951",
     "status": "completed"
    },
    "tags": []
   },
   "source": [
    "### get the pathlib paths for the data and the climatology "
   ]
  },
  {
   "cell_type": "code",
   "execution_count": 10,
   "id": "5c459cca-3a66-4166-89f8-3571c3bc97af",
   "metadata": {
    "execution": {
     "iopub.execute_input": "2022-10-06T21:16:17.771426Z",
     "iopub.status.busy": "2022-10-06T21:16:17.771282Z",
     "iopub.status.idle": "2022-10-06T21:16:17.784157Z",
     "shell.execute_reply": "2022-10-06T21:16:17.783755Z"
    },
    "papermill": {
     "duration": 0.021765,
     "end_time": "2022-10-06T21:16:17.785206",
     "exception": false,
     "start_time": "2022-10-06T21:16:17.763441",
     "status": "completed"
    },
    "tags": []
   },
   "outputs": [],
   "source": [
    "ipath = pathlib.Path(ipath).joinpath(domain)\n",
    "clim_path = pathlib.Path(clim_path).joinpath(domain)\n",
    "shapes_path = pathlib.Path(shapes_path)\n",
    "fig_path = pathlib.Path(fig_path)"
   ]
  },
  {
   "cell_type": "markdown",
   "id": "149a9df1-7cf5-4d11-b237-dd9321578526",
   "metadata": {
    "papermill": {
     "duration": 0.00735,
     "end_time": "2022-10-06T21:16:17.799754",
     "exception": false,
     "start_time": "2022-10-06T21:16:17.792404",
     "status": "completed"
    },
    "tags": []
   },
   "source": [
    "### get the current date "
   ]
  },
  {
   "cell_type": "code",
   "execution_count": 11,
   "id": "2240a889-a894-4d47-998e-25b4b644f332",
   "metadata": {
    "execution": {
     "iopub.execute_input": "2022-10-06T21:16:17.814720Z",
     "iopub.status.busy": "2022-10-06T21:16:17.814576Z",
     "iopub.status.idle": "2022-10-06T21:16:17.827386Z",
     "shell.execute_reply": "2022-10-06T21:16:17.826947Z"
    },
    "papermill": {
     "duration": 0.02176,
     "end_time": "2022-10-06T21:16:17.828612",
     "exception": false,
     "start_time": "2022-10-06T21:16:17.806852",
     "status": "completed"
    },
    "tags": []
   },
   "outputs": [],
   "source": [
    "current_date = datetime.utcnow()"
   ]
  },
  {
   "cell_type": "code",
   "execution_count": 12,
   "id": "1cdb20ea-b809-4d6f-bf27-993a5ed1a5ad",
   "metadata": {
    "execution": {
     "iopub.execute_input": "2022-10-06T21:16:17.844114Z",
     "iopub.status.busy": "2022-10-06T21:16:17.843977Z",
     "iopub.status.idle": "2022-10-06T21:16:17.879825Z",
     "shell.execute_reply": "2022-10-06T21:16:17.879352Z"
    },
    "papermill": {
     "duration": 0.044976,
     "end_time": "2022-10-06T21:16:17.881182",
     "exception": false,
     "start_time": "2022-10-06T21:16:17.836206",
     "status": "completed"
    },
    "tags": []
   },
   "outputs": [],
   "source": [
    "first_day = parse(f\"{nmonths_back} months ago\")"
   ]
  },
  {
   "cell_type": "code",
   "execution_count": 13,
   "id": "7c6ca528-18c0-479f-9503-f828684d4a10",
   "metadata": {
    "execution": {
     "iopub.execute_input": "2022-10-06T21:16:17.896406Z",
     "iopub.status.busy": "2022-10-06T21:16:17.896267Z",
     "iopub.status.idle": "2022-10-06T21:16:17.909180Z",
     "shell.execute_reply": "2022-10-06T21:16:17.908702Z"
    },
    "papermill": {
     "duration": 0.022036,
     "end_time": "2022-10-06T21:16:17.910381",
     "exception": false,
     "start_time": "2022-10-06T21:16:17.888345",
     "status": "completed"
    },
    "tags": []
   },
   "outputs": [],
   "source": [
    "first_day = first_day - timedelta(days=first_day.day - 1)"
   ]
  },
  {
   "cell_type": "code",
   "execution_count": 14,
   "id": "5c5c528a-7419-4f65-88e0-92ea6eee432c",
   "metadata": {
    "execution": {
     "iopub.execute_input": "2022-10-06T21:16:17.925472Z",
     "iopub.status.busy": "2022-10-06T21:16:17.925336Z",
     "iopub.status.idle": "2022-10-06T21:16:17.940221Z",
     "shell.execute_reply": "2022-10-06T21:16:17.939797Z"
    },
    "papermill": {
     "duration": 0.023715,
     "end_time": "2022-10-06T21:16:17.941240",
     "exception": false,
     "start_time": "2022-10-06T21:16:17.917525",
     "status": "completed"
    },
    "tags": []
   },
   "outputs": [
    {
     "data": {
      "text/plain": [
       "datetime.datetime(2019, 10, 1, 10, 16, 17, 877107)"
      ]
     },
     "execution_count": 14,
     "metadata": {},
     "output_type": "execute_result"
    }
   ],
   "source": [
    "first_day"
   ]
  },
  {
   "cell_type": "markdown",
   "id": "170b3486-b0a0-468b-b9cb-2ece90766a4b",
   "metadata": {
    "papermill": {
     "duration": 0.007122,
     "end_time": "2022-10-06T21:16:17.955783",
     "exception": false,
     "start_time": "2022-10-06T21:16:17.948661",
     "status": "completed"
    },
    "tags": []
   },
   "source": [
    "## get the years to read "
   ]
  },
  {
   "cell_type": "code",
   "execution_count": 15,
   "id": "46429f7f-e066-4be1-8e2e-f4905a6a2ce0",
   "metadata": {
    "execution": {
     "iopub.execute_input": "2022-10-06T21:16:17.970951Z",
     "iopub.status.busy": "2022-10-06T21:16:17.970814Z",
     "iopub.status.idle": "2022-10-06T21:16:17.984015Z",
     "shell.execute_reply": "2022-10-06T21:16:17.983566Z"
    },
    "papermill": {
     "duration": 0.022152,
     "end_time": "2022-10-06T21:16:17.985234",
     "exception": false,
     "start_time": "2022-10-06T21:16:17.963082",
     "status": "completed"
    },
    "tags": []
   },
   "outputs": [],
   "source": [
    "years_to_get = np.unique(np.arange(first_day.year, current_date.year + 1))"
   ]
  },
  {
   "cell_type": "code",
   "execution_count": 16,
   "id": "f0524331-928b-47c2-bb86-7b31ed92195b",
   "metadata": {
    "execution": {
     "iopub.execute_input": "2022-10-06T21:16:18.000719Z",
     "iopub.status.busy": "2022-10-06T21:16:18.000581Z",
     "iopub.status.idle": "2022-10-06T21:16:18.013283Z",
     "shell.execute_reply": "2022-10-06T21:16:18.012842Z"
    },
    "papermill": {
     "duration": 0.021687,
     "end_time": "2022-10-06T21:16:18.014392",
     "exception": false,
     "start_time": "2022-10-06T21:16:17.992705",
     "status": "completed"
    },
    "tags": []
   },
   "outputs": [],
   "source": [
    "lfiles = [ipath.joinpath(f\"sst.day.mean.{year}.v2.nc\") for year in years_to_get]"
   ]
  },
  {
   "cell_type": "code",
   "execution_count": 17,
   "id": "5f450695-39a2-434f-9ca9-4d4b66354e56",
   "metadata": {
    "execution": {
     "iopub.execute_input": "2022-10-06T21:16:18.029727Z",
     "iopub.status.busy": "2022-10-06T21:16:18.029593Z",
     "iopub.status.idle": "2022-10-06T21:16:18.042621Z",
     "shell.execute_reply": "2022-10-06T21:16:18.042179Z"
    },
    "papermill": {
     "duration": 0.022015,
     "end_time": "2022-10-06T21:16:18.043655",
     "exception": false,
     "start_time": "2022-10-06T21:16:18.021640",
     "status": "completed"
    },
    "tags": []
   },
   "outputs": [],
   "source": [
    "lfiles.sort()"
   ]
  },
  {
   "cell_type": "code",
   "execution_count": 18,
   "id": "5d0e8563-d440-4199-8a33-82e96df76e54",
   "metadata": {
    "execution": {
     "iopub.execute_input": "2022-10-06T21:16:18.059042Z",
     "iopub.status.busy": "2022-10-06T21:16:18.058906Z",
     "iopub.status.idle": "2022-10-06T21:16:18.072609Z",
     "shell.execute_reply": "2022-10-06T21:16:18.072149Z"
    },
    "papermill": {
     "duration": 0.022724,
     "end_time": "2022-10-06T21:16:18.073729",
     "exception": false,
     "start_time": "2022-10-06T21:16:18.051005",
     "status": "completed"
    },
    "tags": []
   },
   "outputs": [
    {
     "data": {
      "text/plain": [
       "PosixPath('/media/nicolasf/END19101/data/OISST/daily/NZ/sst.day.mean.2019.v2.nc')"
      ]
     },
     "execution_count": 18,
     "metadata": {},
     "output_type": "execute_result"
    }
   ],
   "source": [
    "lfiles[0]"
   ]
  },
  {
   "cell_type": "code",
   "execution_count": 19,
   "id": "54745b80-6a0e-4cbb-a81f-e009cbaeaffd",
   "metadata": {
    "execution": {
     "iopub.execute_input": "2022-10-06T21:16:18.089800Z",
     "iopub.status.busy": "2022-10-06T21:16:18.089659Z",
     "iopub.status.idle": "2022-10-06T21:16:18.103185Z",
     "shell.execute_reply": "2022-10-06T21:16:18.102757Z"
    },
    "papermill": {
     "duration": 0.022775,
     "end_time": "2022-10-06T21:16:18.104277",
     "exception": false,
     "start_time": "2022-10-06T21:16:18.081502",
     "status": "completed"
    },
    "tags": []
   },
   "outputs": [
    {
     "data": {
      "text/plain": [
       "PosixPath('/media/nicolasf/END19101/data/OISST/daily/NZ/sst.day.mean.2022.v2.nc')"
      ]
     },
     "execution_count": 19,
     "metadata": {},
     "output_type": "execute_result"
    }
   ],
   "source": [
    "lfiles[-1]"
   ]
  },
  {
   "cell_type": "markdown",
   "id": "b3c33238-39e5-44c2-aea3-dfab8eeb8c40",
   "metadata": {
    "papermill": {
     "duration": 0.007446,
     "end_time": "2022-10-06T21:16:18.119445",
     "exception": false,
     "start_time": "2022-10-06T21:16:18.111999",
     "status": "completed"
    },
    "tags": []
   },
   "source": [
    "## opens the near realtime dataset "
   ]
  },
  {
   "cell_type": "code",
   "execution_count": 20,
   "id": "1390586b-517e-40c0-8d2a-6c2ecd2344e5",
   "metadata": {
    "execution": {
     "iopub.execute_input": "2022-10-06T21:16:18.135093Z",
     "iopub.status.busy": "2022-10-06T21:16:18.134910Z",
     "iopub.status.idle": "2022-10-06T21:16:18.314514Z",
     "shell.execute_reply": "2022-10-06T21:16:18.314005Z"
    },
    "papermill": {
     "duration": 0.188942,
     "end_time": "2022-10-06T21:16:18.315817",
     "exception": false,
     "start_time": "2022-10-06T21:16:18.126875",
     "status": "completed"
    },
    "tags": []
   },
   "outputs": [],
   "source": [
    "dset = xr.open_mfdataset(lfiles, parallel=True, combine=\"by_coords\")"
   ]
  },
  {
   "cell_type": "code",
   "execution_count": 21,
   "id": "9858d6da-c4d1-4dc1-9c62-2a0d125b5b08",
   "metadata": {
    "execution": {
     "iopub.execute_input": "2022-10-06T21:16:18.333358Z",
     "iopub.status.busy": "2022-10-06T21:16:18.333208Z",
     "iopub.status.idle": "2022-10-06T21:16:18.359484Z",
     "shell.execute_reply": "2022-10-06T21:16:18.358998Z"
    },
    "papermill": {
     "duration": 0.036629,
     "end_time": "2022-10-06T21:16:18.360677",
     "exception": false,
     "start_time": "2022-10-06T21:16:18.324048",
     "status": "completed"
    },
    "tags": []
   },
   "outputs": [
    {
     "data": {
      "text/html": [
       "<div><svg style=\"position: absolute; width: 0; height: 0; overflow: hidden\">\n",
       "<defs>\n",
       "<symbol id=\"icon-database\" viewBox=\"0 0 32 32\">\n",
       "<path d=\"M16 0c-8.837 0-16 2.239-16 5v4c0 2.761 7.163 5 16 5s16-2.239 16-5v-4c0-2.761-7.163-5-16-5z\"></path>\n",
       "<path d=\"M16 17c-8.837 0-16-2.239-16-5v6c0 2.761 7.163 5 16 5s16-2.239 16-5v-6c0 2.761-7.163 5-16 5z\"></path>\n",
       "<path d=\"M16 26c-8.837 0-16-2.239-16-5v6c0 2.761 7.163 5 16 5s16-2.239 16-5v-6c0 2.761-7.163 5-16 5z\"></path>\n",
       "</symbol>\n",
       "<symbol id=\"icon-file-text2\" viewBox=\"0 0 32 32\">\n",
       "<path d=\"M28.681 7.159c-0.694-0.947-1.662-2.053-2.724-3.116s-2.169-2.030-3.116-2.724c-1.612-1.182-2.393-1.319-2.841-1.319h-15.5c-1.378 0-2.5 1.121-2.5 2.5v27c0 1.378 1.122 2.5 2.5 2.5h23c1.378 0 2.5-1.122 2.5-2.5v-19.5c0-0.448-0.137-1.23-1.319-2.841zM24.543 5.457c0.959 0.959 1.712 1.825 2.268 2.543h-4.811v-4.811c0.718 0.556 1.584 1.309 2.543 2.268zM28 29.5c0 0.271-0.229 0.5-0.5 0.5h-23c-0.271 0-0.5-0.229-0.5-0.5v-27c0-0.271 0.229-0.5 0.5-0.5 0 0 15.499-0 15.5 0v7c0 0.552 0.448 1 1 1h7v19.5z\"></path>\n",
       "<path d=\"M23 26h-14c-0.552 0-1-0.448-1-1s0.448-1 1-1h14c0.552 0 1 0.448 1 1s-0.448 1-1 1z\"></path>\n",
       "<path d=\"M23 22h-14c-0.552 0-1-0.448-1-1s0.448-1 1-1h14c0.552 0 1 0.448 1 1s-0.448 1-1 1z\"></path>\n",
       "<path d=\"M23 18h-14c-0.552 0-1-0.448-1-1s0.448-1 1-1h14c0.552 0 1 0.448 1 1s-0.448 1-1 1z\"></path>\n",
       "</symbol>\n",
       "</defs>\n",
       "</svg>\n",
       "<style>/* CSS stylesheet for displaying xarray objects in jupyterlab.\n",
       " *\n",
       " */\n",
       "\n",
       ":root {\n",
       "  --xr-font-color0: var(--jp-content-font-color0, rgba(0, 0, 0, 1));\n",
       "  --xr-font-color2: var(--jp-content-font-color2, rgba(0, 0, 0, 0.54));\n",
       "  --xr-font-color3: var(--jp-content-font-color3, rgba(0, 0, 0, 0.38));\n",
       "  --xr-border-color: var(--jp-border-color2, #e0e0e0);\n",
       "  --xr-disabled-color: var(--jp-layout-color3, #bdbdbd);\n",
       "  --xr-background-color: var(--jp-layout-color0, white);\n",
       "  --xr-background-color-row-even: var(--jp-layout-color1, white);\n",
       "  --xr-background-color-row-odd: var(--jp-layout-color2, #eeeeee);\n",
       "}\n",
       "\n",
       "html[theme=dark],\n",
       "body[data-theme=dark],\n",
       "body.vscode-dark {\n",
       "  --xr-font-color0: rgba(255, 255, 255, 1);\n",
       "  --xr-font-color2: rgba(255, 255, 255, 0.54);\n",
       "  --xr-font-color3: rgba(255, 255, 255, 0.38);\n",
       "  --xr-border-color: #1F1F1F;\n",
       "  --xr-disabled-color: #515151;\n",
       "  --xr-background-color: #111111;\n",
       "  --xr-background-color-row-even: #111111;\n",
       "  --xr-background-color-row-odd: #313131;\n",
       "}\n",
       "\n",
       ".xr-wrap {\n",
       "  display: block !important;\n",
       "  min-width: 300px;\n",
       "  max-width: 700px;\n",
       "}\n",
       "\n",
       ".xr-text-repr-fallback {\n",
       "  /* fallback to plain text repr when CSS is not injected (untrusted notebook) */\n",
       "  display: none;\n",
       "}\n",
       "\n",
       ".xr-header {\n",
       "  padding-top: 6px;\n",
       "  padding-bottom: 6px;\n",
       "  margin-bottom: 4px;\n",
       "  border-bottom: solid 1px var(--xr-border-color);\n",
       "}\n",
       "\n",
       ".xr-header > div,\n",
       ".xr-header > ul {\n",
       "  display: inline;\n",
       "  margin-top: 0;\n",
       "  margin-bottom: 0;\n",
       "}\n",
       "\n",
       ".xr-obj-type,\n",
       ".xr-array-name {\n",
       "  margin-left: 2px;\n",
       "  margin-right: 10px;\n",
       "}\n",
       "\n",
       ".xr-obj-type {\n",
       "  color: var(--xr-font-color2);\n",
       "}\n",
       "\n",
       ".xr-sections {\n",
       "  padding-left: 0 !important;\n",
       "  display: grid;\n",
       "  grid-template-columns: 150px auto auto 1fr 20px 20px;\n",
       "}\n",
       "\n",
       ".xr-section-item {\n",
       "  display: contents;\n",
       "}\n",
       "\n",
       ".xr-section-item input {\n",
       "  display: none;\n",
       "}\n",
       "\n",
       ".xr-section-item input + label {\n",
       "  color: var(--xr-disabled-color);\n",
       "}\n",
       "\n",
       ".xr-section-item input:enabled + label {\n",
       "  cursor: pointer;\n",
       "  color: var(--xr-font-color2);\n",
       "}\n",
       "\n",
       ".xr-section-item input:enabled + label:hover {\n",
       "  color: var(--xr-font-color0);\n",
       "}\n",
       "\n",
       ".xr-section-summary {\n",
       "  grid-column: 1;\n",
       "  color: var(--xr-font-color2);\n",
       "  font-weight: 500;\n",
       "}\n",
       "\n",
       ".xr-section-summary > span {\n",
       "  display: inline-block;\n",
       "  padding-left: 0.5em;\n",
       "}\n",
       "\n",
       ".xr-section-summary-in:disabled + label {\n",
       "  color: var(--xr-font-color2);\n",
       "}\n",
       "\n",
       ".xr-section-summary-in + label:before {\n",
       "  display: inline-block;\n",
       "  content: '►';\n",
       "  font-size: 11px;\n",
       "  width: 15px;\n",
       "  text-align: center;\n",
       "}\n",
       "\n",
       ".xr-section-summary-in:disabled + label:before {\n",
       "  color: var(--xr-disabled-color);\n",
       "}\n",
       "\n",
       ".xr-section-summary-in:checked + label:before {\n",
       "  content: '▼';\n",
       "}\n",
       "\n",
       ".xr-section-summary-in:checked + label > span {\n",
       "  display: none;\n",
       "}\n",
       "\n",
       ".xr-section-summary,\n",
       ".xr-section-inline-details {\n",
       "  padding-top: 4px;\n",
       "  padding-bottom: 4px;\n",
       "}\n",
       "\n",
       ".xr-section-inline-details {\n",
       "  grid-column: 2 / -1;\n",
       "}\n",
       "\n",
       ".xr-section-details {\n",
       "  display: none;\n",
       "  grid-column: 1 / -1;\n",
       "  margin-bottom: 5px;\n",
       "}\n",
       "\n",
       ".xr-section-summary-in:checked ~ .xr-section-details {\n",
       "  display: contents;\n",
       "}\n",
       "\n",
       ".xr-array-wrap {\n",
       "  grid-column: 1 / -1;\n",
       "  display: grid;\n",
       "  grid-template-columns: 20px auto;\n",
       "}\n",
       "\n",
       ".xr-array-wrap > label {\n",
       "  grid-column: 1;\n",
       "  vertical-align: top;\n",
       "}\n",
       "\n",
       ".xr-preview {\n",
       "  color: var(--xr-font-color3);\n",
       "}\n",
       "\n",
       ".xr-array-preview,\n",
       ".xr-array-data {\n",
       "  padding: 0 5px !important;\n",
       "  grid-column: 2;\n",
       "}\n",
       "\n",
       ".xr-array-data,\n",
       ".xr-array-in:checked ~ .xr-array-preview {\n",
       "  display: none;\n",
       "}\n",
       "\n",
       ".xr-array-in:checked ~ .xr-array-data,\n",
       ".xr-array-preview {\n",
       "  display: inline-block;\n",
       "}\n",
       "\n",
       ".xr-dim-list {\n",
       "  display: inline-block !important;\n",
       "  list-style: none;\n",
       "  padding: 0 !important;\n",
       "  margin: 0;\n",
       "}\n",
       "\n",
       ".xr-dim-list li {\n",
       "  display: inline-block;\n",
       "  padding: 0;\n",
       "  margin: 0;\n",
       "}\n",
       "\n",
       ".xr-dim-list:before {\n",
       "  content: '(';\n",
       "}\n",
       "\n",
       ".xr-dim-list:after {\n",
       "  content: ')';\n",
       "}\n",
       "\n",
       ".xr-dim-list li:not(:last-child):after {\n",
       "  content: ',';\n",
       "  padding-right: 5px;\n",
       "}\n",
       "\n",
       ".xr-has-index {\n",
       "  font-weight: bold;\n",
       "}\n",
       "\n",
       ".xr-var-list,\n",
       ".xr-var-item {\n",
       "  display: contents;\n",
       "}\n",
       "\n",
       ".xr-var-item > div,\n",
       ".xr-var-item label,\n",
       ".xr-var-item > .xr-var-name span {\n",
       "  background-color: var(--xr-background-color-row-even);\n",
       "  margin-bottom: 0;\n",
       "}\n",
       "\n",
       ".xr-var-item > .xr-var-name:hover span {\n",
       "  padding-right: 5px;\n",
       "}\n",
       "\n",
       ".xr-var-list > li:nth-child(odd) > div,\n",
       ".xr-var-list > li:nth-child(odd) > label,\n",
       ".xr-var-list > li:nth-child(odd) > .xr-var-name span {\n",
       "  background-color: var(--xr-background-color-row-odd);\n",
       "}\n",
       "\n",
       ".xr-var-name {\n",
       "  grid-column: 1;\n",
       "}\n",
       "\n",
       ".xr-var-dims {\n",
       "  grid-column: 2;\n",
       "}\n",
       "\n",
       ".xr-var-dtype {\n",
       "  grid-column: 3;\n",
       "  text-align: right;\n",
       "  color: var(--xr-font-color2);\n",
       "}\n",
       "\n",
       ".xr-var-preview {\n",
       "  grid-column: 4;\n",
       "}\n",
       "\n",
       ".xr-var-name,\n",
       ".xr-var-dims,\n",
       ".xr-var-dtype,\n",
       ".xr-preview,\n",
       ".xr-attrs dt {\n",
       "  white-space: nowrap;\n",
       "  overflow: hidden;\n",
       "  text-overflow: ellipsis;\n",
       "  padding-right: 10px;\n",
       "}\n",
       "\n",
       ".xr-var-name:hover,\n",
       ".xr-var-dims:hover,\n",
       ".xr-var-dtype:hover,\n",
       ".xr-attrs dt:hover {\n",
       "  overflow: visible;\n",
       "  width: auto;\n",
       "  z-index: 1;\n",
       "}\n",
       "\n",
       ".xr-var-attrs,\n",
       ".xr-var-data {\n",
       "  display: none;\n",
       "  background-color: var(--xr-background-color) !important;\n",
       "  padding-bottom: 5px !important;\n",
       "}\n",
       "\n",
       ".xr-var-attrs-in:checked ~ .xr-var-attrs,\n",
       ".xr-var-data-in:checked ~ .xr-var-data {\n",
       "  display: block;\n",
       "}\n",
       "\n",
       ".xr-var-data > table {\n",
       "  float: right;\n",
       "}\n",
       "\n",
       ".xr-var-name span,\n",
       ".xr-var-data,\n",
       ".xr-attrs {\n",
       "  padding-left: 25px !important;\n",
       "}\n",
       "\n",
       ".xr-attrs,\n",
       ".xr-var-attrs,\n",
       ".xr-var-data {\n",
       "  grid-column: 1 / -1;\n",
       "}\n",
       "\n",
       "dl.xr-attrs {\n",
       "  padding: 0;\n",
       "  margin: 0;\n",
       "  display: grid;\n",
       "  grid-template-columns: 125px auto;\n",
       "}\n",
       "\n",
       ".xr-attrs dt,\n",
       ".xr-attrs dd {\n",
       "  padding: 0;\n",
       "  margin: 0;\n",
       "  float: left;\n",
       "  padding-right: 10px;\n",
       "  width: auto;\n",
       "}\n",
       "\n",
       ".xr-attrs dt {\n",
       "  font-weight: normal;\n",
       "  grid-column: 1;\n",
       "}\n",
       "\n",
       ".xr-attrs dt:hover span {\n",
       "  display: inline-block;\n",
       "  background: var(--xr-background-color);\n",
       "  padding-right: 10px;\n",
       "}\n",
       "\n",
       ".xr-attrs dd {\n",
       "  grid-column: 2;\n",
       "  white-space: pre-wrap;\n",
       "  word-break: break-all;\n",
       "}\n",
       "\n",
       ".xr-icon-database,\n",
       ".xr-icon-file-text2 {\n",
       "  display: inline-block;\n",
       "  vertical-align: middle;\n",
       "  width: 1em;\n",
       "  height: 1.5em !important;\n",
       "  stroke-width: 0;\n",
       "  stroke: currentColor;\n",
       "  fill: currentColor;\n",
       "}\n",
       "</style><pre class='xr-text-repr-fallback'>&lt;xarray.Dataset&gt;\n",
       "Dimensions:  (time: 1374, lat: 80, lon: 72)\n",
       "Coordinates:\n",
       "  * time     (time) datetime64[ns] 2019-01-01 2019-01-02 ... 2022-10-05\n",
       "  * lat      (lat) float32 -49.88 -49.62 -49.38 -49.12 ... -30.62 -30.38 -30.12\n",
       "  * lon      (lon) float32 162.1 162.4 162.6 162.9 ... 179.1 179.4 179.6 179.9\n",
       "Data variables:\n",
       "    sst      (time, lat, lon) float32 dask.array&lt;chunksize=(365, 80, 72), meta=np.ndarray&gt;</pre><div class='xr-wrap' style='display:none'><div class='xr-header'><div class='xr-obj-type'>xarray.Dataset</div></div><ul class='xr-sections'><li class='xr-section-item'><input id='section-b58f6f3c-a739-49b4-b43d-7f3038a2f2e9' class='xr-section-summary-in' type='checkbox' disabled ><label for='section-b58f6f3c-a739-49b4-b43d-7f3038a2f2e9' class='xr-section-summary'  title='Expand/collapse section'>Dimensions:</label><div class='xr-section-inline-details'><ul class='xr-dim-list'><li><span class='xr-has-index'>time</span>: 1374</li><li><span class='xr-has-index'>lat</span>: 80</li><li><span class='xr-has-index'>lon</span>: 72</li></ul></div><div class='xr-section-details'></div></li><li class='xr-section-item'><input id='section-f501743f-26b2-40f1-a96a-7ad12131e849' class='xr-section-summary-in' type='checkbox'  checked><label for='section-f501743f-26b2-40f1-a96a-7ad12131e849' class='xr-section-summary' >Coordinates: <span>(3)</span></label><div class='xr-section-inline-details'></div><div class='xr-section-details'><ul class='xr-var-list'><li class='xr-var-item'><div class='xr-var-name'><span class='xr-has-index'>time</span></div><div class='xr-var-dims'>(time)</div><div class='xr-var-dtype'>datetime64[ns]</div><div class='xr-var-preview xr-preview'>2019-01-01 ... 2022-10-05</div><input id='attrs-fa448611-ccca-472b-b1b0-21d6872d6472' class='xr-var-attrs-in' type='checkbox' ><label for='attrs-fa448611-ccca-472b-b1b0-21d6872d6472' title='Show/Hide attributes'><svg class='icon xr-icon-file-text2'><use xlink:href='#icon-file-text2'></use></svg></label><input id='data-6dfd649d-c2d8-44c3-8aef-9c1f49ec5123' class='xr-var-data-in' type='checkbox'><label for='data-6dfd649d-c2d8-44c3-8aef-9c1f49ec5123' title='Show/Hide data repr'><svg class='icon xr-icon-database'><use xlink:href='#icon-database'></use></svg></label><div class='xr-var-attrs'><dl class='xr-attrs'><dt><span>long_name :</span></dt><dd>Time</dd><dt><span>delta_t :</span></dt><dd>0000-00-01 00:00:00</dd><dt><span>avg_period :</span></dt><dd>0000-00-01 00:00:00</dd><dt><span>axis :</span></dt><dd>T</dd><dt><span>actual_range :</span></dt><dd>[79988. 80352.]</dd><dt><span>_ChunkSizes :</span></dt><dd>1</dd></dl></div><div class='xr-var-data'><pre>array([&#x27;2019-01-01T00:00:00.000000000&#x27;, &#x27;2019-01-02T00:00:00.000000000&#x27;,\n",
       "       &#x27;2019-01-03T00:00:00.000000000&#x27;, ..., &#x27;2022-10-03T00:00:00.000000000&#x27;,\n",
       "       &#x27;2022-10-04T00:00:00.000000000&#x27;, &#x27;2022-10-05T00:00:00.000000000&#x27;],\n",
       "      dtype=&#x27;datetime64[ns]&#x27;)</pre></div></li><li class='xr-var-item'><div class='xr-var-name'><span class='xr-has-index'>lat</span></div><div class='xr-var-dims'>(lat)</div><div class='xr-var-dtype'>float32</div><div class='xr-var-preview xr-preview'>-49.88 -49.62 ... -30.38 -30.12</div><input id='attrs-ac846c0b-466f-4bc3-88e3-c3df9118ee6b' class='xr-var-attrs-in' type='checkbox' ><label for='attrs-ac846c0b-466f-4bc3-88e3-c3df9118ee6b' title='Show/Hide attributes'><svg class='icon xr-icon-file-text2'><use xlink:href='#icon-file-text2'></use></svg></label><input id='data-c8328f9d-3430-4301-92b5-75941615baa0' class='xr-var-data-in' type='checkbox'><label for='data-c8328f9d-3430-4301-92b5-75941615baa0' title='Show/Hide data repr'><svg class='icon xr-icon-database'><use xlink:href='#icon-database'></use></svg></label><div class='xr-var-attrs'><dl class='xr-attrs'><dt><span>units :</span></dt><dd>degrees_north</dd><dt><span>actual_range :</span></dt><dd>[-89.875  89.875]</dd><dt><span>axis :</span></dt><dd>Y</dd><dt><span>standard_name :</span></dt><dd>latitude</dd><dt><span>long_name :</span></dt><dd>Latitude</dd></dl></div><div class='xr-var-data'><pre>array([-49.875, -49.625, -49.375, -49.125, -48.875, -48.625, -48.375, -48.125,\n",
       "       -47.875, -47.625, -47.375, -47.125, -46.875, -46.625, -46.375, -46.125,\n",
       "       -45.875, -45.625, -45.375, -45.125, -44.875, -44.625, -44.375, -44.125,\n",
       "       -43.875, -43.625, -43.375, -43.125, -42.875, -42.625, -42.375, -42.125,\n",
       "       -41.875, -41.625, -41.375, -41.125, -40.875, -40.625, -40.375, -40.125,\n",
       "       -39.875, -39.625, -39.375, -39.125, -38.875, -38.625, -38.375, -38.125,\n",
       "       -37.875, -37.625, -37.375, -37.125, -36.875, -36.625, -36.375, -36.125,\n",
       "       -35.875, -35.625, -35.375, -35.125, -34.875, -34.625, -34.375, -34.125,\n",
       "       -33.875, -33.625, -33.375, -33.125, -32.875, -32.625, -32.375, -32.125,\n",
       "       -31.875, -31.625, -31.375, -31.125, -30.875, -30.625, -30.375, -30.125],\n",
       "      dtype=float32)</pre></div></li><li class='xr-var-item'><div class='xr-var-name'><span class='xr-has-index'>lon</span></div><div class='xr-var-dims'>(lon)</div><div class='xr-var-dtype'>float32</div><div class='xr-var-preview xr-preview'>162.1 162.4 162.6 ... 179.6 179.9</div><input id='attrs-523ba951-843c-4766-8c85-3432f28e2189' class='xr-var-attrs-in' type='checkbox' ><label for='attrs-523ba951-843c-4766-8c85-3432f28e2189' title='Show/Hide attributes'><svg class='icon xr-icon-file-text2'><use xlink:href='#icon-file-text2'></use></svg></label><input id='data-4a637534-6ad1-4949-bc70-77fde72193d8' class='xr-var-data-in' type='checkbox'><label for='data-4a637534-6ad1-4949-bc70-77fde72193d8' title='Show/Hide data repr'><svg class='icon xr-icon-database'><use xlink:href='#icon-database'></use></svg></label><div class='xr-var-attrs'><dl class='xr-attrs'><dt><span>axis :</span></dt><dd>X</dd><dt><span>long_name :</span></dt><dd>Longitude</dd><dt><span>standard_name :</span></dt><dd>longitude</dd><dt><span>units :</span></dt><dd>degrees_east</dd><dt><span>actual_range :</span></dt><dd>[1.25000e-01 3.59875e+02]</dd></dl></div><div class='xr-var-data'><pre>array([162.125, 162.375, 162.625, 162.875, 163.125, 163.375, 163.625, 163.875,\n",
       "       164.125, 164.375, 164.625, 164.875, 165.125, 165.375, 165.625, 165.875,\n",
       "       166.125, 166.375, 166.625, 166.875, 167.125, 167.375, 167.625, 167.875,\n",
       "       168.125, 168.375, 168.625, 168.875, 169.125, 169.375, 169.625, 169.875,\n",
       "       170.125, 170.375, 170.625, 170.875, 171.125, 171.375, 171.625, 171.875,\n",
       "       172.125, 172.375, 172.625, 172.875, 173.125, 173.375, 173.625, 173.875,\n",
       "       174.125, 174.375, 174.625, 174.875, 175.125, 175.375, 175.625, 175.875,\n",
       "       176.125, 176.375, 176.625, 176.875, 177.125, 177.375, 177.625, 177.875,\n",
       "       178.125, 178.375, 178.625, 178.875, 179.125, 179.375, 179.625, 179.875],\n",
       "      dtype=float32)</pre></div></li></ul></div></li><li class='xr-section-item'><input id='section-a9c462ab-5d3c-4301-b5ab-8c8d155bba53' class='xr-section-summary-in' type='checkbox'  checked><label for='section-a9c462ab-5d3c-4301-b5ab-8c8d155bba53' class='xr-section-summary' >Data variables: <span>(1)</span></label><div class='xr-section-inline-details'></div><div class='xr-section-details'><ul class='xr-var-list'><li class='xr-var-item'><div class='xr-var-name'><span>sst</span></div><div class='xr-var-dims'>(time, lat, lon)</div><div class='xr-var-dtype'>float32</div><div class='xr-var-preview xr-preview'>dask.array&lt;chunksize=(365, 80, 72), meta=np.ndarray&gt;</div><input id='attrs-a86d3dd8-bf06-4459-bfc3-0abdff30f211' class='xr-var-attrs-in' type='checkbox' ><label for='attrs-a86d3dd8-bf06-4459-bfc3-0abdff30f211' title='Show/Hide attributes'><svg class='icon xr-icon-file-text2'><use xlink:href='#icon-file-text2'></use></svg></label><input id='data-7b182001-ca57-459d-a26c-0b7fc6a799fa' class='xr-var-data-in' type='checkbox'><label for='data-7b182001-ca57-459d-a26c-0b7fc6a799fa' title='Show/Hide data repr'><svg class='icon xr-icon-database'><use xlink:href='#icon-database'></use></svg></label><div class='xr-var-attrs'><dl class='xr-attrs'><dt><span>long_name :</span></dt><dd>Daily Sea Surface Temperature</dd><dt><span>units :</span></dt><dd>degC</dd><dt><span>valid_range :</span></dt><dd>[-3. 45.]</dd><dt><span>precision :</span></dt><dd>2.0</dd><dt><span>dataset :</span></dt><dd>NOAA High-resolution Blended Analysis</dd><dt><span>var_desc :</span></dt><dd>Sea Surface Temperature</dd><dt><span>level_desc :</span></dt><dd>Surface</dd><dt><span>statistic :</span></dt><dd>Mean</dd><dt><span>parent_stat :</span></dt><dd>Individual Observations</dd><dt><span>actual_range :</span></dt><dd>[-1.8  36.79]</dd><dt><span>_ChunkSizes :</span></dt><dd>[   1  720 1440]</dd></dl></div><div class='xr-var-data'><table>\n",
       "    <tr>\n",
       "        <td>\n",
       "            <table>\n",
       "                <thead>\n",
       "                    <tr>\n",
       "                        <td> </td>\n",
       "                        <th> Array </th>\n",
       "                        <th> Chunk </th>\n",
       "                    </tr>\n",
       "                </thead>\n",
       "                <tbody>\n",
       "                    \n",
       "                    <tr>\n",
       "                        <th> Bytes </th>\n",
       "                        <td> 30.19 MiB </td>\n",
       "                        <td> 8.04 MiB </td>\n",
       "                    </tr>\n",
       "                    \n",
       "                    <tr>\n",
       "                        <th> Shape </th>\n",
       "                        <td> (1374, 80, 72) </td>\n",
       "                        <td> (366, 80, 72) </td>\n",
       "                    </tr>\n",
       "                    <tr>\n",
       "                        <th> Count </th>\n",
       "                        <td> 9 Graph Layers </td>\n",
       "                        <td> 4 Chunks </td>\n",
       "                    </tr>\n",
       "                    <tr>\n",
       "                    <th> Type </th>\n",
       "                    <td> float32 </td>\n",
       "                    <td> numpy.ndarray </td>\n",
       "                    </tr>\n",
       "                </tbody>\n",
       "            </table>\n",
       "        </td>\n",
       "        <td>\n",
       "        <svg width=\"165\" height=\"156\" style=\"stroke:rgb(0,0,0);stroke-width:1\" >\n",
       "\n",
       "  <!-- Horizontal lines -->\n",
       "  <line x1=\"10\" y1=\"0\" x2=\"80\" y2=\"70\" style=\"stroke-width:2\" />\n",
       "  <line x1=\"10\" y1=\"35\" x2=\"80\" y2=\"106\" style=\"stroke-width:2\" />\n",
       "\n",
       "  <!-- Vertical lines -->\n",
       "  <line x1=\"10\" y1=\"0\" x2=\"10\" y2=\"35\" style=\"stroke-width:2\" />\n",
       "  <line x1=\"28\" y1=\"18\" x2=\"28\" y2=\"54\" />\n",
       "  <line x1=\"47\" y1=\"37\" x2=\"47\" y2=\"72\" />\n",
       "  <line x1=\"66\" y1=\"56\" x2=\"66\" y2=\"91\" />\n",
       "  <line x1=\"80\" y1=\"70\" x2=\"80\" y2=\"106\" style=\"stroke-width:2\" />\n",
       "\n",
       "  <!-- Colored Rectangle -->\n",
       "  <polygon points=\"10.0,0.0 80.58823529411765,70.58823529411765 80.58823529411765,106.01855741730668 10.0,35.43032212318903\" style=\"fill:#ECB172A0;stroke-width:0\"/>\n",
       "\n",
       "  <!-- Horizontal lines -->\n",
       "  <line x1=\"10\" y1=\"0\" x2=\"44\" y2=\"0\" style=\"stroke-width:2\" />\n",
       "  <line x1=\"28\" y1=\"18\" x2=\"63\" y2=\"18\" />\n",
       "  <line x1=\"47\" y1=\"37\" x2=\"82\" y2=\"37\" />\n",
       "  <line x1=\"66\" y1=\"56\" x2=\"101\" y2=\"56\" />\n",
       "  <line x1=\"80\" y1=\"70\" x2=\"115\" y2=\"70\" style=\"stroke-width:2\" />\n",
       "\n",
       "  <!-- Vertical lines -->\n",
       "  <line x1=\"10\" y1=\"0\" x2=\"80\" y2=\"70\" style=\"stroke-width:2\" />\n",
       "  <line x1=\"44\" y1=\"0\" x2=\"115\" y2=\"70\" style=\"stroke-width:2\" />\n",
       "\n",
       "  <!-- Colored Rectangle -->\n",
       "  <polygon points=\"10.0,0.0 44.78807087371938,0.0 115.37630616783703,70.58823529411765 80.58823529411765,70.58823529411765\" style=\"fill:#ECB172A0;stroke-width:0\"/>\n",
       "\n",
       "  <!-- Horizontal lines -->\n",
       "  <line x1=\"80\" y1=\"70\" x2=\"115\" y2=\"70\" style=\"stroke-width:2\" />\n",
       "  <line x1=\"80\" y1=\"106\" x2=\"115\" y2=\"106\" style=\"stroke-width:2\" />\n",
       "\n",
       "  <!-- Vertical lines -->\n",
       "  <line x1=\"80\" y1=\"70\" x2=\"80\" y2=\"106\" style=\"stroke-width:2\" />\n",
       "  <line x1=\"115\" y1=\"70\" x2=\"115\" y2=\"106\" style=\"stroke-width:2\" />\n",
       "\n",
       "  <!-- Colored Rectangle -->\n",
       "  <polygon points=\"80.58823529411765,70.58823529411765 115.37630616783703,70.58823529411765 115.37630616783703,106.01855741730668 80.58823529411765,106.01855741730668\" style=\"fill:#ECB172A0;stroke-width:0\"/>\n",
       "\n",
       "  <!-- Text -->\n",
       "  <text x=\"97.982271\" y=\"126.018557\" font-size=\"1.0rem\" font-weight=\"100\" text-anchor=\"middle\" >72</text>\n",
       "  <text x=\"135.376306\" y=\"88.303396\" font-size=\"1.0rem\" font-weight=\"100\" text-anchor=\"middle\" transform=\"rotate(0,135.376306,88.303396)\">80</text>\n",
       "  <text x=\"35.294118\" y=\"90.724440\" font-size=\"1.0rem\" font-weight=\"100\" text-anchor=\"middle\" transform=\"rotate(45,35.294118,90.724440)\">1374</text>\n",
       "</svg>\n",
       "        </td>\n",
       "    </tr>\n",
       "</table></div></li></ul></div></li><li class='xr-section-item'><input id='section-6f4c24d3-e101-4ac1-9703-09e967bd461d' class='xr-section-summary-in' type='checkbox' disabled ><label for='section-6f4c24d3-e101-4ac1-9703-09e967bd461d' class='xr-section-summary'  title='Expand/collapse section'>Attributes: <span>(0)</span></label><div class='xr-section-inline-details'></div><div class='xr-section-details'><dl class='xr-attrs'></dl></div></li></ul></div></div>"
      ],
      "text/plain": [
       "<xarray.Dataset>\n",
       "Dimensions:  (time: 1374, lat: 80, lon: 72)\n",
       "Coordinates:\n",
       "  * time     (time) datetime64[ns] 2019-01-01 2019-01-02 ... 2022-10-05\n",
       "  * lat      (lat) float32 -49.88 -49.62 -49.38 -49.12 ... -30.62 -30.38 -30.12\n",
       "  * lon      (lon) float32 162.1 162.4 162.6 162.9 ... 179.1 179.4 179.6 179.9\n",
       "Data variables:\n",
       "    sst      (time, lat, lon) float32 dask.array<chunksize=(365, 80, 72), meta=np.ndarray>"
      ]
     },
     "execution_count": 21,
     "metadata": {},
     "output_type": "execute_result"
    }
   ],
   "source": [
    "dset"
   ]
  },
  {
   "cell_type": "markdown",
   "id": "40ea9399-3d6b-41b0-8d55-c63a4c2f3c09",
   "metadata": {
    "papermill": {
     "duration": 0.008493,
     "end_time": "2022-10-06T21:16:18.377971",
     "exception": false,
     "start_time": "2022-10-06T21:16:18.369478",
     "status": "completed"
    },
    "tags": []
   },
   "source": [
    "### calculates the rolling averages here if the number of days > 1"
   ]
  },
  {
   "cell_type": "code",
   "execution_count": 22,
   "id": "db95cc90-9cd4-4cc1-8aeb-b4f421b207dc",
   "metadata": {
    "execution": {
     "iopub.execute_input": "2022-10-06T21:16:18.395378Z",
     "iopub.status.busy": "2022-10-06T21:16:18.395210Z",
     "iopub.status.idle": "2022-10-06T21:16:18.408364Z",
     "shell.execute_reply": "2022-10-06T21:16:18.407859Z"
    },
    "papermill": {
     "duration": 0.023259,
     "end_time": "2022-10-06T21:16:18.409522",
     "exception": false,
     "start_time": "2022-10-06T21:16:18.386263",
     "status": "completed"
    },
    "tags": []
   },
   "outputs": [],
   "source": [
    "if ndays_agg > 1:\n",
    "\n",
    "    dset = dset.rolling({\"time\": ndays_agg}, min_periods=ndays_agg, center=False).mean(\n",
    "        \"time\"\n",
    "    )\n",
    "\n",
    "    dset = dset.isel(time=slice(ndays_agg + 1, None))"
   ]
  },
  {
   "cell_type": "markdown",
   "id": "8e3c4a2f-2174-4740-b6eb-1b14d81cf609",
   "metadata": {
    "papermill": {
     "duration": 0.007907,
     "end_time": "2022-10-06T21:16:18.426060",
     "exception": false,
     "start_time": "2022-10-06T21:16:18.418153",
     "status": "completed"
    },
    "tags": []
   },
   "source": [
    "## get the first and last day from the dataset itself now"
   ]
  },
  {
   "cell_type": "code",
   "execution_count": 23,
   "id": "1bfe9cae-878c-42f6-8610-8a41bcbf81d7",
   "metadata": {
    "execution": {
     "iopub.execute_input": "2022-10-06T21:16:18.442862Z",
     "iopub.status.busy": "2022-10-06T21:16:18.442711Z",
     "iopub.status.idle": "2022-10-06T21:16:18.456139Z",
     "shell.execute_reply": "2022-10-06T21:16:18.455659Z"
    },
    "papermill": {
     "duration": 0.023166,
     "end_time": "2022-10-06T21:16:18.457275",
     "exception": false,
     "start_time": "2022-10-06T21:16:18.434109",
     "status": "completed"
    },
    "tags": []
   },
   "outputs": [],
   "source": [
    "first_day = pd.to_datetime(dset.time.data[0])\n",
    "last_day = pd.to_datetime(dset.time.data[-1])"
   ]
  },
  {
   "cell_type": "markdown",
   "id": "7eca60e9-8d70-44d6-8088-4c4f589a9d91",
   "metadata": {
    "papermill": {
     "duration": 0.008066,
     "end_time": "2022-10-06T21:16:18.473787",
     "exception": false,
     "start_time": "2022-10-06T21:16:18.465721",
     "status": "completed"
    },
    "tags": []
   },
   "source": [
    "### creates a standard calendar including leap years, the dataset will be interpolated on it at the end "
   ]
  },
  {
   "cell_type": "code",
   "execution_count": 24,
   "id": "662f3818-8cb5-4c0b-b07e-058acde717c6",
   "metadata": {
    "execution": {
     "iopub.execute_input": "2022-10-06T21:16:18.490137Z",
     "iopub.status.busy": "2022-10-06T21:16:18.489992Z",
     "iopub.status.idle": "2022-10-06T21:16:18.502959Z",
     "shell.execute_reply": "2022-10-06T21:16:18.502522Z"
    },
    "papermill": {
     "duration": 0.022455,
     "end_time": "2022-10-06T21:16:18.503988",
     "exception": false,
     "start_time": "2022-10-06T21:16:18.481533",
     "status": "completed"
    },
    "tags": []
   },
   "outputs": [],
   "source": [
    "standard_calendar = pd.date_range(start=first_day, end=last_day, freq=\"D\")"
   ]
  },
  {
   "cell_type": "markdown",
   "id": "ee40ef4a-75cc-4d8c-8aa6-9fe66fe74e2f",
   "metadata": {
    "papermill": {
     "duration": 0.00766,
     "end_time": "2022-10-06T21:16:18.519601",
     "exception": false,
     "start_time": "2022-10-06T21:16:18.511941",
     "status": "completed"
    },
    "tags": []
   },
   "source": [
    "### get rid of the 29th of Feb if present "
   ]
  },
  {
   "cell_type": "code",
   "execution_count": 25,
   "id": "0f4d446f-07d8-4405-8521-de9daf057f4b",
   "metadata": {
    "execution": {
     "iopub.execute_input": "2022-10-06T21:16:18.535791Z",
     "iopub.status.busy": "2022-10-06T21:16:18.535609Z",
     "iopub.status.idle": "2022-10-06T21:16:18.568975Z",
     "shell.execute_reply": "2022-10-06T21:16:18.568524Z"
    },
    "papermill": {
     "duration": 0.042855,
     "end_time": "2022-10-06T21:16:18.570172",
     "exception": false,
     "start_time": "2022-10-06T21:16:18.527317",
     "status": "completed"
    },
    "tags": []
   },
   "outputs": [],
   "source": [
    "dset = dset.convert_calendar(\"noleap\")"
   ]
  },
  {
   "cell_type": "markdown",
   "id": "a032362e-441e-46db-b323-fe3053e3f790",
   "metadata": {
    "papermill": {
     "duration": 0.007618,
     "end_time": "2022-10-06T21:16:18.585885",
     "exception": false,
     "start_time": "2022-10-06T21:16:18.578267",
     "status": "completed"
    },
    "tags": []
   },
   "source": [
    "### opens the climatology "
   ]
  },
  {
   "cell_type": "code",
   "execution_count": 26,
   "id": "a96bd200-e09a-40b7-9177-b0ae1bd4efae",
   "metadata": {
    "execution": {
     "iopub.execute_input": "2022-10-06T21:16:18.601983Z",
     "iopub.status.busy": "2022-10-06T21:16:18.601835Z",
     "iopub.status.idle": "2022-10-06T21:16:18.620561Z",
     "shell.execute_reply": "2022-10-06T21:16:18.620044Z"
    },
    "papermill": {
     "duration": 0.0283,
     "end_time": "2022-10-06T21:16:18.621779",
     "exception": false,
     "start_time": "2022-10-06T21:16:18.593479",
     "status": "completed"
    },
    "tags": []
   },
   "outputs": [],
   "source": [
    "clim = xr.open_zarr(\n",
    "    clim_path.joinpath(f\"{domain}_OISST_{ndays_agg}days_climatology_15_window.zarr\")\n",
    ")"
   ]
  },
  {
   "cell_type": "code",
   "execution_count": 27,
   "id": "75582df6-1ce6-4a26-9534-42c90ff9add0",
   "metadata": {
    "execution": {
     "iopub.execute_input": "2022-10-06T21:16:18.638776Z",
     "iopub.status.busy": "2022-10-06T21:16:18.638433Z",
     "iopub.status.idle": "2022-10-06T21:16:18.665891Z",
     "shell.execute_reply": "2022-10-06T21:16:18.665431Z"
    },
    "papermill": {
     "duration": 0.03704,
     "end_time": "2022-10-06T21:16:18.666904",
     "exception": false,
     "start_time": "2022-10-06T21:16:18.629864",
     "status": "completed"
    },
    "tags": []
   },
   "outputs": [
    {
     "data": {
      "text/html": [
       "<div><svg style=\"position: absolute; width: 0; height: 0; overflow: hidden\">\n",
       "<defs>\n",
       "<symbol id=\"icon-database\" viewBox=\"0 0 32 32\">\n",
       "<path d=\"M16 0c-8.837 0-16 2.239-16 5v4c0 2.761 7.163 5 16 5s16-2.239 16-5v-4c0-2.761-7.163-5-16-5z\"></path>\n",
       "<path d=\"M16 17c-8.837 0-16-2.239-16-5v6c0 2.761 7.163 5 16 5s16-2.239 16-5v-6c0 2.761-7.163 5-16 5z\"></path>\n",
       "<path d=\"M16 26c-8.837 0-16-2.239-16-5v6c0 2.761 7.163 5 16 5s16-2.239 16-5v-6c0 2.761-7.163 5-16 5z\"></path>\n",
       "</symbol>\n",
       "<symbol id=\"icon-file-text2\" viewBox=\"0 0 32 32\">\n",
       "<path d=\"M28.681 7.159c-0.694-0.947-1.662-2.053-2.724-3.116s-2.169-2.030-3.116-2.724c-1.612-1.182-2.393-1.319-2.841-1.319h-15.5c-1.378 0-2.5 1.121-2.5 2.5v27c0 1.378 1.122 2.5 2.5 2.5h23c1.378 0 2.5-1.122 2.5-2.5v-19.5c0-0.448-0.137-1.23-1.319-2.841zM24.543 5.457c0.959 0.959 1.712 1.825 2.268 2.543h-4.811v-4.811c0.718 0.556 1.584 1.309 2.543 2.268zM28 29.5c0 0.271-0.229 0.5-0.5 0.5h-23c-0.271 0-0.5-0.229-0.5-0.5v-27c0-0.271 0.229-0.5 0.5-0.5 0 0 15.499-0 15.5 0v7c0 0.552 0.448 1 1 1h7v19.5z\"></path>\n",
       "<path d=\"M23 26h-14c-0.552 0-1-0.448-1-1s0.448-1 1-1h14c0.552 0 1 0.448 1 1s-0.448 1-1 1z\"></path>\n",
       "<path d=\"M23 22h-14c-0.552 0-1-0.448-1-1s0.448-1 1-1h14c0.552 0 1 0.448 1 1s-0.448 1-1 1z\"></path>\n",
       "<path d=\"M23 18h-14c-0.552 0-1-0.448-1-1s0.448-1 1-1h14c0.552 0 1 0.448 1 1s-0.448 1-1 1z\"></path>\n",
       "</symbol>\n",
       "</defs>\n",
       "</svg>\n",
       "<style>/* CSS stylesheet for displaying xarray objects in jupyterlab.\n",
       " *\n",
       " */\n",
       "\n",
       ":root {\n",
       "  --xr-font-color0: var(--jp-content-font-color0, rgba(0, 0, 0, 1));\n",
       "  --xr-font-color2: var(--jp-content-font-color2, rgba(0, 0, 0, 0.54));\n",
       "  --xr-font-color3: var(--jp-content-font-color3, rgba(0, 0, 0, 0.38));\n",
       "  --xr-border-color: var(--jp-border-color2, #e0e0e0);\n",
       "  --xr-disabled-color: var(--jp-layout-color3, #bdbdbd);\n",
       "  --xr-background-color: var(--jp-layout-color0, white);\n",
       "  --xr-background-color-row-even: var(--jp-layout-color1, white);\n",
       "  --xr-background-color-row-odd: var(--jp-layout-color2, #eeeeee);\n",
       "}\n",
       "\n",
       "html[theme=dark],\n",
       "body[data-theme=dark],\n",
       "body.vscode-dark {\n",
       "  --xr-font-color0: rgba(255, 255, 255, 1);\n",
       "  --xr-font-color2: rgba(255, 255, 255, 0.54);\n",
       "  --xr-font-color3: rgba(255, 255, 255, 0.38);\n",
       "  --xr-border-color: #1F1F1F;\n",
       "  --xr-disabled-color: #515151;\n",
       "  --xr-background-color: #111111;\n",
       "  --xr-background-color-row-even: #111111;\n",
       "  --xr-background-color-row-odd: #313131;\n",
       "}\n",
       "\n",
       ".xr-wrap {\n",
       "  display: block !important;\n",
       "  min-width: 300px;\n",
       "  max-width: 700px;\n",
       "}\n",
       "\n",
       ".xr-text-repr-fallback {\n",
       "  /* fallback to plain text repr when CSS is not injected (untrusted notebook) */\n",
       "  display: none;\n",
       "}\n",
       "\n",
       ".xr-header {\n",
       "  padding-top: 6px;\n",
       "  padding-bottom: 6px;\n",
       "  margin-bottom: 4px;\n",
       "  border-bottom: solid 1px var(--xr-border-color);\n",
       "}\n",
       "\n",
       ".xr-header > div,\n",
       ".xr-header > ul {\n",
       "  display: inline;\n",
       "  margin-top: 0;\n",
       "  margin-bottom: 0;\n",
       "}\n",
       "\n",
       ".xr-obj-type,\n",
       ".xr-array-name {\n",
       "  margin-left: 2px;\n",
       "  margin-right: 10px;\n",
       "}\n",
       "\n",
       ".xr-obj-type {\n",
       "  color: var(--xr-font-color2);\n",
       "}\n",
       "\n",
       ".xr-sections {\n",
       "  padding-left: 0 !important;\n",
       "  display: grid;\n",
       "  grid-template-columns: 150px auto auto 1fr 20px 20px;\n",
       "}\n",
       "\n",
       ".xr-section-item {\n",
       "  display: contents;\n",
       "}\n",
       "\n",
       ".xr-section-item input {\n",
       "  display: none;\n",
       "}\n",
       "\n",
       ".xr-section-item input + label {\n",
       "  color: var(--xr-disabled-color);\n",
       "}\n",
       "\n",
       ".xr-section-item input:enabled + label {\n",
       "  cursor: pointer;\n",
       "  color: var(--xr-font-color2);\n",
       "}\n",
       "\n",
       ".xr-section-item input:enabled + label:hover {\n",
       "  color: var(--xr-font-color0);\n",
       "}\n",
       "\n",
       ".xr-section-summary {\n",
       "  grid-column: 1;\n",
       "  color: var(--xr-font-color2);\n",
       "  font-weight: 500;\n",
       "}\n",
       "\n",
       ".xr-section-summary > span {\n",
       "  display: inline-block;\n",
       "  padding-left: 0.5em;\n",
       "}\n",
       "\n",
       ".xr-section-summary-in:disabled + label {\n",
       "  color: var(--xr-font-color2);\n",
       "}\n",
       "\n",
       ".xr-section-summary-in + label:before {\n",
       "  display: inline-block;\n",
       "  content: '►';\n",
       "  font-size: 11px;\n",
       "  width: 15px;\n",
       "  text-align: center;\n",
       "}\n",
       "\n",
       ".xr-section-summary-in:disabled + label:before {\n",
       "  color: var(--xr-disabled-color);\n",
       "}\n",
       "\n",
       ".xr-section-summary-in:checked + label:before {\n",
       "  content: '▼';\n",
       "}\n",
       "\n",
       ".xr-section-summary-in:checked + label > span {\n",
       "  display: none;\n",
       "}\n",
       "\n",
       ".xr-section-summary,\n",
       ".xr-section-inline-details {\n",
       "  padding-top: 4px;\n",
       "  padding-bottom: 4px;\n",
       "}\n",
       "\n",
       ".xr-section-inline-details {\n",
       "  grid-column: 2 / -1;\n",
       "}\n",
       "\n",
       ".xr-section-details {\n",
       "  display: none;\n",
       "  grid-column: 1 / -1;\n",
       "  margin-bottom: 5px;\n",
       "}\n",
       "\n",
       ".xr-section-summary-in:checked ~ .xr-section-details {\n",
       "  display: contents;\n",
       "}\n",
       "\n",
       ".xr-array-wrap {\n",
       "  grid-column: 1 / -1;\n",
       "  display: grid;\n",
       "  grid-template-columns: 20px auto;\n",
       "}\n",
       "\n",
       ".xr-array-wrap > label {\n",
       "  grid-column: 1;\n",
       "  vertical-align: top;\n",
       "}\n",
       "\n",
       ".xr-preview {\n",
       "  color: var(--xr-font-color3);\n",
       "}\n",
       "\n",
       ".xr-array-preview,\n",
       ".xr-array-data {\n",
       "  padding: 0 5px !important;\n",
       "  grid-column: 2;\n",
       "}\n",
       "\n",
       ".xr-array-data,\n",
       ".xr-array-in:checked ~ .xr-array-preview {\n",
       "  display: none;\n",
       "}\n",
       "\n",
       ".xr-array-in:checked ~ .xr-array-data,\n",
       ".xr-array-preview {\n",
       "  display: inline-block;\n",
       "}\n",
       "\n",
       ".xr-dim-list {\n",
       "  display: inline-block !important;\n",
       "  list-style: none;\n",
       "  padding: 0 !important;\n",
       "  margin: 0;\n",
       "}\n",
       "\n",
       ".xr-dim-list li {\n",
       "  display: inline-block;\n",
       "  padding: 0;\n",
       "  margin: 0;\n",
       "}\n",
       "\n",
       ".xr-dim-list:before {\n",
       "  content: '(';\n",
       "}\n",
       "\n",
       ".xr-dim-list:after {\n",
       "  content: ')';\n",
       "}\n",
       "\n",
       ".xr-dim-list li:not(:last-child):after {\n",
       "  content: ',';\n",
       "  padding-right: 5px;\n",
       "}\n",
       "\n",
       ".xr-has-index {\n",
       "  font-weight: bold;\n",
       "}\n",
       "\n",
       ".xr-var-list,\n",
       ".xr-var-item {\n",
       "  display: contents;\n",
       "}\n",
       "\n",
       ".xr-var-item > div,\n",
       ".xr-var-item label,\n",
       ".xr-var-item > .xr-var-name span {\n",
       "  background-color: var(--xr-background-color-row-even);\n",
       "  margin-bottom: 0;\n",
       "}\n",
       "\n",
       ".xr-var-item > .xr-var-name:hover span {\n",
       "  padding-right: 5px;\n",
       "}\n",
       "\n",
       ".xr-var-list > li:nth-child(odd) > div,\n",
       ".xr-var-list > li:nth-child(odd) > label,\n",
       ".xr-var-list > li:nth-child(odd) > .xr-var-name span {\n",
       "  background-color: var(--xr-background-color-row-odd);\n",
       "}\n",
       "\n",
       ".xr-var-name {\n",
       "  grid-column: 1;\n",
       "}\n",
       "\n",
       ".xr-var-dims {\n",
       "  grid-column: 2;\n",
       "}\n",
       "\n",
       ".xr-var-dtype {\n",
       "  grid-column: 3;\n",
       "  text-align: right;\n",
       "  color: var(--xr-font-color2);\n",
       "}\n",
       "\n",
       ".xr-var-preview {\n",
       "  grid-column: 4;\n",
       "}\n",
       "\n",
       ".xr-var-name,\n",
       ".xr-var-dims,\n",
       ".xr-var-dtype,\n",
       ".xr-preview,\n",
       ".xr-attrs dt {\n",
       "  white-space: nowrap;\n",
       "  overflow: hidden;\n",
       "  text-overflow: ellipsis;\n",
       "  padding-right: 10px;\n",
       "}\n",
       "\n",
       ".xr-var-name:hover,\n",
       ".xr-var-dims:hover,\n",
       ".xr-var-dtype:hover,\n",
       ".xr-attrs dt:hover {\n",
       "  overflow: visible;\n",
       "  width: auto;\n",
       "  z-index: 1;\n",
       "}\n",
       "\n",
       ".xr-var-attrs,\n",
       ".xr-var-data {\n",
       "  display: none;\n",
       "  background-color: var(--xr-background-color) !important;\n",
       "  padding-bottom: 5px !important;\n",
       "}\n",
       "\n",
       ".xr-var-attrs-in:checked ~ .xr-var-attrs,\n",
       ".xr-var-data-in:checked ~ .xr-var-data {\n",
       "  display: block;\n",
       "}\n",
       "\n",
       ".xr-var-data > table {\n",
       "  float: right;\n",
       "}\n",
       "\n",
       ".xr-var-name span,\n",
       ".xr-var-data,\n",
       ".xr-attrs {\n",
       "  padding-left: 25px !important;\n",
       "}\n",
       "\n",
       ".xr-attrs,\n",
       ".xr-var-attrs,\n",
       ".xr-var-data {\n",
       "  grid-column: 1 / -1;\n",
       "}\n",
       "\n",
       "dl.xr-attrs {\n",
       "  padding: 0;\n",
       "  margin: 0;\n",
       "  display: grid;\n",
       "  grid-template-columns: 125px auto;\n",
       "}\n",
       "\n",
       ".xr-attrs dt,\n",
       ".xr-attrs dd {\n",
       "  padding: 0;\n",
       "  margin: 0;\n",
       "  float: left;\n",
       "  padding-right: 10px;\n",
       "  width: auto;\n",
       "}\n",
       "\n",
       ".xr-attrs dt {\n",
       "  font-weight: normal;\n",
       "  grid-column: 1;\n",
       "}\n",
       "\n",
       ".xr-attrs dt:hover span {\n",
       "  display: inline-block;\n",
       "  background: var(--xr-background-color);\n",
       "  padding-right: 10px;\n",
       "}\n",
       "\n",
       ".xr-attrs dd {\n",
       "  grid-column: 2;\n",
       "  white-space: pre-wrap;\n",
       "  word-break: break-all;\n",
       "}\n",
       "\n",
       ".xr-icon-database,\n",
       ".xr-icon-file-text2 {\n",
       "  display: inline-block;\n",
       "  vertical-align: middle;\n",
       "  width: 1em;\n",
       "  height: 1.5em !important;\n",
       "  stroke-width: 0;\n",
       "  stroke: currentColor;\n",
       "  fill: currentColor;\n",
       "}\n",
       "</style><pre class='xr-text-repr-fallback'>&lt;xarray.Dataset&gt;\n",
       "Dimensions:    (lat: 80, lon: 72, dayofyear: 365, quantile: 7)\n",
       "Coordinates:\n",
       "  * dayofyear  (dayofyear) int64 1 2 3 4 5 6 7 8 ... 359 360 361 362 363 364 365\n",
       "  * lat        (lat) float32 -49.88 -49.62 -49.38 ... -30.62 -30.38 -30.12\n",
       "  * lon        (lon) float32 162.1 162.4 162.6 162.9 ... 179.1 179.4 179.6 179.9\n",
       "  * quantile   (quantile) float64 0.01 0.1 0.25 0.5 0.75 0.9 0.99\n",
       "Data variables:\n",
       "    average    (lat, lon, dayofyear) float32 dask.array&lt;chunksize=(20, 36, 183), meta=np.ndarray&gt;\n",
       "    quantiles  (dayofyear, quantile, lat, lon) float64 dask.array&lt;chunksize=(92, 2, 20, 36), meta=np.ndarray&gt;\n",
       "    std        (lat, lon, dayofyear) float32 dask.array&lt;chunksize=(20, 36, 183), meta=np.ndarray&gt;</pre><div class='xr-wrap' style='display:none'><div class='xr-header'><div class='xr-obj-type'>xarray.Dataset</div></div><ul class='xr-sections'><li class='xr-section-item'><input id='section-3845cbbf-15d5-4757-ae43-d4ce1c7bf1c4' class='xr-section-summary-in' type='checkbox' disabled ><label for='section-3845cbbf-15d5-4757-ae43-d4ce1c7bf1c4' class='xr-section-summary'  title='Expand/collapse section'>Dimensions:</label><div class='xr-section-inline-details'><ul class='xr-dim-list'><li><span class='xr-has-index'>lat</span>: 80</li><li><span class='xr-has-index'>lon</span>: 72</li><li><span class='xr-has-index'>dayofyear</span>: 365</li><li><span class='xr-has-index'>quantile</span>: 7</li></ul></div><div class='xr-section-details'></div></li><li class='xr-section-item'><input id='section-d8fe4463-cbc3-447b-9ca9-b889c8386238' class='xr-section-summary-in' type='checkbox'  checked><label for='section-d8fe4463-cbc3-447b-9ca9-b889c8386238' class='xr-section-summary' >Coordinates: <span>(4)</span></label><div class='xr-section-inline-details'></div><div class='xr-section-details'><ul class='xr-var-list'><li class='xr-var-item'><div class='xr-var-name'><span class='xr-has-index'>dayofyear</span></div><div class='xr-var-dims'>(dayofyear)</div><div class='xr-var-dtype'>int64</div><div class='xr-var-preview xr-preview'>1 2 3 4 5 6 ... 361 362 363 364 365</div><input id='attrs-d5e56c02-f788-4f62-8ca0-a2092126dce0' class='xr-var-attrs-in' type='checkbox' disabled><label for='attrs-d5e56c02-f788-4f62-8ca0-a2092126dce0' title='Show/Hide attributes'><svg class='icon xr-icon-file-text2'><use xlink:href='#icon-file-text2'></use></svg></label><input id='data-507d1a8e-b235-4728-a499-9e99f8c2e093' class='xr-var-data-in' type='checkbox'><label for='data-507d1a8e-b235-4728-a499-9e99f8c2e093' title='Show/Hide data repr'><svg class='icon xr-icon-database'><use xlink:href='#icon-database'></use></svg></label><div class='xr-var-attrs'><dl class='xr-attrs'></dl></div><div class='xr-var-data'><pre>array([  1,   2,   3, ..., 363, 364, 365])</pre></div></li><li class='xr-var-item'><div class='xr-var-name'><span class='xr-has-index'>lat</span></div><div class='xr-var-dims'>(lat)</div><div class='xr-var-dtype'>float32</div><div class='xr-var-preview xr-preview'>-49.88 -49.62 ... -30.38 -30.12</div><input id='attrs-f417aa94-08fc-4305-b3ec-4aaf73193220' class='xr-var-attrs-in' type='checkbox' disabled><label for='attrs-f417aa94-08fc-4305-b3ec-4aaf73193220' title='Show/Hide attributes'><svg class='icon xr-icon-file-text2'><use xlink:href='#icon-file-text2'></use></svg></label><input id='data-b54416b0-cb63-4937-8b4a-75f3c595c785' class='xr-var-data-in' type='checkbox'><label for='data-b54416b0-cb63-4937-8b4a-75f3c595c785' title='Show/Hide data repr'><svg class='icon xr-icon-database'><use xlink:href='#icon-database'></use></svg></label><div class='xr-var-attrs'><dl class='xr-attrs'></dl></div><div class='xr-var-data'><pre>array([-49.875, -49.625, -49.375, -49.125, -48.875, -48.625, -48.375, -48.125,\n",
       "       -47.875, -47.625, -47.375, -47.125, -46.875, -46.625, -46.375, -46.125,\n",
       "       -45.875, -45.625, -45.375, -45.125, -44.875, -44.625, -44.375, -44.125,\n",
       "       -43.875, -43.625, -43.375, -43.125, -42.875, -42.625, -42.375, -42.125,\n",
       "       -41.875, -41.625, -41.375, -41.125, -40.875, -40.625, -40.375, -40.125,\n",
       "       -39.875, -39.625, -39.375, -39.125, -38.875, -38.625, -38.375, -38.125,\n",
       "       -37.875, -37.625, -37.375, -37.125, -36.875, -36.625, -36.375, -36.125,\n",
       "       -35.875, -35.625, -35.375, -35.125, -34.875, -34.625, -34.375, -34.125,\n",
       "       -33.875, -33.625, -33.375, -33.125, -32.875, -32.625, -32.375, -32.125,\n",
       "       -31.875, -31.625, -31.375, -31.125, -30.875, -30.625, -30.375, -30.125],\n",
       "      dtype=float32)</pre></div></li><li class='xr-var-item'><div class='xr-var-name'><span class='xr-has-index'>lon</span></div><div class='xr-var-dims'>(lon)</div><div class='xr-var-dtype'>float32</div><div class='xr-var-preview xr-preview'>162.1 162.4 162.6 ... 179.6 179.9</div><input id='attrs-8b237e37-5714-41de-a088-48058ac44736' class='xr-var-attrs-in' type='checkbox' disabled><label for='attrs-8b237e37-5714-41de-a088-48058ac44736' title='Show/Hide attributes'><svg class='icon xr-icon-file-text2'><use xlink:href='#icon-file-text2'></use></svg></label><input id='data-f961fcc4-df78-4ff3-818b-f763f1e36523' class='xr-var-data-in' type='checkbox'><label for='data-f961fcc4-df78-4ff3-818b-f763f1e36523' title='Show/Hide data repr'><svg class='icon xr-icon-database'><use xlink:href='#icon-database'></use></svg></label><div class='xr-var-attrs'><dl class='xr-attrs'></dl></div><div class='xr-var-data'><pre>array([162.125, 162.375, 162.625, 162.875, 163.125, 163.375, 163.625, 163.875,\n",
       "       164.125, 164.375, 164.625, 164.875, 165.125, 165.375, 165.625, 165.875,\n",
       "       166.125, 166.375, 166.625, 166.875, 167.125, 167.375, 167.625, 167.875,\n",
       "       168.125, 168.375, 168.625, 168.875, 169.125, 169.375, 169.625, 169.875,\n",
       "       170.125, 170.375, 170.625, 170.875, 171.125, 171.375, 171.625, 171.875,\n",
       "       172.125, 172.375, 172.625, 172.875, 173.125, 173.375, 173.625, 173.875,\n",
       "       174.125, 174.375, 174.625, 174.875, 175.125, 175.375, 175.625, 175.875,\n",
       "       176.125, 176.375, 176.625, 176.875, 177.125, 177.375, 177.625, 177.875,\n",
       "       178.125, 178.375, 178.625, 178.875, 179.125, 179.375, 179.625, 179.875],\n",
       "      dtype=float32)</pre></div></li><li class='xr-var-item'><div class='xr-var-name'><span class='xr-has-index'>quantile</span></div><div class='xr-var-dims'>(quantile)</div><div class='xr-var-dtype'>float64</div><div class='xr-var-preview xr-preview'>0.01 0.1 0.25 0.5 0.75 0.9 0.99</div><input id='attrs-c01e6dd3-071b-470a-90f0-0fc7fab18cf3' class='xr-var-attrs-in' type='checkbox' disabled><label for='attrs-c01e6dd3-071b-470a-90f0-0fc7fab18cf3' title='Show/Hide attributes'><svg class='icon xr-icon-file-text2'><use xlink:href='#icon-file-text2'></use></svg></label><input id='data-35ddbb97-0b8c-477b-9b49-6a12ce4d5114' class='xr-var-data-in' type='checkbox'><label for='data-35ddbb97-0b8c-477b-9b49-6a12ce4d5114' title='Show/Hide data repr'><svg class='icon xr-icon-database'><use xlink:href='#icon-database'></use></svg></label><div class='xr-var-attrs'><dl class='xr-attrs'></dl></div><div class='xr-var-data'><pre>array([0.01, 0.1 , 0.25, 0.5 , 0.75, 0.9 , 0.99])</pre></div></li></ul></div></li><li class='xr-section-item'><input id='section-9e6e8766-272d-469f-bd81-a4530f5b6398' class='xr-section-summary-in' type='checkbox'  checked><label for='section-9e6e8766-272d-469f-bd81-a4530f5b6398' class='xr-section-summary' >Data variables: <span>(3)</span></label><div class='xr-section-inline-details'></div><div class='xr-section-details'><ul class='xr-var-list'><li class='xr-var-item'><div class='xr-var-name'><span>average</span></div><div class='xr-var-dims'>(lat, lon, dayofyear)</div><div class='xr-var-dtype'>float32</div><div class='xr-var-preview xr-preview'>dask.array&lt;chunksize=(20, 36, 183), meta=np.ndarray&gt;</div><input id='attrs-bb2448e4-4c07-4185-a12e-501c14f6f978' class='xr-var-attrs-in' type='checkbox' disabled><label for='attrs-bb2448e4-4c07-4185-a12e-501c14f6f978' title='Show/Hide attributes'><svg class='icon xr-icon-file-text2'><use xlink:href='#icon-file-text2'></use></svg></label><input id='data-38e56e32-c013-45d5-9f8d-50a6e17201c9' class='xr-var-data-in' type='checkbox'><label for='data-38e56e32-c013-45d5-9f8d-50a6e17201c9' title='Show/Hide data repr'><svg class='icon xr-icon-database'><use xlink:href='#icon-database'></use></svg></label><div class='xr-var-attrs'><dl class='xr-attrs'></dl></div><div class='xr-var-data'><table>\n",
       "    <tr>\n",
       "        <td>\n",
       "            <table>\n",
       "                <thead>\n",
       "                    <tr>\n",
       "                        <td> </td>\n",
       "                        <th> Array </th>\n",
       "                        <th> Chunk </th>\n",
       "                    </tr>\n",
       "                </thead>\n",
       "                <tbody>\n",
       "                    \n",
       "                    <tr>\n",
       "                        <th> Bytes </th>\n",
       "                        <td> 8.02 MiB </td>\n",
       "                        <td> 514.69 kiB </td>\n",
       "                    </tr>\n",
       "                    \n",
       "                    <tr>\n",
       "                        <th> Shape </th>\n",
       "                        <td> (80, 72, 365) </td>\n",
       "                        <td> (20, 36, 183) </td>\n",
       "                    </tr>\n",
       "                    <tr>\n",
       "                        <th> Count </th>\n",
       "                        <td> 2 Graph Layers </td>\n",
       "                        <td> 16 Chunks </td>\n",
       "                    </tr>\n",
       "                    <tr>\n",
       "                    <th> Type </th>\n",
       "                    <td> float32 </td>\n",
       "                    <td> numpy.ndarray </td>\n",
       "                    </tr>\n",
       "                </tbody>\n",
       "            </table>\n",
       "        </td>\n",
       "        <td>\n",
       "        <svg width=\"204\" height=\"116\" style=\"stroke:rgb(0,0,0);stroke-width:1\" >\n",
       "\n",
       "  <!-- Horizontal lines -->\n",
       "  <line x1=\"10\" y1=\"0\" x2=\"34\" y2=\"24\" style=\"stroke-width:2\" />\n",
       "  <line x1=\"10\" y1=\"20\" x2=\"34\" y2=\"45\" />\n",
       "  <line x1=\"10\" y1=\"41\" x2=\"34\" y2=\"66\" style=\"stroke-width:2\" />\n",
       "\n",
       "  <!-- Vertical lines -->\n",
       "  <line x1=\"10\" y1=\"0\" x2=\"10\" y2=\"41\" style=\"stroke-width:2\" />\n",
       "  <line x1=\"16\" y1=\"6\" x2=\"16\" y2=\"48\" />\n",
       "  <line x1=\"22\" y1=\"12\" x2=\"22\" y2=\"54\" />\n",
       "  <line x1=\"28\" y1=\"18\" x2=\"28\" y2=\"60\" />\n",
       "  <line x1=\"34\" y1=\"24\" x2=\"34\" y2=\"66\" style=\"stroke-width:2\" />\n",
       "\n",
       "  <!-- Colored Rectangle -->\n",
       "  <polygon points=\"10.0,0.0 34.93398445666962,24.93398445666962 34.93398445666962,66.88537692694763 10.0,41.951392470278016\" style=\"fill:#ECB172A0;stroke-width:0\"/>\n",
       "\n",
       "  <!-- Horizontal lines -->\n",
       "  <line x1=\"10\" y1=\"0\" x2=\"130\" y2=\"0\" style=\"stroke-width:2\" />\n",
       "  <line x1=\"16\" y1=\"6\" x2=\"136\" y2=\"6\" />\n",
       "  <line x1=\"22\" y1=\"12\" x2=\"142\" y2=\"12\" />\n",
       "  <line x1=\"28\" y1=\"18\" x2=\"148\" y2=\"18\" />\n",
       "  <line x1=\"34\" y1=\"24\" x2=\"154\" y2=\"24\" style=\"stroke-width:2\" />\n",
       "\n",
       "  <!-- Vertical lines -->\n",
       "  <line x1=\"10\" y1=\"0\" x2=\"34\" y2=\"24\" style=\"stroke-width:2\" />\n",
       "  <line x1=\"70\" y1=\"0\" x2=\"95\" y2=\"24\" />\n",
       "  <line x1=\"130\" y1=\"0\" x2=\"154\" y2=\"24\" style=\"stroke-width:2\" />\n",
       "\n",
       "  <!-- Colored Rectangle -->\n",
       "  <polygon points=\"10.0,0.0 130.0,0.0 154.93398445666963,24.93398445666962 34.93398445666962,24.93398445666962\" style=\"fill:#ECB172A0;stroke-width:0\"/>\n",
       "\n",
       "  <!-- Horizontal lines -->\n",
       "  <line x1=\"34\" y1=\"24\" x2=\"154\" y2=\"24\" style=\"stroke-width:2\" />\n",
       "  <line x1=\"34\" y1=\"45\" x2=\"154\" y2=\"45\" />\n",
       "  <line x1=\"34\" y1=\"66\" x2=\"154\" y2=\"66\" style=\"stroke-width:2\" />\n",
       "\n",
       "  <!-- Vertical lines -->\n",
       "  <line x1=\"34\" y1=\"24\" x2=\"34\" y2=\"66\" style=\"stroke-width:2\" />\n",
       "  <line x1=\"95\" y1=\"24\" x2=\"95\" y2=\"66\" />\n",
       "  <line x1=\"154\" y1=\"24\" x2=\"154\" y2=\"66\" style=\"stroke-width:2\" />\n",
       "\n",
       "  <!-- Colored Rectangle -->\n",
       "  <polygon points=\"34.93398445666962,24.93398445666962 154.93398445666963,24.93398445666962 154.93398445666963,66.88537692694763 34.93398445666962,66.88537692694763\" style=\"fill:#ECB172A0;stroke-width:0\"/>\n",
       "\n",
       "  <!-- Text -->\n",
       "  <text x=\"94.933984\" y=\"86.885377\" font-size=\"1.0rem\" font-weight=\"100\" text-anchor=\"middle\" >365</text>\n",
       "  <text x=\"174.933984\" y=\"45.909681\" font-size=\"1.0rem\" font-weight=\"100\" text-anchor=\"middle\" transform=\"rotate(0,174.933984,45.909681)\">72</text>\n",
       "  <text x=\"12.466992\" y=\"74.418385\" font-size=\"1.0rem\" font-weight=\"100\" text-anchor=\"middle\" transform=\"rotate(45,12.466992,74.418385)\">80</text>\n",
       "</svg>\n",
       "        </td>\n",
       "    </tr>\n",
       "</table></div></li><li class='xr-var-item'><div class='xr-var-name'><span>quantiles</span></div><div class='xr-var-dims'>(dayofyear, quantile, lat, lon)</div><div class='xr-var-dtype'>float64</div><div class='xr-var-preview xr-preview'>dask.array&lt;chunksize=(92, 2, 20, 36), meta=np.ndarray&gt;</div><input id='attrs-a715ac4a-c6cf-4b9b-b23d-98957e51d8a5' class='xr-var-attrs-in' type='checkbox' disabled><label for='attrs-a715ac4a-c6cf-4b9b-b23d-98957e51d8a5' title='Show/Hide attributes'><svg class='icon xr-icon-file-text2'><use xlink:href='#icon-file-text2'></use></svg></label><input id='data-211399f3-3900-4383-abe8-219c8a15b390' class='xr-var-data-in' type='checkbox'><label for='data-211399f3-3900-4383-abe8-219c8a15b390' title='Show/Hide data repr'><svg class='icon xr-icon-database'><use xlink:href='#icon-database'></use></svg></label><div class='xr-var-attrs'><dl class='xr-attrs'></dl></div><div class='xr-var-data'><table>\n",
       "    <tr>\n",
       "        <td>\n",
       "            <table>\n",
       "                <thead>\n",
       "                    <tr>\n",
       "                        <td> </td>\n",
       "                        <th> Array </th>\n",
       "                        <th> Chunk </th>\n",
       "                    </tr>\n",
       "                </thead>\n",
       "                <tbody>\n",
       "                    \n",
       "                    <tr>\n",
       "                        <th> Bytes </th>\n",
       "                        <td> 112.28 MiB </td>\n",
       "                        <td> 1.01 MiB </td>\n",
       "                    </tr>\n",
       "                    \n",
       "                    <tr>\n",
       "                        <th> Shape </th>\n",
       "                        <td> (365, 7, 80, 72) </td>\n",
       "                        <td> (92, 2, 20, 36) </td>\n",
       "                    </tr>\n",
       "                    <tr>\n",
       "                        <th> Count </th>\n",
       "                        <td> 2 Graph Layers </td>\n",
       "                        <td> 128 Chunks </td>\n",
       "                    </tr>\n",
       "                    <tr>\n",
       "                    <th> Type </th>\n",
       "                    <td> float64 </td>\n",
       "                    <td> numpy.ndarray </td>\n",
       "                    </tr>\n",
       "                </tbody>\n",
       "            </table>\n",
       "        </td>\n",
       "        <td>\n",
       "        <svg width=\"488\" height=\"109\" style=\"stroke:rgb(0,0,0);stroke-width:1\" >\n",
       "\n",
       "  <!-- Horizontal lines -->\n",
       "  <line x1=\"0\" y1=\"0\" x2=\"120\" y2=\"0\" style=\"stroke-width:2\" />\n",
       "  <line x1=\"0\" y1=\"25\" x2=\"120\" y2=\"25\" style=\"stroke-width:2\" />\n",
       "\n",
       "  <!-- Vertical lines -->\n",
       "  <line x1=\"0\" y1=\"0\" x2=\"0\" y2=\"25\" style=\"stroke-width:2\" />\n",
       "  <line x1=\"30\" y1=\"0\" x2=\"30\" y2=\"25\" />\n",
       "  <line x1=\"60\" y1=\"0\" x2=\"60\" y2=\"25\" />\n",
       "  <line x1=\"90\" y1=\"0\" x2=\"90\" y2=\"25\" />\n",
       "  <line x1=\"120\" y1=\"0\" x2=\"120\" y2=\"25\" style=\"stroke-width:2\" />\n",
       "\n",
       "  <!-- Colored Rectangle -->\n",
       "  <polygon points=\"0.0,0.0 120.0,0.0 120.0,25.412616514582485 0.0,25.412616514582485\" style=\"fill:#ECB172A0;stroke-width:0\"/>\n",
       "\n",
       "  <!-- Text -->\n",
       "  <text x=\"60.000000\" y=\"45.412617\" font-size=\"1.0rem\" font-weight=\"100\" text-anchor=\"middle\" >365</text>\n",
       "  <text x=\"140.000000\" y=\"12.706308\" font-size=\"1.0rem\" font-weight=\"100\" text-anchor=\"middle\" transform=\"rotate(0,140.000000,12.706308)\">1</text>\n",
       "\n",
       "\n",
       "  <!-- Horizontal lines -->\n",
       "  <line x1=\"190\" y1=\"0\" x2=\"206\" y2=\"16\" style=\"stroke-width:2\" />\n",
       "  <line x1=\"190\" y1=\"10\" x2=\"206\" y2=\"27\" />\n",
       "  <line x1=\"190\" y1=\"21\" x2=\"206\" y2=\"38\" />\n",
       "  <line x1=\"190\" y1=\"31\" x2=\"206\" y2=\"48\" />\n",
       "  <line x1=\"190\" y1=\"42\" x2=\"206\" y2=\"59\" style=\"stroke-width:2\" />\n",
       "\n",
       "  <!-- Vertical lines -->\n",
       "  <line x1=\"190\" y1=\"0\" x2=\"190\" y2=\"42\" style=\"stroke-width:2\" />\n",
       "  <line x1=\"194\" y1=\"4\" x2=\"194\" y2=\"47\" />\n",
       "  <line x1=\"199\" y1=\"9\" x2=\"199\" y2=\"52\" />\n",
       "  <line x1=\"204\" y1=\"14\" x2=\"204\" y2=\"56\" />\n",
       "  <line x1=\"206\" y1=\"16\" x2=\"206\" y2=\"59\" style=\"stroke-width:2\" />\n",
       "\n",
       "  <!-- Colored Rectangle -->\n",
       "  <polygon points=\"190.0,0.0 206.93848207988162,16.938482079881613 206.93848207988162,59.32625565621997 190.0,42.387773576338354\" style=\"fill:#ECB172A0;stroke-width:0\"/>\n",
       "\n",
       "  <!-- Horizontal lines -->\n",
       "  <line x1=\"190\" y1=\"0\" x2=\"231\" y2=\"0\" style=\"stroke-width:2\" />\n",
       "  <line x1=\"194\" y1=\"4\" x2=\"236\" y2=\"4\" />\n",
       "  <line x1=\"199\" y1=\"9\" x2=\"241\" y2=\"9\" />\n",
       "  <line x1=\"204\" y1=\"14\" x2=\"246\" y2=\"14\" />\n",
       "  <line x1=\"206\" y1=\"16\" x2=\"248\" y2=\"16\" style=\"stroke-width:2\" />\n",
       "\n",
       "  <!-- Vertical lines -->\n",
       "  <line x1=\"190\" y1=\"0\" x2=\"206\" y2=\"16\" style=\"stroke-width:2\" />\n",
       "  <line x1=\"210\" y1=\"0\" x2=\"227\" y2=\"16\" />\n",
       "  <line x1=\"231\" y1=\"0\" x2=\"248\" y2=\"16\" style=\"stroke-width:2\" />\n",
       "\n",
       "  <!-- Colored Rectangle -->\n",
       "  <polygon points=\"190.0,0.0 231.95139247027802,0.0 248.88987455015965,16.938482079881613 206.93848207988162,16.938482079881613\" style=\"fill:#ECB172A0;stroke-width:0\"/>\n",
       "\n",
       "  <!-- Horizontal lines -->\n",
       "  <line x1=\"206\" y1=\"16\" x2=\"248\" y2=\"16\" style=\"stroke-width:2\" />\n",
       "  <line x1=\"206\" y1=\"27\" x2=\"248\" y2=\"27\" />\n",
       "  <line x1=\"206\" y1=\"38\" x2=\"248\" y2=\"38\" />\n",
       "  <line x1=\"206\" y1=\"48\" x2=\"248\" y2=\"48\" />\n",
       "  <line x1=\"206\" y1=\"59\" x2=\"248\" y2=\"59\" style=\"stroke-width:2\" />\n",
       "\n",
       "  <!-- Vertical lines -->\n",
       "  <line x1=\"206\" y1=\"16\" x2=\"206\" y2=\"59\" style=\"stroke-width:2\" />\n",
       "  <line x1=\"227\" y1=\"16\" x2=\"227\" y2=\"59\" />\n",
       "  <line x1=\"248\" y1=\"16\" x2=\"248\" y2=\"59\" style=\"stroke-width:2\" />\n",
       "\n",
       "  <!-- Colored Rectangle -->\n",
       "  <polygon points=\"206.93848207988162,16.938482079881613 248.88987455015965,16.938482079881613 248.88987455015965,59.32625565621997 206.93848207988162,59.32625565621997\" style=\"fill:#ECB172A0;stroke-width:0\"/>\n",
       "\n",
       "  <!-- Text -->\n",
       "  <text x=\"227.914178\" y=\"79.326256\" font-size=\"1.0rem\" font-weight=\"100\" text-anchor=\"middle\" >72</text>\n",
       "  <text x=\"268.889875\" y=\"38.132369\" font-size=\"1.0rem\" font-weight=\"100\" text-anchor=\"middle\" transform=\"rotate(0,268.889875,38.132369)\">80</text>\n",
       "  <text x=\"188.469241\" y=\"70.857015\" font-size=\"1.0rem\" font-weight=\"100\" text-anchor=\"middle\" transform=\"rotate(45,188.469241,70.857015)\">7</text>\n",
       "</svg>\n",
       "        </td>\n",
       "    </tr>\n",
       "</table></div></li><li class='xr-var-item'><div class='xr-var-name'><span>std</span></div><div class='xr-var-dims'>(lat, lon, dayofyear)</div><div class='xr-var-dtype'>float32</div><div class='xr-var-preview xr-preview'>dask.array&lt;chunksize=(20, 36, 183), meta=np.ndarray&gt;</div><input id='attrs-1aab44fc-3c95-4e62-a28b-045575485a5c' class='xr-var-attrs-in' type='checkbox' disabled><label for='attrs-1aab44fc-3c95-4e62-a28b-045575485a5c' title='Show/Hide attributes'><svg class='icon xr-icon-file-text2'><use xlink:href='#icon-file-text2'></use></svg></label><input id='data-b6ae8f92-2b50-40b9-a209-8cf5eda5e0be' class='xr-var-data-in' type='checkbox'><label for='data-b6ae8f92-2b50-40b9-a209-8cf5eda5e0be' title='Show/Hide data repr'><svg class='icon xr-icon-database'><use xlink:href='#icon-database'></use></svg></label><div class='xr-var-attrs'><dl class='xr-attrs'></dl></div><div class='xr-var-data'><table>\n",
       "    <tr>\n",
       "        <td>\n",
       "            <table>\n",
       "                <thead>\n",
       "                    <tr>\n",
       "                        <td> </td>\n",
       "                        <th> Array </th>\n",
       "                        <th> Chunk </th>\n",
       "                    </tr>\n",
       "                </thead>\n",
       "                <tbody>\n",
       "                    \n",
       "                    <tr>\n",
       "                        <th> Bytes </th>\n",
       "                        <td> 8.02 MiB </td>\n",
       "                        <td> 514.69 kiB </td>\n",
       "                    </tr>\n",
       "                    \n",
       "                    <tr>\n",
       "                        <th> Shape </th>\n",
       "                        <td> (80, 72, 365) </td>\n",
       "                        <td> (20, 36, 183) </td>\n",
       "                    </tr>\n",
       "                    <tr>\n",
       "                        <th> Count </th>\n",
       "                        <td> 2 Graph Layers </td>\n",
       "                        <td> 16 Chunks </td>\n",
       "                    </tr>\n",
       "                    <tr>\n",
       "                    <th> Type </th>\n",
       "                    <td> float32 </td>\n",
       "                    <td> numpy.ndarray </td>\n",
       "                    </tr>\n",
       "                </tbody>\n",
       "            </table>\n",
       "        </td>\n",
       "        <td>\n",
       "        <svg width=\"204\" height=\"116\" style=\"stroke:rgb(0,0,0);stroke-width:1\" >\n",
       "\n",
       "  <!-- Horizontal lines -->\n",
       "  <line x1=\"10\" y1=\"0\" x2=\"34\" y2=\"24\" style=\"stroke-width:2\" />\n",
       "  <line x1=\"10\" y1=\"20\" x2=\"34\" y2=\"45\" />\n",
       "  <line x1=\"10\" y1=\"41\" x2=\"34\" y2=\"66\" style=\"stroke-width:2\" />\n",
       "\n",
       "  <!-- Vertical lines -->\n",
       "  <line x1=\"10\" y1=\"0\" x2=\"10\" y2=\"41\" style=\"stroke-width:2\" />\n",
       "  <line x1=\"16\" y1=\"6\" x2=\"16\" y2=\"48\" />\n",
       "  <line x1=\"22\" y1=\"12\" x2=\"22\" y2=\"54\" />\n",
       "  <line x1=\"28\" y1=\"18\" x2=\"28\" y2=\"60\" />\n",
       "  <line x1=\"34\" y1=\"24\" x2=\"34\" y2=\"66\" style=\"stroke-width:2\" />\n",
       "\n",
       "  <!-- Colored Rectangle -->\n",
       "  <polygon points=\"10.0,0.0 34.93398445666962,24.93398445666962 34.93398445666962,66.88537692694763 10.0,41.951392470278016\" style=\"fill:#ECB172A0;stroke-width:0\"/>\n",
       "\n",
       "  <!-- Horizontal lines -->\n",
       "  <line x1=\"10\" y1=\"0\" x2=\"130\" y2=\"0\" style=\"stroke-width:2\" />\n",
       "  <line x1=\"16\" y1=\"6\" x2=\"136\" y2=\"6\" />\n",
       "  <line x1=\"22\" y1=\"12\" x2=\"142\" y2=\"12\" />\n",
       "  <line x1=\"28\" y1=\"18\" x2=\"148\" y2=\"18\" />\n",
       "  <line x1=\"34\" y1=\"24\" x2=\"154\" y2=\"24\" style=\"stroke-width:2\" />\n",
       "\n",
       "  <!-- Vertical lines -->\n",
       "  <line x1=\"10\" y1=\"0\" x2=\"34\" y2=\"24\" style=\"stroke-width:2\" />\n",
       "  <line x1=\"70\" y1=\"0\" x2=\"95\" y2=\"24\" />\n",
       "  <line x1=\"130\" y1=\"0\" x2=\"154\" y2=\"24\" style=\"stroke-width:2\" />\n",
       "\n",
       "  <!-- Colored Rectangle -->\n",
       "  <polygon points=\"10.0,0.0 130.0,0.0 154.93398445666963,24.93398445666962 34.93398445666962,24.93398445666962\" style=\"fill:#ECB172A0;stroke-width:0\"/>\n",
       "\n",
       "  <!-- Horizontal lines -->\n",
       "  <line x1=\"34\" y1=\"24\" x2=\"154\" y2=\"24\" style=\"stroke-width:2\" />\n",
       "  <line x1=\"34\" y1=\"45\" x2=\"154\" y2=\"45\" />\n",
       "  <line x1=\"34\" y1=\"66\" x2=\"154\" y2=\"66\" style=\"stroke-width:2\" />\n",
       "\n",
       "  <!-- Vertical lines -->\n",
       "  <line x1=\"34\" y1=\"24\" x2=\"34\" y2=\"66\" style=\"stroke-width:2\" />\n",
       "  <line x1=\"95\" y1=\"24\" x2=\"95\" y2=\"66\" />\n",
       "  <line x1=\"154\" y1=\"24\" x2=\"154\" y2=\"66\" style=\"stroke-width:2\" />\n",
       "\n",
       "  <!-- Colored Rectangle -->\n",
       "  <polygon points=\"34.93398445666962,24.93398445666962 154.93398445666963,24.93398445666962 154.93398445666963,66.88537692694763 34.93398445666962,66.88537692694763\" style=\"fill:#ECB172A0;stroke-width:0\"/>\n",
       "\n",
       "  <!-- Text -->\n",
       "  <text x=\"94.933984\" y=\"86.885377\" font-size=\"1.0rem\" font-weight=\"100\" text-anchor=\"middle\" >365</text>\n",
       "  <text x=\"174.933984\" y=\"45.909681\" font-size=\"1.0rem\" font-weight=\"100\" text-anchor=\"middle\" transform=\"rotate(0,174.933984,45.909681)\">72</text>\n",
       "  <text x=\"12.466992\" y=\"74.418385\" font-size=\"1.0rem\" font-weight=\"100\" text-anchor=\"middle\" transform=\"rotate(45,12.466992,74.418385)\">80</text>\n",
       "</svg>\n",
       "        </td>\n",
       "    </tr>\n",
       "</table></div></li></ul></div></li><li class='xr-section-item'><input id='section-befdc674-051c-437c-92a6-86da37085826' class='xr-section-summary-in' type='checkbox' disabled ><label for='section-befdc674-051c-437c-92a6-86da37085826' class='xr-section-summary'  title='Expand/collapse section'>Attributes: <span>(0)</span></label><div class='xr-section-inline-details'></div><div class='xr-section-details'><dl class='xr-attrs'></dl></div></li></ul></div></div>"
      ],
      "text/plain": [
       "<xarray.Dataset>\n",
       "Dimensions:    (lat: 80, lon: 72, dayofyear: 365, quantile: 7)\n",
       "Coordinates:\n",
       "  * dayofyear  (dayofyear) int64 1 2 3 4 5 6 7 8 ... 359 360 361 362 363 364 365\n",
       "  * lat        (lat) float32 -49.88 -49.62 -49.38 ... -30.62 -30.38 -30.12\n",
       "  * lon        (lon) float32 162.1 162.4 162.6 162.9 ... 179.1 179.4 179.6 179.9\n",
       "  * quantile   (quantile) float64 0.01 0.1 0.25 0.5 0.75 0.9 0.99\n",
       "Data variables:\n",
       "    average    (lat, lon, dayofyear) float32 dask.array<chunksize=(20, 36, 183), meta=np.ndarray>\n",
       "    quantiles  (dayofyear, quantile, lat, lon) float64 dask.array<chunksize=(92, 2, 20, 36), meta=np.ndarray>\n",
       "    std        (lat, lon, dayofyear) float32 dask.array<chunksize=(20, 36, 183), meta=np.ndarray>"
      ]
     },
     "execution_count": 27,
     "metadata": {},
     "output_type": "execute_result"
    }
   ],
   "source": [
    "clim"
   ]
  },
  {
   "cell_type": "markdown",
   "id": "0040335e-9828-4b8e-bb83-254e503f4fc3",
   "metadata": {
    "papermill": {
     "duration": 0.008285,
     "end_time": "2022-10-06T21:16:18.683844",
     "exception": false,
     "start_time": "2022-10-06T21:16:18.675559",
     "status": "completed"
    },
    "tags": []
   },
   "source": [
    "### calculate the anomalies with respect to the 1991-2020 average"
   ]
  },
  {
   "cell_type": "code",
   "execution_count": 28,
   "id": "f9ad7ac6-1762-4db1-ab02-d06440faa791",
   "metadata": {
    "execution": {
     "iopub.execute_input": "2022-10-06T21:16:18.701537Z",
     "iopub.status.busy": "2022-10-06T21:16:18.701389Z",
     "iopub.status.idle": "2022-10-06T21:16:18.725488Z",
     "shell.execute_reply": "2022-10-06T21:16:18.724921Z"
    },
    "papermill": {
     "duration": 0.034437,
     "end_time": "2022-10-06T21:16:18.726709",
     "exception": false,
     "start_time": "2022-10-06T21:16:18.692272",
     "status": "completed"
    },
    "tags": []
   },
   "outputs": [],
   "source": [
    "anoms = dset.groupby(dset.time.dt.dayofyear) - clim[\"average\"]"
   ]
  },
  {
   "cell_type": "markdown",
   "id": "557a7ac1-a062-4336-ad67-b04e1698f8a0",
   "metadata": {
    "papermill": {
     "duration": 0.00851,
     "end_time": "2022-10-06T21:16:18.744134",
     "exception": false,
     "start_time": "2022-10-06T21:16:18.735624",
     "status": "completed"
    },
    "tags": []
   },
   "source": [
    "### repeat the climatology over the time dimension "
   ]
  },
  {
   "cell_type": "code",
   "execution_count": 29,
   "id": "161e9d6f-2301-48fa-af75-fe2b4bca3818",
   "metadata": {
    "execution": {
     "iopub.execute_input": "2022-10-06T21:16:18.761585Z",
     "iopub.status.busy": "2022-10-06T21:16:18.761443Z",
     "iopub.status.idle": "2022-10-06T21:16:18.781115Z",
     "shell.execute_reply": "2022-10-06T21:16:18.780663Z"
    },
    "papermill": {
     "duration": 0.029914,
     "end_time": "2022-10-06T21:16:18.782272",
     "exception": false,
     "start_time": "2022-10-06T21:16:18.752358",
     "status": "completed"
    },
    "tags": []
   },
   "outputs": [],
   "source": [
    "clim_repeat = clim.sel(dayofyear=dset.time.dt.dayofyear)"
   ]
  },
  {
   "cell_type": "code",
   "execution_count": 30,
   "id": "2cbf0ba9-4771-45c4-bfdb-48f6880bf530",
   "metadata": {
    "execution": {
     "iopub.execute_input": "2022-10-06T21:16:18.800355Z",
     "iopub.status.busy": "2022-10-06T21:16:18.800194Z",
     "iopub.status.idle": "2022-10-06T21:16:18.828652Z",
     "shell.execute_reply": "2022-10-06T21:16:18.828198Z"
    },
    "papermill": {
     "duration": 0.038714,
     "end_time": "2022-10-06T21:16:18.829641",
     "exception": false,
     "start_time": "2022-10-06T21:16:18.790927",
     "status": "completed"
    },
    "tags": []
   },
   "outputs": [
    {
     "data": {
      "text/html": [
       "<div><svg style=\"position: absolute; width: 0; height: 0; overflow: hidden\">\n",
       "<defs>\n",
       "<symbol id=\"icon-database\" viewBox=\"0 0 32 32\">\n",
       "<path d=\"M16 0c-8.837 0-16 2.239-16 5v4c0 2.761 7.163 5 16 5s16-2.239 16-5v-4c0-2.761-7.163-5-16-5z\"></path>\n",
       "<path d=\"M16 17c-8.837 0-16-2.239-16-5v6c0 2.761 7.163 5 16 5s16-2.239 16-5v-6c0 2.761-7.163 5-16 5z\"></path>\n",
       "<path d=\"M16 26c-8.837 0-16-2.239-16-5v6c0 2.761 7.163 5 16 5s16-2.239 16-5v-6c0 2.761-7.163 5-16 5z\"></path>\n",
       "</symbol>\n",
       "<symbol id=\"icon-file-text2\" viewBox=\"0 0 32 32\">\n",
       "<path d=\"M28.681 7.159c-0.694-0.947-1.662-2.053-2.724-3.116s-2.169-2.030-3.116-2.724c-1.612-1.182-2.393-1.319-2.841-1.319h-15.5c-1.378 0-2.5 1.121-2.5 2.5v27c0 1.378 1.122 2.5 2.5 2.5h23c1.378 0 2.5-1.122 2.5-2.5v-19.5c0-0.448-0.137-1.23-1.319-2.841zM24.543 5.457c0.959 0.959 1.712 1.825 2.268 2.543h-4.811v-4.811c0.718 0.556 1.584 1.309 2.543 2.268zM28 29.5c0 0.271-0.229 0.5-0.5 0.5h-23c-0.271 0-0.5-0.229-0.5-0.5v-27c0-0.271 0.229-0.5 0.5-0.5 0 0 15.499-0 15.5 0v7c0 0.552 0.448 1 1 1h7v19.5z\"></path>\n",
       "<path d=\"M23 26h-14c-0.552 0-1-0.448-1-1s0.448-1 1-1h14c0.552 0 1 0.448 1 1s-0.448 1-1 1z\"></path>\n",
       "<path d=\"M23 22h-14c-0.552 0-1-0.448-1-1s0.448-1 1-1h14c0.552 0 1 0.448 1 1s-0.448 1-1 1z\"></path>\n",
       "<path d=\"M23 18h-14c-0.552 0-1-0.448-1-1s0.448-1 1-1h14c0.552 0 1 0.448 1 1s-0.448 1-1 1z\"></path>\n",
       "</symbol>\n",
       "</defs>\n",
       "</svg>\n",
       "<style>/* CSS stylesheet for displaying xarray objects in jupyterlab.\n",
       " *\n",
       " */\n",
       "\n",
       ":root {\n",
       "  --xr-font-color0: var(--jp-content-font-color0, rgba(0, 0, 0, 1));\n",
       "  --xr-font-color2: var(--jp-content-font-color2, rgba(0, 0, 0, 0.54));\n",
       "  --xr-font-color3: var(--jp-content-font-color3, rgba(0, 0, 0, 0.38));\n",
       "  --xr-border-color: var(--jp-border-color2, #e0e0e0);\n",
       "  --xr-disabled-color: var(--jp-layout-color3, #bdbdbd);\n",
       "  --xr-background-color: var(--jp-layout-color0, white);\n",
       "  --xr-background-color-row-even: var(--jp-layout-color1, white);\n",
       "  --xr-background-color-row-odd: var(--jp-layout-color2, #eeeeee);\n",
       "}\n",
       "\n",
       "html[theme=dark],\n",
       "body[data-theme=dark],\n",
       "body.vscode-dark {\n",
       "  --xr-font-color0: rgba(255, 255, 255, 1);\n",
       "  --xr-font-color2: rgba(255, 255, 255, 0.54);\n",
       "  --xr-font-color3: rgba(255, 255, 255, 0.38);\n",
       "  --xr-border-color: #1F1F1F;\n",
       "  --xr-disabled-color: #515151;\n",
       "  --xr-background-color: #111111;\n",
       "  --xr-background-color-row-even: #111111;\n",
       "  --xr-background-color-row-odd: #313131;\n",
       "}\n",
       "\n",
       ".xr-wrap {\n",
       "  display: block !important;\n",
       "  min-width: 300px;\n",
       "  max-width: 700px;\n",
       "}\n",
       "\n",
       ".xr-text-repr-fallback {\n",
       "  /* fallback to plain text repr when CSS is not injected (untrusted notebook) */\n",
       "  display: none;\n",
       "}\n",
       "\n",
       ".xr-header {\n",
       "  padding-top: 6px;\n",
       "  padding-bottom: 6px;\n",
       "  margin-bottom: 4px;\n",
       "  border-bottom: solid 1px var(--xr-border-color);\n",
       "}\n",
       "\n",
       ".xr-header > div,\n",
       ".xr-header > ul {\n",
       "  display: inline;\n",
       "  margin-top: 0;\n",
       "  margin-bottom: 0;\n",
       "}\n",
       "\n",
       ".xr-obj-type,\n",
       ".xr-array-name {\n",
       "  margin-left: 2px;\n",
       "  margin-right: 10px;\n",
       "}\n",
       "\n",
       ".xr-obj-type {\n",
       "  color: var(--xr-font-color2);\n",
       "}\n",
       "\n",
       ".xr-sections {\n",
       "  padding-left: 0 !important;\n",
       "  display: grid;\n",
       "  grid-template-columns: 150px auto auto 1fr 20px 20px;\n",
       "}\n",
       "\n",
       ".xr-section-item {\n",
       "  display: contents;\n",
       "}\n",
       "\n",
       ".xr-section-item input {\n",
       "  display: none;\n",
       "}\n",
       "\n",
       ".xr-section-item input + label {\n",
       "  color: var(--xr-disabled-color);\n",
       "}\n",
       "\n",
       ".xr-section-item input:enabled + label {\n",
       "  cursor: pointer;\n",
       "  color: var(--xr-font-color2);\n",
       "}\n",
       "\n",
       ".xr-section-item input:enabled + label:hover {\n",
       "  color: var(--xr-font-color0);\n",
       "}\n",
       "\n",
       ".xr-section-summary {\n",
       "  grid-column: 1;\n",
       "  color: var(--xr-font-color2);\n",
       "  font-weight: 500;\n",
       "}\n",
       "\n",
       ".xr-section-summary > span {\n",
       "  display: inline-block;\n",
       "  padding-left: 0.5em;\n",
       "}\n",
       "\n",
       ".xr-section-summary-in:disabled + label {\n",
       "  color: var(--xr-font-color2);\n",
       "}\n",
       "\n",
       ".xr-section-summary-in + label:before {\n",
       "  display: inline-block;\n",
       "  content: '►';\n",
       "  font-size: 11px;\n",
       "  width: 15px;\n",
       "  text-align: center;\n",
       "}\n",
       "\n",
       ".xr-section-summary-in:disabled + label:before {\n",
       "  color: var(--xr-disabled-color);\n",
       "}\n",
       "\n",
       ".xr-section-summary-in:checked + label:before {\n",
       "  content: '▼';\n",
       "}\n",
       "\n",
       ".xr-section-summary-in:checked + label > span {\n",
       "  display: none;\n",
       "}\n",
       "\n",
       ".xr-section-summary,\n",
       ".xr-section-inline-details {\n",
       "  padding-top: 4px;\n",
       "  padding-bottom: 4px;\n",
       "}\n",
       "\n",
       ".xr-section-inline-details {\n",
       "  grid-column: 2 / -1;\n",
       "}\n",
       "\n",
       ".xr-section-details {\n",
       "  display: none;\n",
       "  grid-column: 1 / -1;\n",
       "  margin-bottom: 5px;\n",
       "}\n",
       "\n",
       ".xr-section-summary-in:checked ~ .xr-section-details {\n",
       "  display: contents;\n",
       "}\n",
       "\n",
       ".xr-array-wrap {\n",
       "  grid-column: 1 / -1;\n",
       "  display: grid;\n",
       "  grid-template-columns: 20px auto;\n",
       "}\n",
       "\n",
       ".xr-array-wrap > label {\n",
       "  grid-column: 1;\n",
       "  vertical-align: top;\n",
       "}\n",
       "\n",
       ".xr-preview {\n",
       "  color: var(--xr-font-color3);\n",
       "}\n",
       "\n",
       ".xr-array-preview,\n",
       ".xr-array-data {\n",
       "  padding: 0 5px !important;\n",
       "  grid-column: 2;\n",
       "}\n",
       "\n",
       ".xr-array-data,\n",
       ".xr-array-in:checked ~ .xr-array-preview {\n",
       "  display: none;\n",
       "}\n",
       "\n",
       ".xr-array-in:checked ~ .xr-array-data,\n",
       ".xr-array-preview {\n",
       "  display: inline-block;\n",
       "}\n",
       "\n",
       ".xr-dim-list {\n",
       "  display: inline-block !important;\n",
       "  list-style: none;\n",
       "  padding: 0 !important;\n",
       "  margin: 0;\n",
       "}\n",
       "\n",
       ".xr-dim-list li {\n",
       "  display: inline-block;\n",
       "  padding: 0;\n",
       "  margin: 0;\n",
       "}\n",
       "\n",
       ".xr-dim-list:before {\n",
       "  content: '(';\n",
       "}\n",
       "\n",
       ".xr-dim-list:after {\n",
       "  content: ')';\n",
       "}\n",
       "\n",
       ".xr-dim-list li:not(:last-child):after {\n",
       "  content: ',';\n",
       "  padding-right: 5px;\n",
       "}\n",
       "\n",
       ".xr-has-index {\n",
       "  font-weight: bold;\n",
       "}\n",
       "\n",
       ".xr-var-list,\n",
       ".xr-var-item {\n",
       "  display: contents;\n",
       "}\n",
       "\n",
       ".xr-var-item > div,\n",
       ".xr-var-item label,\n",
       ".xr-var-item > .xr-var-name span {\n",
       "  background-color: var(--xr-background-color-row-even);\n",
       "  margin-bottom: 0;\n",
       "}\n",
       "\n",
       ".xr-var-item > .xr-var-name:hover span {\n",
       "  padding-right: 5px;\n",
       "}\n",
       "\n",
       ".xr-var-list > li:nth-child(odd) > div,\n",
       ".xr-var-list > li:nth-child(odd) > label,\n",
       ".xr-var-list > li:nth-child(odd) > .xr-var-name span {\n",
       "  background-color: var(--xr-background-color-row-odd);\n",
       "}\n",
       "\n",
       ".xr-var-name {\n",
       "  grid-column: 1;\n",
       "}\n",
       "\n",
       ".xr-var-dims {\n",
       "  grid-column: 2;\n",
       "}\n",
       "\n",
       ".xr-var-dtype {\n",
       "  grid-column: 3;\n",
       "  text-align: right;\n",
       "  color: var(--xr-font-color2);\n",
       "}\n",
       "\n",
       ".xr-var-preview {\n",
       "  grid-column: 4;\n",
       "}\n",
       "\n",
       ".xr-var-name,\n",
       ".xr-var-dims,\n",
       ".xr-var-dtype,\n",
       ".xr-preview,\n",
       ".xr-attrs dt {\n",
       "  white-space: nowrap;\n",
       "  overflow: hidden;\n",
       "  text-overflow: ellipsis;\n",
       "  padding-right: 10px;\n",
       "}\n",
       "\n",
       ".xr-var-name:hover,\n",
       ".xr-var-dims:hover,\n",
       ".xr-var-dtype:hover,\n",
       ".xr-attrs dt:hover {\n",
       "  overflow: visible;\n",
       "  width: auto;\n",
       "  z-index: 1;\n",
       "}\n",
       "\n",
       ".xr-var-attrs,\n",
       ".xr-var-data {\n",
       "  display: none;\n",
       "  background-color: var(--xr-background-color) !important;\n",
       "  padding-bottom: 5px !important;\n",
       "}\n",
       "\n",
       ".xr-var-attrs-in:checked ~ .xr-var-attrs,\n",
       ".xr-var-data-in:checked ~ .xr-var-data {\n",
       "  display: block;\n",
       "}\n",
       "\n",
       ".xr-var-data > table {\n",
       "  float: right;\n",
       "}\n",
       "\n",
       ".xr-var-name span,\n",
       ".xr-var-data,\n",
       ".xr-attrs {\n",
       "  padding-left: 25px !important;\n",
       "}\n",
       "\n",
       ".xr-attrs,\n",
       ".xr-var-attrs,\n",
       ".xr-var-data {\n",
       "  grid-column: 1 / -1;\n",
       "}\n",
       "\n",
       "dl.xr-attrs {\n",
       "  padding: 0;\n",
       "  margin: 0;\n",
       "  display: grid;\n",
       "  grid-template-columns: 125px auto;\n",
       "}\n",
       "\n",
       ".xr-attrs dt,\n",
       ".xr-attrs dd {\n",
       "  padding: 0;\n",
       "  margin: 0;\n",
       "  float: left;\n",
       "  padding-right: 10px;\n",
       "  width: auto;\n",
       "}\n",
       "\n",
       ".xr-attrs dt {\n",
       "  font-weight: normal;\n",
       "  grid-column: 1;\n",
       "}\n",
       "\n",
       ".xr-attrs dt:hover span {\n",
       "  display: inline-block;\n",
       "  background: var(--xr-background-color);\n",
       "  padding-right: 10px;\n",
       "}\n",
       "\n",
       ".xr-attrs dd {\n",
       "  grid-column: 2;\n",
       "  white-space: pre-wrap;\n",
       "  word-break: break-all;\n",
       "}\n",
       "\n",
       ".xr-icon-database,\n",
       ".xr-icon-file-text2 {\n",
       "  display: inline-block;\n",
       "  vertical-align: middle;\n",
       "  width: 1em;\n",
       "  height: 1.5em !important;\n",
       "  stroke-width: 0;\n",
       "  stroke: currentColor;\n",
       "  fill: currentColor;\n",
       "}\n",
       "</style><pre class='xr-text-repr-fallback'>&lt;xarray.Dataset&gt;\n",
       "Dimensions:    (lat: 80, lon: 72, time: 1373, quantile: 7)\n",
       "Coordinates:\n",
       "    dayofyear  (time) int64 1 2 3 4 5 6 7 8 ... 271 272 273 274 275 276 277 278\n",
       "  * lat        (lat) float32 -49.88 -49.62 -49.38 ... -30.62 -30.38 -30.12\n",
       "  * lon        (lon) float32 162.1 162.4 162.6 162.9 ... 179.1 179.4 179.6 179.9\n",
       "  * quantile   (quantile) float64 0.01 0.1 0.25 0.5 0.75 0.9 0.99\n",
       "  * time       (time) object 2019-01-01 00:00:00 ... 2022-10-05 00:00:00\n",
       "Data variables:\n",
       "    average    (lat, lon, time) float32 dask.array&lt;chunksize=(20, 36, 183), meta=np.ndarray&gt;\n",
       "    quantiles  (time, quantile, lat, lon) float64 dask.array&lt;chunksize=(92, 2, 20, 36), meta=np.ndarray&gt;\n",
       "    std        (lat, lon, time) float32 dask.array&lt;chunksize=(20, 36, 183), meta=np.ndarray&gt;</pre><div class='xr-wrap' style='display:none'><div class='xr-header'><div class='xr-obj-type'>xarray.Dataset</div></div><ul class='xr-sections'><li class='xr-section-item'><input id='section-31b5847b-0c87-4da0-8b1d-28c1f335d8c3' class='xr-section-summary-in' type='checkbox' disabled ><label for='section-31b5847b-0c87-4da0-8b1d-28c1f335d8c3' class='xr-section-summary'  title='Expand/collapse section'>Dimensions:</label><div class='xr-section-inline-details'><ul class='xr-dim-list'><li><span class='xr-has-index'>lat</span>: 80</li><li><span class='xr-has-index'>lon</span>: 72</li><li><span class='xr-has-index'>time</span>: 1373</li><li><span class='xr-has-index'>quantile</span>: 7</li></ul></div><div class='xr-section-details'></div></li><li class='xr-section-item'><input id='section-c835f196-7066-4c7d-ab85-cd39bca42aaa' class='xr-section-summary-in' type='checkbox'  checked><label for='section-c835f196-7066-4c7d-ab85-cd39bca42aaa' class='xr-section-summary' >Coordinates: <span>(5)</span></label><div class='xr-section-inline-details'></div><div class='xr-section-details'><ul class='xr-var-list'><li class='xr-var-item'><div class='xr-var-name'><span>dayofyear</span></div><div class='xr-var-dims'>(time)</div><div class='xr-var-dtype'>int64</div><div class='xr-var-preview xr-preview'>1 2 3 4 5 6 ... 274 275 276 277 278</div><input id='attrs-f8bbf888-b18c-48c7-8c43-6a88117a9e16' class='xr-var-attrs-in' type='checkbox' disabled><label for='attrs-f8bbf888-b18c-48c7-8c43-6a88117a9e16' title='Show/Hide attributes'><svg class='icon xr-icon-file-text2'><use xlink:href='#icon-file-text2'></use></svg></label><input id='data-77e931c1-06db-483d-be37-a0de59aaa839' class='xr-var-data-in' type='checkbox'><label for='data-77e931c1-06db-483d-be37-a0de59aaa839' title='Show/Hide data repr'><svg class='icon xr-icon-database'><use xlink:href='#icon-database'></use></svg></label><div class='xr-var-attrs'><dl class='xr-attrs'></dl></div><div class='xr-var-data'><pre>array([  1,   2,   3, ..., 276, 277, 278])</pre></div></li><li class='xr-var-item'><div class='xr-var-name'><span class='xr-has-index'>lat</span></div><div class='xr-var-dims'>(lat)</div><div class='xr-var-dtype'>float32</div><div class='xr-var-preview xr-preview'>-49.88 -49.62 ... -30.38 -30.12</div><input id='attrs-b0c23bfb-d88c-4cc7-8275-9c5071b94cd2' class='xr-var-attrs-in' type='checkbox' disabled><label for='attrs-b0c23bfb-d88c-4cc7-8275-9c5071b94cd2' title='Show/Hide attributes'><svg class='icon xr-icon-file-text2'><use xlink:href='#icon-file-text2'></use></svg></label><input id='data-118bade5-3a40-444b-b40f-c5b857a233d5' class='xr-var-data-in' type='checkbox'><label for='data-118bade5-3a40-444b-b40f-c5b857a233d5' title='Show/Hide data repr'><svg class='icon xr-icon-database'><use xlink:href='#icon-database'></use></svg></label><div class='xr-var-attrs'><dl class='xr-attrs'></dl></div><div class='xr-var-data'><pre>array([-49.875, -49.625, -49.375, -49.125, -48.875, -48.625, -48.375, -48.125,\n",
       "       -47.875, -47.625, -47.375, -47.125, -46.875, -46.625, -46.375, -46.125,\n",
       "       -45.875, -45.625, -45.375, -45.125, -44.875, -44.625, -44.375, -44.125,\n",
       "       -43.875, -43.625, -43.375, -43.125, -42.875, -42.625, -42.375, -42.125,\n",
       "       -41.875, -41.625, -41.375, -41.125, -40.875, -40.625, -40.375, -40.125,\n",
       "       -39.875, -39.625, -39.375, -39.125, -38.875, -38.625, -38.375, -38.125,\n",
       "       -37.875, -37.625, -37.375, -37.125, -36.875, -36.625, -36.375, -36.125,\n",
       "       -35.875, -35.625, -35.375, -35.125, -34.875, -34.625, -34.375, -34.125,\n",
       "       -33.875, -33.625, -33.375, -33.125, -32.875, -32.625, -32.375, -32.125,\n",
       "       -31.875, -31.625, -31.375, -31.125, -30.875, -30.625, -30.375, -30.125],\n",
       "      dtype=float32)</pre></div></li><li class='xr-var-item'><div class='xr-var-name'><span class='xr-has-index'>lon</span></div><div class='xr-var-dims'>(lon)</div><div class='xr-var-dtype'>float32</div><div class='xr-var-preview xr-preview'>162.1 162.4 162.6 ... 179.6 179.9</div><input id='attrs-3c79ab9a-632c-4a56-8513-c3a8c4a01d72' class='xr-var-attrs-in' type='checkbox' disabled><label for='attrs-3c79ab9a-632c-4a56-8513-c3a8c4a01d72' title='Show/Hide attributes'><svg class='icon xr-icon-file-text2'><use xlink:href='#icon-file-text2'></use></svg></label><input id='data-3367d074-03a4-4a2f-9600-4bd831d05da2' class='xr-var-data-in' type='checkbox'><label for='data-3367d074-03a4-4a2f-9600-4bd831d05da2' title='Show/Hide data repr'><svg class='icon xr-icon-database'><use xlink:href='#icon-database'></use></svg></label><div class='xr-var-attrs'><dl class='xr-attrs'></dl></div><div class='xr-var-data'><pre>array([162.125, 162.375, 162.625, 162.875, 163.125, 163.375, 163.625, 163.875,\n",
       "       164.125, 164.375, 164.625, 164.875, 165.125, 165.375, 165.625, 165.875,\n",
       "       166.125, 166.375, 166.625, 166.875, 167.125, 167.375, 167.625, 167.875,\n",
       "       168.125, 168.375, 168.625, 168.875, 169.125, 169.375, 169.625, 169.875,\n",
       "       170.125, 170.375, 170.625, 170.875, 171.125, 171.375, 171.625, 171.875,\n",
       "       172.125, 172.375, 172.625, 172.875, 173.125, 173.375, 173.625, 173.875,\n",
       "       174.125, 174.375, 174.625, 174.875, 175.125, 175.375, 175.625, 175.875,\n",
       "       176.125, 176.375, 176.625, 176.875, 177.125, 177.375, 177.625, 177.875,\n",
       "       178.125, 178.375, 178.625, 178.875, 179.125, 179.375, 179.625, 179.875],\n",
       "      dtype=float32)</pre></div></li><li class='xr-var-item'><div class='xr-var-name'><span class='xr-has-index'>quantile</span></div><div class='xr-var-dims'>(quantile)</div><div class='xr-var-dtype'>float64</div><div class='xr-var-preview xr-preview'>0.01 0.1 0.25 0.5 0.75 0.9 0.99</div><input id='attrs-60769178-dbc1-4f88-ae49-93f58f308aa1' class='xr-var-attrs-in' type='checkbox' disabled><label for='attrs-60769178-dbc1-4f88-ae49-93f58f308aa1' title='Show/Hide attributes'><svg class='icon xr-icon-file-text2'><use xlink:href='#icon-file-text2'></use></svg></label><input id='data-4b4472e5-9c3f-450e-9b4c-d1b4b64db4fd' class='xr-var-data-in' type='checkbox'><label for='data-4b4472e5-9c3f-450e-9b4c-d1b4b64db4fd' title='Show/Hide data repr'><svg class='icon xr-icon-database'><use xlink:href='#icon-database'></use></svg></label><div class='xr-var-attrs'><dl class='xr-attrs'></dl></div><div class='xr-var-data'><pre>array([0.01, 0.1 , 0.25, 0.5 , 0.75, 0.9 , 0.99])</pre></div></li><li class='xr-var-item'><div class='xr-var-name'><span class='xr-has-index'>time</span></div><div class='xr-var-dims'>(time)</div><div class='xr-var-dtype'>object</div><div class='xr-var-preview xr-preview'>2019-01-01 00:00:00 ... 2022-10-...</div><input id='attrs-2f81d9de-e51c-4e24-9f9d-50b3c564d53c' class='xr-var-attrs-in' type='checkbox' ><label for='attrs-2f81d9de-e51c-4e24-9f9d-50b3c564d53c' title='Show/Hide attributes'><svg class='icon xr-icon-file-text2'><use xlink:href='#icon-file-text2'></use></svg></label><input id='data-8110dd23-072f-429c-bd82-e64181095b49' class='xr-var-data-in' type='checkbox'><label for='data-8110dd23-072f-429c-bd82-e64181095b49' title='Show/Hide data repr'><svg class='icon xr-icon-database'><use xlink:href='#icon-database'></use></svg></label><div class='xr-var-attrs'><dl class='xr-attrs'><dt><span>long_name :</span></dt><dd>Time</dd><dt><span>delta_t :</span></dt><dd>0000-00-01 00:00:00</dd><dt><span>avg_period :</span></dt><dd>0000-00-01 00:00:00</dd><dt><span>axis :</span></dt><dd>T</dd><dt><span>actual_range :</span></dt><dd>[79988. 80352.]</dd><dt><span>_ChunkSizes :</span></dt><dd>1</dd></dl></div><div class='xr-var-data'><pre>array([cftime.DatetimeNoLeap(2019, 1, 1, 0, 0, 0, 0, has_year_zero=True),\n",
       "       cftime.DatetimeNoLeap(2019, 1, 2, 0, 0, 0, 0, has_year_zero=True),\n",
       "       cftime.DatetimeNoLeap(2019, 1, 3, 0, 0, 0, 0, has_year_zero=True), ...,\n",
       "       cftime.DatetimeNoLeap(2022, 10, 3, 0, 0, 0, 0, has_year_zero=True),\n",
       "       cftime.DatetimeNoLeap(2022, 10, 4, 0, 0, 0, 0, has_year_zero=True),\n",
       "       cftime.DatetimeNoLeap(2022, 10, 5, 0, 0, 0, 0, has_year_zero=True)],\n",
       "      dtype=object)</pre></div></li></ul></div></li><li class='xr-section-item'><input id='section-679594b8-9e0a-46e8-b1bf-85fde5626b34' class='xr-section-summary-in' type='checkbox'  checked><label for='section-679594b8-9e0a-46e8-b1bf-85fde5626b34' class='xr-section-summary' >Data variables: <span>(3)</span></label><div class='xr-section-inline-details'></div><div class='xr-section-details'><ul class='xr-var-list'><li class='xr-var-item'><div class='xr-var-name'><span>average</span></div><div class='xr-var-dims'>(lat, lon, time)</div><div class='xr-var-dtype'>float32</div><div class='xr-var-preview xr-preview'>dask.array&lt;chunksize=(20, 36, 183), meta=np.ndarray&gt;</div><input id='attrs-7f885bbb-f86b-4b67-bdae-a59528b0a415' class='xr-var-attrs-in' type='checkbox' disabled><label for='attrs-7f885bbb-f86b-4b67-bdae-a59528b0a415' title='Show/Hide attributes'><svg class='icon xr-icon-file-text2'><use xlink:href='#icon-file-text2'></use></svg></label><input id='data-6c91c913-551e-4da0-bbca-d16094888a40' class='xr-var-data-in' type='checkbox'><label for='data-6c91c913-551e-4da0-bbca-d16094888a40' title='Show/Hide data repr'><svg class='icon xr-icon-database'><use xlink:href='#icon-database'></use></svg></label><div class='xr-var-attrs'><dl class='xr-attrs'></dl></div><div class='xr-var-data'><table>\n",
       "    <tr>\n",
       "        <td>\n",
       "            <table>\n",
       "                <thead>\n",
       "                    <tr>\n",
       "                        <td> </td>\n",
       "                        <th> Array </th>\n",
       "                        <th> Chunk </th>\n",
       "                    </tr>\n",
       "                </thead>\n",
       "                <tbody>\n",
       "                    \n",
       "                    <tr>\n",
       "                        <th> Bytes </th>\n",
       "                        <td> 30.17 MiB </td>\n",
       "                        <td> 514.69 kiB </td>\n",
       "                    </tr>\n",
       "                    \n",
       "                    <tr>\n",
       "                        <th> Shape </th>\n",
       "                        <td> (80, 72, 1373) </td>\n",
       "                        <td> (20, 36, 183) </td>\n",
       "                    </tr>\n",
       "                    <tr>\n",
       "                        <th> Count </th>\n",
       "                        <td> 3 Graph Layers </td>\n",
       "                        <td> 64 Chunks </td>\n",
       "                    </tr>\n",
       "                    <tr>\n",
       "                    <th> Type </th>\n",
       "                    <td> float32 </td>\n",
       "                    <td> numpy.ndarray </td>\n",
       "                    </tr>\n",
       "                </tbody>\n",
       "            </table>\n",
       "        </td>\n",
       "        <td>\n",
       "        <svg width=\"200\" height=\"105\" style=\"stroke:rgb(0,0,0);stroke-width:1\" >\n",
       "\n",
       "  <!-- Horizontal lines -->\n",
       "  <line x1=\"10\" y1=\"0\" x2=\"30\" y2=\"20\" style=\"stroke-width:2\" />\n",
       "  <line x1=\"10\" y1=\"17\" x2=\"30\" y2=\"38\" />\n",
       "  <line x1=\"10\" y1=\"34\" x2=\"30\" y2=\"55\" style=\"stroke-width:2\" />\n",
       "\n",
       "  <!-- Vertical lines -->\n",
       "  <line x1=\"10\" y1=\"0\" x2=\"10\" y2=\"34\" style=\"stroke-width:2\" />\n",
       "  <line x1=\"15\" y1=\"5\" x2=\"15\" y2=\"40\" />\n",
       "  <line x1=\"20\" y1=\"10\" x2=\"20\" y2=\"45\" />\n",
       "  <line x1=\"25\" y1=\"15\" x2=\"25\" y2=\"50\" />\n",
       "  <line x1=\"30\" y1=\"20\" x2=\"30\" y2=\"55\" style=\"stroke-width:2\" />\n",
       "\n",
       "  <!-- Colored Rectangle -->\n",
       "  <polygon points=\"10.0,0.0 30.84396761936325,20.84396761936325 30.84396761936325,55.63648908333326 10.0,34.79252146397001\" style=\"fill:#ECB172A0;stroke-width:0\"/>\n",
       "\n",
       "  <!-- Horizontal lines -->\n",
       "  <line x1=\"10\" y1=\"0\" x2=\"130\" y2=\"0\" style=\"stroke-width:2\" />\n",
       "  <line x1=\"15\" y1=\"5\" x2=\"135\" y2=\"5\" />\n",
       "  <line x1=\"20\" y1=\"10\" x2=\"140\" y2=\"10\" />\n",
       "  <line x1=\"25\" y1=\"15\" x2=\"145\" y2=\"15\" />\n",
       "  <line x1=\"30\" y1=\"20\" x2=\"150\" y2=\"20\" style=\"stroke-width:2\" />\n",
       "\n",
       "  <!-- Vertical lines -->\n",
       "  <line x1=\"10\" y1=\"0\" x2=\"30\" y2=\"20\" style=\"stroke-width:2\" />\n",
       "  <line x1=\"25\" y1=\"0\" x2=\"46\" y2=\"20\" />\n",
       "  <line x1=\"41\" y1=\"0\" x2=\"62\" y2=\"20\" />\n",
       "  <line x1=\"57\" y1=\"0\" x2=\"78\" y2=\"20\" />\n",
       "  <line x1=\"73\" y1=\"0\" x2=\"94\" y2=\"20\" />\n",
       "  <line x1=\"89\" y1=\"0\" x2=\"110\" y2=\"20\" />\n",
       "  <line x1=\"105\" y1=\"0\" x2=\"126\" y2=\"20\" />\n",
       "  <line x1=\"121\" y1=\"0\" x2=\"142\" y2=\"20\" />\n",
       "  <line x1=\"130\" y1=\"0\" x2=\"150\" y2=\"20\" style=\"stroke-width:2\" />\n",
       "\n",
       "  <!-- Colored Rectangle -->\n",
       "  <polygon points=\"10.0,0.0 130.0,0.0 150.84396761936324,20.84396761936325 30.84396761936325,20.84396761936325\" style=\"fill:#ECB172A0;stroke-width:0\"/>\n",
       "\n",
       "  <!-- Horizontal lines -->\n",
       "  <line x1=\"30\" y1=\"20\" x2=\"150\" y2=\"20\" style=\"stroke-width:2\" />\n",
       "  <line x1=\"30\" y1=\"38\" x2=\"150\" y2=\"38\" />\n",
       "  <line x1=\"30\" y1=\"55\" x2=\"150\" y2=\"55\" style=\"stroke-width:2\" />\n",
       "\n",
       "  <!-- Vertical lines -->\n",
       "  <line x1=\"30\" y1=\"20\" x2=\"30\" y2=\"55\" style=\"stroke-width:2\" />\n",
       "  <line x1=\"46\" y1=\"20\" x2=\"46\" y2=\"55\" />\n",
       "  <line x1=\"62\" y1=\"20\" x2=\"62\" y2=\"55\" />\n",
       "  <line x1=\"78\" y1=\"20\" x2=\"78\" y2=\"55\" />\n",
       "  <line x1=\"94\" y1=\"20\" x2=\"94\" y2=\"55\" />\n",
       "  <line x1=\"110\" y1=\"20\" x2=\"110\" y2=\"55\" />\n",
       "  <line x1=\"126\" y1=\"20\" x2=\"126\" y2=\"55\" />\n",
       "  <line x1=\"142\" y1=\"20\" x2=\"142\" y2=\"55\" />\n",
       "  <line x1=\"150\" y1=\"20\" x2=\"150\" y2=\"55\" style=\"stroke-width:2\" />\n",
       "\n",
       "  <!-- Colored Rectangle -->\n",
       "  <polygon points=\"30.84396761936325,20.84396761936325 150.84396761936324,20.84396761936325 150.84396761936324,55.63648908333326 30.84396761936325,55.63648908333326\" style=\"fill:#ECB172A0;stroke-width:0\"/>\n",
       "\n",
       "  <!-- Text -->\n",
       "  <text x=\"90.843968\" y=\"75.636489\" font-size=\"1.0rem\" font-weight=\"100\" text-anchor=\"middle\" >1373</text>\n",
       "  <text x=\"170.843968\" y=\"38.240228\" font-size=\"1.0rem\" font-weight=\"100\" text-anchor=\"middle\" transform=\"rotate(0,170.843968,38.240228)\">72</text>\n",
       "  <text x=\"10.421984\" y=\"65.214505\" font-size=\"1.0rem\" font-weight=\"100\" text-anchor=\"middle\" transform=\"rotate(45,10.421984,65.214505)\">80</text>\n",
       "</svg>\n",
       "        </td>\n",
       "    </tr>\n",
       "</table></div></li><li class='xr-var-item'><div class='xr-var-name'><span>quantiles</span></div><div class='xr-var-dims'>(time, quantile, lat, lon)</div><div class='xr-var-dtype'>float64</div><div class='xr-var-preview xr-preview'>dask.array&lt;chunksize=(92, 2, 20, 36), meta=np.ndarray&gt;</div><input id='attrs-b1ab23fd-b114-4f59-81b3-383354177959' class='xr-var-attrs-in' type='checkbox' disabled><label for='attrs-b1ab23fd-b114-4f59-81b3-383354177959' title='Show/Hide attributes'><svg class='icon xr-icon-file-text2'><use xlink:href='#icon-file-text2'></use></svg></label><input id='data-1790a8cd-dd5e-490a-bece-51abffda51d1' class='xr-var-data-in' type='checkbox'><label for='data-1790a8cd-dd5e-490a-bece-51abffda51d1' title='Show/Hide data repr'><svg class='icon xr-icon-database'><use xlink:href='#icon-database'></use></svg></label><div class='xr-var-attrs'><dl class='xr-attrs'></dl></div><div class='xr-var-data'><table>\n",
       "    <tr>\n",
       "        <td>\n",
       "            <table>\n",
       "                <thead>\n",
       "                    <tr>\n",
       "                        <td> </td>\n",
       "                        <th> Array </th>\n",
       "                        <th> Chunk </th>\n",
       "                    </tr>\n",
       "                </thead>\n",
       "                <tbody>\n",
       "                    \n",
       "                    <tr>\n",
       "                        <th> Bytes </th>\n",
       "                        <td> 422.36 MiB </td>\n",
       "                        <td> 1.01 MiB </td>\n",
       "                    </tr>\n",
       "                    \n",
       "                    <tr>\n",
       "                        <th> Shape </th>\n",
       "                        <td> (1373, 7, 80, 72) </td>\n",
       "                        <td> (92, 2, 20, 36) </td>\n",
       "                    </tr>\n",
       "                    <tr>\n",
       "                        <th> Count </th>\n",
       "                        <td> 3 Graph Layers </td>\n",
       "                        <td> 512 Chunks </td>\n",
       "                    </tr>\n",
       "                    <tr>\n",
       "                    <th> Type </th>\n",
       "                    <td> float64 </td>\n",
       "                    <td> numpy.ndarray </td>\n",
       "                    </tr>\n",
       "                </tbody>\n",
       "            </table>\n",
       "        </td>\n",
       "        <td>\n",
       "        <svg width=\"479\" height=\"100\" style=\"stroke:rgb(0,0,0);stroke-width:1\" >\n",
       "\n",
       "  <!-- Horizontal lines -->\n",
       "  <line x1=\"0\" y1=\"0\" x2=\"120\" y2=\"0\" style=\"stroke-width:2\" />\n",
       "  <line x1=\"0\" y1=\"25\" x2=\"120\" y2=\"25\" style=\"stroke-width:2\" />\n",
       "\n",
       "  <!-- Vertical lines -->\n",
       "  <line x1=\"0\" y1=\"0\" x2=\"0\" y2=\"25\" style=\"stroke-width:2\" />\n",
       "  <line x1=\"8\" y1=\"0\" x2=\"8\" y2=\"25\" />\n",
       "  <line x1=\"16\" y1=\"0\" x2=\"16\" y2=\"25\" />\n",
       "  <line x1=\"24\" y1=\"0\" x2=\"24\" y2=\"25\" />\n",
       "  <line x1=\"31\" y1=\"0\" x2=\"31\" y2=\"25\" />\n",
       "  <line x1=\"39\" y1=\"0\" x2=\"39\" y2=\"25\" />\n",
       "  <line x1=\"47\" y1=\"0\" x2=\"47\" y2=\"25\" />\n",
       "  <line x1=\"56\" y1=\"0\" x2=\"56\" y2=\"25\" />\n",
       "  <line x1=\"63\" y1=\"0\" x2=\"63\" y2=\"25\" />\n",
       "  <line x1=\"71\" y1=\"0\" x2=\"71\" y2=\"25\" />\n",
       "  <line x1=\"79\" y1=\"0\" x2=\"79\" y2=\"25\" />\n",
       "  <line x1=\"87\" y1=\"0\" x2=\"87\" y2=\"25\" />\n",
       "  <line x1=\"95\" y1=\"0\" x2=\"95\" y2=\"25\" />\n",
       "  <line x1=\"103\" y1=\"0\" x2=\"103\" y2=\"25\" />\n",
       "  <line x1=\"111\" y1=\"0\" x2=\"111\" y2=\"25\" />\n",
       "  <line x1=\"119\" y1=\"0\" x2=\"119\" y2=\"25\" />\n",
       "  <line x1=\"120\" y1=\"0\" x2=\"120\" y2=\"25\" style=\"stroke-width:2\" />\n",
       "\n",
       "  <!-- Colored Rectangle -->\n",
       "  <polygon points=\"0.0,0.0 120.0,0.0 120.0,25.412616514582485 0.0,25.412616514582485\" style=\"fill:#ECB172A0;stroke-width:0\"/>\n",
       "\n",
       "  <!-- Text -->\n",
       "  <text x=\"60.000000\" y=\"45.412617\" font-size=\"1.0rem\" font-weight=\"100\" text-anchor=\"middle\" >1373</text>\n",
       "  <text x=\"140.000000\" y=\"12.706308\" font-size=\"1.0rem\" font-weight=\"100\" text-anchor=\"middle\" transform=\"rotate(0,140.000000,12.706308)\">1</text>\n",
       "\n",
       "\n",
       "  <!-- Horizontal lines -->\n",
       "  <line x1=\"190\" y1=\"0\" x2=\"204\" y2=\"14\" style=\"stroke-width:2\" />\n",
       "  <line x1=\"190\" y1=\"8\" x2=\"204\" y2=\"23\" />\n",
       "  <line x1=\"190\" y1=\"17\" x2=\"204\" y2=\"32\" />\n",
       "  <line x1=\"190\" y1=\"26\" x2=\"204\" y2=\"41\" />\n",
       "  <line x1=\"190\" y1=\"35\" x2=\"204\" y2=\"50\" style=\"stroke-width:2\" />\n",
       "\n",
       "  <!-- Vertical lines -->\n",
       "  <line x1=\"190\" y1=\"0\" x2=\"190\" y2=\"35\" style=\"stroke-width:2\" />\n",
       "  <line x1=\"194\" y1=\"4\" x2=\"194\" y2=\"39\" />\n",
       "  <line x1=\"198\" y1=\"8\" x2=\"198\" y2=\"43\" />\n",
       "  <line x1=\"202\" y1=\"12\" x2=\"202\" y2=\"48\" />\n",
       "  <line x1=\"204\" y1=\"14\" x2=\"204\" y2=\"50\" style=\"stroke-width:2\" />\n",
       "\n",
       "  <!-- Colored Rectangle -->\n",
       "  <polygon points=\"190.0,0.0 204.9485979497544,14.948597949754403 204.9485979497544,50.38334290267193 190.0,35.43474495291753\" style=\"fill:#ECB172A0;stroke-width:0\"/>\n",
       "\n",
       "  <!-- Horizontal lines -->\n",
       "  <line x1=\"190\" y1=\"0\" x2=\"224\" y2=\"0\" style=\"stroke-width:2\" />\n",
       "  <line x1=\"194\" y1=\"4\" x2=\"229\" y2=\"4\" />\n",
       "  <line x1=\"198\" y1=\"8\" x2=\"233\" y2=\"8\" />\n",
       "  <line x1=\"202\" y1=\"12\" x2=\"237\" y2=\"12\" />\n",
       "  <line x1=\"204\" y1=\"14\" x2=\"239\" y2=\"14\" style=\"stroke-width:2\" />\n",
       "\n",
       "  <!-- Vertical lines -->\n",
       "  <line x1=\"190\" y1=\"0\" x2=\"204\" y2=\"14\" style=\"stroke-width:2\" />\n",
       "  <line x1=\"207\" y1=\"0\" x2=\"222\" y2=\"14\" />\n",
       "  <line x1=\"224\" y1=\"0\" x2=\"239\" y2=\"14\" style=\"stroke-width:2\" />\n",
       "\n",
       "  <!-- Colored Rectangle -->\n",
       "  <polygon points=\"190.0,0.0 224.79252146397002,0.0 239.74111941372442,14.948597949754403 204.9485979497544,14.948597949754403\" style=\"fill:#ECB172A0;stroke-width:0\"/>\n",
       "\n",
       "  <!-- Horizontal lines -->\n",
       "  <line x1=\"204\" y1=\"14\" x2=\"239\" y2=\"14\" style=\"stroke-width:2\" />\n",
       "  <line x1=\"204\" y1=\"23\" x2=\"239\" y2=\"23\" />\n",
       "  <line x1=\"204\" y1=\"32\" x2=\"239\" y2=\"32\" />\n",
       "  <line x1=\"204\" y1=\"41\" x2=\"239\" y2=\"41\" />\n",
       "  <line x1=\"204\" y1=\"50\" x2=\"239\" y2=\"50\" style=\"stroke-width:2\" />\n",
       "\n",
       "  <!-- Vertical lines -->\n",
       "  <line x1=\"204\" y1=\"14\" x2=\"204\" y2=\"50\" style=\"stroke-width:2\" />\n",
       "  <line x1=\"222\" y1=\"14\" x2=\"222\" y2=\"50\" />\n",
       "  <line x1=\"239\" y1=\"14\" x2=\"239\" y2=\"50\" style=\"stroke-width:2\" />\n",
       "\n",
       "  <!-- Colored Rectangle -->\n",
       "  <polygon points=\"204.9485979497544,14.948597949754403 239.74111941372442,14.948597949754403 239.74111941372442,50.38334290267193 204.9485979497544,50.38334290267193\" style=\"fill:#ECB172A0;stroke-width:0\"/>\n",
       "\n",
       "  <!-- Text -->\n",
       "  <text x=\"222.344859\" y=\"70.383343\" font-size=\"1.0rem\" font-weight=\"100\" text-anchor=\"middle\" >72</text>\n",
       "  <text x=\"259.741119\" y=\"32.665970\" font-size=\"1.0rem\" font-weight=\"100\" text-anchor=\"middle\" transform=\"rotate(0,259.741119,32.665970)\">80</text>\n",
       "  <text x=\"187.474299\" y=\"62.909044\" font-size=\"1.0rem\" font-weight=\"100\" text-anchor=\"middle\" transform=\"rotate(45,187.474299,62.909044)\">7</text>\n",
       "</svg>\n",
       "        </td>\n",
       "    </tr>\n",
       "</table></div></li><li class='xr-var-item'><div class='xr-var-name'><span>std</span></div><div class='xr-var-dims'>(lat, lon, time)</div><div class='xr-var-dtype'>float32</div><div class='xr-var-preview xr-preview'>dask.array&lt;chunksize=(20, 36, 183), meta=np.ndarray&gt;</div><input id='attrs-c2e88143-9088-477b-b238-599495d2f8e6' class='xr-var-attrs-in' type='checkbox' disabled><label for='attrs-c2e88143-9088-477b-b238-599495d2f8e6' title='Show/Hide attributes'><svg class='icon xr-icon-file-text2'><use xlink:href='#icon-file-text2'></use></svg></label><input id='data-d9671ea3-0ada-4d00-9e8a-e3aa2f44d4ea' class='xr-var-data-in' type='checkbox'><label for='data-d9671ea3-0ada-4d00-9e8a-e3aa2f44d4ea' title='Show/Hide data repr'><svg class='icon xr-icon-database'><use xlink:href='#icon-database'></use></svg></label><div class='xr-var-attrs'><dl class='xr-attrs'></dl></div><div class='xr-var-data'><table>\n",
       "    <tr>\n",
       "        <td>\n",
       "            <table>\n",
       "                <thead>\n",
       "                    <tr>\n",
       "                        <td> </td>\n",
       "                        <th> Array </th>\n",
       "                        <th> Chunk </th>\n",
       "                    </tr>\n",
       "                </thead>\n",
       "                <tbody>\n",
       "                    \n",
       "                    <tr>\n",
       "                        <th> Bytes </th>\n",
       "                        <td> 30.17 MiB </td>\n",
       "                        <td> 514.69 kiB </td>\n",
       "                    </tr>\n",
       "                    \n",
       "                    <tr>\n",
       "                        <th> Shape </th>\n",
       "                        <td> (80, 72, 1373) </td>\n",
       "                        <td> (20, 36, 183) </td>\n",
       "                    </tr>\n",
       "                    <tr>\n",
       "                        <th> Count </th>\n",
       "                        <td> 3 Graph Layers </td>\n",
       "                        <td> 64 Chunks </td>\n",
       "                    </tr>\n",
       "                    <tr>\n",
       "                    <th> Type </th>\n",
       "                    <td> float32 </td>\n",
       "                    <td> numpy.ndarray </td>\n",
       "                    </tr>\n",
       "                </tbody>\n",
       "            </table>\n",
       "        </td>\n",
       "        <td>\n",
       "        <svg width=\"200\" height=\"105\" style=\"stroke:rgb(0,0,0);stroke-width:1\" >\n",
       "\n",
       "  <!-- Horizontal lines -->\n",
       "  <line x1=\"10\" y1=\"0\" x2=\"30\" y2=\"20\" style=\"stroke-width:2\" />\n",
       "  <line x1=\"10\" y1=\"17\" x2=\"30\" y2=\"38\" />\n",
       "  <line x1=\"10\" y1=\"34\" x2=\"30\" y2=\"55\" style=\"stroke-width:2\" />\n",
       "\n",
       "  <!-- Vertical lines -->\n",
       "  <line x1=\"10\" y1=\"0\" x2=\"10\" y2=\"34\" style=\"stroke-width:2\" />\n",
       "  <line x1=\"15\" y1=\"5\" x2=\"15\" y2=\"40\" />\n",
       "  <line x1=\"20\" y1=\"10\" x2=\"20\" y2=\"45\" />\n",
       "  <line x1=\"25\" y1=\"15\" x2=\"25\" y2=\"50\" />\n",
       "  <line x1=\"30\" y1=\"20\" x2=\"30\" y2=\"55\" style=\"stroke-width:2\" />\n",
       "\n",
       "  <!-- Colored Rectangle -->\n",
       "  <polygon points=\"10.0,0.0 30.84396761936325,20.84396761936325 30.84396761936325,55.63648908333326 10.0,34.79252146397001\" style=\"fill:#ECB172A0;stroke-width:0\"/>\n",
       "\n",
       "  <!-- Horizontal lines -->\n",
       "  <line x1=\"10\" y1=\"0\" x2=\"130\" y2=\"0\" style=\"stroke-width:2\" />\n",
       "  <line x1=\"15\" y1=\"5\" x2=\"135\" y2=\"5\" />\n",
       "  <line x1=\"20\" y1=\"10\" x2=\"140\" y2=\"10\" />\n",
       "  <line x1=\"25\" y1=\"15\" x2=\"145\" y2=\"15\" />\n",
       "  <line x1=\"30\" y1=\"20\" x2=\"150\" y2=\"20\" style=\"stroke-width:2\" />\n",
       "\n",
       "  <!-- Vertical lines -->\n",
       "  <line x1=\"10\" y1=\"0\" x2=\"30\" y2=\"20\" style=\"stroke-width:2\" />\n",
       "  <line x1=\"25\" y1=\"0\" x2=\"46\" y2=\"20\" />\n",
       "  <line x1=\"41\" y1=\"0\" x2=\"62\" y2=\"20\" />\n",
       "  <line x1=\"57\" y1=\"0\" x2=\"78\" y2=\"20\" />\n",
       "  <line x1=\"73\" y1=\"0\" x2=\"94\" y2=\"20\" />\n",
       "  <line x1=\"89\" y1=\"0\" x2=\"110\" y2=\"20\" />\n",
       "  <line x1=\"105\" y1=\"0\" x2=\"126\" y2=\"20\" />\n",
       "  <line x1=\"121\" y1=\"0\" x2=\"142\" y2=\"20\" />\n",
       "  <line x1=\"130\" y1=\"0\" x2=\"150\" y2=\"20\" style=\"stroke-width:2\" />\n",
       "\n",
       "  <!-- Colored Rectangle -->\n",
       "  <polygon points=\"10.0,0.0 130.0,0.0 150.84396761936324,20.84396761936325 30.84396761936325,20.84396761936325\" style=\"fill:#ECB172A0;stroke-width:0\"/>\n",
       "\n",
       "  <!-- Horizontal lines -->\n",
       "  <line x1=\"30\" y1=\"20\" x2=\"150\" y2=\"20\" style=\"stroke-width:2\" />\n",
       "  <line x1=\"30\" y1=\"38\" x2=\"150\" y2=\"38\" />\n",
       "  <line x1=\"30\" y1=\"55\" x2=\"150\" y2=\"55\" style=\"stroke-width:2\" />\n",
       "\n",
       "  <!-- Vertical lines -->\n",
       "  <line x1=\"30\" y1=\"20\" x2=\"30\" y2=\"55\" style=\"stroke-width:2\" />\n",
       "  <line x1=\"46\" y1=\"20\" x2=\"46\" y2=\"55\" />\n",
       "  <line x1=\"62\" y1=\"20\" x2=\"62\" y2=\"55\" />\n",
       "  <line x1=\"78\" y1=\"20\" x2=\"78\" y2=\"55\" />\n",
       "  <line x1=\"94\" y1=\"20\" x2=\"94\" y2=\"55\" />\n",
       "  <line x1=\"110\" y1=\"20\" x2=\"110\" y2=\"55\" />\n",
       "  <line x1=\"126\" y1=\"20\" x2=\"126\" y2=\"55\" />\n",
       "  <line x1=\"142\" y1=\"20\" x2=\"142\" y2=\"55\" />\n",
       "  <line x1=\"150\" y1=\"20\" x2=\"150\" y2=\"55\" style=\"stroke-width:2\" />\n",
       "\n",
       "  <!-- Colored Rectangle -->\n",
       "  <polygon points=\"30.84396761936325,20.84396761936325 150.84396761936324,20.84396761936325 150.84396761936324,55.63648908333326 30.84396761936325,55.63648908333326\" style=\"fill:#ECB172A0;stroke-width:0\"/>\n",
       "\n",
       "  <!-- Text -->\n",
       "  <text x=\"90.843968\" y=\"75.636489\" font-size=\"1.0rem\" font-weight=\"100\" text-anchor=\"middle\" >1373</text>\n",
       "  <text x=\"170.843968\" y=\"38.240228\" font-size=\"1.0rem\" font-weight=\"100\" text-anchor=\"middle\" transform=\"rotate(0,170.843968,38.240228)\">72</text>\n",
       "  <text x=\"10.421984\" y=\"65.214505\" font-size=\"1.0rem\" font-weight=\"100\" text-anchor=\"middle\" transform=\"rotate(45,10.421984,65.214505)\">80</text>\n",
       "</svg>\n",
       "        </td>\n",
       "    </tr>\n",
       "</table></div></li></ul></div></li><li class='xr-section-item'><input id='section-e77b5cf9-2b94-4795-a4e7-21f9ba5d2c23' class='xr-section-summary-in' type='checkbox' disabled ><label for='section-e77b5cf9-2b94-4795-a4e7-21f9ba5d2c23' class='xr-section-summary'  title='Expand/collapse section'>Attributes: <span>(0)</span></label><div class='xr-section-inline-details'></div><div class='xr-section-details'><dl class='xr-attrs'></dl></div></li></ul></div></div>"
      ],
      "text/plain": [
       "<xarray.Dataset>\n",
       "Dimensions:    (lat: 80, lon: 72, time: 1373, quantile: 7)\n",
       "Coordinates:\n",
       "    dayofyear  (time) int64 1 2 3 4 5 6 7 8 ... 271 272 273 274 275 276 277 278\n",
       "  * lat        (lat) float32 -49.88 -49.62 -49.38 ... -30.62 -30.38 -30.12\n",
       "  * lon        (lon) float32 162.1 162.4 162.6 162.9 ... 179.1 179.4 179.6 179.9\n",
       "  * quantile   (quantile) float64 0.01 0.1 0.25 0.5 0.75 0.9 0.99\n",
       "  * time       (time) object 2019-01-01 00:00:00 ... 2022-10-05 00:00:00\n",
       "Data variables:\n",
       "    average    (lat, lon, time) float32 dask.array<chunksize=(20, 36, 183), meta=np.ndarray>\n",
       "    quantiles  (time, quantile, lat, lon) float64 dask.array<chunksize=(92, 2, 20, 36), meta=np.ndarray>\n",
       "    std        (lat, lon, time) float32 dask.array<chunksize=(20, 36, 183), meta=np.ndarray>"
      ]
     },
     "execution_count": 30,
     "metadata": {},
     "output_type": "execute_result"
    }
   ],
   "source": [
    "clim_repeat"
   ]
  },
  {
   "cell_type": "markdown",
   "id": "e6489b4b-a47c-4b8e-a3b6-e9114a872668",
   "metadata": {
    "papermill": {
     "duration": 0.008992,
     "end_time": "2022-10-06T21:16:18.848090",
     "exception": false,
     "start_time": "2022-10-06T21:16:18.839098",
     "status": "completed"
    },
    "tags": []
   },
   "source": [
    "### creates the masks for each NZ regions"
   ]
  },
  {
   "cell_type": "code",
   "execution_count": 31,
   "id": "b511769c-86a7-45ef-a98a-e3c7864a191b",
   "metadata": {
    "execution": {
     "iopub.execute_input": "2022-10-06T21:16:18.867101Z",
     "iopub.status.busy": "2022-10-06T21:16:18.866954Z",
     "iopub.status.idle": "2022-10-06T21:16:19.211887Z",
     "shell.execute_reply": "2022-10-06T21:16:19.211339Z"
    },
    "papermill": {
     "duration": 0.356173,
     "end_time": "2022-10-06T21:16:19.213362",
     "exception": false,
     "start_time": "2022-10-06T21:16:18.857189",
     "status": "completed"
    },
    "tags": []
   },
   "outputs": [],
   "source": [
    "l_masks = []\n",
    "\n",
    "for NZ_region in NZ_regions:\n",
    "\n",
    "    mask = src.make_mask_from_shape(\n",
    "        shapes_path.joinpath(f\"{NZ_region}_buffered_50km.shp\"),\n",
    "        dset,\n",
    "        to_crs=\"EPSG:4326\",\n",
    "        mask_name=NZ_region,\n",
    "    )\n",
    "\n",
    "    l_masks.append(mask)"
   ]
  },
  {
   "cell_type": "code",
   "execution_count": 32,
   "id": "f4ad5f13-75c8-4de7-a880-b31bc7d8973d",
   "metadata": {
    "execution": {
     "iopub.execute_input": "2022-10-06T21:16:19.233271Z",
     "iopub.status.busy": "2022-10-06T21:16:19.233120Z",
     "iopub.status.idle": "2022-10-06T21:16:19.252011Z",
     "shell.execute_reply": "2022-10-06T21:16:19.251542Z"
    },
    "papermill": {
     "duration": 0.030101,
     "end_time": "2022-10-06T21:16:19.253198",
     "exception": false,
     "start_time": "2022-10-06T21:16:19.223097",
     "status": "completed"
    },
    "tags": []
   },
   "outputs": [],
   "source": [
    "NZ_regions_masks = xr.merge(l_masks)"
   ]
  },
  {
   "cell_type": "markdown",
   "id": "0cb6c3e4-bb70-44a2-b712-7b79d00e569c",
   "metadata": {
    "papermill": {
     "duration": 0.008918,
     "end_time": "2022-10-06T21:16:19.271312",
     "exception": false,
     "start_time": "2022-10-06T21:16:19.262394",
     "status": "completed"
    },
    "tags": []
   },
   "source": [
    "### Now merge the masks with the anomalies, the raw data and the climatology "
   ]
  },
  {
   "cell_type": "code",
   "execution_count": 33,
   "id": "89b5d7b9-e13f-4ab8-b0a6-d19c5f875680",
   "metadata": {
    "execution": {
     "iopub.execute_input": "2022-10-06T21:16:19.290451Z",
     "iopub.status.busy": "2022-10-06T21:16:19.290305Z",
     "iopub.status.idle": "2022-10-06T21:16:19.306085Z",
     "shell.execute_reply": "2022-10-06T21:16:19.305637Z"
    },
    "papermill": {
     "duration": 0.026733,
     "end_time": "2022-10-06T21:16:19.307230",
     "exception": false,
     "start_time": "2022-10-06T21:16:19.280497",
     "status": "completed"
    },
    "tags": []
   },
   "outputs": [],
   "source": [
    "anoms = anoms.merge(NZ_regions_masks)"
   ]
  },
  {
   "cell_type": "code",
   "execution_count": 34,
   "id": "f5211c74-1dae-45d5-b03f-8db430d06197",
   "metadata": {
    "execution": {
     "iopub.execute_input": "2022-10-06T21:16:19.326785Z",
     "iopub.status.busy": "2022-10-06T21:16:19.326640Z",
     "iopub.status.idle": "2022-10-06T21:16:19.342302Z",
     "shell.execute_reply": "2022-10-06T21:16:19.341859Z"
    },
    "papermill": {
     "duration": 0.027161,
     "end_time": "2022-10-06T21:16:19.343977",
     "exception": false,
     "start_time": "2022-10-06T21:16:19.316816",
     "status": "completed"
    },
    "tags": []
   },
   "outputs": [],
   "source": [
    "dset = dset.merge(NZ_regions_masks)"
   ]
  },
  {
   "cell_type": "code",
   "execution_count": 35,
   "id": "9083a361-393a-4dcf-8d58-4e9d3894b499",
   "metadata": {
    "execution": {
     "iopub.execute_input": "2022-10-06T21:16:19.363433Z",
     "iopub.status.busy": "2022-10-06T21:16:19.363291Z",
     "iopub.status.idle": "2022-10-06T21:16:19.379223Z",
     "shell.execute_reply": "2022-10-06T21:16:19.378765Z"
    },
    "papermill": {
     "duration": 0.027273,
     "end_time": "2022-10-06T21:16:19.380715",
     "exception": false,
     "start_time": "2022-10-06T21:16:19.353442",
     "status": "completed"
    },
    "tags": []
   },
   "outputs": [],
   "source": [
    "clim_repeat = clim_repeat.merge(NZ_regions_masks)"
   ]
  },
  {
   "cell_type": "markdown",
   "id": "b33bc93f-280d-48b4-b53a-3fd7c6e514bb",
   "metadata": {
    "papermill": {
     "duration": 0.008993,
     "end_time": "2022-10-06T21:16:19.400588",
     "exception": false,
     "start_time": "2022-10-06T21:16:19.391595",
     "status": "completed"
    },
    "tags": []
   },
   "source": [
    "### Now calculates the average anomalies "
   ]
  },
  {
   "cell_type": "markdown",
   "id": "9e670cda-831f-41bc-bd3b-c2576867e546",
   "metadata": {
    "papermill": {
     "duration": 0.009056,
     "end_time": "2022-10-06T21:16:19.418650",
     "exception": false,
     "start_time": "2022-10-06T21:16:19.409594",
     "status": "completed"
    },
    "tags": []
   },
   "source": [
    "##### Note: The regional averages of the anomalies is the same as the regional averages of the raw values minus the regional averages of the climatological average"
   ]
  },
  {
   "cell_type": "code",
   "execution_count": 36,
   "id": "35baa21e-cc8e-4095-8456-525ede193b35",
   "metadata": {
    "execution": {
     "iopub.execute_input": "2022-10-06T21:16:19.438087Z",
     "iopub.status.busy": "2022-10-06T21:16:19.437940Z",
     "iopub.status.idle": "2022-10-06T21:16:19.476406Z",
     "shell.execute_reply": "2022-10-06T21:16:19.475910Z"
    },
    "papermill": {
     "duration": 0.049498,
     "end_time": "2022-10-06T21:16:19.477541",
     "exception": false,
     "start_time": "2022-10-06T21:16:19.428043",
     "status": "completed"
    },
    "tags": []
   },
   "outputs": [],
   "source": [
    "anoms_ts = []\n",
    "\n",
    "for NZ_region in NZ_regions:\n",
    "\n",
    "    anom_ts = (anoms[\"sst\"] * anoms[NZ_region]).mean([\"lat\", \"lon\"])\n",
    "\n",
    "    anom_ts.name = f\"SST_anomalies_{NZ_region}\"\n",
    "\n",
    "    anoms_ts.append(anom_ts)"
   ]
  },
  {
   "cell_type": "code",
   "execution_count": 37,
   "id": "8b87cf7d-3bfc-4068-ba6c-c7739c57a7c3",
   "metadata": {
    "execution": {
     "iopub.execute_input": "2022-10-06T21:16:19.496692Z",
     "iopub.status.busy": "2022-10-06T21:16:19.496552Z",
     "iopub.status.idle": "2022-10-06T21:16:19.516232Z",
     "shell.execute_reply": "2022-10-06T21:16:19.515789Z"
    },
    "papermill": {
     "duration": 0.030555,
     "end_time": "2022-10-06T21:16:19.517377",
     "exception": false,
     "start_time": "2022-10-06T21:16:19.486822",
     "status": "completed"
    },
    "tags": []
   },
   "outputs": [],
   "source": [
    "anoms_ts = xr.merge(anoms_ts)"
   ]
  },
  {
   "cell_type": "markdown",
   "id": "1b1cb319-c7f5-4216-b5fc-bb55a837fd61",
   "metadata": {
    "papermill": {
     "duration": 0.009206,
     "end_time": "2022-10-06T21:16:19.535979",
     "exception": false,
     "start_time": "2022-10-06T21:16:19.526773",
     "status": "completed"
    },
    "tags": []
   },
   "source": [
    "### Now interpolate over the standard calendar "
   ]
  },
  {
   "cell_type": "code",
   "execution_count": 38,
   "id": "aa0ce5b2-25f2-4163-864c-c007739d286a",
   "metadata": {
    "execution": {
     "iopub.execute_input": "2022-10-06T21:16:19.554949Z",
     "iopub.status.busy": "2022-10-06T21:16:19.554807Z",
     "iopub.status.idle": "2022-10-06T21:16:19.635200Z",
     "shell.execute_reply": "2022-10-06T21:16:19.634727Z"
    },
    "papermill": {
     "duration": 0.091357,
     "end_time": "2022-10-06T21:16:19.636416",
     "exception": false,
     "start_time": "2022-10-06T21:16:19.545059",
     "status": "completed"
    },
    "tags": []
   },
   "outputs": [],
   "source": [
    "anoms_ts = anoms_ts.interp_calendar(standard_calendar)"
   ]
  },
  {
   "cell_type": "markdown",
   "id": "33ff6035-5687-4f45-a1a7-44775d1c9d50",
   "metadata": {
    "papermill": {
     "duration": 0.008973,
     "end_time": "2022-10-06T21:16:19.654673",
     "exception": false,
     "start_time": "2022-10-06T21:16:19.645700",
     "status": "completed"
    },
    "tags": []
   },
   "source": [
    "### casts to a pandas dataframe "
   ]
  },
  {
   "cell_type": "code",
   "execution_count": 39,
   "id": "2373324f-326e-4fbe-ae1c-5d302a48d289",
   "metadata": {
    "execution": {
     "iopub.execute_input": "2022-10-06T21:16:19.673720Z",
     "iopub.status.busy": "2022-10-06T21:16:19.673580Z",
     "iopub.status.idle": "2022-10-06T21:16:20.229686Z",
     "shell.execute_reply": "2022-10-06T21:16:20.229279Z"
    },
    "papermill": {
     "duration": 0.567097,
     "end_time": "2022-10-06T21:16:20.230892",
     "exception": false,
     "start_time": "2022-10-06T21:16:19.663795",
     "status": "completed"
    },
    "tags": []
   },
   "outputs": [],
   "source": [
    "anoms_ts = anoms_ts.to_pandas()"
   ]
  },
  {
   "cell_type": "code",
   "execution_count": 40,
   "id": "c3c590d7-71b9-47ec-8a76-136f52ae265d",
   "metadata": {
    "execution": {
     "iopub.execute_input": "2022-10-06T21:16:20.250829Z",
     "iopub.status.busy": "2022-10-06T21:16:20.250679Z",
     "iopub.status.idle": "2022-10-06T21:16:20.271172Z",
     "shell.execute_reply": "2022-10-06T21:16:20.270729Z"
    },
    "papermill": {
     "duration": 0.031699,
     "end_time": "2022-10-06T21:16:20.272314",
     "exception": false,
     "start_time": "2022-10-06T21:16:20.240615",
     "status": "completed"
    },
    "tags": []
   },
   "outputs": [
    {
     "data": {
      "text/html": [
       "<div>\n",
       "<style scoped>\n",
       "    .dataframe tbody tr th:only-of-type {\n",
       "        vertical-align: middle;\n",
       "    }\n",
       "\n",
       "    .dataframe tbody tr th {\n",
       "        vertical-align: top;\n",
       "    }\n",
       "\n",
       "    .dataframe thead th {\n",
       "        text-align: right;\n",
       "    }\n",
       "</style>\n",
       "<table border=\"1\" class=\"dataframe\">\n",
       "  <thead>\n",
       "    <tr style=\"text-align: right;\">\n",
       "      <th></th>\n",
       "      <th>dayofyear</th>\n",
       "      <th>SST_anomalies_NNI</th>\n",
       "      <th>SST_anomalies_WNI</th>\n",
       "      <th>SST_anomalies_ENI</th>\n",
       "      <th>SST_anomalies_NSI</th>\n",
       "      <th>SST_anomalies_WSI</th>\n",
       "      <th>SST_anomalies_ESI</th>\n",
       "    </tr>\n",
       "    <tr>\n",
       "      <th>time</th>\n",
       "      <th></th>\n",
       "      <th></th>\n",
       "      <th></th>\n",
       "      <th></th>\n",
       "      <th></th>\n",
       "      <th></th>\n",
       "      <th></th>\n",
       "    </tr>\n",
       "  </thead>\n",
       "  <tbody>\n",
       "    <tr>\n",
       "      <th>2019-01-01</th>\n",
       "      <td>1.0</td>\n",
       "      <td>1.266799</td>\n",
       "      <td>1.486149</td>\n",
       "      <td>1.977668</td>\n",
       "      <td>1.896046</td>\n",
       "      <td>1.354440</td>\n",
       "      <td>2.343809</td>\n",
       "    </tr>\n",
       "    <tr>\n",
       "      <th>2019-01-02</th>\n",
       "      <td>2.0</td>\n",
       "      <td>1.248553</td>\n",
       "      <td>1.538745</td>\n",
       "      <td>2.244822</td>\n",
       "      <td>1.954314</td>\n",
       "      <td>1.170829</td>\n",
       "      <td>2.275302</td>\n",
       "    </tr>\n",
       "    <tr>\n",
       "      <th>2019-01-03</th>\n",
       "      <td>3.0</td>\n",
       "      <td>1.164060</td>\n",
       "      <td>1.573617</td>\n",
       "      <td>2.103629</td>\n",
       "      <td>1.856534</td>\n",
       "      <td>0.998959</td>\n",
       "      <td>2.082582</td>\n",
       "    </tr>\n",
       "    <tr>\n",
       "      <th>2019-01-04</th>\n",
       "      <td>4.0</td>\n",
       "      <td>0.939356</td>\n",
       "      <td>1.491371</td>\n",
       "      <td>1.801225</td>\n",
       "      <td>1.685812</td>\n",
       "      <td>0.950975</td>\n",
       "      <td>1.954536</td>\n",
       "    </tr>\n",
       "    <tr>\n",
       "      <th>2019-01-05</th>\n",
       "      <td>5.0</td>\n",
       "      <td>0.893060</td>\n",
       "      <td>1.331864</td>\n",
       "      <td>1.567888</td>\n",
       "      <td>1.505803</td>\n",
       "      <td>0.823160</td>\n",
       "      <td>2.019411</td>\n",
       "    </tr>\n",
       "  </tbody>\n",
       "</table>\n",
       "</div>"
      ],
      "text/plain": [
       "            dayofyear  SST_anomalies_NNI  SST_anomalies_WNI  \\\n",
       "time                                                          \n",
       "2019-01-01        1.0           1.266799           1.486149   \n",
       "2019-01-02        2.0           1.248553           1.538745   \n",
       "2019-01-03        3.0           1.164060           1.573617   \n",
       "2019-01-04        4.0           0.939356           1.491371   \n",
       "2019-01-05        5.0           0.893060           1.331864   \n",
       "\n",
       "            SST_anomalies_ENI  SST_anomalies_NSI  SST_anomalies_WSI  \\\n",
       "time                                                                  \n",
       "2019-01-01           1.977668           1.896046           1.354440   \n",
       "2019-01-02           2.244822           1.954314           1.170829   \n",
       "2019-01-03           2.103629           1.856534           0.998959   \n",
       "2019-01-04           1.801225           1.685812           0.950975   \n",
       "2019-01-05           1.567888           1.505803           0.823160   \n",
       "\n",
       "            SST_anomalies_ESI  \n",
       "time                           \n",
       "2019-01-01           2.343809  \n",
       "2019-01-02           2.275302  \n",
       "2019-01-03           2.082582  \n",
       "2019-01-04           1.954536  \n",
       "2019-01-05           2.019411  "
      ]
     },
     "execution_count": 40,
     "metadata": {},
     "output_type": "execute_result"
    }
   ],
   "source": [
    "anoms_ts.head()"
   ]
  },
  {
   "cell_type": "code",
   "execution_count": 41,
   "id": "9c793538-5a57-4350-8483-bd59e9d9c2ee",
   "metadata": {
    "execution": {
     "iopub.execute_input": "2022-10-06T21:16:20.292532Z",
     "iopub.status.busy": "2022-10-06T21:16:20.292386Z",
     "iopub.status.idle": "2022-10-06T21:16:20.307296Z",
     "shell.execute_reply": "2022-10-06T21:16:20.306835Z"
    },
    "papermill": {
     "duration": 0.026554,
     "end_time": "2022-10-06T21:16:20.308481",
     "exception": false,
     "start_time": "2022-10-06T21:16:20.281927",
     "status": "completed"
    },
    "tags": []
   },
   "outputs": [],
   "source": [
    "anoms_ts = anoms_ts.drop(\"dayofyear\", axis=1)"
   ]
  },
  {
   "cell_type": "code",
   "execution_count": 42,
   "id": "d9c85c9a-d5e3-47cd-beee-3ef9f8189331",
   "metadata": {
    "execution": {
     "iopub.execute_input": "2022-10-06T21:16:20.328697Z",
     "iopub.status.busy": "2022-10-06T21:16:20.328552Z",
     "iopub.status.idle": "2022-10-06T21:16:20.342946Z",
     "shell.execute_reply": "2022-10-06T21:16:20.342499Z"
    },
    "papermill": {
     "duration": 0.025824,
     "end_time": "2022-10-06T21:16:20.344064",
     "exception": false,
     "start_time": "2022-10-06T21:16:20.318240",
     "status": "completed"
    },
    "tags": []
   },
   "outputs": [],
   "source": [
    "anoms_ts.columns = NZ_regions"
   ]
  },
  {
   "cell_type": "code",
   "execution_count": 43,
   "id": "10c9865d-316d-4762-80d7-751b74f7107d",
   "metadata": {
    "execution": {
     "iopub.execute_input": "2022-10-06T21:16:20.368388Z",
     "iopub.status.busy": "2022-10-06T21:16:20.368239Z",
     "iopub.status.idle": "2022-10-06T21:16:20.387838Z",
     "shell.execute_reply": "2022-10-06T21:16:20.387377Z"
    },
    "papermill": {
     "duration": 0.035403,
     "end_time": "2022-10-06T21:16:20.389270",
     "exception": false,
     "start_time": "2022-10-06T21:16:20.353867",
     "status": "completed"
    },
    "tags": []
   },
   "outputs": [
    {
     "data": {
      "text/html": [
       "<div>\n",
       "<style scoped>\n",
       "    .dataframe tbody tr th:only-of-type {\n",
       "        vertical-align: middle;\n",
       "    }\n",
       "\n",
       "    .dataframe tbody tr th {\n",
       "        vertical-align: top;\n",
       "    }\n",
       "\n",
       "    .dataframe thead th {\n",
       "        text-align: right;\n",
       "    }\n",
       "</style>\n",
       "<table border=\"1\" class=\"dataframe\">\n",
       "  <thead>\n",
       "    <tr style=\"text-align: right;\">\n",
       "      <th></th>\n",
       "      <th>NNI</th>\n",
       "      <th>WNI</th>\n",
       "      <th>ENI</th>\n",
       "      <th>NSI</th>\n",
       "      <th>WSI</th>\n",
       "      <th>ESI</th>\n",
       "    </tr>\n",
       "    <tr>\n",
       "      <th>time</th>\n",
       "      <th></th>\n",
       "      <th></th>\n",
       "      <th></th>\n",
       "      <th></th>\n",
       "      <th></th>\n",
       "      <th></th>\n",
       "    </tr>\n",
       "  </thead>\n",
       "  <tbody>\n",
       "    <tr>\n",
       "      <th>2019-01-01</th>\n",
       "      <td>1.266799</td>\n",
       "      <td>1.486149</td>\n",
       "      <td>1.977668</td>\n",
       "      <td>1.896046</td>\n",
       "      <td>1.354440</td>\n",
       "      <td>2.343809</td>\n",
       "    </tr>\n",
       "    <tr>\n",
       "      <th>2019-01-02</th>\n",
       "      <td>1.248553</td>\n",
       "      <td>1.538745</td>\n",
       "      <td>2.244822</td>\n",
       "      <td>1.954314</td>\n",
       "      <td>1.170829</td>\n",
       "      <td>2.275302</td>\n",
       "    </tr>\n",
       "    <tr>\n",
       "      <th>2019-01-03</th>\n",
       "      <td>1.164060</td>\n",
       "      <td>1.573617</td>\n",
       "      <td>2.103629</td>\n",
       "      <td>1.856534</td>\n",
       "      <td>0.998959</td>\n",
       "      <td>2.082582</td>\n",
       "    </tr>\n",
       "    <tr>\n",
       "      <th>2019-01-04</th>\n",
       "      <td>0.939356</td>\n",
       "      <td>1.491371</td>\n",
       "      <td>1.801225</td>\n",
       "      <td>1.685812</td>\n",
       "      <td>0.950975</td>\n",
       "      <td>1.954536</td>\n",
       "    </tr>\n",
       "    <tr>\n",
       "      <th>2019-01-05</th>\n",
       "      <td>0.893060</td>\n",
       "      <td>1.331864</td>\n",
       "      <td>1.567888</td>\n",
       "      <td>1.505803</td>\n",
       "      <td>0.823160</td>\n",
       "      <td>2.019411</td>\n",
       "    </tr>\n",
       "  </tbody>\n",
       "</table>\n",
       "</div>"
      ],
      "text/plain": [
       "                 NNI       WNI       ENI       NSI       WSI       ESI\n",
       "time                                                                  \n",
       "2019-01-01  1.266799  1.486149  1.977668  1.896046  1.354440  2.343809\n",
       "2019-01-02  1.248553  1.538745  2.244822  1.954314  1.170829  2.275302\n",
       "2019-01-03  1.164060  1.573617  2.103629  1.856534  0.998959  2.082582\n",
       "2019-01-04  0.939356  1.491371  1.801225  1.685812  0.950975  1.954536\n",
       "2019-01-05  0.893060  1.331864  1.567888  1.505803  0.823160  2.019411"
      ]
     },
     "execution_count": 43,
     "metadata": {},
     "output_type": "execute_result"
    }
   ],
   "source": [
    "anoms_ts.head()"
   ]
  },
  {
   "cell_type": "markdown",
   "id": "aa99049c-c55a-4977-a04b-d345d357ba0b",
   "metadata": {
    "papermill": {
     "duration": 0.009521,
     "end_time": "2022-10-06T21:16:20.410021",
     "exception": false,
     "start_time": "2022-10-06T21:16:20.400500",
     "status": "completed"
    },
    "tags": []
   },
   "source": [
    "### Plot the time-series "
   ]
  },
  {
   "cell_type": "code",
   "execution_count": 44,
   "id": "16a8abd7-0961-44da-86bc-fb650dd44356",
   "metadata": {
    "execution": {
     "iopub.execute_input": "2022-10-06T21:16:20.429914Z",
     "iopub.status.busy": "2022-10-06T21:16:20.429759Z",
     "iopub.status.idle": "2022-10-06T21:16:22.292127Z",
     "shell.execute_reply": "2022-10-06T21:16:22.291745Z"
    },
    "papermill": {
     "duration": 1.87583,
     "end_time": "2022-10-06T21:16:22.295415",
     "exception": false,
     "start_time": "2022-10-06T21:16:20.419585",
     "status": "completed"
    },
    "tags": []
   },
   "outputs": [
    {
     "data": {
      "image/png": "[encoded data removed]",
      "text/plain": [
       "<Figure size 720x1296 with 6 Axes>"
      ]
     },
     "metadata": {
      "needs_background": "light"
     },
     "output_type": "display_data"
    }
   ],
   "source": [
    "f, axes = plt.subplots(\n",
    "    nrows=len(NZ_regions), figsize=(10, 18), sharex=True, sharey=True\n",
    ")\n",
    "\n",
    "plt.subplots_adjust(hspace=0.4)\n",
    "\n",
    "for i, NZ_region in enumerate(NZ_regions):\n",
    "\n",
    "    ax = axes[i]\n",
    "\n",
    "    df = anoms_ts.loc[:, NZ_region]\n",
    "\n",
    "    ax.fill_between(\n",
    "        df.index, 0, df.values, df.values > 0, interpolate=True, color=\"coral\"\n",
    "    )\n",
    "    ax.fill_between(\n",
    "        df.index, 0, df.values, df.values <= 0, interpolate=True, color=\"steelblue\"\n",
    "    )\n",
    "\n",
    "    ax.plot(df.index, df.values, color=\"k\", lw=0.5)\n",
    "\n",
    "    ax.grid(ls=\":\")\n",
    "\n",
    "    title = (\n",
    "        r\"$\\bf{\"\n",
    "        + NZ_region\n",
    "        + \"}$\"\n",
    "        + f\" OISST V2 {ndays_agg} day(s) anomalies to {last_day:%Y-%m-%d}\\nMin: {df.min():+4.2f}°C ({df.idxmin():%Y-%m-%d}), Max: {df.max():+4.2f}°C ({df.idxmax():%Y-%m-%d}), latest: {df.iloc[-1]:+4.2f}°C\"\n",
    "    )\n",
    "\n",
    "    ax.set_title(title, loc=\"left\")\n",
    "\n",
    "    ax.axhline(0, color=\"0.8\", zorder=-1)\n",
    "\n",
    "    ax.axvline(df.idxmin(), color=\"b\", alpha=0.5)\n",
    "    ax.axvline(df.idxmax(), color=\"r\", alpha=0.5)\n",
    "\n",
    "    ax.set_xlim(first_day, last_day)"
   ]
  },
  {
   "cell_type": "code",
   "execution_count": 45,
   "id": "4fdb2aed-0808-44fa-8c41-017630150ba8",
   "metadata": {
    "execution": {
     "iopub.execute_input": "2022-10-06T21:16:22.321250Z",
     "iopub.status.busy": "2022-10-06T21:16:22.321105Z",
     "iopub.status.idle": "2022-10-06T21:16:23.430533Z",
     "shell.execute_reply": "2022-10-06T21:16:23.430064Z"
    },
    "papermill": {
     "duration": 1.123334,
     "end_time": "2022-10-06T21:16:23.431715",
     "exception": false,
     "start_time": "2022-10-06T21:16:22.308381",
     "status": "completed"
    },
    "tags": []
   },
   "outputs": [],
   "source": [
    "f.savefig(\n",
    "    fig_path.joinpath(\n",
    "        f\"prototype_NZ_coastal_indices_{ndays_agg}days_agg_to_{last_day:%Y%m%d}.png\"\n",
    "    ),\n",
    "    dpi=200,\n",
    "    bbox_inches=\"tight\",\n",
    "    facecolor=\"w\",\n",
    ")"
   ]
  },
  {
   "cell_type": "code",
   "execution_count": 46,
   "id": "342119a8-23bf-4309-8299-692131905126",
   "metadata": {
    "execution": {
     "iopub.execute_input": "2022-10-06T21:16:23.456601Z",
     "iopub.status.busy": "2022-10-06T21:16:23.456455Z",
     "iopub.status.idle": "2022-10-06T21:16:23.476365Z",
     "shell.execute_reply": "2022-10-06T21:16:23.475922Z"
    },
    "papermill": {
     "duration": 0.033406,
     "end_time": "2022-10-06T21:16:23.477345",
     "exception": false,
     "start_time": "2022-10-06T21:16:23.443939",
     "status": "completed"
    },
    "tags": []
   },
   "outputs": [
    {
     "data": {
      "text/html": [
       "<div>\n",
       "<style scoped>\n",
       "    .dataframe tbody tr th:only-of-type {\n",
       "        vertical-align: middle;\n",
       "    }\n",
       "\n",
       "    .dataframe tbody tr th {\n",
       "        vertical-align: top;\n",
       "    }\n",
       "\n",
       "    .dataframe thead th {\n",
       "        text-align: right;\n",
       "    }\n",
       "</style>\n",
       "<table border=\"1\" class=\"dataframe\">\n",
       "  <thead>\n",
       "    <tr style=\"text-align: right;\">\n",
       "      <th></th>\n",
       "      <th>NNI</th>\n",
       "      <th>WNI</th>\n",
       "      <th>ENI</th>\n",
       "      <th>NSI</th>\n",
       "      <th>WSI</th>\n",
       "      <th>ESI</th>\n",
       "    </tr>\n",
       "    <tr>\n",
       "      <th>time</th>\n",
       "      <th></th>\n",
       "      <th></th>\n",
       "      <th></th>\n",
       "      <th></th>\n",
       "      <th></th>\n",
       "      <th></th>\n",
       "    </tr>\n",
       "  </thead>\n",
       "  <tbody>\n",
       "    <tr>\n",
       "      <th>2022-10-01</th>\n",
       "      <td>1.073185</td>\n",
       "      <td>0.849542</td>\n",
       "      <td>0.558334</td>\n",
       "      <td>0.689928</td>\n",
       "      <td>0.895034</td>\n",
       "      <td>0.128458</td>\n",
       "    </tr>\n",
       "    <tr>\n",
       "      <th>2022-10-02</th>\n",
       "      <td>1.198548</td>\n",
       "      <td>1.115246</td>\n",
       "      <td>0.622376</td>\n",
       "      <td>0.864045</td>\n",
       "      <td>1.125761</td>\n",
       "      <td>0.441758</td>\n",
       "    </tr>\n",
       "    <tr>\n",
       "      <th>2022-10-03</th>\n",
       "      <td>0.997860</td>\n",
       "      <td>0.889703</td>\n",
       "      <td>0.478154</td>\n",
       "      <td>0.683930</td>\n",
       "      <td>1.057662</td>\n",
       "      <td>0.396960</td>\n",
       "    </tr>\n",
       "    <tr>\n",
       "      <th>2022-10-04</th>\n",
       "      <td>1.051549</td>\n",
       "      <td>0.832719</td>\n",
       "      <td>0.509630</td>\n",
       "      <td>0.610431</td>\n",
       "      <td>0.825626</td>\n",
       "      <td>0.192735</td>\n",
       "    </tr>\n",
       "    <tr>\n",
       "      <th>2022-10-05</th>\n",
       "      <td>0.919907</td>\n",
       "      <td>0.547470</td>\n",
       "      <td>0.367824</td>\n",
       "      <td>0.348647</td>\n",
       "      <td>0.639168</td>\n",
       "      <td>0.015351</td>\n",
       "    </tr>\n",
       "  </tbody>\n",
       "</table>\n",
       "</div>"
      ],
      "text/plain": [
       "                 NNI       WNI       ENI       NSI       WSI       ESI\n",
       "time                                                                  \n",
       "2022-10-01  1.073185  0.849542  0.558334  0.689928  0.895034  0.128458\n",
       "2022-10-02  1.198548  1.115246  0.622376  0.864045  1.125761  0.441758\n",
       "2022-10-03  0.997860  0.889703  0.478154  0.683930  1.057662  0.396960\n",
       "2022-10-04  1.051549  0.832719  0.509630  0.610431  0.825626  0.192735\n",
       "2022-10-05  0.919907  0.547470  0.367824  0.348647  0.639168  0.015351"
      ]
     },
     "execution_count": 46,
     "metadata": {},
     "output_type": "execute_result"
    }
   ],
   "source": [
    "anoms_ts.tail()"
   ]
  },
  {
   "cell_type": "code",
   "execution_count": 47,
   "id": "6b934b63-b26b-4a53-9d33-09656bc95979",
   "metadata": {
    "execution": {
     "iopub.execute_input": "2022-10-06T21:16:23.502290Z",
     "iopub.status.busy": "2022-10-06T21:16:23.502145Z",
     "iopub.status.idle": "2022-10-06T21:16:23.517019Z",
     "shell.execute_reply": "2022-10-06T21:16:23.516149Z"
    },
    "papermill": {
     "duration": 0.02875,
     "end_time": "2022-10-06T21:16:23.518284",
     "exception": false,
     "start_time": "2022-10-06T21:16:23.489534",
     "status": "completed"
    },
    "tags": []
   },
   "outputs": [],
   "source": [
    "dset.close()"
   ]
  },
  {
   "cell_type": "code",
   "execution_count": 48,
   "id": "a8153f4e-7e8b-409f-ab16-342b9562080f",
   "metadata": {
    "execution": {
     "iopub.execute_input": "2022-10-06T21:16:23.543476Z",
     "iopub.status.busy": "2022-10-06T21:16:23.543325Z",
     "iopub.status.idle": "2022-10-06T21:16:23.559045Z",
     "shell.execute_reply": "2022-10-06T21:16:23.558604Z"
    },
    "papermill": {
     "duration": 0.029624,
     "end_time": "2022-10-06T21:16:23.560140",
     "exception": false,
     "start_time": "2022-10-06T21:16:23.530516",
     "status": "completed"
    },
    "tags": []
   },
   "outputs": [
    {
     "data": {
      "text/plain": [
       "'ESI'"
      ]
     },
     "execution_count": 48,
     "metadata": {},
     "output_type": "execute_result"
    }
   ],
   "source": [
    "NZ_region"
   ]
  },
  {
   "cell_type": "code",
   "execution_count": 49,
   "id": "718128a8-3adf-4d52-bfad-1eb5d1b95927",
   "metadata": {
    "execution": {
     "iopub.execute_input": "2022-10-06T21:16:23.585295Z",
     "iopub.status.busy": "2022-10-06T21:16:23.585153Z",
     "iopub.status.idle": "2022-10-06T21:16:23.599565Z",
     "shell.execute_reply": "2022-10-06T21:16:23.599114Z"
    },
    "papermill": {
     "duration": 0.028199,
     "end_time": "2022-10-06T21:16:23.600670",
     "exception": false,
     "start_time": "2022-10-06T21:16:23.572471",
     "status": "completed"
    },
    "tags": []
   },
   "outputs": [],
   "source": [
    "import geopandas as gpd"
   ]
  },
  {
   "cell_type": "code",
   "execution_count": 50,
   "id": "28f071a3-3604-424e-8958-3ec677663f2f",
   "metadata": {
    "execution": {
     "iopub.execute_input": "2022-10-06T21:16:23.626230Z",
     "iopub.status.busy": "2022-10-06T21:16:23.625784Z",
     "iopub.status.idle": "2022-10-06T21:16:23.660659Z",
     "shell.execute_reply": "2022-10-06T21:16:23.660148Z"
    },
    "papermill": {
     "duration": 0.049038,
     "end_time": "2022-10-06T21:16:23.661897",
     "exception": false,
     "start_time": "2022-10-06T21:16:23.612859",
     "status": "completed"
    },
    "tags": []
   },
   "outputs": [],
   "source": [
    "reg = gpd.read_file(shapes_path.joinpath(f\"{NZ_region}_buffered_50km.shp\"))\n",
    "\n",
    "reg = reg.to_crs(\"EPSG:4326\")"
   ]
  },
  {
   "cell_type": "code",
   "execution_count": 51,
   "id": "d38a08a3-7c56-4411-a579-9ae985f1645b",
   "metadata": {
    "execution": {
     "iopub.execute_input": "2022-10-06T21:16:23.687009Z",
     "iopub.status.busy": "2022-10-06T21:16:23.686864Z",
     "iopub.status.idle": "2022-10-06T21:16:23.710107Z",
     "shell.execute_reply": "2022-10-06T21:16:23.709647Z"
    },
    "papermill": {
     "duration": 0.037115,
     "end_time": "2022-10-06T21:16:23.711279",
     "exception": false,
     "start_time": "2022-10-06T21:16:23.674164",
     "status": "completed"
    },
    "tags": []
   },
   "outputs": [],
   "source": [
    "from cartopy import crs as ccrs"
   ]
  },
  {
   "cell_type": "code",
   "execution_count": 52,
   "id": "7bff1ddf-ad1c-4af8-9d51-84f6259f6f3f",
   "metadata": {
    "execution": {
     "iopub.execute_input": "2022-10-06T21:16:23.737311Z",
     "iopub.status.busy": "2022-10-06T21:16:23.737163Z",
     "iopub.status.idle": "2022-10-06T21:16:23.759159Z",
     "shell.execute_reply": "2022-10-06T21:16:23.758716Z"
    },
    "papermill": {
     "duration": 0.036122,
     "end_time": "2022-10-06T21:16:23.760156",
     "exception": false,
     "start_time": "2022-10-06T21:16:23.724034",
     "status": "completed"
    },
    "tags": []
   },
   "outputs": [
    {
     "data": {
      "text/html": [
       "<div>\n",
       "<style scoped>\n",
       "    .dataframe tbody tr th:only-of-type {\n",
       "        vertical-align: middle;\n",
       "    }\n",
       "\n",
       "    .dataframe tbody tr th {\n",
       "        vertical-align: top;\n",
       "    }\n",
       "\n",
       "    .dataframe thead th {\n",
       "        text-align: right;\n",
       "    }\n",
       "</style>\n",
       "<table border=\"1\" class=\"dataframe\">\n",
       "  <thead>\n",
       "    <tr style=\"text-align: right;\">\n",
       "      <th></th>\n",
       "      <th>id</th>\n",
       "      <th>geometry</th>\n",
       "    </tr>\n",
       "  </thead>\n",
       "  <tbody>\n",
       "    <tr>\n",
       "      <th>0</th>\n",
       "      <td>4</td>\n",
       "      <td>POLYGON ((170.18123 -46.55128, 170.17955 -46.5...</td>\n",
       "    </tr>\n",
       "  </tbody>\n",
       "</table>\n",
       "</div>"
      ],
      "text/plain": [
       "   id                                           geometry\n",
       "0   4  POLYGON ((170.18123 -46.55128, 170.17955 -46.5..."
      ]
     },
     "execution_count": 52,
     "metadata": {},
     "output_type": "execute_result"
    }
   ],
   "source": [
    "reg"
   ]
  },
  {
   "cell_type": "code",
   "execution_count": 53,
   "id": "a8ee013f-29b1-4e0d-87c5-411562bf8ee2",
   "metadata": {
    "execution": {
     "iopub.execute_input": "2022-10-06T21:16:23.786410Z",
     "iopub.status.busy": "2022-10-06T21:16:23.786237Z",
     "iopub.status.idle": "2022-10-06T21:16:23.801640Z",
     "shell.execute_reply": "2022-10-06T21:16:23.801199Z"
    },
    "papermill": {
     "duration": 0.030175,
     "end_time": "2022-10-06T21:16:23.802962",
     "exception": false,
     "start_time": "2022-10-06T21:16:23.772787",
     "status": "completed"
    },
    "tags": []
   },
   "outputs": [],
   "source": [
    "import cartopy.feature as cfeature"
   ]
  },
  {
   "cell_type": "code",
   "execution_count": 54,
   "id": "56b7cae4-5650-4d12-8a32-81d741c59ef5",
   "metadata": {
    "execution": {
     "iopub.execute_input": "2022-10-06T21:16:23.831020Z",
     "iopub.status.busy": "2022-10-06T21:16:23.830874Z",
     "iopub.status.idle": "2022-10-06T21:16:23.845458Z",
     "shell.execute_reply": "2022-10-06T21:16:23.845004Z"
    },
    "papermill": {
     "duration": 0.028623,
     "end_time": "2022-10-06T21:16:23.846587",
     "exception": false,
     "start_time": "2022-10-06T21:16:23.817964",
     "status": "completed"
    },
    "tags": []
   },
   "outputs": [],
   "source": [
    "land = cfeature.NaturalEarthFeature(\"physical\", \"land\", \"10m\")"
   ]
  },
  {
   "cell_type": "code",
   "execution_count": 55,
   "id": "9dc415a5-359a-43db-bd23-37e47db7a442",
   "metadata": {
    "execution": {
     "iopub.execute_input": "2022-10-06T21:16:23.872605Z",
     "iopub.status.busy": "2022-10-06T21:16:23.872418Z",
     "iopub.status.idle": "2022-10-06T21:16:23.889268Z",
     "shell.execute_reply": "2022-10-06T21:16:23.888819Z"
    },
    "papermill": {
     "duration": 0.030701,
     "end_time": "2022-10-06T21:16:23.890263",
     "exception": false,
     "start_time": "2022-10-06T21:16:23.859562",
     "status": "completed"
    },
    "tags": []
   },
   "outputs": [
    {
     "data": {
      "text/plain": [
       "['NNI', 'WNI', 'ENI', 'NSI', 'WSI', 'ESI']"
      ]
     },
     "execution_count": 55,
     "metadata": {},
     "output_type": "execute_result"
    }
   ],
   "source": [
    "NZ_regions"
   ]
  },
  {
   "cell_type": "code",
   "execution_count": 56,
   "id": "2703dceb-be72-40a2-88e3-faf323d1de19",
   "metadata": {
    "execution": {
     "iopub.execute_input": "2022-10-06T21:16:23.915660Z",
     "iopub.status.busy": "2022-10-06T21:16:23.915509Z",
     "iopub.status.idle": "2022-10-06T21:16:23.929672Z",
     "shell.execute_reply": "2022-10-06T21:16:23.929232Z"
    },
    "papermill": {
     "duration": 0.028141,
     "end_time": "2022-10-06T21:16:23.930715",
     "exception": false,
     "start_time": "2022-10-06T21:16:23.902574",
     "status": "completed"
    },
    "tags": []
   },
   "outputs": [],
   "source": [
    "import numpy as np\n",
    "from matplotlib.pyplot import cm"
   ]
  },
  {
   "cell_type": "code",
   "execution_count": 57,
   "id": "02d799c6-6a93-4b52-bb52-0906d36c032e",
   "metadata": {
    "execution": {
     "iopub.execute_input": "2022-10-06T21:16:23.957886Z",
     "iopub.status.busy": "2022-10-06T21:16:23.957738Z",
     "iopub.status.idle": "2022-10-06T21:16:23.974169Z",
     "shell.execute_reply": "2022-10-06T21:16:23.973723Z"
    },
    "papermill": {
     "duration": 0.03103,
     "end_time": "2022-10-06T21:16:23.975208",
     "exception": false,
     "start_time": "2022-10-06T21:16:23.944178",
     "status": "completed"
    },
    "tags": []
   },
   "outputs": [],
   "source": [
    "colors = cm.rainbow(np.linspace(0, 1, 6))"
   ]
  },
  {
   "cell_type": "code",
   "execution_count": 58,
   "id": "9a2e1c86-a101-4b85-8544-87a7ef116ff4",
   "metadata": {
    "execution": {
     "iopub.execute_input": "2022-10-06T21:16:24.000719Z",
     "iopub.status.busy": "2022-10-06T21:16:24.000574Z",
     "iopub.status.idle": "2022-10-06T21:16:37.133092Z",
     "shell.execute_reply": "2022-10-06T21:16:37.132655Z"
    },
    "papermill": {
     "duration": 13.148845,
     "end_time": "2022-10-06T21:16:37.136392",
     "exception": false,
     "start_time": "2022-10-06T21:16:23.987547",
     "status": "completed"
    },
    "tags": []
   },
   "outputs": [
    {
     "data": {
      "image/png": "[encoded data removed]",
      "text/plain": [
       "<Figure size 576x576 with 1 Axes>"
      ]
     },
     "metadata": {
      "needs_background": "light"
     },
     "output_type": "display_data"
    }
   ],
   "source": [
    "f, ax = plt.subplots(\n",
    "    subplot_kw=dict(projection=ccrs.PlateCarree(central_longitude=180)), figsize=(8, 8)\n",
    ")\n",
    "\n",
    "gl = ax.gridlines(\n",
    "    draw_labels=True,\n",
    "    crs=ccrs.PlateCarree(central_longitude=0),\n",
    "    ls=\":\",\n",
    ")\n",
    "gl.top_labels = False\n",
    "gl.right_labels = False\n",
    "\n",
    "ax.set_extent([165.5, 179.5, -47.75, -33.75])\n",
    "\n",
    "for i, NZ_region in enumerate(NZ_regions):\n",
    "\n",
    "    reg = gpd.read_file(shapes_path.joinpath(f\"{NZ_region}_buffered_50km.shp\"))\n",
    "    reg = reg.to_crs(\"EPSG:4326\")\n",
    "    reg.plot(ax=ax, transform=ccrs.PlateCarree(), zorder=-1, color=colors[i])\n",
    "    reg.boundary.plot(ax=ax, transform=ccrs.PlateCarree(), zorder=-1, lw=0.5, color=\"k\")\n",
    "\n",
    "ax.add_feature(land, facecolor=\"gainsboro\")\n",
    "\n",
    "ax.coastlines(\"10m\", lw=0.5)\n",
    "\n",
    "f.savefig(\n",
    "    fig_path.joinpath(\"NZ_6_coastal_regions.png\"),\n",
    "    dpi=200,\n",
    "    bbox_inches=\"tight\",\n",
    "    facecolor=\"w\",\n",
    ")"
   ]
  },
  {
   "cell_type": "markdown",
   "id": "60d67710-67f5-45f2-91fe-d32c6497293c",
   "metadata": {
    "papermill": {
     "duration": 0.013062,
     "end_time": "2022-10-06T21:16:37.184197",
     "exception": false,
     "start_time": "2022-10-06T21:16:37.171135",
     "status": "completed"
    },
    "tags": []
   },
   "source": [
    "### close the dataset "
   ]
  },
  {
   "cell_type": "code",
   "execution_count": 59,
   "id": "191d1125-7920-4004-a000-127b74c349d4",
   "metadata": {
    "execution": {
     "iopub.execute_input": "2022-10-06T21:16:37.211438Z",
     "iopub.status.busy": "2022-10-06T21:16:37.211283Z",
     "iopub.status.idle": "2022-10-06T21:16:37.225828Z",
     "shell.execute_reply": "2022-10-06T21:16:37.225383Z"
    },
    "papermill": {
     "duration": 0.02965,
     "end_time": "2022-10-06T21:16:37.226922",
     "exception": false,
     "start_time": "2022-10-06T21:16:37.197272",
     "status": "completed"
    },
    "tags": []
   },
   "outputs": [],
   "source": [
    "dset.close()"
   ]
  },
  {
   "cell_type": "markdown",
   "id": "1460ea1d-c4be-4689-9105-a92e308103a4",
   "metadata": {
    "papermill": {
     "duration": 0.012904,
     "end_time": "2022-10-06T21:16:37.252959",
     "exception": false,
     "start_time": "2022-10-06T21:16:37.240055",
     "status": "completed"
    },
    "tags": []
   },
   "source": [
    "### and delete the variable just to be sure "
   ]
  },
  {
   "cell_type": "code",
   "execution_count": 60,
   "id": "3956b5e2-4f2f-4df3-818a-733e1e8eadc7",
   "metadata": {
    "execution": {
     "iopub.execute_input": "2022-10-06T21:16:37.279940Z",
     "iopub.status.busy": "2022-10-06T21:16:37.279794Z",
     "iopub.status.idle": "2022-10-06T21:16:37.294408Z",
     "shell.execute_reply": "2022-10-06T21:16:37.293949Z"
    },
    "papermill": {
     "duration": 0.029615,
     "end_time": "2022-10-06T21:16:37.295752",
     "exception": false,
     "start_time": "2022-10-06T21:16:37.266137",
     "status": "completed"
    },
    "tags": []
   },
   "outputs": [],
   "source": [
    "del(dset)"
   ]
  }
 ],
 "metadata": {
  "kernelspec": {
   "display_name": "Python 3 (ipykernel)",
   "language": "python",
   "name": "python3"
  },
  "language_info": {
   "codemirror_mode": {
    "name": "ipython",
    "version": 3
   },
   "file_extension": ".py",
   "mimetype": "text/x-python",
   "name": "python",
   "nbconvert_exporter": "python",
   "pygments_lexer": "ipython3",
   "version": "3.8.13"
  },
  "papermill": {
   "default_parameters": {},
   "duration": 22.573573,
   "end_time": "2022-10-06T21:16:37.727359",
   "environment_variables": {},
   "exception": null,
   "input_path": "OISST_realtime_NZ_indices.ipynb",
   "output_path": "OISST_realtime_NZ_indices.ipynb",
   "parameters": {
    "ndays": 30
   },
   "start_time": "2022-10-06T21:16:15.153786",
   "version": "2.3.3"
  }
 },
 "nbformat": 4,
 "nbformat_minor": 5
}