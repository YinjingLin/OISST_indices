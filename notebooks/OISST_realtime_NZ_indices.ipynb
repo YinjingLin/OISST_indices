{
 "cells": [
  {
   "cell_type": "code",
   "execution_count": 1,
   "id": "f72f9387-9648-4dc7-8339-ed9c5b250975",
   "metadata": {
    "execution": {
     "iopub.execute_input": "2022-11-03T01:53:00.257164Z",
     "iopub.status.busy": "2022-11-03T01:53:00.256104Z",
     "iopub.status.idle": "2022-11-03T01:53:00.273775Z",
     "shell.execute_reply": "2022-11-03T01:53:00.273236Z"
    },
    "papermill": {
     "duration": 0.057529,
     "end_time": "2022-11-03T01:53:00.275507",
     "exception": false,
     "start_time": "2022-11-03T01:53:00.217978",
     "status": "completed"
    },
    "tags": []
   },
   "outputs": [],
   "source": [
    "%load_ext autoreload\n",
    "%autoreload 2"
   ]
  },
  {
   "cell_type": "code",
   "execution_count": 2,
   "id": "683000b0-85be-444b-be7b-d9142c221708",
   "metadata": {
    "execution": {
     "iopub.execute_input": "2022-11-03T01:53:00.291706Z",
     "iopub.status.busy": "2022-11-03T01:53:00.291561Z",
     "iopub.status.idle": "2022-11-03T01:53:00.679094Z",
     "shell.execute_reply": "2022-11-03T01:53:00.678642Z"
    },
    "papermill": {
     "duration": 0.397025,
     "end_time": "2022-11-03T01:53:00.680293",
     "exception": false,
     "start_time": "2022-11-03T01:53:00.283268",
     "status": "completed"
    },
    "tags": []
   },
   "outputs": [],
   "source": [
    "%matplotlib inline\n",
    "import cmocean\n",
    "from matplotlib import pyplot as plt\n",
    "from matplotlib import rc"
   ]
  },
  {
   "cell_type": "code",
   "execution_count": 3,
   "id": "9edbad3d-cdc6-4352-af94-836214504bc8",
   "metadata": {
    "execution": {
     "iopub.execute_input": "2022-11-03T01:53:00.719577Z",
     "iopub.status.busy": "2022-11-03T01:53:00.719429Z",
     "iopub.status.idle": "2022-11-03T01:53:00.727745Z",
     "shell.execute_reply": "2022-11-03T01:53:00.727304Z"
    },
    "papermill": {
     "duration": 0.041112,
     "end_time": "2022-11-03T01:53:00.728830",
     "exception": false,
     "start_time": "2022-11-03T01:53:00.687718",
     "status": "completed"
    },
    "tags": []
   },
   "outputs": [],
   "source": [
    "import os\n",
    "import pathlib\n",
    "import sys"
   ]
  },
  {
   "cell_type": "code",
   "execution_count": 4,
   "id": "7c568508-e27c-4598-b9c0-95dc1cfae64a",
   "metadata": {
    "execution": {
     "iopub.execute_input": "2022-11-03T01:53:00.743718Z",
     "iopub.status.busy": "2022-11-03T01:53:00.743588Z",
     "iopub.status.idle": "2022-11-03T01:53:01.023813Z",
     "shell.execute_reply": "2022-11-03T01:53:01.023311Z"
    },
    "papermill": {
     "duration": 0.289179,
     "end_time": "2022-11-03T01:53:01.025114",
     "exception": false,
     "start_time": "2022-11-03T01:53:00.735935",
     "status": "completed"
    },
    "tags": []
   },
   "outputs": [],
   "source": [
    "from datetime import datetime, timedelta\n",
    "\n",
    "from dateparser import parse"
   ]
  },
  {
   "cell_type": "code",
   "execution_count": 5,
   "id": "a33ef180-19ea-44d6-86c4-1ee1eebfbf4c",
   "metadata": {
    "execution": {
     "iopub.execute_input": "2022-11-03T01:53:01.040890Z",
     "iopub.status.busy": "2022-11-03T01:53:01.040743Z",
     "iopub.status.idle": "2022-11-03T01:53:01.637288Z",
     "shell.execute_reply": "2022-11-03T01:53:01.636839Z"
    },
    "papermill": {
     "duration": 0.605953,
     "end_time": "2022-11-03T01:53:01.638611",
     "exception": false,
     "start_time": "2022-11-03T01:53:01.032658",
     "status": "completed"
    },
    "tags": []
   },
   "outputs": [],
   "source": [
    "import numpy as np\n",
    "import pandas as pd\n",
    "import xarray as xr"
   ]
  },
  {
   "cell_type": "code",
   "execution_count": 6,
   "id": "c1387ac6-8911-4926-99f2-5ab76db58a1d",
   "metadata": {
    "execution": {
     "iopub.execute_input": "2022-11-03T01:53:01.654264Z",
     "iopub.status.busy": "2022-11-03T01:53:01.654123Z",
     "iopub.status.idle": "2022-11-03T01:53:01.669646Z",
     "shell.execute_reply": "2022-11-03T01:53:01.669228Z"
    },
    "papermill": {
     "duration": 0.024799,
     "end_time": "2022-11-03T01:53:01.670798",
     "exception": false,
     "start_time": "2022-11-03T01:53:01.645999",
     "status": "completed"
    },
    "tags": []
   },
   "outputs": [],
   "source": [
    "sys.path.append(\"../code/\")"
   ]
  },
  {
   "cell_type": "code",
   "execution_count": 7,
   "id": "6ac12e73-4926-4f8b-9d3d-f7819656baf0",
   "metadata": {
    "execution": {
     "iopub.execute_input": "2022-11-03T01:53:01.685859Z",
     "iopub.status.busy": "2022-11-03T01:53:01.685718Z",
     "iopub.status.idle": "2022-11-03T01:53:01.704762Z",
     "shell.execute_reply": "2022-11-03T01:53:01.704289Z"
    },
    "papermill": {
     "duration": 0.028,
     "end_time": "2022-11-03T01:53:01.705897",
     "exception": false,
     "start_time": "2022-11-03T01:53:01.677897",
     "status": "completed"
    },
    "tags": []
   },
   "outputs": [],
   "source": [
    "import src"
   ]
  },
  {
   "cell_type": "markdown",
   "id": "d08e6eb8-0a53-477a-b1b3-453ecfa6bd08",
   "metadata": {
    "papermill": {
     "duration": 0.007132,
     "end_time": "2022-11-03T01:53:01.724878",
     "exception": false,
     "start_time": "2022-11-03T01:53:01.717746",
     "status": "completed"
    },
    "tags": []
   },
   "source": [
    "### parameters for papermill "
   ]
  },
  {
   "cell_type": "code",
   "execution_count": 8,
   "id": "d32af641-a879-4a61-bc6f-201e825cf04a",
   "metadata": {
    "execution": {
     "iopub.execute_input": "2022-11-03T01:53:01.742733Z",
     "iopub.status.busy": "2022-11-03T01:53:01.742584Z",
     "iopub.status.idle": "2022-11-03T01:53:01.758517Z",
     "shell.execute_reply": "2022-11-03T01:53:01.758039Z"
    },
    "papermill": {
     "duration": 0.025371,
     "end_time": "2022-11-03T01:53:01.760013",
     "exception": false,
     "start_time": "2022-11-03T01:53:01.734642",
     "status": "completed"
    },
    "tags": [
     "parameters"
    ]
   },
   "outputs": [],
   "source": [
    "domain = \"NZ\"\n",
    "NZ_regions = [\"NNI\", \"WNI\", \"ENI\", \"NSI\", \"WSI\", \"ESI\"]\n",
    "ipath = \"/media/nicolasf/END19101/data/OISST/daily\"\n",
    "clim_path = \"/home/nicolasf/operational/OISST_indices/outputs/\"\n",
    "shapes_path = \"/home/nicolasf/operational/OISST_indices/data/shapefiles/\"\n",
    "fig_path = \"/home/nicolasf/operational/OISST_indices/figures/\"\n",
    "ndays_agg = 1\n",
    "nmonths_back = 12 * 3"
   ]
  },
  {
   "cell_type": "code",
   "execution_count": 9,
   "id": "c192e27c",
   "metadata": {
    "execution": {
     "iopub.execute_input": "2022-11-03T01:53:01.776075Z",
     "iopub.status.busy": "2022-11-03T01:53:01.775923Z",
     "iopub.status.idle": "2022-11-03T01:53:01.789747Z",
     "shell.execute_reply": "2022-11-03T01:53:01.789316Z"
    },
    "papermill": {
     "duration": 0.022928,
     "end_time": "2022-11-03T01:53:01.790879",
     "exception": false,
     "start_time": "2022-11-03T01:53:01.767951",
     "status": "completed"
    },
    "tags": [
     "injected-parameters"
    ]
   },
   "outputs": [],
   "source": [
    "# Parameters\n",
    "ndays_agg = 30\n"
   ]
  },
  {
   "cell_type": "markdown",
   "id": "73787fde-9a72-4cb2-b4a7-b55a0aa2656b",
   "metadata": {
    "papermill": {
     "duration": 0.009269,
     "end_time": "2022-11-03T01:53:01.807699",
     "exception": false,
     "start_time": "2022-11-03T01:53:01.798430",
     "status": "completed"
    },
    "tags": []
   },
   "source": [
    "### get the pathlib paths for the data and the climatology "
   ]
  },
  {
   "cell_type": "code",
   "execution_count": 10,
   "id": "5c459cca-3a66-4166-89f8-3571c3bc97af",
   "metadata": {
    "execution": {
     "iopub.execute_input": "2022-11-03T01:53:01.825009Z",
     "iopub.status.busy": "2022-11-03T01:53:01.824864Z",
     "iopub.status.idle": "2022-11-03T01:53:01.839880Z",
     "shell.execute_reply": "2022-11-03T01:53:01.839405Z"
    },
    "papermill": {
     "duration": 0.024056,
     "end_time": "2022-11-03T01:53:01.841072",
     "exception": false,
     "start_time": "2022-11-03T01:53:01.817016",
     "status": "completed"
    },
    "tags": []
   },
   "outputs": [],
   "source": [
    "ipath = pathlib.Path(ipath).joinpath(domain)\n",
    "clim_path = pathlib.Path(clim_path).joinpath(domain)\n",
    "shapes_path = pathlib.Path(shapes_path)\n",
    "fig_path = pathlib.Path(fig_path)"
   ]
  },
  {
   "cell_type": "markdown",
   "id": "149a9df1-7cf5-4d11-b237-dd9321578526",
   "metadata": {
    "papermill": {
     "duration": 0.007129,
     "end_time": "2022-11-03T01:53:01.856090",
     "exception": false,
     "start_time": "2022-11-03T01:53:01.848961",
     "status": "completed"
    },
    "tags": []
   },
   "source": [
    "### get the current date "
   ]
  },
  {
   "cell_type": "code",
   "execution_count": 11,
   "id": "2240a889-a894-4d47-998e-25b4b644f332",
   "metadata": {
    "execution": {
     "iopub.execute_input": "2022-11-03T01:53:01.871351Z",
     "iopub.status.busy": "2022-11-03T01:53:01.871201Z",
     "iopub.status.idle": "2022-11-03T01:53:01.884638Z",
     "shell.execute_reply": "2022-11-03T01:53:01.884263Z"
    },
    "papermill": {
     "duration": 0.022346,
     "end_time": "2022-11-03T01:53:01.885674",
     "exception": false,
     "start_time": "2022-11-03T01:53:01.863328",
     "status": "completed"
    },
    "tags": []
   },
   "outputs": [],
   "source": [
    "current_date = datetime.utcnow()"
   ]
  },
  {
   "cell_type": "code",
   "execution_count": 12,
   "id": "1cdb20ea-b809-4d6f-bf27-993a5ed1a5ad",
   "metadata": {
    "execution": {
     "iopub.execute_input": "2022-11-03T01:53:01.900968Z",
     "iopub.status.busy": "2022-11-03T01:53:01.900831Z",
     "iopub.status.idle": "2022-11-03T01:53:01.938388Z",
     "shell.execute_reply": "2022-11-03T01:53:01.937939Z"
    },
    "papermill": {
     "duration": 0.046612,
     "end_time": "2022-11-03T01:53:01.939682",
     "exception": false,
     "start_time": "2022-11-03T01:53:01.893070",
     "status": "completed"
    },
    "tags": []
   },
   "outputs": [],
   "source": [
    "first_day = parse(f\"{nmonths_back} months ago\")"
   ]
  },
  {
   "cell_type": "code",
   "execution_count": 13,
   "id": "7c6ca528-18c0-479f-9503-f828684d4a10",
   "metadata": {
    "execution": {
     "iopub.execute_input": "2022-11-03T01:53:01.956929Z",
     "iopub.status.busy": "2022-11-03T01:53:01.956755Z",
     "iopub.status.idle": "2022-11-03T01:53:01.983339Z",
     "shell.execute_reply": "2022-11-03T01:53:01.982782Z"
    },
    "papermill": {
     "duration": 0.036838,
     "end_time": "2022-11-03T01:53:01.984800",
     "exception": false,
     "start_time": "2022-11-03T01:53:01.947962",
     "status": "completed"
    },
    "tags": []
   },
   "outputs": [],
   "source": [
    "first_day = first_day - timedelta(days=first_day.day - 1)"
   ]
  },
  {
   "cell_type": "code",
   "execution_count": 14,
   "id": "5c5c528a-7419-4f65-88e0-92ea6eee432c",
   "metadata": {
    "execution": {
     "iopub.execute_input": "2022-11-03T01:53:02.000861Z",
     "iopub.status.busy": "2022-11-03T01:53:02.000541Z",
     "iopub.status.idle": "2022-11-03T01:53:02.024265Z",
     "shell.execute_reply": "2022-11-03T01:53:02.023788Z"
    },
    "papermill": {
     "duration": 0.033286,
     "end_time": "2022-11-03T01:53:02.025381",
     "exception": false,
     "start_time": "2022-11-03T01:53:01.992095",
     "status": "completed"
    },
    "tags": []
   },
   "outputs": [
    {
     "data": {
      "text/plain": [
       "datetime.datetime(2019, 11, 1, 14, 53, 1, 935695)"
      ]
     },
     "execution_count": 14,
     "metadata": {},
     "output_type": "execute_result"
    }
   ],
   "source": [
    "first_day"
   ]
  },
  {
   "cell_type": "markdown",
   "id": "170b3486-b0a0-468b-b9cb-2ece90766a4b",
   "metadata": {
    "papermill": {
     "duration": 0.00729,
     "end_time": "2022-11-03T01:53:02.040443",
     "exception": false,
     "start_time": "2022-11-03T01:53:02.033153",
     "status": "completed"
    },
    "tags": []
   },
   "source": [
    "## get the years to read "
   ]
  },
  {
   "cell_type": "code",
   "execution_count": 15,
   "id": "46429f7f-e066-4be1-8e2e-f4905a6a2ce0",
   "metadata": {
    "execution": {
     "iopub.execute_input": "2022-11-03T01:53:02.056397Z",
     "iopub.status.busy": "2022-11-03T01:53:02.056163Z",
     "iopub.status.idle": "2022-11-03T01:53:02.073422Z",
     "shell.execute_reply": "2022-11-03T01:53:02.072951Z"
    },
    "papermill": {
     "duration": 0.02691,
     "end_time": "2022-11-03T01:53:02.074690",
     "exception": false,
     "start_time": "2022-11-03T01:53:02.047780",
     "status": "completed"
    },
    "tags": []
   },
   "outputs": [],
   "source": [
    "years_to_get = np.unique(np.arange(first_day.year, current_date.year + 1))"
   ]
  },
  {
   "cell_type": "code",
   "execution_count": 16,
   "id": "f0524331-928b-47c2-bb86-7b31ed92195b",
   "metadata": {
    "execution": {
     "iopub.execute_input": "2022-11-03T01:53:02.090380Z",
     "iopub.status.busy": "2022-11-03T01:53:02.090234Z",
     "iopub.status.idle": "2022-11-03T01:53:02.103904Z",
     "shell.execute_reply": "2022-11-03T01:53:02.103464Z"
    },
    "papermill": {
     "duration": 0.022956,
     "end_time": "2022-11-03T01:53:02.105133",
     "exception": false,
     "start_time": "2022-11-03T01:53:02.082177",
     "status": "completed"
    },
    "tags": []
   },
   "outputs": [],
   "source": [
    "lfiles = [ipath.joinpath(f\"sst.day.mean.{year}.v2.nc\") for year in years_to_get]"
   ]
  },
  {
   "cell_type": "code",
   "execution_count": 17,
   "id": "5f450695-39a2-434f-9ca9-4d4b66354e56",
   "metadata": {
    "execution": {
     "iopub.execute_input": "2022-11-03T01:53:02.120879Z",
     "iopub.status.busy": "2022-11-03T01:53:02.120725Z",
     "iopub.status.idle": "2022-11-03T01:53:02.138538Z",
     "shell.execute_reply": "2022-11-03T01:53:02.138102Z"
    },
    "papermill": {
     "duration": 0.027204,
     "end_time": "2022-11-03T01:53:02.139782",
     "exception": false,
     "start_time": "2022-11-03T01:53:02.112578",
     "status": "completed"
    },
    "tags": []
   },
   "outputs": [],
   "source": [
    "lfiles.sort()"
   ]
  },
  {
   "cell_type": "code",
   "execution_count": 18,
   "id": "5d0e8563-d440-4199-8a33-82e96df76e54",
   "metadata": {
    "execution": {
     "iopub.execute_input": "2022-11-03T01:53:02.155416Z",
     "iopub.status.busy": "2022-11-03T01:53:02.155258Z",
     "iopub.status.idle": "2022-11-03T01:53:02.174764Z",
     "shell.execute_reply": "2022-11-03T01:53:02.174313Z"
    },
    "papermill": {
     "duration": 0.028393,
     "end_time": "2022-11-03T01:53:02.175859",
     "exception": false,
     "start_time": "2022-11-03T01:53:02.147466",
     "status": "completed"
    },
    "tags": []
   },
   "outputs": [
    {
     "data": {
      "text/plain": [
       "PosixPath('/media/nicolasf/END19101/data/OISST/daily/NZ/sst.day.mean.2019.v2.nc')"
      ]
     },
     "execution_count": 18,
     "metadata": {},
     "output_type": "execute_result"
    }
   ],
   "source": [
    "lfiles[0]"
   ]
  },
  {
   "cell_type": "code",
   "execution_count": 19,
   "id": "54745b80-6a0e-4cbb-a81f-e009cbaeaffd",
   "metadata": {
    "execution": {
     "iopub.execute_input": "2022-11-03T01:53:02.192922Z",
     "iopub.status.busy": "2022-11-03T01:53:02.192769Z",
     "iopub.status.idle": "2022-11-03T01:53:02.214592Z",
     "shell.execute_reply": "2022-11-03T01:53:02.214143Z"
    },
    "papermill": {
     "duration": 0.03103,
     "end_time": "2022-11-03T01:53:02.215693",
     "exception": false,
     "start_time": "2022-11-03T01:53:02.184663",
     "status": "completed"
    },
    "tags": []
   },
   "outputs": [
    {
     "data": {
      "text/plain": [
       "PosixPath('/media/nicolasf/END19101/data/OISST/daily/NZ/sst.day.mean.2022.v2.nc')"
      ]
     },
     "execution_count": 19,
     "metadata": {},
     "output_type": "execute_result"
    }
   ],
   "source": [
    "lfiles[-1]"
   ]
  },
  {
   "cell_type": "markdown",
   "id": "b3c33238-39e5-44c2-aea3-dfab8eeb8c40",
   "metadata": {
    "papermill": {
     "duration": 0.007295,
     "end_time": "2022-11-03T01:53:02.230397",
     "exception": false,
     "start_time": "2022-11-03T01:53:02.223102",
     "status": "completed"
    },
    "tags": []
   },
   "source": [
    "## opens the near realtime dataset "
   ]
  },
  {
   "cell_type": "code",
   "execution_count": 20,
   "id": "1390586b-517e-40c0-8d2a-6c2ecd2344e5",
   "metadata": {
    "execution": {
     "iopub.execute_input": "2022-11-03T01:53:02.246007Z",
     "iopub.status.busy": "2022-11-03T01:53:02.245859Z",
     "iopub.status.idle": "2022-11-03T01:53:02.435727Z",
     "shell.execute_reply": "2022-11-03T01:53:02.435177Z"
    },
    "papermill": {
     "duration": 0.199198,
     "end_time": "2022-11-03T01:53:02.437072",
     "exception": false,
     "start_time": "2022-11-03T01:53:02.237874",
     "status": "completed"
    },
    "tags": []
   },
   "outputs": [],
   "source": [
    "dset = xr.open_mfdataset(lfiles, parallel=True, combine=\"by_coords\")"
   ]
  },
  {
   "cell_type": "code",
   "execution_count": 21,
   "id": "9858d6da-c4d1-4dc1-9c62-2a0d125b5b08",
   "metadata": {
    "execution": {
     "iopub.execute_input": "2022-11-03T01:53:02.453222Z",
     "iopub.status.busy": "2022-11-03T01:53:02.453077Z",
     "iopub.status.idle": "2022-11-03T01:53:02.478587Z",
     "shell.execute_reply": "2022-11-03T01:53:02.478144Z"
    },
    "papermill": {
     "duration": 0.034916,
     "end_time": "2022-11-03T01:53:02.479627",
     "exception": false,
     "start_time": "2022-11-03T01:53:02.444711",
     "status": "completed"
    },
    "tags": []
   },
   "outputs": [
    {
     "data": {
      "text/html": [
       "<div><svg style=\"position: absolute; width: 0; height: 0; overflow: hidden\">\n",
       "<defs>\n",
       "<symbol id=\"icon-database\" viewBox=\"0 0 32 32\">\n",
       "<path d=\"M16 0c-8.837 0-16 2.239-16 5v4c0 2.761 7.163 5 16 5s16-2.239 16-5v-4c0-2.761-7.163-5-16-5z\"></path>\n",
       "<path d=\"M16 17c-8.837 0-16-2.239-16-5v6c0 2.761 7.163 5 16 5s16-2.239 16-5v-6c0 2.761-7.163 5-16 5z\"></path>\n",
       "<path d=\"M16 26c-8.837 0-16-2.239-16-5v6c0 2.761 7.163 5 16 5s16-2.239 16-5v-6c0 2.761-7.163 5-16 5z\"></path>\n",
       "</symbol>\n",
       "<symbol id=\"icon-file-text2\" viewBox=\"0 0 32 32\">\n",
       "<path d=\"M28.681 7.159c-0.694-0.947-1.662-2.053-2.724-3.116s-2.169-2.030-3.116-2.724c-1.612-1.182-2.393-1.319-2.841-1.319h-15.5c-1.378 0-2.5 1.121-2.5 2.5v27c0 1.378 1.122 2.5 2.5 2.5h23c1.378 0 2.5-1.122 2.5-2.5v-19.5c0-0.448-0.137-1.23-1.319-2.841zM24.543 5.457c0.959 0.959 1.712 1.825 2.268 2.543h-4.811v-4.811c0.718 0.556 1.584 1.309 2.543 2.268zM28 29.5c0 0.271-0.229 0.5-0.5 0.5h-23c-0.271 0-0.5-0.229-0.5-0.5v-27c0-0.271 0.229-0.5 0.5-0.5 0 0 15.499-0 15.5 0v7c0 0.552 0.448 1 1 1h7v19.5z\"></path>\n",
       "<path d=\"M23 26h-14c-0.552 0-1-0.448-1-1s0.448-1 1-1h14c0.552 0 1 0.448 1 1s-0.448 1-1 1z\"></path>\n",
       "<path d=\"M23 22h-14c-0.552 0-1-0.448-1-1s0.448-1 1-1h14c0.552 0 1 0.448 1 1s-0.448 1-1 1z\"></path>\n",
       "<path d=\"M23 18h-14c-0.552 0-1-0.448-1-1s0.448-1 1-1h14c0.552 0 1 0.448 1 1s-0.448 1-1 1z\"></path>\n",
       "</symbol>\n",
       "</defs>\n",
       "</svg>\n",
       "<style>/* CSS stylesheet for displaying xarray objects in jupyterlab.\n",
       " *\n",
       " */\n",
       "\n",
       ":root {\n",
       "  --xr-font-color0: var(--jp-content-font-color0, rgba(0, 0, 0, 1));\n",
       "  --xr-font-color2: var(--jp-content-font-color2, rgba(0, 0, 0, 0.54));\n",
       "  --xr-font-color3: var(--jp-content-font-color3, rgba(0, 0, 0, 0.38));\n",
       "  --xr-border-color: var(--jp-border-color2, #e0e0e0);\n",
       "  --xr-disabled-color: var(--jp-layout-color3, #bdbdbd);\n",
       "  --xr-background-color: var(--jp-layout-color0, white);\n",
       "  --xr-background-color-row-even: var(--jp-layout-color1, white);\n",
       "  --xr-background-color-row-odd: var(--jp-layout-color2, #eeeeee);\n",
       "}\n",
       "\n",
       "html[theme=dark],\n",
       "body[data-theme=dark],\n",
       "body.vscode-dark {\n",
       "  --xr-font-color0: rgba(255, 255, 255, 1);\n",
       "  --xr-font-color2: rgba(255, 255, 255, 0.54);\n",
       "  --xr-font-color3: rgba(255, 255, 255, 0.38);\n",
       "  --xr-border-color: #1F1F1F;\n",
       "  --xr-disabled-color: #515151;\n",
       "  --xr-background-color: #111111;\n",
       "  --xr-background-color-row-even: #111111;\n",
       "  --xr-background-color-row-odd: #313131;\n",
       "}\n",
       "\n",
       ".xr-wrap {\n",
       "  display: block !important;\n",
       "  min-width: 300px;\n",
       "  max-width: 700px;\n",
       "}\n",
       "\n",
       ".xr-text-repr-fallback {\n",
       "  /* fallback to plain text repr when CSS is not injected (untrusted notebook) */\n",
       "  display: none;\n",
       "}\n",
       "\n",
       ".xr-header {\n",
       "  padding-top: 6px;\n",
       "  padding-bottom: 6px;\n",
       "  margin-bottom: 4px;\n",
       "  border-bottom: solid 1px var(--xr-border-color);\n",
       "}\n",
       "\n",
       ".xr-header > div,\n",
       ".xr-header > ul {\n",
       "  display: inline;\n",
       "  margin-top: 0;\n",
       "  margin-bottom: 0;\n",
       "}\n",
       "\n",
       ".xr-obj-type,\n",
       ".xr-array-name {\n",
       "  margin-left: 2px;\n",
       "  margin-right: 10px;\n",
       "}\n",
       "\n",
       ".xr-obj-type {\n",
       "  color: var(--xr-font-color2);\n",
       "}\n",
       "\n",
       ".xr-sections {\n",
       "  padding-left: 0 !important;\n",
       "  display: grid;\n",
       "  grid-template-columns: 150px auto auto 1fr 20px 20px;\n",
       "}\n",
       "\n",
       ".xr-section-item {\n",
       "  display: contents;\n",
       "}\n",
       "\n",
       ".xr-section-item input {\n",
       "  display: none;\n",
       "}\n",
       "\n",
       ".xr-section-item input + label {\n",
       "  color: var(--xr-disabled-color);\n",
       "}\n",
       "\n",
       ".xr-section-item input:enabled + label {\n",
       "  cursor: pointer;\n",
       "  color: var(--xr-font-color2);\n",
       "}\n",
       "\n",
       ".xr-section-item input:enabled + label:hover {\n",
       "  color: var(--xr-font-color0);\n",
       "}\n",
       "\n",
       ".xr-section-summary {\n",
       "  grid-column: 1;\n",
       "  color: var(--xr-font-color2);\n",
       "  font-weight: 500;\n",
       "}\n",
       "\n",
       ".xr-section-summary > span {\n",
       "  display: inline-block;\n",
       "  padding-left: 0.5em;\n",
       "}\n",
       "\n",
       ".xr-section-summary-in:disabled + label {\n",
       "  color: var(--xr-font-color2);\n",
       "}\n",
       "\n",
       ".xr-section-summary-in + label:before {\n",
       "  display: inline-block;\n",
       "  content: '►';\n",
       "  font-size: 11px;\n",
       "  width: 15px;\n",
       "  text-align: center;\n",
       "}\n",
       "\n",
       ".xr-section-summary-in:disabled + label:before {\n",
       "  color: var(--xr-disabled-color);\n",
       "}\n",
       "\n",
       ".xr-section-summary-in:checked + label:before {\n",
       "  content: '▼';\n",
       "}\n",
       "\n",
       ".xr-section-summary-in:checked + label > span {\n",
       "  display: none;\n",
       "}\n",
       "\n",
       ".xr-section-summary,\n",
       ".xr-section-inline-details {\n",
       "  padding-top: 4px;\n",
       "  padding-bottom: 4px;\n",
       "}\n",
       "\n",
       ".xr-section-inline-details {\n",
       "  grid-column: 2 / -1;\n",
       "}\n",
       "\n",
       ".xr-section-details {\n",
       "  display: none;\n",
       "  grid-column: 1 / -1;\n",
       "  margin-bottom: 5px;\n",
       "}\n",
       "\n",
       ".xr-section-summary-in:checked ~ .xr-section-details {\n",
       "  display: contents;\n",
       "}\n",
       "\n",
       ".xr-array-wrap {\n",
       "  grid-column: 1 / -1;\n",
       "  display: grid;\n",
       "  grid-template-columns: 20px auto;\n",
       "}\n",
       "\n",
       ".xr-array-wrap > label {\n",
       "  grid-column: 1;\n",
       "  vertical-align: top;\n",
       "}\n",
       "\n",
       ".xr-preview {\n",
       "  color: var(--xr-font-color3);\n",
       "}\n",
       "\n",
       ".xr-array-preview,\n",
       ".xr-array-data {\n",
       "  padding: 0 5px !important;\n",
       "  grid-column: 2;\n",
       "}\n",
       "\n",
       ".xr-array-data,\n",
       ".xr-array-in:checked ~ .xr-array-preview {\n",
       "  display: none;\n",
       "}\n",
       "\n",
       ".xr-array-in:checked ~ .xr-array-data,\n",
       ".xr-array-preview {\n",
       "  display: inline-block;\n",
       "}\n",
       "\n",
       ".xr-dim-list {\n",
       "  display: inline-block !important;\n",
       "  list-style: none;\n",
       "  padding: 0 !important;\n",
       "  margin: 0;\n",
       "}\n",
       "\n",
       ".xr-dim-list li {\n",
       "  display: inline-block;\n",
       "  padding: 0;\n",
       "  margin: 0;\n",
       "}\n",
       "\n",
       ".xr-dim-list:before {\n",
       "  content: '(';\n",
       "}\n",
       "\n",
       ".xr-dim-list:after {\n",
       "  content: ')';\n",
       "}\n",
       "\n",
       ".xr-dim-list li:not(:last-child):after {\n",
       "  content: ',';\n",
       "  padding-right: 5px;\n",
       "}\n",
       "\n",
       ".xr-has-index {\n",
       "  font-weight: bold;\n",
       "}\n",
       "\n",
       ".xr-var-list,\n",
       ".xr-var-item {\n",
       "  display: contents;\n",
       "}\n",
       "\n",
       ".xr-var-item > div,\n",
       ".xr-var-item label,\n",
       ".xr-var-item > .xr-var-name span {\n",
       "  background-color: var(--xr-background-color-row-even);\n",
       "  margin-bottom: 0;\n",
       "}\n",
       "\n",
       ".xr-var-item > .xr-var-name:hover span {\n",
       "  padding-right: 5px;\n",
       "}\n",
       "\n",
       ".xr-var-list > li:nth-child(odd) > div,\n",
       ".xr-var-list > li:nth-child(odd) > label,\n",
       ".xr-var-list > li:nth-child(odd) > .xr-var-name span {\n",
       "  background-color: var(--xr-background-color-row-odd);\n",
       "}\n",
       "\n",
       ".xr-var-name {\n",
       "  grid-column: 1;\n",
       "}\n",
       "\n",
       ".xr-var-dims {\n",
       "  grid-column: 2;\n",
       "}\n",
       "\n",
       ".xr-var-dtype {\n",
       "  grid-column: 3;\n",
       "  text-align: right;\n",
       "  color: var(--xr-font-color2);\n",
       "}\n",
       "\n",
       ".xr-var-preview {\n",
       "  grid-column: 4;\n",
       "}\n",
       "\n",
       ".xr-var-name,\n",
       ".xr-var-dims,\n",
       ".xr-var-dtype,\n",
       ".xr-preview,\n",
       ".xr-attrs dt {\n",
       "  white-space: nowrap;\n",
       "  overflow: hidden;\n",
       "  text-overflow: ellipsis;\n",
       "  padding-right: 10px;\n",
       "}\n",
       "\n",
       ".xr-var-name:hover,\n",
       ".xr-var-dims:hover,\n",
       ".xr-var-dtype:hover,\n",
       ".xr-attrs dt:hover {\n",
       "  overflow: visible;\n",
       "  width: auto;\n",
       "  z-index: 1;\n",
       "}\n",
       "\n",
       ".xr-var-attrs,\n",
       ".xr-var-data {\n",
       "  display: none;\n",
       "  background-color: var(--xr-background-color) !important;\n",
       "  padding-bottom: 5px !important;\n",
       "}\n",
       "\n",
       ".xr-var-attrs-in:checked ~ .xr-var-attrs,\n",
       ".xr-var-data-in:checked ~ .xr-var-data {\n",
       "  display: block;\n",
       "}\n",
       "\n",
       ".xr-var-data > table {\n",
       "  float: right;\n",
       "}\n",
       "\n",
       ".xr-var-name span,\n",
       ".xr-var-data,\n",
       ".xr-attrs {\n",
       "  padding-left: 25px !important;\n",
       "}\n",
       "\n",
       ".xr-attrs,\n",
       ".xr-var-attrs,\n",
       ".xr-var-data {\n",
       "  grid-column: 1 / -1;\n",
       "}\n",
       "\n",
       "dl.xr-attrs {\n",
       "  padding: 0;\n",
       "  margin: 0;\n",
       "  display: grid;\n",
       "  grid-template-columns: 125px auto;\n",
       "}\n",
       "\n",
       ".xr-attrs dt,\n",
       ".xr-attrs dd {\n",
       "  padding: 0;\n",
       "  margin: 0;\n",
       "  float: left;\n",
       "  padding-right: 10px;\n",
       "  width: auto;\n",
       "}\n",
       "\n",
       ".xr-attrs dt {\n",
       "  font-weight: normal;\n",
       "  grid-column: 1;\n",
       "}\n",
       "\n",
       ".xr-attrs dt:hover span {\n",
       "  display: inline-block;\n",
       "  background: var(--xr-background-color);\n",
       "  padding-right: 10px;\n",
       "}\n",
       "\n",
       ".xr-attrs dd {\n",
       "  grid-column: 2;\n",
       "  white-space: pre-wrap;\n",
       "  word-break: break-all;\n",
       "}\n",
       "\n",
       ".xr-icon-database,\n",
       ".xr-icon-file-text2 {\n",
       "  display: inline-block;\n",
       "  vertical-align: middle;\n",
       "  width: 1em;\n",
       "  height: 1.5em !important;\n",
       "  stroke-width: 0;\n",
       "  stroke: currentColor;\n",
       "  fill: currentColor;\n",
       "}\n",
       "</style><pre class='xr-text-repr-fallback'>&lt;xarray.Dataset&gt;\n",
       "Dimensions:  (time: 1401, lat: 80, lon: 72)\n",
       "Coordinates:\n",
       "  * time     (time) datetime64[ns] 2019-01-01 2019-01-02 ... 2022-11-01\n",
       "  * lat      (lat) float32 -49.88 -49.62 -49.38 -49.12 ... -30.62 -30.38 -30.12\n",
       "  * lon      (lon) float32 162.1 162.4 162.6 162.9 ... 179.1 179.4 179.6 179.9\n",
       "Data variables:\n",
       "    sst      (time, lat, lon) float32 dask.array&lt;chunksize=(365, 80, 72), meta=np.ndarray&gt;</pre><div class='xr-wrap' style='display:none'><div class='xr-header'><div class='xr-obj-type'>xarray.Dataset</div></div><ul class='xr-sections'><li class='xr-section-item'><input id='section-d7573076-ebe6-4d2c-b453-e836d245be83' class='xr-section-summary-in' type='checkbox' disabled ><label for='section-d7573076-ebe6-4d2c-b453-e836d245be83' class='xr-section-summary'  title='Expand/collapse section'>Dimensions:</label><div class='xr-section-inline-details'><ul class='xr-dim-list'><li><span class='xr-has-index'>time</span>: 1401</li><li><span class='xr-has-index'>lat</span>: 80</li><li><span class='xr-has-index'>lon</span>: 72</li></ul></div><div class='xr-section-details'></div></li><li class='xr-section-item'><input id='section-0adef87d-ea20-4209-9ff6-43b1ae0f87dd' class='xr-section-summary-in' type='checkbox'  checked><label for='section-0adef87d-ea20-4209-9ff6-43b1ae0f87dd' class='xr-section-summary' >Coordinates: <span>(3)</span></label><div class='xr-section-inline-details'></div><div class='xr-section-details'><ul class='xr-var-list'><li class='xr-var-item'><div class='xr-var-name'><span class='xr-has-index'>time</span></div><div class='xr-var-dims'>(time)</div><div class='xr-var-dtype'>datetime64[ns]</div><div class='xr-var-preview xr-preview'>2019-01-01 ... 2022-11-01</div><input id='attrs-4ef2f041-959b-471e-b396-8afbfca9f0ab' class='xr-var-attrs-in' type='checkbox' ><label for='attrs-4ef2f041-959b-471e-b396-8afbfca9f0ab' title='Show/Hide attributes'><svg class='icon xr-icon-file-text2'><use xlink:href='#icon-file-text2'></use></svg></label><input id='data-7c8862b6-ef93-4e82-b35b-9481197b1976' class='xr-var-data-in' type='checkbox'><label for='data-7c8862b6-ef93-4e82-b35b-9481197b1976' title='Show/Hide data repr'><svg class='icon xr-icon-database'><use xlink:href='#icon-database'></use></svg></label><div class='xr-var-attrs'><dl class='xr-attrs'><dt><span>long_name :</span></dt><dd>Time</dd><dt><span>delta_t :</span></dt><dd>0000-00-01 00:00:00</dd><dt><span>avg_period :</span></dt><dd>0000-00-01 00:00:00</dd><dt><span>axis :</span></dt><dd>T</dd><dt><span>actual_range :</span></dt><dd>[79988. 80352.]</dd><dt><span>_ChunkSizes :</span></dt><dd>1</dd></dl></div><div class='xr-var-data'><pre>array([&#x27;2019-01-01T00:00:00.000000000&#x27;, &#x27;2019-01-02T00:00:00.000000000&#x27;,\n",
       "       &#x27;2019-01-03T00:00:00.000000000&#x27;, ..., &#x27;2022-10-30T00:00:00.000000000&#x27;,\n",
       "       &#x27;2022-10-31T00:00:00.000000000&#x27;, &#x27;2022-11-01T00:00:00.000000000&#x27;],\n",
       "      dtype=&#x27;datetime64[ns]&#x27;)</pre></div></li><li class='xr-var-item'><div class='xr-var-name'><span class='xr-has-index'>lat</span></div><div class='xr-var-dims'>(lat)</div><div class='xr-var-dtype'>float32</div><div class='xr-var-preview xr-preview'>-49.88 -49.62 ... -30.38 -30.12</div><input id='attrs-b268132a-edb9-45b1-bf60-b76954a9f929' class='xr-var-attrs-in' type='checkbox' ><label for='attrs-b268132a-edb9-45b1-bf60-b76954a9f929' title='Show/Hide attributes'><svg class='icon xr-icon-file-text2'><use xlink:href='#icon-file-text2'></use></svg></label><input id='data-51d9c03a-be76-4a65-945d-55c9df65e8b9' class='xr-var-data-in' type='checkbox'><label for='data-51d9c03a-be76-4a65-945d-55c9df65e8b9' title='Show/Hide data repr'><svg class='icon xr-icon-database'><use xlink:href='#icon-database'></use></svg></label><div class='xr-var-attrs'><dl class='xr-attrs'><dt><span>units :</span></dt><dd>degrees_north</dd><dt><span>actual_range :</span></dt><dd>[-89.875  89.875]</dd><dt><span>axis :</span></dt><dd>Y</dd><dt><span>standard_name :</span></dt><dd>latitude</dd><dt><span>long_name :</span></dt><dd>Latitude</dd></dl></div><div class='xr-var-data'><pre>array([-49.875, -49.625, -49.375, -49.125, -48.875, -48.625, -48.375, -48.125,\n",
       "       -47.875, -47.625, -47.375, -47.125, -46.875, -46.625, -46.375, -46.125,\n",
       "       -45.875, -45.625, -45.375, -45.125, -44.875, -44.625, -44.375, -44.125,\n",
       "       -43.875, -43.625, -43.375, -43.125, -42.875, -42.625, -42.375, -42.125,\n",
       "       -41.875, -41.625, -41.375, -41.125, -40.875, -40.625, -40.375, -40.125,\n",
       "       -39.875, -39.625, -39.375, -39.125, -38.875, -38.625, -38.375, -38.125,\n",
       "       -37.875, -37.625, -37.375, -37.125, -36.875, -36.625, -36.375, -36.125,\n",
       "       -35.875, -35.625, -35.375, -35.125, -34.875, -34.625, -34.375, -34.125,\n",
       "       -33.875, -33.625, -33.375, -33.125, -32.875, -32.625, -32.375, -32.125,\n",
       "       -31.875, -31.625, -31.375, -31.125, -30.875, -30.625, -30.375, -30.125],\n",
       "      dtype=float32)</pre></div></li><li class='xr-var-item'><div class='xr-var-name'><span class='xr-has-index'>lon</span></div><div class='xr-var-dims'>(lon)</div><div class='xr-var-dtype'>float32</div><div class='xr-var-preview xr-preview'>162.1 162.4 162.6 ... 179.6 179.9</div><input id='attrs-eff8a55e-b03c-4156-b8ec-0760279394fe' class='xr-var-attrs-in' type='checkbox' ><label for='attrs-eff8a55e-b03c-4156-b8ec-0760279394fe' title='Show/Hide attributes'><svg class='icon xr-icon-file-text2'><use xlink:href='#icon-file-text2'></use></svg></label><input id='data-ada3ef29-8537-4ac7-8784-4820dd44cf3c' class='xr-var-data-in' type='checkbox'><label for='data-ada3ef29-8537-4ac7-8784-4820dd44cf3c' title='Show/Hide data repr'><svg class='icon xr-icon-database'><use xlink:href='#icon-database'></use></svg></label><div class='xr-var-attrs'><dl class='xr-attrs'><dt><span>axis :</span></dt><dd>X</dd><dt><span>long_name :</span></dt><dd>Longitude</dd><dt><span>standard_name :</span></dt><dd>longitude</dd><dt><span>units :</span></dt><dd>degrees_east</dd><dt><span>actual_range :</span></dt><dd>[1.25000e-01 3.59875e+02]</dd></dl></div><div class='xr-var-data'><pre>array([162.125, 162.375, 162.625, 162.875, 163.125, 163.375, 163.625, 163.875,\n",
       "       164.125, 164.375, 164.625, 164.875, 165.125, 165.375, 165.625, 165.875,\n",
       "       166.125, 166.375, 166.625, 166.875, 167.125, 167.375, 167.625, 167.875,\n",
       "       168.125, 168.375, 168.625, 168.875, 169.125, 169.375, 169.625, 169.875,\n",
       "       170.125, 170.375, 170.625, 170.875, 171.125, 171.375, 171.625, 171.875,\n",
       "       172.125, 172.375, 172.625, 172.875, 173.125, 173.375, 173.625, 173.875,\n",
       "       174.125, 174.375, 174.625, 174.875, 175.125, 175.375, 175.625, 175.875,\n",
       "       176.125, 176.375, 176.625, 176.875, 177.125, 177.375, 177.625, 177.875,\n",
       "       178.125, 178.375, 178.625, 178.875, 179.125, 179.375, 179.625, 179.875],\n",
       "      dtype=float32)</pre></div></li></ul></div></li><li class='xr-section-item'><input id='section-fee5cc58-016e-4204-a1f9-f94b43422426' class='xr-section-summary-in' type='checkbox'  checked><label for='section-fee5cc58-016e-4204-a1f9-f94b43422426' class='xr-section-summary' >Data variables: <span>(1)</span></label><div class='xr-section-inline-details'></div><div class='xr-section-details'><ul class='xr-var-list'><li class='xr-var-item'><div class='xr-var-name'><span>sst</span></div><div class='xr-var-dims'>(time, lat, lon)</div><div class='xr-var-dtype'>float32</div><div class='xr-var-preview xr-preview'>dask.array&lt;chunksize=(365, 80, 72), meta=np.ndarray&gt;</div><input id='attrs-2b1fb66a-ef9f-4504-8714-6eb712e20273' class='xr-var-attrs-in' type='checkbox' ><label for='attrs-2b1fb66a-ef9f-4504-8714-6eb712e20273' title='Show/Hide attributes'><svg class='icon xr-icon-file-text2'><use xlink:href='#icon-file-text2'></use></svg></label><input id='data-cd6aa121-e0df-4d34-beb5-b23180bf74ca' class='xr-var-data-in' type='checkbox'><label for='data-cd6aa121-e0df-4d34-beb5-b23180bf74ca' title='Show/Hide data repr'><svg class='icon xr-icon-database'><use xlink:href='#icon-database'></use></svg></label><div class='xr-var-attrs'><dl class='xr-attrs'><dt><span>long_name :</span></dt><dd>Daily Sea Surface Temperature</dd><dt><span>units :</span></dt><dd>degC</dd><dt><span>valid_range :</span></dt><dd>[-3. 45.]</dd><dt><span>precision :</span></dt><dd>2.0</dd><dt><span>dataset :</span></dt><dd>NOAA High-resolution Blended Analysis</dd><dt><span>var_desc :</span></dt><dd>Sea Surface Temperature</dd><dt><span>level_desc :</span></dt><dd>Surface</dd><dt><span>statistic :</span></dt><dd>Mean</dd><dt><span>parent_stat :</span></dt><dd>Individual Observations</dd><dt><span>actual_range :</span></dt><dd>[-1.8  36.79]</dd><dt><span>_ChunkSizes :</span></dt><dd>[   1  720 1440]</dd></dl></div><div class='xr-var-data'><table>\n",
       "    <tr>\n",
       "        <td>\n",
       "            <table>\n",
       "                <thead>\n",
       "                    <tr>\n",
       "                        <td> </td>\n",
       "                        <th> Array </th>\n",
       "                        <th> Chunk </th>\n",
       "                    </tr>\n",
       "                </thead>\n",
       "                <tbody>\n",
       "                    \n",
       "                    <tr>\n",
       "                        <th> Bytes </th>\n",
       "                        <td> 30.78 MiB </td>\n",
       "                        <td> 8.04 MiB </td>\n",
       "                    </tr>\n",
       "                    \n",
       "                    <tr>\n",
       "                        <th> Shape </th>\n",
       "                        <td> (1401, 80, 72) </td>\n",
       "                        <td> (366, 80, 72) </td>\n",
       "                    </tr>\n",
       "                    <tr>\n",
       "                        <th> Count </th>\n",
       "                        <td> 9 Graph Layers </td>\n",
       "                        <td> 4 Chunks </td>\n",
       "                    </tr>\n",
       "                    <tr>\n",
       "                    <th> Type </th>\n",
       "                    <td> float32 </td>\n",
       "                    <td> numpy.ndarray </td>\n",
       "                    </tr>\n",
       "                </tbody>\n",
       "            </table>\n",
       "        </td>\n",
       "        <td>\n",
       "        <svg width=\"165\" height=\"155\" style=\"stroke:rgb(0,0,0);stroke-width:1\" >\n",
       "\n",
       "  <!-- Horizontal lines -->\n",
       "  <line x1=\"10\" y1=\"0\" x2=\"80\" y2=\"70\" style=\"stroke-width:2\" />\n",
       "  <line x1=\"10\" y1=\"35\" x2=\"80\" y2=\"105\" style=\"stroke-width:2\" />\n",
       "\n",
       "  <!-- Vertical lines -->\n",
       "  <line x1=\"10\" y1=\"0\" x2=\"10\" y2=\"35\" style=\"stroke-width:2\" />\n",
       "  <line x1=\"28\" y1=\"18\" x2=\"28\" y2=\"53\" />\n",
       "  <line x1=\"46\" y1=\"36\" x2=\"46\" y2=\"72\" />\n",
       "  <line x1=\"65\" y1=\"55\" x2=\"65\" y2=\"90\" />\n",
       "  <line x1=\"80\" y1=\"70\" x2=\"80\" y2=\"105\" style=\"stroke-width:2\" />\n",
       "\n",
       "  <!-- Colored Rectangle -->\n",
       "  <polygon points=\"10.0,0.0 80.58823529411765,70.58823529411765 80.58823529411765,105.90025350434406 10.0,35.31201821022641\" style=\"fill:#ECB172A0;stroke-width:0\"/>\n",
       "\n",
       "  <!-- Horizontal lines -->\n",
       "  <line x1=\"10\" y1=\"0\" x2=\"44\" y2=\"0\" style=\"stroke-width:2\" />\n",
       "  <line x1=\"28\" y1=\"18\" x2=\"63\" y2=\"18\" />\n",
       "  <line x1=\"46\" y1=\"36\" x2=\"81\" y2=\"36\" />\n",
       "  <line x1=\"65\" y1=\"55\" x2=\"99\" y2=\"55\" />\n",
       "  <line x1=\"80\" y1=\"70\" x2=\"115\" y2=\"70\" style=\"stroke-width:2\" />\n",
       "\n",
       "  <!-- Vertical lines -->\n",
       "  <line x1=\"10\" y1=\"0\" x2=\"80\" y2=\"70\" style=\"stroke-width:2\" />\n",
       "  <line x1=\"44\" y1=\"0\" x2=\"115\" y2=\"70\" style=\"stroke-width:2\" />\n",
       "\n",
       "  <!-- Colored Rectangle -->\n",
       "  <polygon points=\"10.0,0.0 44.669065086544215,0.0 115.25730038066186,70.58823529411765 80.58823529411765,70.58823529411765\" style=\"fill:#ECB172A0;stroke-width:0\"/>\n",
       "\n",
       "  <!-- Horizontal lines -->\n",
       "  <line x1=\"80\" y1=\"70\" x2=\"115\" y2=\"70\" style=\"stroke-width:2\" />\n",
       "  <line x1=\"80\" y1=\"105\" x2=\"115\" y2=\"105\" style=\"stroke-width:2\" />\n",
       "\n",
       "  <!-- Vertical lines -->\n",
       "  <line x1=\"80\" y1=\"70\" x2=\"80\" y2=\"105\" style=\"stroke-width:2\" />\n",
       "  <line x1=\"115\" y1=\"70\" x2=\"115\" y2=\"105\" style=\"stroke-width:2\" />\n",
       "\n",
       "  <!-- Colored Rectangle -->\n",
       "  <polygon points=\"80.58823529411765,70.58823529411765 115.25730038066186,70.58823529411765 115.25730038066186,105.90025350434406 80.58823529411765,105.90025350434406\" style=\"fill:#ECB172A0;stroke-width:0\"/>\n",
       "\n",
       "  <!-- Text -->\n",
       "  <text x=\"97.922768\" y=\"125.900254\" font-size=\"1.0rem\" font-weight=\"100\" text-anchor=\"middle\" >72</text>\n",
       "  <text x=\"135.257300\" y=\"88.244244\" font-size=\"1.0rem\" font-weight=\"100\" text-anchor=\"middle\" transform=\"rotate(0,135.257300,88.244244)\">80</text>\n",
       "  <text x=\"35.294118\" y=\"90.606136\" font-size=\"1.0rem\" font-weight=\"100\" text-anchor=\"middle\" transform=\"rotate(45,35.294118,90.606136)\">1401</text>\n",
       "</svg>\n",
       "        </td>\n",
       "    </tr>\n",
       "</table></div></li></ul></div></li><li class='xr-section-item'><input id='section-2e7c04f2-572d-4e20-8d03-890fbec8eada' class='xr-section-summary-in' type='checkbox' disabled ><label for='section-2e7c04f2-572d-4e20-8d03-890fbec8eada' class='xr-section-summary'  title='Expand/collapse section'>Attributes: <span>(0)</span></label><div class='xr-section-inline-details'></div><div class='xr-section-details'><dl class='xr-attrs'></dl></div></li></ul></div></div>"
      ],
      "text/plain": [
       "<xarray.Dataset>\n",
       "Dimensions:  (time: 1401, lat: 80, lon: 72)\n",
       "Coordinates:\n",
       "  * time     (time) datetime64[ns] 2019-01-01 2019-01-02 ... 2022-11-01\n",
       "  * lat      (lat) float32 -49.88 -49.62 -49.38 -49.12 ... -30.62 -30.38 -30.12\n",
       "  * lon      (lon) float32 162.1 162.4 162.6 162.9 ... 179.1 179.4 179.6 179.9\n",
       "Data variables:\n",
       "    sst      (time, lat, lon) float32 dask.array<chunksize=(365, 80, 72), meta=np.ndarray>"
      ]
     },
     "execution_count": 21,
     "metadata": {},
     "output_type": "execute_result"
    }
   ],
   "source": [
    "dset"
   ]
  },
  {
   "cell_type": "markdown",
   "id": "40ea9399-3d6b-41b0-8d55-c63a4c2f3c09",
   "metadata": {
    "papermill": {
     "duration": 0.007945,
     "end_time": "2022-11-03T01:53:02.495670",
     "exception": false,
     "start_time": "2022-11-03T01:53:02.487725",
     "status": "completed"
    },
    "tags": []
   },
   "source": [
    "### calculates the rolling averages here if the number of days > 1"
   ]
  },
  {
   "cell_type": "code",
   "execution_count": 22,
   "id": "db95cc90-9cd4-4cc1-8aeb-b4f421b207dc",
   "metadata": {
    "execution": {
     "iopub.execute_input": "2022-11-03T01:53:02.512004Z",
     "iopub.status.busy": "2022-11-03T01:53:02.511861Z",
     "iopub.status.idle": "2022-11-03T01:53:02.557422Z",
     "shell.execute_reply": "2022-11-03T01:53:02.556990Z"
    },
    "papermill": {
     "duration": 0.055112,
     "end_time": "2022-11-03T01:53:02.558624",
     "exception": false,
     "start_time": "2022-11-03T01:53:02.503512",
     "status": "completed"
    },
    "tags": []
   },
   "outputs": [],
   "source": [
    "if ndays_agg > 1:\n",
    "\n",
    "    dset = dset.rolling({\"time\": ndays_agg}, min_periods=ndays_agg, center=False).mean(\n",
    "        \"time\"\n",
    "    )\n",
    "\n",
    "    dset = dset.isel(time=slice(ndays_agg + 1, None))"
   ]
  },
  {
   "cell_type": "markdown",
   "id": "8e3c4a2f-2174-4740-b6eb-1b14d81cf609",
   "metadata": {
    "papermill": {
     "duration": 0.007895,
     "end_time": "2022-11-03T01:53:02.575292",
     "exception": false,
     "start_time": "2022-11-03T01:53:02.567397",
     "status": "completed"
    },
    "tags": []
   },
   "source": [
    "## get the first and last day from the dataset itself now"
   ]
  },
  {
   "cell_type": "code",
   "execution_count": 23,
   "id": "1bfe9cae-878c-42f6-8610-8a41bcbf81d7",
   "metadata": {
    "execution": {
     "iopub.execute_input": "2022-11-03T01:53:02.592198Z",
     "iopub.status.busy": "2022-11-03T01:53:02.592052Z",
     "iopub.status.idle": "2022-11-03T01:53:02.606336Z",
     "shell.execute_reply": "2022-11-03T01:53:02.605905Z"
    },
    "papermill": {
     "duration": 0.023896,
     "end_time": "2022-11-03T01:53:02.607377",
     "exception": false,
     "start_time": "2022-11-03T01:53:02.583481",
     "status": "completed"
    },
    "tags": []
   },
   "outputs": [],
   "source": [
    "first_day = pd.to_datetime(dset.time.data[0])\n",
    "last_day = pd.to_datetime(dset.time.data[-1])"
   ]
  },
  {
   "cell_type": "markdown",
   "id": "7eca60e9-8d70-44d6-8088-4c4f589a9d91",
   "metadata": {
    "papermill": {
     "duration": 0.008016,
     "end_time": "2022-11-03T01:53:02.623403",
     "exception": false,
     "start_time": "2022-11-03T01:53:02.615387",
     "status": "completed"
    },
    "tags": []
   },
   "source": [
    "### creates a standard calendar including leap years, the dataset will be interpolated on it at the end "
   ]
  },
  {
   "cell_type": "code",
   "execution_count": 24,
   "id": "662f3818-8cb5-4c0b-b07e-058acde717c6",
   "metadata": {
    "execution": {
     "iopub.execute_input": "2022-11-03T01:53:02.639804Z",
     "iopub.status.busy": "2022-11-03T01:53:02.639660Z",
     "iopub.status.idle": "2022-11-03T01:53:02.653170Z",
     "shell.execute_reply": "2022-11-03T01:53:02.652847Z"
    },
    "papermill": {
     "duration": 0.023005,
     "end_time": "2022-11-03T01:53:02.654191",
     "exception": false,
     "start_time": "2022-11-03T01:53:02.631186",
     "status": "completed"
    },
    "tags": []
   },
   "outputs": [],
   "source": [
    "standard_calendar = pd.date_range(start=first_day, end=last_day, freq=\"D\")"
   ]
  },
  {
   "cell_type": "markdown",
   "id": "ee40ef4a-75cc-4d8c-8aa6-9fe66fe74e2f",
   "metadata": {
    "papermill": {
     "duration": 0.008221,
     "end_time": "2022-11-03T01:53:02.670569",
     "exception": false,
     "start_time": "2022-11-03T01:53:02.662348",
     "status": "completed"
    },
    "tags": []
   },
   "source": [
    "### get rid of the 29th of Feb if present "
   ]
  },
  {
   "cell_type": "code",
   "execution_count": 25,
   "id": "0f4d446f-07d8-4405-8521-de9daf057f4b",
   "metadata": {
    "execution": {
     "iopub.execute_input": "2022-11-03T01:53:02.687160Z",
     "iopub.status.busy": "2022-11-03T01:53:02.686973Z",
     "iopub.status.idle": "2022-11-03T01:53:02.714815Z",
     "shell.execute_reply": "2022-11-03T01:53:02.714369Z"
    },
    "papermill": {
     "duration": 0.037513,
     "end_time": "2022-11-03T01:53:02.716001",
     "exception": false,
     "start_time": "2022-11-03T01:53:02.678488",
     "status": "completed"
    },
    "tags": []
   },
   "outputs": [],
   "source": [
    "dset = dset.convert_calendar(\"noleap\")"
   ]
  },
  {
   "cell_type": "markdown",
   "id": "a032362e-441e-46db-b323-fe3053e3f790",
   "metadata": {
    "papermill": {
     "duration": 0.008762,
     "end_time": "2022-11-03T01:53:02.732768",
     "exception": false,
     "start_time": "2022-11-03T01:53:02.724006",
     "status": "completed"
    },
    "tags": []
   },
   "source": [
    "### opens the climatology "
   ]
  },
  {
   "cell_type": "code",
   "execution_count": 26,
   "id": "a96bd200-e09a-40b7-9177-b0ae1bd4efae",
   "metadata": {
    "execution": {
     "iopub.execute_input": "2022-11-03T01:53:02.751235Z",
     "iopub.status.busy": "2022-11-03T01:53:02.751080Z",
     "iopub.status.idle": "2022-11-03T01:53:02.770871Z",
     "shell.execute_reply": "2022-11-03T01:53:02.770430Z"
    },
    "papermill": {
     "duration": 0.030962,
     "end_time": "2022-11-03T01:53:02.772078",
     "exception": false,
     "start_time": "2022-11-03T01:53:02.741116",
     "status": "completed"
    },
    "tags": []
   },
   "outputs": [],
   "source": [
    "clim = xr.open_zarr(\n",
    "    clim_path.joinpath(f\"{domain}_OISST_{ndays_agg}days_climatology_15_window.zarr\")\n",
    ")"
   ]
  },
  {
   "cell_type": "code",
   "execution_count": 27,
   "id": "75582df6-1ce6-4a26-9534-42c90ff9add0",
   "metadata": {
    "execution": {
     "iopub.execute_input": "2022-11-03T01:53:02.789690Z",
     "iopub.status.busy": "2022-11-03T01:53:02.789546Z",
     "iopub.status.idle": "2022-11-03T01:53:02.817041Z",
     "shell.execute_reply": "2022-11-03T01:53:02.816573Z"
    },
    "papermill": {
     "duration": 0.037739,
     "end_time": "2022-11-03T01:53:02.818140",
     "exception": false,
     "start_time": "2022-11-03T01:53:02.780401",
     "status": "completed"
    },
    "tags": []
   },
   "outputs": [
    {
     "data": {
      "text/html": [
       "<div><svg style=\"position: absolute; width: 0; height: 0; overflow: hidden\">\n",
       "<defs>\n",
       "<symbol id=\"icon-database\" viewBox=\"0 0 32 32\">\n",
       "<path d=\"M16 0c-8.837 0-16 2.239-16 5v4c0 2.761 7.163 5 16 5s16-2.239 16-5v-4c0-2.761-7.163-5-16-5z\"></path>\n",
       "<path d=\"M16 17c-8.837 0-16-2.239-16-5v6c0 2.761 7.163 5 16 5s16-2.239 16-5v-6c0 2.761-7.163 5-16 5z\"></path>\n",
       "<path d=\"M16 26c-8.837 0-16-2.239-16-5v6c0 2.761 7.163 5 16 5s16-2.239 16-5v-6c0 2.761-7.163 5-16 5z\"></path>\n",
       "</symbol>\n",
       "<symbol id=\"icon-file-text2\" viewBox=\"0 0 32 32\">\n",
       "<path d=\"M28.681 7.159c-0.694-0.947-1.662-2.053-2.724-3.116s-2.169-2.030-3.116-2.724c-1.612-1.182-2.393-1.319-2.841-1.319h-15.5c-1.378 0-2.5 1.121-2.5 2.5v27c0 1.378 1.122 2.5 2.5 2.5h23c1.378 0 2.5-1.122 2.5-2.5v-19.5c0-0.448-0.137-1.23-1.319-2.841zM24.543 5.457c0.959 0.959 1.712 1.825 2.268 2.543h-4.811v-4.811c0.718 0.556 1.584 1.309 2.543 2.268zM28 29.5c0 0.271-0.229 0.5-0.5 0.5h-23c-0.271 0-0.5-0.229-0.5-0.5v-27c0-0.271 0.229-0.5 0.5-0.5 0 0 15.499-0 15.5 0v7c0 0.552 0.448 1 1 1h7v19.5z\"></path>\n",
       "<path d=\"M23 26h-14c-0.552 0-1-0.448-1-1s0.448-1 1-1h14c0.552 0 1 0.448 1 1s-0.448 1-1 1z\"></path>\n",
       "<path d=\"M23 22h-14c-0.552 0-1-0.448-1-1s0.448-1 1-1h14c0.552 0 1 0.448 1 1s-0.448 1-1 1z\"></path>\n",
       "<path d=\"M23 18h-14c-0.552 0-1-0.448-1-1s0.448-1 1-1h14c0.552 0 1 0.448 1 1s-0.448 1-1 1z\"></path>\n",
       "</symbol>\n",
       "</defs>\n",
       "</svg>\n",
       "<style>/* CSS stylesheet for displaying xarray objects in jupyterlab.\n",
       " *\n",
       " */\n",
       "\n",
       ":root {\n",
       "  --xr-font-color0: var(--jp-content-font-color0, rgba(0, 0, 0, 1));\n",
       "  --xr-font-color2: var(--jp-content-font-color2, rgba(0, 0, 0, 0.54));\n",
       "  --xr-font-color3: var(--jp-content-font-color3, rgba(0, 0, 0, 0.38));\n",
       "  --xr-border-color: var(--jp-border-color2, #e0e0e0);\n",
       "  --xr-disabled-color: var(--jp-layout-color3, #bdbdbd);\n",
       "  --xr-background-color: var(--jp-layout-color0, white);\n",
       "  --xr-background-color-row-even: var(--jp-layout-color1, white);\n",
       "  --xr-background-color-row-odd: var(--jp-layout-color2, #eeeeee);\n",
       "}\n",
       "\n",
       "html[theme=dark],\n",
       "body[data-theme=dark],\n",
       "body.vscode-dark {\n",
       "  --xr-font-color0: rgba(255, 255, 255, 1);\n",
       "  --xr-font-color2: rgba(255, 255, 255, 0.54);\n",
       "  --xr-font-color3: rgba(255, 255, 255, 0.38);\n",
       "  --xr-border-color: #1F1F1F;\n",
       "  --xr-disabled-color: #515151;\n",
       "  --xr-background-color: #111111;\n",
       "  --xr-background-color-row-even: #111111;\n",
       "  --xr-background-color-row-odd: #313131;\n",
       "}\n",
       "\n",
       ".xr-wrap {\n",
       "  display: block !important;\n",
       "  min-width: 300px;\n",
       "  max-width: 700px;\n",
       "}\n",
       "\n",
       ".xr-text-repr-fallback {\n",
       "  /* fallback to plain text repr when CSS is not injected (untrusted notebook) */\n",
       "  display: none;\n",
       "}\n",
       "\n",
       ".xr-header {\n",
       "  padding-top: 6px;\n",
       "  padding-bottom: 6px;\n",
       "  margin-bottom: 4px;\n",
       "  border-bottom: solid 1px var(--xr-border-color);\n",
       "}\n",
       "\n",
       ".xr-header > div,\n",
       ".xr-header > ul {\n",
       "  display: inline;\n",
       "  margin-top: 0;\n",
       "  margin-bottom: 0;\n",
       "}\n",
       "\n",
       ".xr-obj-type,\n",
       ".xr-array-name {\n",
       "  margin-left: 2px;\n",
       "  margin-right: 10px;\n",
       "}\n",
       "\n",
       ".xr-obj-type {\n",
       "  color: var(--xr-font-color2);\n",
       "}\n",
       "\n",
       ".xr-sections {\n",
       "  padding-left: 0 !important;\n",
       "  display: grid;\n",
       "  grid-template-columns: 150px auto auto 1fr 20px 20px;\n",
       "}\n",
       "\n",
       ".xr-section-item {\n",
       "  display: contents;\n",
       "}\n",
       "\n",
       ".xr-section-item input {\n",
       "  display: none;\n",
       "}\n",
       "\n",
       ".xr-section-item input + label {\n",
       "  color: var(--xr-disabled-color);\n",
       "}\n",
       "\n",
       ".xr-section-item input:enabled + label {\n",
       "  cursor: pointer;\n",
       "  color: var(--xr-font-color2);\n",
       "}\n",
       "\n",
       ".xr-section-item input:enabled + label:hover {\n",
       "  color: var(--xr-font-color0);\n",
       "}\n",
       "\n",
       ".xr-section-summary {\n",
       "  grid-column: 1;\n",
       "  color: var(--xr-font-color2);\n",
       "  font-weight: 500;\n",
       "}\n",
       "\n",
       ".xr-section-summary > span {\n",
       "  display: inline-block;\n",
       "  padding-left: 0.5em;\n",
       "}\n",
       "\n",
       ".xr-section-summary-in:disabled + label {\n",
       "  color: var(--xr-font-color2);\n",
       "}\n",
       "\n",
       ".xr-section-summary-in + label:before {\n",
       "  display: inline-block;\n",
       "  content: '►';\n",
       "  font-size: 11px;\n",
       "  width: 15px;\n",
       "  text-align: center;\n",
       "}\n",
       "\n",
       ".xr-section-summary-in:disabled + label:before {\n",
       "  color: var(--xr-disabled-color);\n",
       "}\n",
       "\n",
       ".xr-section-summary-in:checked + label:before {\n",
       "  content: '▼';\n",
       "}\n",
       "\n",
       ".xr-section-summary-in:checked + label > span {\n",
       "  display: none;\n",
       "}\n",
       "\n",
       ".xr-section-summary,\n",
       ".xr-section-inline-details {\n",
       "  padding-top: 4px;\n",
       "  padding-bottom: 4px;\n",
       "}\n",
       "\n",
       ".xr-section-inline-details {\n",
       "  grid-column: 2 / -1;\n",
       "}\n",
       "\n",
       ".xr-section-details {\n",
       "  display: none;\n",
       "  grid-column: 1 / -1;\n",
       "  margin-bottom: 5px;\n",
       "}\n",
       "\n",
       ".xr-section-summary-in:checked ~ .xr-section-details {\n",
       "  display: contents;\n",
       "}\n",
       "\n",
       ".xr-array-wrap {\n",
       "  grid-column: 1 / -1;\n",
       "  display: grid;\n",
       "  grid-template-columns: 20px auto;\n",
       "}\n",
       "\n",
       ".xr-array-wrap > label {\n",
       "  grid-column: 1;\n",
       "  vertical-align: top;\n",
       "}\n",
       "\n",
       ".xr-preview {\n",
       "  color: var(--xr-font-color3);\n",
       "}\n",
       "\n",
       ".xr-array-preview,\n",
       ".xr-array-data {\n",
       "  padding: 0 5px !important;\n",
       "  grid-column: 2;\n",
       "}\n",
       "\n",
       ".xr-array-data,\n",
       ".xr-array-in:checked ~ .xr-array-preview {\n",
       "  display: none;\n",
       "}\n",
       "\n",
       ".xr-array-in:checked ~ .xr-array-data,\n",
       ".xr-array-preview {\n",
       "  display: inline-block;\n",
       "}\n",
       "\n",
       ".xr-dim-list {\n",
       "  display: inline-block !important;\n",
       "  list-style: none;\n",
       "  padding: 0 !important;\n",
       "  margin: 0;\n",
       "}\n",
       "\n",
       ".xr-dim-list li {\n",
       "  display: inline-block;\n",
       "  padding: 0;\n",
       "  margin: 0;\n",
       "}\n",
       "\n",
       ".xr-dim-list:before {\n",
       "  content: '(';\n",
       "}\n",
       "\n",
       ".xr-dim-list:after {\n",
       "  content: ')';\n",
       "}\n",
       "\n",
       ".xr-dim-list li:not(:last-child):after {\n",
       "  content: ',';\n",
       "  padding-right: 5px;\n",
       "}\n",
       "\n",
       ".xr-has-index {\n",
       "  font-weight: bold;\n",
       "}\n",
       "\n",
       ".xr-var-list,\n",
       ".xr-var-item {\n",
       "  display: contents;\n",
       "}\n",
       "\n",
       ".xr-var-item > div,\n",
       ".xr-var-item label,\n",
       ".xr-var-item > .xr-var-name span {\n",
       "  background-color: var(--xr-background-color-row-even);\n",
       "  margin-bottom: 0;\n",
       "}\n",
       "\n",
       ".xr-var-item > .xr-var-name:hover span {\n",
       "  padding-right: 5px;\n",
       "}\n",
       "\n",
       ".xr-var-list > li:nth-child(odd) > div,\n",
       ".xr-var-list > li:nth-child(odd) > label,\n",
       ".xr-var-list > li:nth-child(odd) > .xr-var-name span {\n",
       "  background-color: var(--xr-background-color-row-odd);\n",
       "}\n",
       "\n",
       ".xr-var-name {\n",
       "  grid-column: 1;\n",
       "}\n",
       "\n",
       ".xr-var-dims {\n",
       "  grid-column: 2;\n",
       "}\n",
       "\n",
       ".xr-var-dtype {\n",
       "  grid-column: 3;\n",
       "  text-align: right;\n",
       "  color: var(--xr-font-color2);\n",
       "}\n",
       "\n",
       ".xr-var-preview {\n",
       "  grid-column: 4;\n",
       "}\n",
       "\n",
       ".xr-var-name,\n",
       ".xr-var-dims,\n",
       ".xr-var-dtype,\n",
       ".xr-preview,\n",
       ".xr-attrs dt {\n",
       "  white-space: nowrap;\n",
       "  overflow: hidden;\n",
       "  text-overflow: ellipsis;\n",
       "  padding-right: 10px;\n",
       "}\n",
       "\n",
       ".xr-var-name:hover,\n",
       ".xr-var-dims:hover,\n",
       ".xr-var-dtype:hover,\n",
       ".xr-attrs dt:hover {\n",
       "  overflow: visible;\n",
       "  width: auto;\n",
       "  z-index: 1;\n",
       "}\n",
       "\n",
       ".xr-var-attrs,\n",
       ".xr-var-data {\n",
       "  display: none;\n",
       "  background-color: var(--xr-background-color) !important;\n",
       "  padding-bottom: 5px !important;\n",
       "}\n",
       "\n",
       ".xr-var-attrs-in:checked ~ .xr-var-attrs,\n",
       ".xr-var-data-in:checked ~ .xr-var-data {\n",
       "  display: block;\n",
       "}\n",
       "\n",
       ".xr-var-data > table {\n",
       "  float: right;\n",
       "}\n",
       "\n",
       ".xr-var-name span,\n",
       ".xr-var-data,\n",
       ".xr-attrs {\n",
       "  padding-left: 25px !important;\n",
       "}\n",
       "\n",
       ".xr-attrs,\n",
       ".xr-var-attrs,\n",
       ".xr-var-data {\n",
       "  grid-column: 1 / -1;\n",
       "}\n",
       "\n",
       "dl.xr-attrs {\n",
       "  padding: 0;\n",
       "  margin: 0;\n",
       "  display: grid;\n",
       "  grid-template-columns: 125px auto;\n",
       "}\n",
       "\n",
       ".xr-attrs dt,\n",
       ".xr-attrs dd {\n",
       "  padding: 0;\n",
       "  margin: 0;\n",
       "  float: left;\n",
       "  padding-right: 10px;\n",
       "  width: auto;\n",
       "}\n",
       "\n",
       ".xr-attrs dt {\n",
       "  font-weight: normal;\n",
       "  grid-column: 1;\n",
       "}\n",
       "\n",
       ".xr-attrs dt:hover span {\n",
       "  display: inline-block;\n",
       "  background: var(--xr-background-color);\n",
       "  padding-right: 10px;\n",
       "}\n",
       "\n",
       ".xr-attrs dd {\n",
       "  grid-column: 2;\n",
       "  white-space: pre-wrap;\n",
       "  word-break: break-all;\n",
       "}\n",
       "\n",
       ".xr-icon-database,\n",
       ".xr-icon-file-text2 {\n",
       "  display: inline-block;\n",
       "  vertical-align: middle;\n",
       "  width: 1em;\n",
       "  height: 1.5em !important;\n",
       "  stroke-width: 0;\n",
       "  stroke: currentColor;\n",
       "  fill: currentColor;\n",
       "}\n",
       "</style><pre class='xr-text-repr-fallback'>&lt;xarray.Dataset&gt;\n",
       "Dimensions:    (lat: 80, lon: 72, dayofyear: 365, quantile: 5)\n",
       "Coordinates:\n",
       "  * dayofyear  (dayofyear) int64 1 2 3 4 5 6 7 8 ... 359 360 361 362 363 364 365\n",
       "  * lat        (lat) float32 -49.88 -49.62 -49.38 ... -30.62 -30.38 -30.12\n",
       "  * lon        (lon) float32 162.1 162.4 162.6 162.9 ... 179.1 179.4 179.6 179.9\n",
       "  * quantile   (quantile) float64 0.1 0.25 0.5 0.75 0.9\n",
       "Data variables:\n",
       "    average    (lat, lon, dayofyear) float64 dask.array&lt;chunksize=(20, 18, 183), meta=np.ndarray&gt;\n",
       "    quantiles  (dayofyear, quantile, lat, lon) float64 dask.array&lt;chunksize=(92, 2, 20, 36), meta=np.ndarray&gt;\n",
       "    std        (lat, lon, dayofyear) float64 dask.array&lt;chunksize=(20, 18, 183), meta=np.ndarray&gt;</pre><div class='xr-wrap' style='display:none'><div class='xr-header'><div class='xr-obj-type'>xarray.Dataset</div></div><ul class='xr-sections'><li class='xr-section-item'><input id='section-ab62c4b7-6b4a-4f6e-a4af-5b534cf81c17' class='xr-section-summary-in' type='checkbox' disabled ><label for='section-ab62c4b7-6b4a-4f6e-a4af-5b534cf81c17' class='xr-section-summary'  title='Expand/collapse section'>Dimensions:</label><div class='xr-section-inline-details'><ul class='xr-dim-list'><li><span class='xr-has-index'>lat</span>: 80</li><li><span class='xr-has-index'>lon</span>: 72</li><li><span class='xr-has-index'>dayofyear</span>: 365</li><li><span class='xr-has-index'>quantile</span>: 5</li></ul></div><div class='xr-section-details'></div></li><li class='xr-section-item'><input id='section-dc49c642-51e5-4533-a59c-b15c3412350b' class='xr-section-summary-in' type='checkbox'  checked><label for='section-dc49c642-51e5-4533-a59c-b15c3412350b' class='xr-section-summary' >Coordinates: <span>(4)</span></label><div class='xr-section-inline-details'></div><div class='xr-section-details'><ul class='xr-var-list'><li class='xr-var-item'><div class='xr-var-name'><span class='xr-has-index'>dayofyear</span></div><div class='xr-var-dims'>(dayofyear)</div><div class='xr-var-dtype'>int64</div><div class='xr-var-preview xr-preview'>1 2 3 4 5 6 ... 361 362 363 364 365</div><input id='attrs-8f559990-6042-4a11-acdf-efb2c1a6e0c7' class='xr-var-attrs-in' type='checkbox' disabled><label for='attrs-8f559990-6042-4a11-acdf-efb2c1a6e0c7' title='Show/Hide attributes'><svg class='icon xr-icon-file-text2'><use xlink:href='#icon-file-text2'></use></svg></label><input id='data-e67af510-106d-4bdc-ac0b-df632c4fc143' class='xr-var-data-in' type='checkbox'><label for='data-e67af510-106d-4bdc-ac0b-df632c4fc143' title='Show/Hide data repr'><svg class='icon xr-icon-database'><use xlink:href='#icon-database'></use></svg></label><div class='xr-var-attrs'><dl class='xr-attrs'></dl></div><div class='xr-var-data'><pre>array([  1,   2,   3, ..., 363, 364, 365])</pre></div></li><li class='xr-var-item'><div class='xr-var-name'><span class='xr-has-index'>lat</span></div><div class='xr-var-dims'>(lat)</div><div class='xr-var-dtype'>float32</div><div class='xr-var-preview xr-preview'>-49.88 -49.62 ... -30.38 -30.12</div><input id='attrs-e5c7b510-1fda-458b-8fc6-d45711d51444' class='xr-var-attrs-in' type='checkbox' disabled><label for='attrs-e5c7b510-1fda-458b-8fc6-d45711d51444' title='Show/Hide attributes'><svg class='icon xr-icon-file-text2'><use xlink:href='#icon-file-text2'></use></svg></label><input id='data-24dbce98-dda1-4dba-906a-13f4688d116b' class='xr-var-data-in' type='checkbox'><label for='data-24dbce98-dda1-4dba-906a-13f4688d116b' title='Show/Hide data repr'><svg class='icon xr-icon-database'><use xlink:href='#icon-database'></use></svg></label><div class='xr-var-attrs'><dl class='xr-attrs'></dl></div><div class='xr-var-data'><pre>array([-49.875, -49.625, -49.375, -49.125, -48.875, -48.625, -48.375, -48.125,\n",
       "       -47.875, -47.625, -47.375, -47.125, -46.875, -46.625, -46.375, -46.125,\n",
       "       -45.875, -45.625, -45.375, -45.125, -44.875, -44.625, -44.375, -44.125,\n",
       "       -43.875, -43.625, -43.375, -43.125, -42.875, -42.625, -42.375, -42.125,\n",
       "       -41.875, -41.625, -41.375, -41.125, -40.875, -40.625, -40.375, -40.125,\n",
       "       -39.875, -39.625, -39.375, -39.125, -38.875, -38.625, -38.375, -38.125,\n",
       "       -37.875, -37.625, -37.375, -37.125, -36.875, -36.625, -36.375, -36.125,\n",
       "       -35.875, -35.625, -35.375, -35.125, -34.875, -34.625, -34.375, -34.125,\n",
       "       -33.875, -33.625, -33.375, -33.125, -32.875, -32.625, -32.375, -32.125,\n",
       "       -31.875, -31.625, -31.375, -31.125, -30.875, -30.625, -30.375, -30.125],\n",
       "      dtype=float32)</pre></div></li><li class='xr-var-item'><div class='xr-var-name'><span class='xr-has-index'>lon</span></div><div class='xr-var-dims'>(lon)</div><div class='xr-var-dtype'>float32</div><div class='xr-var-preview xr-preview'>162.1 162.4 162.6 ... 179.6 179.9</div><input id='attrs-3eb11246-f608-4861-8e8e-0c58a5d26dd6' class='xr-var-attrs-in' type='checkbox' disabled><label for='attrs-3eb11246-f608-4861-8e8e-0c58a5d26dd6' title='Show/Hide attributes'><svg class='icon xr-icon-file-text2'><use xlink:href='#icon-file-text2'></use></svg></label><input id='data-8c5e61bd-0afa-4847-9c28-1d19c55162c0' class='xr-var-data-in' type='checkbox'><label for='data-8c5e61bd-0afa-4847-9c28-1d19c55162c0' title='Show/Hide data repr'><svg class='icon xr-icon-database'><use xlink:href='#icon-database'></use></svg></label><div class='xr-var-attrs'><dl class='xr-attrs'></dl></div><div class='xr-var-data'><pre>array([162.125, 162.375, 162.625, 162.875, 163.125, 163.375, 163.625, 163.875,\n",
       "       164.125, 164.375, 164.625, 164.875, 165.125, 165.375, 165.625, 165.875,\n",
       "       166.125, 166.375, 166.625, 166.875, 167.125, 167.375, 167.625, 167.875,\n",
       "       168.125, 168.375, 168.625, 168.875, 169.125, 169.375, 169.625, 169.875,\n",
       "       170.125, 170.375, 170.625, 170.875, 171.125, 171.375, 171.625, 171.875,\n",
       "       172.125, 172.375, 172.625, 172.875, 173.125, 173.375, 173.625, 173.875,\n",
       "       174.125, 174.375, 174.625, 174.875, 175.125, 175.375, 175.625, 175.875,\n",
       "       176.125, 176.375, 176.625, 176.875, 177.125, 177.375, 177.625, 177.875,\n",
       "       178.125, 178.375, 178.625, 178.875, 179.125, 179.375, 179.625, 179.875],\n",
       "      dtype=float32)</pre></div></li><li class='xr-var-item'><div class='xr-var-name'><span class='xr-has-index'>quantile</span></div><div class='xr-var-dims'>(quantile)</div><div class='xr-var-dtype'>float64</div><div class='xr-var-preview xr-preview'>0.1 0.25 0.5 0.75 0.9</div><input id='attrs-22b769b0-10f8-4511-bc09-9240e015f9eb' class='xr-var-attrs-in' type='checkbox' disabled><label for='attrs-22b769b0-10f8-4511-bc09-9240e015f9eb' title='Show/Hide attributes'><svg class='icon xr-icon-file-text2'><use xlink:href='#icon-file-text2'></use></svg></label><input id='data-7df0d57a-95c8-4471-beaf-617d7e5311c4' class='xr-var-data-in' type='checkbox'><label for='data-7df0d57a-95c8-4471-beaf-617d7e5311c4' title='Show/Hide data repr'><svg class='icon xr-icon-database'><use xlink:href='#icon-database'></use></svg></label><div class='xr-var-attrs'><dl class='xr-attrs'></dl></div><div class='xr-var-data'><pre>array([0.1 , 0.25, 0.5 , 0.75, 0.9 ])</pre></div></li></ul></div></li><li class='xr-section-item'><input id='section-d01e762c-3399-4987-9578-d06a79ee4de1' class='xr-section-summary-in' type='checkbox'  checked><label for='section-d01e762c-3399-4987-9578-d06a79ee4de1' class='xr-section-summary' >Data variables: <span>(3)</span></label><div class='xr-section-inline-details'></div><div class='xr-section-details'><ul class='xr-var-list'><li class='xr-var-item'><div class='xr-var-name'><span>average</span></div><div class='xr-var-dims'>(lat, lon, dayofyear)</div><div class='xr-var-dtype'>float64</div><div class='xr-var-preview xr-preview'>dask.array&lt;chunksize=(20, 18, 183), meta=np.ndarray&gt;</div><input id='attrs-658b8f8e-b42b-4772-9638-49ced218b06c' class='xr-var-attrs-in' type='checkbox' disabled><label for='attrs-658b8f8e-b42b-4772-9638-49ced218b06c' title='Show/Hide attributes'><svg class='icon xr-icon-file-text2'><use xlink:href='#icon-file-text2'></use></svg></label><input id='data-7702156f-4ce0-485f-a8a4-b06bf10f2a81' class='xr-var-data-in' type='checkbox'><label for='data-7702156f-4ce0-485f-a8a4-b06bf10f2a81' title='Show/Hide data repr'><svg class='icon xr-icon-database'><use xlink:href='#icon-database'></use></svg></label><div class='xr-var-attrs'><dl class='xr-attrs'></dl></div><div class='xr-var-data'><table>\n",
       "    <tr>\n",
       "        <td>\n",
       "            <table>\n",
       "                <thead>\n",
       "                    <tr>\n",
       "                        <td> </td>\n",
       "                        <th> Array </th>\n",
       "                        <th> Chunk </th>\n",
       "                    </tr>\n",
       "                </thead>\n",
       "                <tbody>\n",
       "                    \n",
       "                    <tr>\n",
       "                        <th> Bytes </th>\n",
       "                        <td> 16.04 MiB </td>\n",
       "                        <td> 514.69 kiB </td>\n",
       "                    </tr>\n",
       "                    \n",
       "                    <tr>\n",
       "                        <th> Shape </th>\n",
       "                        <td> (80, 72, 365) </td>\n",
       "                        <td> (20, 18, 183) </td>\n",
       "                    </tr>\n",
       "                    <tr>\n",
       "                        <th> Count </th>\n",
       "                        <td> 2 Graph Layers </td>\n",
       "                        <td> 32 Chunks </td>\n",
       "                    </tr>\n",
       "                    <tr>\n",
       "                    <th> Type </th>\n",
       "                    <td> float64 </td>\n",
       "                    <td> numpy.ndarray </td>\n",
       "                    </tr>\n",
       "                </tbody>\n",
       "            </table>\n",
       "        </td>\n",
       "        <td>\n",
       "        <svg width=\"204\" height=\"116\" style=\"stroke:rgb(0,0,0);stroke-width:1\" >\n",
       "\n",
       "  <!-- Horizontal lines -->\n",
       "  <line x1=\"10\" y1=\"0\" x2=\"34\" y2=\"24\" style=\"stroke-width:2\" />\n",
       "  <line x1=\"10\" y1=\"10\" x2=\"34\" y2=\"35\" />\n",
       "  <line x1=\"10\" y1=\"20\" x2=\"34\" y2=\"45\" />\n",
       "  <line x1=\"10\" y1=\"31\" x2=\"34\" y2=\"56\" />\n",
       "  <line x1=\"10\" y1=\"41\" x2=\"34\" y2=\"66\" style=\"stroke-width:2\" />\n",
       "\n",
       "  <!-- Vertical lines -->\n",
       "  <line x1=\"10\" y1=\"0\" x2=\"10\" y2=\"41\" style=\"stroke-width:2\" />\n",
       "  <line x1=\"16\" y1=\"6\" x2=\"16\" y2=\"48\" />\n",
       "  <line x1=\"22\" y1=\"12\" x2=\"22\" y2=\"54\" />\n",
       "  <line x1=\"28\" y1=\"18\" x2=\"28\" y2=\"60\" />\n",
       "  <line x1=\"34\" y1=\"24\" x2=\"34\" y2=\"66\" style=\"stroke-width:2\" />\n",
       "\n",
       "  <!-- Colored Rectangle -->\n",
       "  <polygon points=\"10.0,0.0 34.93398445666962,24.93398445666962 34.93398445666962,66.88537692694763 10.0,41.951392470278016\" style=\"fill:#ECB172A0;stroke-width:0\"/>\n",
       "\n",
       "  <!-- Horizontal lines -->\n",
       "  <line x1=\"10\" y1=\"0\" x2=\"130\" y2=\"0\" style=\"stroke-width:2\" />\n",
       "  <line x1=\"16\" y1=\"6\" x2=\"136\" y2=\"6\" />\n",
       "  <line x1=\"22\" y1=\"12\" x2=\"142\" y2=\"12\" />\n",
       "  <line x1=\"28\" y1=\"18\" x2=\"148\" y2=\"18\" />\n",
       "  <line x1=\"34\" y1=\"24\" x2=\"154\" y2=\"24\" style=\"stroke-width:2\" />\n",
       "\n",
       "  <!-- Vertical lines -->\n",
       "  <line x1=\"10\" y1=\"0\" x2=\"34\" y2=\"24\" style=\"stroke-width:2\" />\n",
       "  <line x1=\"70\" y1=\"0\" x2=\"95\" y2=\"24\" />\n",
       "  <line x1=\"130\" y1=\"0\" x2=\"154\" y2=\"24\" style=\"stroke-width:2\" />\n",
       "\n",
       "  <!-- Colored Rectangle -->\n",
       "  <polygon points=\"10.0,0.0 130.0,0.0 154.93398445666963,24.93398445666962 34.93398445666962,24.93398445666962\" style=\"fill:#ECB172A0;stroke-width:0\"/>\n",
       "\n",
       "  <!-- Horizontal lines -->\n",
       "  <line x1=\"34\" y1=\"24\" x2=\"154\" y2=\"24\" style=\"stroke-width:2\" />\n",
       "  <line x1=\"34\" y1=\"35\" x2=\"154\" y2=\"35\" />\n",
       "  <line x1=\"34\" y1=\"45\" x2=\"154\" y2=\"45\" />\n",
       "  <line x1=\"34\" y1=\"56\" x2=\"154\" y2=\"56\" />\n",
       "  <line x1=\"34\" y1=\"66\" x2=\"154\" y2=\"66\" style=\"stroke-width:2\" />\n",
       "\n",
       "  <!-- Vertical lines -->\n",
       "  <line x1=\"34\" y1=\"24\" x2=\"34\" y2=\"66\" style=\"stroke-width:2\" />\n",
       "  <line x1=\"95\" y1=\"24\" x2=\"95\" y2=\"66\" />\n",
       "  <line x1=\"154\" y1=\"24\" x2=\"154\" y2=\"66\" style=\"stroke-width:2\" />\n",
       "\n",
       "  <!-- Colored Rectangle -->\n",
       "  <polygon points=\"34.93398445666962,24.93398445666962 154.93398445666963,24.93398445666962 154.93398445666963,66.88537692694763 34.93398445666962,66.88537692694763\" style=\"fill:#ECB172A0;stroke-width:0\"/>\n",
       "\n",
       "  <!-- Text -->\n",
       "  <text x=\"94.933984\" y=\"86.885377\" font-size=\"1.0rem\" font-weight=\"100\" text-anchor=\"middle\" >365</text>\n",
       "  <text x=\"174.933984\" y=\"45.909681\" font-size=\"1.0rem\" font-weight=\"100\" text-anchor=\"middle\" transform=\"rotate(0,174.933984,45.909681)\">72</text>\n",
       "  <text x=\"12.466992\" y=\"74.418385\" font-size=\"1.0rem\" font-weight=\"100\" text-anchor=\"middle\" transform=\"rotate(45,12.466992,74.418385)\">80</text>\n",
       "</svg>\n",
       "        </td>\n",
       "    </tr>\n",
       "</table></div></li><li class='xr-var-item'><div class='xr-var-name'><span>quantiles</span></div><div class='xr-var-dims'>(dayofyear, quantile, lat, lon)</div><div class='xr-var-dtype'>float64</div><div class='xr-var-preview xr-preview'>dask.array&lt;chunksize=(92, 2, 20, 36), meta=np.ndarray&gt;</div><input id='attrs-2ec9972d-fcd7-4c56-8288-a602c47e8816' class='xr-var-attrs-in' type='checkbox' disabled><label for='attrs-2ec9972d-fcd7-4c56-8288-a602c47e8816' title='Show/Hide attributes'><svg class='icon xr-icon-file-text2'><use xlink:href='#icon-file-text2'></use></svg></label><input id='data-9189514e-ca9b-4c9e-8eea-8efc8f5659d1' class='xr-var-data-in' type='checkbox'><label for='data-9189514e-ca9b-4c9e-8eea-8efc8f5659d1' title='Show/Hide data repr'><svg class='icon xr-icon-database'><use xlink:href='#icon-database'></use></svg></label><div class='xr-var-attrs'><dl class='xr-attrs'></dl></div><div class='xr-var-data'><table>\n",
       "    <tr>\n",
       "        <td>\n",
       "            <table>\n",
       "                <thead>\n",
       "                    <tr>\n",
       "                        <td> </td>\n",
       "                        <th> Array </th>\n",
       "                        <th> Chunk </th>\n",
       "                    </tr>\n",
       "                </thead>\n",
       "                <tbody>\n",
       "                    \n",
       "                    <tr>\n",
       "                        <th> Bytes </th>\n",
       "                        <td> 80.20 MiB </td>\n",
       "                        <td> 1.01 MiB </td>\n",
       "                    </tr>\n",
       "                    \n",
       "                    <tr>\n",
       "                        <th> Shape </th>\n",
       "                        <td> (365, 5, 80, 72) </td>\n",
       "                        <td> (92, 2, 20, 36) </td>\n",
       "                    </tr>\n",
       "                    <tr>\n",
       "                        <th> Count </th>\n",
       "                        <td> 2 Graph Layers </td>\n",
       "                        <td> 96 Chunks </td>\n",
       "                    </tr>\n",
       "                    <tr>\n",
       "                    <th> Type </th>\n",
       "                    <td> float64 </td>\n",
       "                    <td> numpy.ndarray </td>\n",
       "                    </tr>\n",
       "                </tbody>\n",
       "            </table>\n",
       "        </td>\n",
       "        <td>\n",
       "        <svg width=\"487\" height=\"108\" style=\"stroke:rgb(0,0,0);stroke-width:1\" >\n",
       "\n",
       "  <!-- Horizontal lines -->\n",
       "  <line x1=\"0\" y1=\"0\" x2=\"120\" y2=\"0\" style=\"stroke-width:2\" />\n",
       "  <line x1=\"0\" y1=\"25\" x2=\"120\" y2=\"25\" style=\"stroke-width:2\" />\n",
       "\n",
       "  <!-- Vertical lines -->\n",
       "  <line x1=\"0\" y1=\"0\" x2=\"0\" y2=\"25\" style=\"stroke-width:2\" />\n",
       "  <line x1=\"30\" y1=\"0\" x2=\"30\" y2=\"25\" />\n",
       "  <line x1=\"60\" y1=\"0\" x2=\"60\" y2=\"25\" />\n",
       "  <line x1=\"90\" y1=\"0\" x2=\"90\" y2=\"25\" />\n",
       "  <line x1=\"120\" y1=\"0\" x2=\"120\" y2=\"25\" style=\"stroke-width:2\" />\n",
       "\n",
       "  <!-- Colored Rectangle -->\n",
       "  <polygon points=\"0.0,0.0 120.0,0.0 120.0,25.412616514582485 0.0,25.412616514582485\" style=\"fill:#ECB172A0;stroke-width:0\"/>\n",
       "\n",
       "  <!-- Text -->\n",
       "  <text x=\"60.000000\" y=\"45.412617\" font-size=\"1.0rem\" font-weight=\"100\" text-anchor=\"middle\" >365</text>\n",
       "  <text x=\"140.000000\" y=\"12.706308\" font-size=\"1.0rem\" font-weight=\"100\" text-anchor=\"middle\" transform=\"rotate(0,140.000000,12.706308)\">1</text>\n",
       "\n",
       "\n",
       "  <!-- Horizontal lines -->\n",
       "  <line x1=\"190\" y1=\"0\" x2=\"205\" y2=\"15\" style=\"stroke-width:2\" />\n",
       "  <line x1=\"190\" y1=\"10\" x2=\"205\" y2=\"26\" />\n",
       "  <line x1=\"190\" y1=\"21\" x2=\"205\" y2=\"37\" />\n",
       "  <line x1=\"190\" y1=\"31\" x2=\"205\" y2=\"47\" />\n",
       "  <line x1=\"190\" y1=\"42\" x2=\"205\" y2=\"58\" style=\"stroke-width:2\" />\n",
       "\n",
       "  <!-- Vertical lines -->\n",
       "  <line x1=\"190\" y1=\"0\" x2=\"190\" y2=\"42\" style=\"stroke-width:2\" />\n",
       "  <line x1=\"196\" y1=\"6\" x2=\"196\" y2=\"48\" />\n",
       "  <line x1=\"202\" y1=\"12\" x2=\"202\" y2=\"55\" />\n",
       "  <line x1=\"205\" y1=\"15\" x2=\"205\" y2=\"58\" style=\"stroke-width:2\" />\n",
       "\n",
       "  <!-- Colored Rectangle -->\n",
       "  <polygon points=\"190.0,0.0 205.87199055218727,15.871990552187281 205.87199055218727,58.25976412852563 190.0,42.387773576338354\" style=\"fill:#ECB172A0;stroke-width:0\"/>\n",
       "\n",
       "  <!-- Horizontal lines -->\n",
       "  <line x1=\"190\" y1=\"0\" x2=\"231\" y2=\"0\" style=\"stroke-width:2\" />\n",
       "  <line x1=\"196\" y1=\"6\" x2=\"238\" y2=\"6\" />\n",
       "  <line x1=\"202\" y1=\"12\" x2=\"244\" y2=\"12\" />\n",
       "  <line x1=\"205\" y1=\"15\" x2=\"247\" y2=\"15\" style=\"stroke-width:2\" />\n",
       "\n",
       "  <!-- Vertical lines -->\n",
       "  <line x1=\"190\" y1=\"0\" x2=\"205\" y2=\"15\" style=\"stroke-width:2\" />\n",
       "  <line x1=\"210\" y1=\"0\" x2=\"226\" y2=\"15\" />\n",
       "  <line x1=\"231\" y1=\"0\" x2=\"247\" y2=\"15\" style=\"stroke-width:2\" />\n",
       "\n",
       "  <!-- Colored Rectangle -->\n",
       "  <polygon points=\"190.0,0.0 231.95139247027802,0.0 247.8233830224653,15.871990552187281 205.87199055218727,15.871990552187281\" style=\"fill:#ECB172A0;stroke-width:0\"/>\n",
       "\n",
       "  <!-- Horizontal lines -->\n",
       "  <line x1=\"205\" y1=\"15\" x2=\"247\" y2=\"15\" style=\"stroke-width:2\" />\n",
       "  <line x1=\"205\" y1=\"26\" x2=\"247\" y2=\"26\" />\n",
       "  <line x1=\"205\" y1=\"37\" x2=\"247\" y2=\"37\" />\n",
       "  <line x1=\"205\" y1=\"47\" x2=\"247\" y2=\"47\" />\n",
       "  <line x1=\"205\" y1=\"58\" x2=\"247\" y2=\"58\" style=\"stroke-width:2\" />\n",
       "\n",
       "  <!-- Vertical lines -->\n",
       "  <line x1=\"205\" y1=\"15\" x2=\"205\" y2=\"58\" style=\"stroke-width:2\" />\n",
       "  <line x1=\"226\" y1=\"15\" x2=\"226\" y2=\"58\" />\n",
       "  <line x1=\"247\" y1=\"15\" x2=\"247\" y2=\"58\" style=\"stroke-width:2\" />\n",
       "\n",
       "  <!-- Colored Rectangle -->\n",
       "  <polygon points=\"205.87199055218727,15.871990552187281 247.8233830224653,15.871990552187281 247.8233830224653,58.25976412852563 205.87199055218727,58.25976412852563\" style=\"fill:#ECB172A0;stroke-width:0\"/>\n",
       "\n",
       "  <!-- Text -->\n",
       "  <text x=\"226.847687\" y=\"78.259764\" font-size=\"1.0rem\" font-weight=\"100\" text-anchor=\"middle\" >72</text>\n",
       "  <text x=\"267.823383\" y=\"37.065877\" font-size=\"1.0rem\" font-weight=\"100\" text-anchor=\"middle\" transform=\"rotate(0,267.823383,37.065877)\">80</text>\n",
       "  <text x=\"187.935995\" y=\"70.323769\" font-size=\"1.0rem\" font-weight=\"100\" text-anchor=\"middle\" transform=\"rotate(45,187.935995,70.323769)\">5</text>\n",
       "</svg>\n",
       "        </td>\n",
       "    </tr>\n",
       "</table></div></li><li class='xr-var-item'><div class='xr-var-name'><span>std</span></div><div class='xr-var-dims'>(lat, lon, dayofyear)</div><div class='xr-var-dtype'>float64</div><div class='xr-var-preview xr-preview'>dask.array&lt;chunksize=(20, 18, 183), meta=np.ndarray&gt;</div><input id='attrs-4cb1e9ed-c09b-4e84-90bf-8a3f3c2b5f97' class='xr-var-attrs-in' type='checkbox' disabled><label for='attrs-4cb1e9ed-c09b-4e84-90bf-8a3f3c2b5f97' title='Show/Hide attributes'><svg class='icon xr-icon-file-text2'><use xlink:href='#icon-file-text2'></use></svg></label><input id='data-85a77e19-e663-427f-94a8-bca5d56710ab' class='xr-var-data-in' type='checkbox'><label for='data-85a77e19-e663-427f-94a8-bca5d56710ab' title='Show/Hide data repr'><svg class='icon xr-icon-database'><use xlink:href='#icon-database'></use></svg></label><div class='xr-var-attrs'><dl class='xr-attrs'></dl></div><div class='xr-var-data'><table>\n",
       "    <tr>\n",
       "        <td>\n",
       "            <table>\n",
       "                <thead>\n",
       "                    <tr>\n",
       "                        <td> </td>\n",
       "                        <th> Array </th>\n",
       "                        <th> Chunk </th>\n",
       "                    </tr>\n",
       "                </thead>\n",
       "                <tbody>\n",
       "                    \n",
       "                    <tr>\n",
       "                        <th> Bytes </th>\n",
       "                        <td> 16.04 MiB </td>\n",
       "                        <td> 514.69 kiB </td>\n",
       "                    </tr>\n",
       "                    \n",
       "                    <tr>\n",
       "                        <th> Shape </th>\n",
       "                        <td> (80, 72, 365) </td>\n",
       "                        <td> (20, 18, 183) </td>\n",
       "                    </tr>\n",
       "                    <tr>\n",
       "                        <th> Count </th>\n",
       "                        <td> 2 Graph Layers </td>\n",
       "                        <td> 32 Chunks </td>\n",
       "                    </tr>\n",
       "                    <tr>\n",
       "                    <th> Type </th>\n",
       "                    <td> float64 </td>\n",
       "                    <td> numpy.ndarray </td>\n",
       "                    </tr>\n",
       "                </tbody>\n",
       "            </table>\n",
       "        </td>\n",
       "        <td>\n",
       "        <svg width=\"204\" height=\"116\" style=\"stroke:rgb(0,0,0);stroke-width:1\" >\n",
       "\n",
       "  <!-- Horizontal lines -->\n",
       "  <line x1=\"10\" y1=\"0\" x2=\"34\" y2=\"24\" style=\"stroke-width:2\" />\n",
       "  <line x1=\"10\" y1=\"10\" x2=\"34\" y2=\"35\" />\n",
       "  <line x1=\"10\" y1=\"20\" x2=\"34\" y2=\"45\" />\n",
       "  <line x1=\"10\" y1=\"31\" x2=\"34\" y2=\"56\" />\n",
       "  <line x1=\"10\" y1=\"41\" x2=\"34\" y2=\"66\" style=\"stroke-width:2\" />\n",
       "\n",
       "  <!-- Vertical lines -->\n",
       "  <line x1=\"10\" y1=\"0\" x2=\"10\" y2=\"41\" style=\"stroke-width:2\" />\n",
       "  <line x1=\"16\" y1=\"6\" x2=\"16\" y2=\"48\" />\n",
       "  <line x1=\"22\" y1=\"12\" x2=\"22\" y2=\"54\" />\n",
       "  <line x1=\"28\" y1=\"18\" x2=\"28\" y2=\"60\" />\n",
       "  <line x1=\"34\" y1=\"24\" x2=\"34\" y2=\"66\" style=\"stroke-width:2\" />\n",
       "\n",
       "  <!-- Colored Rectangle -->\n",
       "  <polygon points=\"10.0,0.0 34.93398445666962,24.93398445666962 34.93398445666962,66.88537692694763 10.0,41.951392470278016\" style=\"fill:#ECB172A0;stroke-width:0\"/>\n",
       "\n",
       "  <!-- Horizontal lines -->\n",
       "  <line x1=\"10\" y1=\"0\" x2=\"130\" y2=\"0\" style=\"stroke-width:2\" />\n",
       "  <line x1=\"16\" y1=\"6\" x2=\"136\" y2=\"6\" />\n",
       "  <line x1=\"22\" y1=\"12\" x2=\"142\" y2=\"12\" />\n",
       "  <line x1=\"28\" y1=\"18\" x2=\"148\" y2=\"18\" />\n",
       "  <line x1=\"34\" y1=\"24\" x2=\"154\" y2=\"24\" style=\"stroke-width:2\" />\n",
       "\n",
       "  <!-- Vertical lines -->\n",
       "  <line x1=\"10\" y1=\"0\" x2=\"34\" y2=\"24\" style=\"stroke-width:2\" />\n",
       "  <line x1=\"70\" y1=\"0\" x2=\"95\" y2=\"24\" />\n",
       "  <line x1=\"130\" y1=\"0\" x2=\"154\" y2=\"24\" style=\"stroke-width:2\" />\n",
       "\n",
       "  <!-- Colored Rectangle -->\n",
       "  <polygon points=\"10.0,0.0 130.0,0.0 154.93398445666963,24.93398445666962 34.93398445666962,24.93398445666962\" style=\"fill:#ECB172A0;stroke-width:0\"/>\n",
       "\n",
       "  <!-- Horizontal lines -->\n",
       "  <line x1=\"34\" y1=\"24\" x2=\"154\" y2=\"24\" style=\"stroke-width:2\" />\n",
       "  <line x1=\"34\" y1=\"35\" x2=\"154\" y2=\"35\" />\n",
       "  <line x1=\"34\" y1=\"45\" x2=\"154\" y2=\"45\" />\n",
       "  <line x1=\"34\" y1=\"56\" x2=\"154\" y2=\"56\" />\n",
       "  <line x1=\"34\" y1=\"66\" x2=\"154\" y2=\"66\" style=\"stroke-width:2\" />\n",
       "\n",
       "  <!-- Vertical lines -->\n",
       "  <line x1=\"34\" y1=\"24\" x2=\"34\" y2=\"66\" style=\"stroke-width:2\" />\n",
       "  <line x1=\"95\" y1=\"24\" x2=\"95\" y2=\"66\" />\n",
       "  <line x1=\"154\" y1=\"24\" x2=\"154\" y2=\"66\" style=\"stroke-width:2\" />\n",
       "\n",
       "  <!-- Colored Rectangle -->\n",
       "  <polygon points=\"34.93398445666962,24.93398445666962 154.93398445666963,24.93398445666962 154.93398445666963,66.88537692694763 34.93398445666962,66.88537692694763\" style=\"fill:#ECB172A0;stroke-width:0\"/>\n",
       "\n",
       "  <!-- Text -->\n",
       "  <text x=\"94.933984\" y=\"86.885377\" font-size=\"1.0rem\" font-weight=\"100\" text-anchor=\"middle\" >365</text>\n",
       "  <text x=\"174.933984\" y=\"45.909681\" font-size=\"1.0rem\" font-weight=\"100\" text-anchor=\"middle\" transform=\"rotate(0,174.933984,45.909681)\">72</text>\n",
       "  <text x=\"12.466992\" y=\"74.418385\" font-size=\"1.0rem\" font-weight=\"100\" text-anchor=\"middle\" transform=\"rotate(45,12.466992,74.418385)\">80</text>\n",
       "</svg>\n",
       "        </td>\n",
       "    </tr>\n",
       "</table></div></li></ul></div></li><li class='xr-section-item'><input id='section-e650f9c9-eb92-4377-97a9-150a3639dad6' class='xr-section-summary-in' type='checkbox' disabled ><label for='section-e650f9c9-eb92-4377-97a9-150a3639dad6' class='xr-section-summary'  title='Expand/collapse section'>Attributes: <span>(0)</span></label><div class='xr-section-inline-details'></div><div class='xr-section-details'><dl class='xr-attrs'></dl></div></li></ul></div></div>"
      ],
      "text/plain": [
       "<xarray.Dataset>\n",
       "Dimensions:    (lat: 80, lon: 72, dayofyear: 365, quantile: 5)\n",
       "Coordinates:\n",
       "  * dayofyear  (dayofyear) int64 1 2 3 4 5 6 7 8 ... 359 360 361 362 363 364 365\n",
       "  * lat        (lat) float32 -49.88 -49.62 -49.38 ... -30.62 -30.38 -30.12\n",
       "  * lon        (lon) float32 162.1 162.4 162.6 162.9 ... 179.1 179.4 179.6 179.9\n",
       "  * quantile   (quantile) float64 0.1 0.25 0.5 0.75 0.9\n",
       "Data variables:\n",
       "    average    (lat, lon, dayofyear) float64 dask.array<chunksize=(20, 18, 183), meta=np.ndarray>\n",
       "    quantiles  (dayofyear, quantile, lat, lon) float64 dask.array<chunksize=(92, 2, 20, 36), meta=np.ndarray>\n",
       "    std        (lat, lon, dayofyear) float64 dask.array<chunksize=(20, 18, 183), meta=np.ndarray>"
      ]
     },
     "execution_count": 27,
     "metadata": {},
     "output_type": "execute_result"
    }
   ],
   "source": [
    "clim"
   ]
  },
  {
   "cell_type": "markdown",
   "id": "0040335e-9828-4b8e-bb83-254e503f4fc3",
   "metadata": {
    "papermill": {
     "duration": 0.008653,
     "end_time": "2022-11-03T01:53:02.835352",
     "exception": false,
     "start_time": "2022-11-03T01:53:02.826699",
     "status": "completed"
    },
    "tags": []
   },
   "source": [
    "### calculate the anomalies with respect to the 1991-2020 average"
   ]
  },
  {
   "cell_type": "code",
   "execution_count": 28,
   "id": "f9ad7ac6-1762-4db1-ab02-d06440faa791",
   "metadata": {
    "execution": {
     "iopub.execute_input": "2022-11-03T01:53:02.853126Z",
     "iopub.status.busy": "2022-11-03T01:53:02.852989Z",
     "iopub.status.idle": "2022-11-03T01:53:02.880192Z",
     "shell.execute_reply": "2022-11-03T01:53:02.879789Z"
    },
    "papermill": {
     "duration": 0.038193,
     "end_time": "2022-11-03T01:53:02.881835",
     "exception": false,
     "start_time": "2022-11-03T01:53:02.843642",
     "status": "completed"
    },
    "tags": []
   },
   "outputs": [],
   "source": [
    "anoms = dset.groupby(dset.time.dt.dayofyear) - clim[\"average\"]"
   ]
  },
  {
   "cell_type": "markdown",
   "id": "557a7ac1-a062-4336-ad67-b04e1698f8a0",
   "metadata": {
    "papermill": {
     "duration": 0.009271,
     "end_time": "2022-11-03T01:53:02.900111",
     "exception": false,
     "start_time": "2022-11-03T01:53:02.890840",
     "status": "completed"
    },
    "tags": []
   },
   "source": [
    "### repeat the climatology over the time dimension "
   ]
  },
  {
   "cell_type": "code",
   "execution_count": 29,
   "id": "161e9d6f-2301-48fa-af75-fe2b4bca3818",
   "metadata": {
    "execution": {
     "iopub.execute_input": "2022-11-03T01:53:02.922394Z",
     "iopub.status.busy": "2022-11-03T01:53:02.922251Z",
     "iopub.status.idle": "2022-11-03T01:53:02.941279Z",
     "shell.execute_reply": "2022-11-03T01:53:02.940835Z"
    },
    "papermill": {
     "duration": 0.030061,
     "end_time": "2022-11-03T01:53:02.942534",
     "exception": false,
     "start_time": "2022-11-03T01:53:02.912473",
     "status": "completed"
    },
    "tags": []
   },
   "outputs": [],
   "source": [
    "clim_repeat = clim.sel(dayofyear=dset.time.dt.dayofyear)"
   ]
  },
  {
   "cell_type": "code",
   "execution_count": 30,
   "id": "2cbf0ba9-4771-45c4-bfdb-48f6880bf530",
   "metadata": {
    "execution": {
     "iopub.execute_input": "2022-11-03T01:53:02.961158Z",
     "iopub.status.busy": "2022-11-03T01:53:02.961019Z",
     "iopub.status.idle": "2022-11-03T01:53:02.989961Z",
     "shell.execute_reply": "2022-11-03T01:53:02.989497Z"
    },
    "papermill": {
     "duration": 0.03933,
     "end_time": "2022-11-03T01:53:02.990926",
     "exception": false,
     "start_time": "2022-11-03T01:53:02.951596",
     "status": "completed"
    },
    "tags": []
   },
   "outputs": [
    {
     "data": {
      "text/html": [
       "<div><svg style=\"position: absolute; width: 0; height: 0; overflow: hidden\">\n",
       "<defs>\n",
       "<symbol id=\"icon-database\" viewBox=\"0 0 32 32\">\n",
       "<path d=\"M16 0c-8.837 0-16 2.239-16 5v4c0 2.761 7.163 5 16 5s16-2.239 16-5v-4c0-2.761-7.163-5-16-5z\"></path>\n",
       "<path d=\"M16 17c-8.837 0-16-2.239-16-5v6c0 2.761 7.163 5 16 5s16-2.239 16-5v-6c0 2.761-7.163 5-16 5z\"></path>\n",
       "<path d=\"M16 26c-8.837 0-16-2.239-16-5v6c0 2.761 7.163 5 16 5s16-2.239 16-5v-6c0 2.761-7.163 5-16 5z\"></path>\n",
       "</symbol>\n",
       "<symbol id=\"icon-file-text2\" viewBox=\"0 0 32 32\">\n",
       "<path d=\"M28.681 7.159c-0.694-0.947-1.662-2.053-2.724-3.116s-2.169-2.030-3.116-2.724c-1.612-1.182-2.393-1.319-2.841-1.319h-15.5c-1.378 0-2.5 1.121-2.5 2.5v27c0 1.378 1.122 2.5 2.5 2.5h23c1.378 0 2.5-1.122 2.5-2.5v-19.5c0-0.448-0.137-1.23-1.319-2.841zM24.543 5.457c0.959 0.959 1.712 1.825 2.268 2.543h-4.811v-4.811c0.718 0.556 1.584 1.309 2.543 2.268zM28 29.5c0 0.271-0.229 0.5-0.5 0.5h-23c-0.271 0-0.5-0.229-0.5-0.5v-27c0-0.271 0.229-0.5 0.5-0.5 0 0 15.499-0 15.5 0v7c0 0.552 0.448 1 1 1h7v19.5z\"></path>\n",
       "<path d=\"M23 26h-14c-0.552 0-1-0.448-1-1s0.448-1 1-1h14c0.552 0 1 0.448 1 1s-0.448 1-1 1z\"></path>\n",
       "<path d=\"M23 22h-14c-0.552 0-1-0.448-1-1s0.448-1 1-1h14c0.552 0 1 0.448 1 1s-0.448 1-1 1z\"></path>\n",
       "<path d=\"M23 18h-14c-0.552 0-1-0.448-1-1s0.448-1 1-1h14c0.552 0 1 0.448 1 1s-0.448 1-1 1z\"></path>\n",
       "</symbol>\n",
       "</defs>\n",
       "</svg>\n",
       "<style>/* CSS stylesheet for displaying xarray objects in jupyterlab.\n",
       " *\n",
       " */\n",
       "\n",
       ":root {\n",
       "  --xr-font-color0: var(--jp-content-font-color0, rgba(0, 0, 0, 1));\n",
       "  --xr-font-color2: var(--jp-content-font-color2, rgba(0, 0, 0, 0.54));\n",
       "  --xr-font-color3: var(--jp-content-font-color3, rgba(0, 0, 0, 0.38));\n",
       "  --xr-border-color: var(--jp-border-color2, #e0e0e0);\n",
       "  --xr-disabled-color: var(--jp-layout-color3, #bdbdbd);\n",
       "  --xr-background-color: var(--jp-layout-color0, white);\n",
       "  --xr-background-color-row-even: var(--jp-layout-color1, white);\n",
       "  --xr-background-color-row-odd: var(--jp-layout-color2, #eeeeee);\n",
       "}\n",
       "\n",
       "html[theme=dark],\n",
       "body[data-theme=dark],\n",
       "body.vscode-dark {\n",
       "  --xr-font-color0: rgba(255, 255, 255, 1);\n",
       "  --xr-font-color2: rgba(255, 255, 255, 0.54);\n",
       "  --xr-font-color3: rgba(255, 255, 255, 0.38);\n",
       "  --xr-border-color: #1F1F1F;\n",
       "  --xr-disabled-color: #515151;\n",
       "  --xr-background-color: #111111;\n",
       "  --xr-background-color-row-even: #111111;\n",
       "  --xr-background-color-row-odd: #313131;\n",
       "}\n",
       "\n",
       ".xr-wrap {\n",
       "  display: block !important;\n",
       "  min-width: 300px;\n",
       "  max-width: 700px;\n",
       "}\n",
       "\n",
       ".xr-text-repr-fallback {\n",
       "  /* fallback to plain text repr when CSS is not injected (untrusted notebook) */\n",
       "  display: none;\n",
       "}\n",
       "\n",
       ".xr-header {\n",
       "  padding-top: 6px;\n",
       "  padding-bottom: 6px;\n",
       "  margin-bottom: 4px;\n",
       "  border-bottom: solid 1px var(--xr-border-color);\n",
       "}\n",
       "\n",
       ".xr-header > div,\n",
       ".xr-header > ul {\n",
       "  display: inline;\n",
       "  margin-top: 0;\n",
       "  margin-bottom: 0;\n",
       "}\n",
       "\n",
       ".xr-obj-type,\n",
       ".xr-array-name {\n",
       "  margin-left: 2px;\n",
       "  margin-right: 10px;\n",
       "}\n",
       "\n",
       ".xr-obj-type {\n",
       "  color: var(--xr-font-color2);\n",
       "}\n",
       "\n",
       ".xr-sections {\n",
       "  padding-left: 0 !important;\n",
       "  display: grid;\n",
       "  grid-template-columns: 150px auto auto 1fr 20px 20px;\n",
       "}\n",
       "\n",
       ".xr-section-item {\n",
       "  display: contents;\n",
       "}\n",
       "\n",
       ".xr-section-item input {\n",
       "  display: none;\n",
       "}\n",
       "\n",
       ".xr-section-item input + label {\n",
       "  color: var(--xr-disabled-color);\n",
       "}\n",
       "\n",
       ".xr-section-item input:enabled + label {\n",
       "  cursor: pointer;\n",
       "  color: var(--xr-font-color2);\n",
       "}\n",
       "\n",
       ".xr-section-item input:enabled + label:hover {\n",
       "  color: var(--xr-font-color0);\n",
       "}\n",
       "\n",
       ".xr-section-summary {\n",
       "  grid-column: 1;\n",
       "  color: var(--xr-font-color2);\n",
       "  font-weight: 500;\n",
       "}\n",
       "\n",
       ".xr-section-summary > span {\n",
       "  display: inline-block;\n",
       "  padding-left: 0.5em;\n",
       "}\n",
       "\n",
       ".xr-section-summary-in:disabled + label {\n",
       "  color: var(--xr-font-color2);\n",
       "}\n",
       "\n",
       ".xr-section-summary-in + label:before {\n",
       "  display: inline-block;\n",
       "  content: '►';\n",
       "  font-size: 11px;\n",
       "  width: 15px;\n",
       "  text-align: center;\n",
       "}\n",
       "\n",
       ".xr-section-summary-in:disabled + label:before {\n",
       "  color: var(--xr-disabled-color);\n",
       "}\n",
       "\n",
       ".xr-section-summary-in:checked + label:before {\n",
       "  content: '▼';\n",
       "}\n",
       "\n",
       ".xr-section-summary-in:checked + label > span {\n",
       "  display: none;\n",
       "}\n",
       "\n",
       ".xr-section-summary,\n",
       ".xr-section-inline-details {\n",
       "  padding-top: 4px;\n",
       "  padding-bottom: 4px;\n",
       "}\n",
       "\n",
       ".xr-section-inline-details {\n",
       "  grid-column: 2 / -1;\n",
       "}\n",
       "\n",
       ".xr-section-details {\n",
       "  display: none;\n",
       "  grid-column: 1 / -1;\n",
       "  margin-bottom: 5px;\n",
       "}\n",
       "\n",
       ".xr-section-summary-in:checked ~ .xr-section-details {\n",
       "  display: contents;\n",
       "}\n",
       "\n",
       ".xr-array-wrap {\n",
       "  grid-column: 1 / -1;\n",
       "  display: grid;\n",
       "  grid-template-columns: 20px auto;\n",
       "}\n",
       "\n",
       ".xr-array-wrap > label {\n",
       "  grid-column: 1;\n",
       "  vertical-align: top;\n",
       "}\n",
       "\n",
       ".xr-preview {\n",
       "  color: var(--xr-font-color3);\n",
       "}\n",
       "\n",
       ".xr-array-preview,\n",
       ".xr-array-data {\n",
       "  padding: 0 5px !important;\n",
       "  grid-column: 2;\n",
       "}\n",
       "\n",
       ".xr-array-data,\n",
       ".xr-array-in:checked ~ .xr-array-preview {\n",
       "  display: none;\n",
       "}\n",
       "\n",
       ".xr-array-in:checked ~ .xr-array-data,\n",
       ".xr-array-preview {\n",
       "  display: inline-block;\n",
       "}\n",
       "\n",
       ".xr-dim-list {\n",
       "  display: inline-block !important;\n",
       "  list-style: none;\n",
       "  padding: 0 !important;\n",
       "  margin: 0;\n",
       "}\n",
       "\n",
       ".xr-dim-list li {\n",
       "  display: inline-block;\n",
       "  padding: 0;\n",
       "  margin: 0;\n",
       "}\n",
       "\n",
       ".xr-dim-list:before {\n",
       "  content: '(';\n",
       "}\n",
       "\n",
       ".xr-dim-list:after {\n",
       "  content: ')';\n",
       "}\n",
       "\n",
       ".xr-dim-list li:not(:last-child):after {\n",
       "  content: ',';\n",
       "  padding-right: 5px;\n",
       "}\n",
       "\n",
       ".xr-has-index {\n",
       "  font-weight: bold;\n",
       "}\n",
       "\n",
       ".xr-var-list,\n",
       ".xr-var-item {\n",
       "  display: contents;\n",
       "}\n",
       "\n",
       ".xr-var-item > div,\n",
       ".xr-var-item label,\n",
       ".xr-var-item > .xr-var-name span {\n",
       "  background-color: var(--xr-background-color-row-even);\n",
       "  margin-bottom: 0;\n",
       "}\n",
       "\n",
       ".xr-var-item > .xr-var-name:hover span {\n",
       "  padding-right: 5px;\n",
       "}\n",
       "\n",
       ".xr-var-list > li:nth-child(odd) > div,\n",
       ".xr-var-list > li:nth-child(odd) > label,\n",
       ".xr-var-list > li:nth-child(odd) > .xr-var-name span {\n",
       "  background-color: var(--xr-background-color-row-odd);\n",
       "}\n",
       "\n",
       ".xr-var-name {\n",
       "  grid-column: 1;\n",
       "}\n",
       "\n",
       ".xr-var-dims {\n",
       "  grid-column: 2;\n",
       "}\n",
       "\n",
       ".xr-var-dtype {\n",
       "  grid-column: 3;\n",
       "  text-align: right;\n",
       "  color: var(--xr-font-color2);\n",
       "}\n",
       "\n",
       ".xr-var-preview {\n",
       "  grid-column: 4;\n",
       "}\n",
       "\n",
       ".xr-var-name,\n",
       ".xr-var-dims,\n",
       ".xr-var-dtype,\n",
       ".xr-preview,\n",
       ".xr-attrs dt {\n",
       "  white-space: nowrap;\n",
       "  overflow: hidden;\n",
       "  text-overflow: ellipsis;\n",
       "  padding-right: 10px;\n",
       "}\n",
       "\n",
       ".xr-var-name:hover,\n",
       ".xr-var-dims:hover,\n",
       ".xr-var-dtype:hover,\n",
       ".xr-attrs dt:hover {\n",
       "  overflow: visible;\n",
       "  width: auto;\n",
       "  z-index: 1;\n",
       "}\n",
       "\n",
       ".xr-var-attrs,\n",
       ".xr-var-data {\n",
       "  display: none;\n",
       "  background-color: var(--xr-background-color) !important;\n",
       "  padding-bottom: 5px !important;\n",
       "}\n",
       "\n",
       ".xr-var-attrs-in:checked ~ .xr-var-attrs,\n",
       ".xr-var-data-in:checked ~ .xr-var-data {\n",
       "  display: block;\n",
       "}\n",
       "\n",
       ".xr-var-data > table {\n",
       "  float: right;\n",
       "}\n",
       "\n",
       ".xr-var-name span,\n",
       ".xr-var-data,\n",
       ".xr-attrs {\n",
       "  padding-left: 25px !important;\n",
       "}\n",
       "\n",
       ".xr-attrs,\n",
       ".xr-var-attrs,\n",
       ".xr-var-data {\n",
       "  grid-column: 1 / -1;\n",
       "}\n",
       "\n",
       "dl.xr-attrs {\n",
       "  padding: 0;\n",
       "  margin: 0;\n",
       "  display: grid;\n",
       "  grid-template-columns: 125px auto;\n",
       "}\n",
       "\n",
       ".xr-attrs dt,\n",
       ".xr-attrs dd {\n",
       "  padding: 0;\n",
       "  margin: 0;\n",
       "  float: left;\n",
       "  padding-right: 10px;\n",
       "  width: auto;\n",
       "}\n",
       "\n",
       ".xr-attrs dt {\n",
       "  font-weight: normal;\n",
       "  grid-column: 1;\n",
       "}\n",
       "\n",
       ".xr-attrs dt:hover span {\n",
       "  display: inline-block;\n",
       "  background: var(--xr-background-color);\n",
       "  padding-right: 10px;\n",
       "}\n",
       "\n",
       ".xr-attrs dd {\n",
       "  grid-column: 2;\n",
       "  white-space: pre-wrap;\n",
       "  word-break: break-all;\n",
       "}\n",
       "\n",
       ".xr-icon-database,\n",
       ".xr-icon-file-text2 {\n",
       "  display: inline-block;\n",
       "  vertical-align: middle;\n",
       "  width: 1em;\n",
       "  height: 1.5em !important;\n",
       "  stroke-width: 0;\n",
       "  stroke: currentColor;\n",
       "  fill: currentColor;\n",
       "}\n",
       "</style><pre class='xr-text-repr-fallback'>&lt;xarray.Dataset&gt;\n",
       "Dimensions:    (lat: 80, lon: 72, time: 1369, quantile: 5)\n",
       "Coordinates:\n",
       "    dayofyear  (time) int64 32 33 34 35 36 37 38 ... 299 300 301 302 303 304 305\n",
       "  * lat        (lat) float32 -49.88 -49.62 -49.38 ... -30.62 -30.38 -30.12\n",
       "  * lon        (lon) float32 162.1 162.4 162.6 162.9 ... 179.1 179.4 179.6 179.9\n",
       "  * quantile   (quantile) float64 0.1 0.25 0.5 0.75 0.9\n",
       "  * time       (time) object 2019-02-01 00:00:00 ... 2022-11-01 00:00:00\n",
       "Data variables:\n",
       "    average    (lat, lon, time) float64 dask.array&lt;chunksize=(20, 18, 152), meta=np.ndarray&gt;\n",
       "    quantiles  (time, quantile, lat, lon) float64 dask.array&lt;chunksize=(61, 2, 20, 36), meta=np.ndarray&gt;\n",
       "    std        (lat, lon, time) float64 dask.array&lt;chunksize=(20, 18, 152), meta=np.ndarray&gt;</pre><div class='xr-wrap' style='display:none'><div class='xr-header'><div class='xr-obj-type'>xarray.Dataset</div></div><ul class='xr-sections'><li class='xr-section-item'><input id='section-03e2bd4b-56ec-42ca-ba2a-9842ccf1702b' class='xr-section-summary-in' type='checkbox' disabled ><label for='section-03e2bd4b-56ec-42ca-ba2a-9842ccf1702b' class='xr-section-summary'  title='Expand/collapse section'>Dimensions:</label><div class='xr-section-inline-details'><ul class='xr-dim-list'><li><span class='xr-has-index'>lat</span>: 80</li><li><span class='xr-has-index'>lon</span>: 72</li><li><span class='xr-has-index'>time</span>: 1369</li><li><span class='xr-has-index'>quantile</span>: 5</li></ul></div><div class='xr-section-details'></div></li><li class='xr-section-item'><input id='section-edd415b2-261c-44ad-bfdf-01e906b80c06' class='xr-section-summary-in' type='checkbox'  checked><label for='section-edd415b2-261c-44ad-bfdf-01e906b80c06' class='xr-section-summary' >Coordinates: <span>(5)</span></label><div class='xr-section-inline-details'></div><div class='xr-section-details'><ul class='xr-var-list'><li class='xr-var-item'><div class='xr-var-name'><span>dayofyear</span></div><div class='xr-var-dims'>(time)</div><div class='xr-var-dtype'>int64</div><div class='xr-var-preview xr-preview'>32 33 34 35 36 ... 302 303 304 305</div><input id='attrs-2e8ab91e-e36c-48da-a520-80ba607d6b2e' class='xr-var-attrs-in' type='checkbox' disabled><label for='attrs-2e8ab91e-e36c-48da-a520-80ba607d6b2e' title='Show/Hide attributes'><svg class='icon xr-icon-file-text2'><use xlink:href='#icon-file-text2'></use></svg></label><input id='data-2a1892bc-5511-41d8-a368-f77ae07c1564' class='xr-var-data-in' type='checkbox'><label for='data-2a1892bc-5511-41d8-a368-f77ae07c1564' title='Show/Hide data repr'><svg class='icon xr-icon-database'><use xlink:href='#icon-database'></use></svg></label><div class='xr-var-attrs'><dl class='xr-attrs'></dl></div><div class='xr-var-data'><pre>array([ 32,  33,  34, ..., 303, 304, 305])</pre></div></li><li class='xr-var-item'><div class='xr-var-name'><span class='xr-has-index'>lat</span></div><div class='xr-var-dims'>(lat)</div><div class='xr-var-dtype'>float32</div><div class='xr-var-preview xr-preview'>-49.88 -49.62 ... -30.38 -30.12</div><input id='attrs-e40bff9e-36ff-4971-a26a-a7f21cd828df' class='xr-var-attrs-in' type='checkbox' disabled><label for='attrs-e40bff9e-36ff-4971-a26a-a7f21cd828df' title='Show/Hide attributes'><svg class='icon xr-icon-file-text2'><use xlink:href='#icon-file-text2'></use></svg></label><input id='data-97fb7729-a5bb-4d75-9611-17f5006bc156' class='xr-var-data-in' type='checkbox'><label for='data-97fb7729-a5bb-4d75-9611-17f5006bc156' title='Show/Hide data repr'><svg class='icon xr-icon-database'><use xlink:href='#icon-database'></use></svg></label><div class='xr-var-attrs'><dl class='xr-attrs'></dl></div><div class='xr-var-data'><pre>array([-49.875, -49.625, -49.375, -49.125, -48.875, -48.625, -48.375, -48.125,\n",
       "       -47.875, -47.625, -47.375, -47.125, -46.875, -46.625, -46.375, -46.125,\n",
       "       -45.875, -45.625, -45.375, -45.125, -44.875, -44.625, -44.375, -44.125,\n",
       "       -43.875, -43.625, -43.375, -43.125, -42.875, -42.625, -42.375, -42.125,\n",
       "       -41.875, -41.625, -41.375, -41.125, -40.875, -40.625, -40.375, -40.125,\n",
       "       -39.875, -39.625, -39.375, -39.125, -38.875, -38.625, -38.375, -38.125,\n",
       "       -37.875, -37.625, -37.375, -37.125, -36.875, -36.625, -36.375, -36.125,\n",
       "       -35.875, -35.625, -35.375, -35.125, -34.875, -34.625, -34.375, -34.125,\n",
       "       -33.875, -33.625, -33.375, -33.125, -32.875, -32.625, -32.375, -32.125,\n",
       "       -31.875, -31.625, -31.375, -31.125, -30.875, -30.625, -30.375, -30.125],\n",
       "      dtype=float32)</pre></div></li><li class='xr-var-item'><div class='xr-var-name'><span class='xr-has-index'>lon</span></div><div class='xr-var-dims'>(lon)</div><div class='xr-var-dtype'>float32</div><div class='xr-var-preview xr-preview'>162.1 162.4 162.6 ... 179.6 179.9</div><input id='attrs-9f461a87-9810-45af-bb8d-0ed486f2ecd2' class='xr-var-attrs-in' type='checkbox' disabled><label for='attrs-9f461a87-9810-45af-bb8d-0ed486f2ecd2' title='Show/Hide attributes'><svg class='icon xr-icon-file-text2'><use xlink:href='#icon-file-text2'></use></svg></label><input id='data-21d23c3a-1d77-4c4a-b47c-36ecaaaeddd8' class='xr-var-data-in' type='checkbox'><label for='data-21d23c3a-1d77-4c4a-b47c-36ecaaaeddd8' title='Show/Hide data repr'><svg class='icon xr-icon-database'><use xlink:href='#icon-database'></use></svg></label><div class='xr-var-attrs'><dl class='xr-attrs'></dl></div><div class='xr-var-data'><pre>array([162.125, 162.375, 162.625, 162.875, 163.125, 163.375, 163.625, 163.875,\n",
       "       164.125, 164.375, 164.625, 164.875, 165.125, 165.375, 165.625, 165.875,\n",
       "       166.125, 166.375, 166.625, 166.875, 167.125, 167.375, 167.625, 167.875,\n",
       "       168.125, 168.375, 168.625, 168.875, 169.125, 169.375, 169.625, 169.875,\n",
       "       170.125, 170.375, 170.625, 170.875, 171.125, 171.375, 171.625, 171.875,\n",
       "       172.125, 172.375, 172.625, 172.875, 173.125, 173.375, 173.625, 173.875,\n",
       "       174.125, 174.375, 174.625, 174.875, 175.125, 175.375, 175.625, 175.875,\n",
       "       176.125, 176.375, 176.625, 176.875, 177.125, 177.375, 177.625, 177.875,\n",
       "       178.125, 178.375, 178.625, 178.875, 179.125, 179.375, 179.625, 179.875],\n",
       "      dtype=float32)</pre></div></li><li class='xr-var-item'><div class='xr-var-name'><span class='xr-has-index'>quantile</span></div><div class='xr-var-dims'>(quantile)</div><div class='xr-var-dtype'>float64</div><div class='xr-var-preview xr-preview'>0.1 0.25 0.5 0.75 0.9</div><input id='attrs-78c107c8-0bfe-42e7-9952-bc2870d433c3' class='xr-var-attrs-in' type='checkbox' disabled><label for='attrs-78c107c8-0bfe-42e7-9952-bc2870d433c3' title='Show/Hide attributes'><svg class='icon xr-icon-file-text2'><use xlink:href='#icon-file-text2'></use></svg></label><input id='data-e7f46360-447d-49f9-bac5-42e47fe55761' class='xr-var-data-in' type='checkbox'><label for='data-e7f46360-447d-49f9-bac5-42e47fe55761' title='Show/Hide data repr'><svg class='icon xr-icon-database'><use xlink:href='#icon-database'></use></svg></label><div class='xr-var-attrs'><dl class='xr-attrs'></dl></div><div class='xr-var-data'><pre>array([0.1 , 0.25, 0.5 , 0.75, 0.9 ])</pre></div></li><li class='xr-var-item'><div class='xr-var-name'><span class='xr-has-index'>time</span></div><div class='xr-var-dims'>(time)</div><div class='xr-var-dtype'>object</div><div class='xr-var-preview xr-preview'>2019-02-01 00:00:00 ... 2022-11-...</div><input id='attrs-520677af-40a1-473b-acad-c0332e27c726' class='xr-var-attrs-in' type='checkbox' ><label for='attrs-520677af-40a1-473b-acad-c0332e27c726' title='Show/Hide attributes'><svg class='icon xr-icon-file-text2'><use xlink:href='#icon-file-text2'></use></svg></label><input id='data-1ae5e53d-8e66-47e9-a446-a5936c226d90' class='xr-var-data-in' type='checkbox'><label for='data-1ae5e53d-8e66-47e9-a446-a5936c226d90' title='Show/Hide data repr'><svg class='icon xr-icon-database'><use xlink:href='#icon-database'></use></svg></label><div class='xr-var-attrs'><dl class='xr-attrs'><dt><span>long_name :</span></dt><dd>Time</dd><dt><span>delta_t :</span></dt><dd>0000-00-01 00:00:00</dd><dt><span>avg_period :</span></dt><dd>0000-00-01 00:00:00</dd><dt><span>axis :</span></dt><dd>T</dd><dt><span>actual_range :</span></dt><dd>[79988. 80352.]</dd><dt><span>_ChunkSizes :</span></dt><dd>1</dd></dl></div><div class='xr-var-data'><pre>array([cftime.DatetimeNoLeap(2019, 2, 1, 0, 0, 0, 0, has_year_zero=True),\n",
       "       cftime.DatetimeNoLeap(2019, 2, 2, 0, 0, 0, 0, has_year_zero=True),\n",
       "       cftime.DatetimeNoLeap(2019, 2, 3, 0, 0, 0, 0, has_year_zero=True), ...,\n",
       "       cftime.DatetimeNoLeap(2022, 10, 30, 0, 0, 0, 0, has_year_zero=True),\n",
       "       cftime.DatetimeNoLeap(2022, 10, 31, 0, 0, 0, 0, has_year_zero=True),\n",
       "       cftime.DatetimeNoLeap(2022, 11, 1, 0, 0, 0, 0, has_year_zero=True)],\n",
       "      dtype=object)</pre></div></li></ul></div></li><li class='xr-section-item'><input id='section-98bbeb9f-0ca7-4158-bfb4-5ed640a89dec' class='xr-section-summary-in' type='checkbox'  checked><label for='section-98bbeb9f-0ca7-4158-bfb4-5ed640a89dec' class='xr-section-summary' >Data variables: <span>(3)</span></label><div class='xr-section-inline-details'></div><div class='xr-section-details'><ul class='xr-var-list'><li class='xr-var-item'><div class='xr-var-name'><span>average</span></div><div class='xr-var-dims'>(lat, lon, time)</div><div class='xr-var-dtype'>float64</div><div class='xr-var-preview xr-preview'>dask.array&lt;chunksize=(20, 18, 152), meta=np.ndarray&gt;</div><input id='attrs-f671b7ac-b04e-4c87-b9ad-fb003a3e5b6d' class='xr-var-attrs-in' type='checkbox' disabled><label for='attrs-f671b7ac-b04e-4c87-b9ad-fb003a3e5b6d' title='Show/Hide attributes'><svg class='icon xr-icon-file-text2'><use xlink:href='#icon-file-text2'></use></svg></label><input id='data-0ac31fd2-2b48-4147-89d5-c2be56c5526a' class='xr-var-data-in' type='checkbox'><label for='data-0ac31fd2-2b48-4147-89d5-c2be56c5526a' title='Show/Hide data repr'><svg class='icon xr-icon-database'><use xlink:href='#icon-database'></use></svg></label><div class='xr-var-attrs'><dl class='xr-attrs'></dl></div><div class='xr-var-data'><table>\n",
       "    <tr>\n",
       "        <td>\n",
       "            <table>\n",
       "                <thead>\n",
       "                    <tr>\n",
       "                        <td> </td>\n",
       "                        <th> Array </th>\n",
       "                        <th> Chunk </th>\n",
       "                    </tr>\n",
       "                </thead>\n",
       "                <tbody>\n",
       "                    \n",
       "                    <tr>\n",
       "                        <th> Bytes </th>\n",
       "                        <td> 60.16 MiB </td>\n",
       "                        <td> 514.69 kiB </td>\n",
       "                    </tr>\n",
       "                    \n",
       "                    <tr>\n",
       "                        <th> Shape </th>\n",
       "                        <td> (80, 72, 1369) </td>\n",
       "                        <td> (20, 18, 183) </td>\n",
       "                    </tr>\n",
       "                    <tr>\n",
       "                        <th> Count </th>\n",
       "                        <td> 3 Graph Layers </td>\n",
       "                        <td> 128 Chunks </td>\n",
       "                    </tr>\n",
       "                    <tr>\n",
       "                    <th> Type </th>\n",
       "                    <td> float64 </td>\n",
       "                    <td> numpy.ndarray </td>\n",
       "                    </tr>\n",
       "                </tbody>\n",
       "            </table>\n",
       "        </td>\n",
       "        <td>\n",
       "        <svg width=\"200\" height=\"105\" style=\"stroke:rgb(0,0,0);stroke-width:1\" >\n",
       "\n",
       "  <!-- Horizontal lines -->\n",
       "  <line x1=\"10\" y1=\"0\" x2=\"30\" y2=\"20\" style=\"stroke-width:2\" />\n",
       "  <line x1=\"10\" y1=\"8\" x2=\"30\" y2=\"29\" />\n",
       "  <line x1=\"10\" y1=\"17\" x2=\"30\" y2=\"38\" />\n",
       "  <line x1=\"10\" y1=\"26\" x2=\"30\" y2=\"46\" />\n",
       "  <line x1=\"10\" y1=\"34\" x2=\"30\" y2=\"55\" style=\"stroke-width:2\" />\n",
       "\n",
       "  <!-- Vertical lines -->\n",
       "  <line x1=\"10\" y1=\"0\" x2=\"10\" y2=\"34\" style=\"stroke-width:2\" />\n",
       "  <line x1=\"15\" y1=\"5\" x2=\"15\" y2=\"40\" />\n",
       "  <line x1=\"20\" y1=\"10\" x2=\"20\" y2=\"45\" />\n",
       "  <line x1=\"25\" y1=\"15\" x2=\"25\" y2=\"50\" />\n",
       "  <line x1=\"30\" y1=\"20\" x2=\"30\" y2=\"55\" style=\"stroke-width:2\" />\n",
       "\n",
       "  <!-- Colored Rectangle -->\n",
       "  <polygon points=\"10.0,0.0 30.85439180092724,20.85439180092724 30.85439180092724,55.664746706239505 10.0,34.810354905312266\" style=\"fill:#ECB172A0;stroke-width:0\"/>\n",
       "\n",
       "  <!-- Horizontal lines -->\n",
       "  <line x1=\"10\" y1=\"0\" x2=\"130\" y2=\"0\" style=\"stroke-width:2\" />\n",
       "  <line x1=\"15\" y1=\"5\" x2=\"135\" y2=\"5\" />\n",
       "  <line x1=\"20\" y1=\"10\" x2=\"140\" y2=\"10\" />\n",
       "  <line x1=\"25\" y1=\"15\" x2=\"145\" y2=\"15\" />\n",
       "  <line x1=\"30\" y1=\"20\" x2=\"150\" y2=\"20\" style=\"stroke-width:2\" />\n",
       "\n",
       "  <!-- Vertical lines -->\n",
       "  <line x1=\"10\" y1=\"0\" x2=\"30\" y2=\"20\" style=\"stroke-width:2\" />\n",
       "  <line x1=\"23\" y1=\"0\" x2=\"44\" y2=\"20\" />\n",
       "  <line x1=\"39\" y1=\"0\" x2=\"60\" y2=\"20\" />\n",
       "  <line x1=\"55\" y1=\"0\" x2=\"76\" y2=\"20\" />\n",
       "  <line x1=\"71\" y1=\"0\" x2=\"92\" y2=\"20\" />\n",
       "  <line x1=\"87\" y1=\"0\" x2=\"108\" y2=\"20\" />\n",
       "  <line x1=\"103\" y1=\"0\" x2=\"124\" y2=\"20\" />\n",
       "  <line x1=\"119\" y1=\"0\" x2=\"140\" y2=\"20\" />\n",
       "  <line x1=\"130\" y1=\"0\" x2=\"150\" y2=\"20\" style=\"stroke-width:2\" />\n",
       "\n",
       "  <!-- Colored Rectangle -->\n",
       "  <polygon points=\"10.0,0.0 130.0,0.0 150.85439180092723,20.85439180092724 30.85439180092724,20.85439180092724\" style=\"fill:#ECB172A0;stroke-width:0\"/>\n",
       "\n",
       "  <!-- Horizontal lines -->\n",
       "  <line x1=\"30\" y1=\"20\" x2=\"150\" y2=\"20\" style=\"stroke-width:2\" />\n",
       "  <line x1=\"30\" y1=\"29\" x2=\"150\" y2=\"29\" />\n",
       "  <line x1=\"30\" y1=\"38\" x2=\"150\" y2=\"38\" />\n",
       "  <line x1=\"30\" y1=\"46\" x2=\"150\" y2=\"46\" />\n",
       "  <line x1=\"30\" y1=\"55\" x2=\"150\" y2=\"55\" style=\"stroke-width:2\" />\n",
       "\n",
       "  <!-- Vertical lines -->\n",
       "  <line x1=\"30\" y1=\"20\" x2=\"30\" y2=\"55\" style=\"stroke-width:2\" />\n",
       "  <line x1=\"44\" y1=\"20\" x2=\"44\" y2=\"55\" />\n",
       "  <line x1=\"60\" y1=\"20\" x2=\"60\" y2=\"55\" />\n",
       "  <line x1=\"76\" y1=\"20\" x2=\"76\" y2=\"55\" />\n",
       "  <line x1=\"92\" y1=\"20\" x2=\"92\" y2=\"55\" />\n",
       "  <line x1=\"108\" y1=\"20\" x2=\"108\" y2=\"55\" />\n",
       "  <line x1=\"124\" y1=\"20\" x2=\"124\" y2=\"55\" />\n",
       "  <line x1=\"140\" y1=\"20\" x2=\"140\" y2=\"55\" />\n",
       "  <line x1=\"150\" y1=\"20\" x2=\"150\" y2=\"55\" style=\"stroke-width:2\" />\n",
       "\n",
       "  <!-- Colored Rectangle -->\n",
       "  <polygon points=\"30.85439180092724,20.85439180092724 150.85439180092723,20.85439180092724 150.85439180092723,55.664746706239505 30.85439180092724,55.664746706239505\" style=\"fill:#ECB172A0;stroke-width:0\"/>\n",
       "\n",
       "  <!-- Text -->\n",
       "  <text x=\"90.854392\" y=\"75.664747\" font-size=\"1.0rem\" font-weight=\"100\" text-anchor=\"middle\" >1369</text>\n",
       "  <text x=\"170.854392\" y=\"38.259569\" font-size=\"1.0rem\" font-weight=\"100\" text-anchor=\"middle\" transform=\"rotate(0,170.854392,38.259569)\">72</text>\n",
       "  <text x=\"10.427196\" y=\"65.237551\" font-size=\"1.0rem\" font-weight=\"100\" text-anchor=\"middle\" transform=\"rotate(45,10.427196,65.237551)\">80</text>\n",
       "</svg>\n",
       "        </td>\n",
       "    </tr>\n",
       "</table></div></li><li class='xr-var-item'><div class='xr-var-name'><span>quantiles</span></div><div class='xr-var-dims'>(time, quantile, lat, lon)</div><div class='xr-var-dtype'>float64</div><div class='xr-var-preview xr-preview'>dask.array&lt;chunksize=(61, 2, 20, 36), meta=np.ndarray&gt;</div><input id='attrs-4a5f23ba-4faf-48bf-8fe4-5fec507025ed' class='xr-var-attrs-in' type='checkbox' disabled><label for='attrs-4a5f23ba-4faf-48bf-8fe4-5fec507025ed' title='Show/Hide attributes'><svg class='icon xr-icon-file-text2'><use xlink:href='#icon-file-text2'></use></svg></label><input id='data-86d0e57e-a211-4096-913b-b8ccb82adfbb' class='xr-var-data-in' type='checkbox'><label for='data-86d0e57e-a211-4096-913b-b8ccb82adfbb' title='Show/Hide data repr'><svg class='icon xr-icon-database'><use xlink:href='#icon-database'></use></svg></label><div class='xr-var-attrs'><dl class='xr-attrs'></dl></div><div class='xr-var-data'><table>\n",
       "    <tr>\n",
       "        <td>\n",
       "            <table>\n",
       "                <thead>\n",
       "                    <tr>\n",
       "                        <td> </td>\n",
       "                        <th> Array </th>\n",
       "                        <th> Chunk </th>\n",
       "                    </tr>\n",
       "                </thead>\n",
       "                <tbody>\n",
       "                    \n",
       "                    <tr>\n",
       "                        <th> Bytes </th>\n",
       "                        <td> 300.81 MiB </td>\n",
       "                        <td> 1.01 MiB </td>\n",
       "                    </tr>\n",
       "                    \n",
       "                    <tr>\n",
       "                        <th> Shape </th>\n",
       "                        <td> (1369, 5, 80, 72) </td>\n",
       "                        <td> (92, 2, 20, 36) </td>\n",
       "                    </tr>\n",
       "                    <tr>\n",
       "                        <th> Count </th>\n",
       "                        <td> 3 Graph Layers </td>\n",
       "                        <td> 384 Chunks </td>\n",
       "                    </tr>\n",
       "                    <tr>\n",
       "                    <th> Type </th>\n",
       "                    <td> float64 </td>\n",
       "                    <td> numpy.ndarray </td>\n",
       "                    </tr>\n",
       "                </tbody>\n",
       "            </table>\n",
       "        </td>\n",
       "        <td>\n",
       "        <svg width=\"479\" height=\"100\" style=\"stroke:rgb(0,0,0);stroke-width:1\" >\n",
       "\n",
       "  <!-- Horizontal lines -->\n",
       "  <line x1=\"0\" y1=\"0\" x2=\"120\" y2=\"0\" style=\"stroke-width:2\" />\n",
       "  <line x1=\"0\" y1=\"25\" x2=\"120\" y2=\"25\" style=\"stroke-width:2\" />\n",
       "\n",
       "  <!-- Vertical lines -->\n",
       "  <line x1=\"0\" y1=\"0\" x2=\"0\" y2=\"25\" style=\"stroke-width:2\" />\n",
       "  <line x1=\"5\" y1=\"0\" x2=\"5\" y2=\"25\" />\n",
       "  <line x1=\"13\" y1=\"0\" x2=\"13\" y2=\"25\" />\n",
       "  <line x1=\"21\" y1=\"0\" x2=\"21\" y2=\"25\" />\n",
       "  <line x1=\"29\" y1=\"0\" x2=\"29\" y2=\"25\" />\n",
       "  <line x1=\"37\" y1=\"0\" x2=\"37\" y2=\"25\" />\n",
       "  <line x1=\"45\" y1=\"0\" x2=\"45\" y2=\"25\" />\n",
       "  <line x1=\"53\" y1=\"0\" x2=\"53\" y2=\"25\" />\n",
       "  <line x1=\"61\" y1=\"0\" x2=\"61\" y2=\"25\" />\n",
       "  <line x1=\"69\" y1=\"0\" x2=\"69\" y2=\"25\" />\n",
       "  <line x1=\"77\" y1=\"0\" x2=\"77\" y2=\"25\" />\n",
       "  <line x1=\"85\" y1=\"0\" x2=\"85\" y2=\"25\" />\n",
       "  <line x1=\"93\" y1=\"0\" x2=\"93\" y2=\"25\" />\n",
       "  <line x1=\"101\" y1=\"0\" x2=\"101\" y2=\"25\" />\n",
       "  <line x1=\"109\" y1=\"0\" x2=\"109\" y2=\"25\" />\n",
       "  <line x1=\"117\" y1=\"0\" x2=\"117\" y2=\"25\" />\n",
       "  <line x1=\"120\" y1=\"0\" x2=\"120\" y2=\"25\" style=\"stroke-width:2\" />\n",
       "\n",
       "  <!-- Colored Rectangle -->\n",
       "  <polygon points=\"0.0,0.0 120.0,0.0 120.0,25.412616514582485 0.0,25.412616514582485\" style=\"fill:#ECB172A0;stroke-width:0\"/>\n",
       "\n",
       "  <!-- Text -->\n",
       "  <text x=\"60.000000\" y=\"45.412617\" font-size=\"1.0rem\" font-weight=\"100\" text-anchor=\"middle\" >1369</text>\n",
       "  <text x=\"140.000000\" y=\"12.706308\" font-size=\"1.0rem\" font-weight=\"100\" text-anchor=\"middle\" transform=\"rotate(0,140.000000,12.706308)\">1</text>\n",
       "\n",
       "\n",
       "  <!-- Horizontal lines -->\n",
       "  <line x1=\"190\" y1=\"0\" x2=\"204\" y2=\"14\" style=\"stroke-width:2\" />\n",
       "  <line x1=\"190\" y1=\"8\" x2=\"204\" y2=\"23\" />\n",
       "  <line x1=\"190\" y1=\"17\" x2=\"204\" y2=\"32\" />\n",
       "  <line x1=\"190\" y1=\"26\" x2=\"204\" y2=\"41\" />\n",
       "  <line x1=\"190\" y1=\"35\" x2=\"204\" y2=\"50\" style=\"stroke-width:2\" />\n",
       "\n",
       "  <!-- Vertical lines -->\n",
       "  <line x1=\"190\" y1=\"0\" x2=\"190\" y2=\"35\" style=\"stroke-width:2\" />\n",
       "  <line x1=\"195\" y1=\"5\" x2=\"195\" y2=\"41\" />\n",
       "  <line x1=\"201\" y1=\"11\" x2=\"201\" y2=\"47\" />\n",
       "  <line x1=\"204\" y1=\"14\" x2=\"204\" y2=\"50\" style=\"stroke-width:2\" />\n",
       "\n",
       "  <!-- Colored Rectangle -->\n",
       "  <polygon points=\"190.0,0.0 204.9485979497544,14.948597949754403 204.9485979497544,50.4010640113307 190.0,35.4524660615763\" style=\"fill:#ECB172A0;stroke-width:0\"/>\n",
       "\n",
       "  <!-- Horizontal lines -->\n",
       "  <line x1=\"190\" y1=\"0\" x2=\"224\" y2=\"0\" style=\"stroke-width:2\" />\n",
       "  <line x1=\"195\" y1=\"5\" x2=\"230\" y2=\"5\" />\n",
       "  <line x1=\"201\" y1=\"11\" x2=\"236\" y2=\"11\" />\n",
       "  <line x1=\"204\" y1=\"14\" x2=\"239\" y2=\"14\" style=\"stroke-width:2\" />\n",
       "\n",
       "  <!-- Vertical lines -->\n",
       "  <line x1=\"190\" y1=\"0\" x2=\"204\" y2=\"14\" style=\"stroke-width:2\" />\n",
       "  <line x1=\"207\" y1=\"0\" x2=\"222\" y2=\"14\" />\n",
       "  <line x1=\"224\" y1=\"0\" x2=\"239\" y2=\"14\" style=\"stroke-width:2\" />\n",
       "\n",
       "  <!-- Colored Rectangle -->\n",
       "  <polygon points=\"190.0,0.0 224.81035490531227,0.0 239.75895285506667,14.948597949754403 204.9485979497544,14.948597949754403\" style=\"fill:#ECB172A0;stroke-width:0\"/>\n",
       "\n",
       "  <!-- Horizontal lines -->\n",
       "  <line x1=\"204\" y1=\"14\" x2=\"239\" y2=\"14\" style=\"stroke-width:2\" />\n",
       "  <line x1=\"204\" y1=\"23\" x2=\"239\" y2=\"23\" />\n",
       "  <line x1=\"204\" y1=\"32\" x2=\"239\" y2=\"32\" />\n",
       "  <line x1=\"204\" y1=\"41\" x2=\"239\" y2=\"41\" />\n",
       "  <line x1=\"204\" y1=\"50\" x2=\"239\" y2=\"50\" style=\"stroke-width:2\" />\n",
       "\n",
       "  <!-- Vertical lines -->\n",
       "  <line x1=\"204\" y1=\"14\" x2=\"204\" y2=\"50\" style=\"stroke-width:2\" />\n",
       "  <line x1=\"222\" y1=\"14\" x2=\"222\" y2=\"50\" />\n",
       "  <line x1=\"239\" y1=\"14\" x2=\"239\" y2=\"50\" style=\"stroke-width:2\" />\n",
       "\n",
       "  <!-- Colored Rectangle -->\n",
       "  <polygon points=\"204.9485979497544,14.948597949754403 239.75895285506667,14.948597949754403 239.75895285506667,50.4010640113307 204.9485979497544,50.4010640113307\" style=\"fill:#ECB172A0;stroke-width:0\"/>\n",
       "\n",
       "  <!-- Text -->\n",
       "  <text x=\"222.353775\" y=\"70.401064\" font-size=\"1.0rem\" font-weight=\"100\" text-anchor=\"middle\" >72</text>\n",
       "  <text x=\"259.758953\" y=\"32.674831\" font-size=\"1.0rem\" font-weight=\"100\" text-anchor=\"middle\" transform=\"rotate(0,259.758953,32.674831)\">80</text>\n",
       "  <text x=\"187.474299\" y=\"62.926765\" font-size=\"1.0rem\" font-weight=\"100\" text-anchor=\"middle\" transform=\"rotate(45,187.474299,62.926765)\">5</text>\n",
       "</svg>\n",
       "        </td>\n",
       "    </tr>\n",
       "</table></div></li><li class='xr-var-item'><div class='xr-var-name'><span>std</span></div><div class='xr-var-dims'>(lat, lon, time)</div><div class='xr-var-dtype'>float64</div><div class='xr-var-preview xr-preview'>dask.array&lt;chunksize=(20, 18, 152), meta=np.ndarray&gt;</div><input id='attrs-3e81bfcb-ada0-496b-9c5f-e543ed756030' class='xr-var-attrs-in' type='checkbox' disabled><label for='attrs-3e81bfcb-ada0-496b-9c5f-e543ed756030' title='Show/Hide attributes'><svg class='icon xr-icon-file-text2'><use xlink:href='#icon-file-text2'></use></svg></label><input id='data-7a2b6833-d6a0-469e-aad3-5f1cb8ca0077' class='xr-var-data-in' type='checkbox'><label for='data-7a2b6833-d6a0-469e-aad3-5f1cb8ca0077' title='Show/Hide data repr'><svg class='icon xr-icon-database'><use xlink:href='#icon-database'></use></svg></label><div class='xr-var-attrs'><dl class='xr-attrs'></dl></div><div class='xr-var-data'><table>\n",
       "    <tr>\n",
       "        <td>\n",
       "            <table>\n",
       "                <thead>\n",
       "                    <tr>\n",
       "                        <td> </td>\n",
       "                        <th> Array </th>\n",
       "                        <th> Chunk </th>\n",
       "                    </tr>\n",
       "                </thead>\n",
       "                <tbody>\n",
       "                    \n",
       "                    <tr>\n",
       "                        <th> Bytes </th>\n",
       "                        <td> 60.16 MiB </td>\n",
       "                        <td> 514.69 kiB </td>\n",
       "                    </tr>\n",
       "                    \n",
       "                    <tr>\n",
       "                        <th> Shape </th>\n",
       "                        <td> (80, 72, 1369) </td>\n",
       "                        <td> (20, 18, 183) </td>\n",
       "                    </tr>\n",
       "                    <tr>\n",
       "                        <th> Count </th>\n",
       "                        <td> 3 Graph Layers </td>\n",
       "                        <td> 128 Chunks </td>\n",
       "                    </tr>\n",
       "                    <tr>\n",
       "                    <th> Type </th>\n",
       "                    <td> float64 </td>\n",
       "                    <td> numpy.ndarray </td>\n",
       "                    </tr>\n",
       "                </tbody>\n",
       "            </table>\n",
       "        </td>\n",
       "        <td>\n",
       "        <svg width=\"200\" height=\"105\" style=\"stroke:rgb(0,0,0);stroke-width:1\" >\n",
       "\n",
       "  <!-- Horizontal lines -->\n",
       "  <line x1=\"10\" y1=\"0\" x2=\"30\" y2=\"20\" style=\"stroke-width:2\" />\n",
       "  <line x1=\"10\" y1=\"8\" x2=\"30\" y2=\"29\" />\n",
       "  <line x1=\"10\" y1=\"17\" x2=\"30\" y2=\"38\" />\n",
       "  <line x1=\"10\" y1=\"26\" x2=\"30\" y2=\"46\" />\n",
       "  <line x1=\"10\" y1=\"34\" x2=\"30\" y2=\"55\" style=\"stroke-width:2\" />\n",
       "\n",
       "  <!-- Vertical lines -->\n",
       "  <line x1=\"10\" y1=\"0\" x2=\"10\" y2=\"34\" style=\"stroke-width:2\" />\n",
       "  <line x1=\"15\" y1=\"5\" x2=\"15\" y2=\"40\" />\n",
       "  <line x1=\"20\" y1=\"10\" x2=\"20\" y2=\"45\" />\n",
       "  <line x1=\"25\" y1=\"15\" x2=\"25\" y2=\"50\" />\n",
       "  <line x1=\"30\" y1=\"20\" x2=\"30\" y2=\"55\" style=\"stroke-width:2\" />\n",
       "\n",
       "  <!-- Colored Rectangle -->\n",
       "  <polygon points=\"10.0,0.0 30.85439180092724,20.85439180092724 30.85439180092724,55.664746706239505 10.0,34.810354905312266\" style=\"fill:#ECB172A0;stroke-width:0\"/>\n",
       "\n",
       "  <!-- Horizontal lines -->\n",
       "  <line x1=\"10\" y1=\"0\" x2=\"130\" y2=\"0\" style=\"stroke-width:2\" />\n",
       "  <line x1=\"15\" y1=\"5\" x2=\"135\" y2=\"5\" />\n",
       "  <line x1=\"20\" y1=\"10\" x2=\"140\" y2=\"10\" />\n",
       "  <line x1=\"25\" y1=\"15\" x2=\"145\" y2=\"15\" />\n",
       "  <line x1=\"30\" y1=\"20\" x2=\"150\" y2=\"20\" style=\"stroke-width:2\" />\n",
       "\n",
       "  <!-- Vertical lines -->\n",
       "  <line x1=\"10\" y1=\"0\" x2=\"30\" y2=\"20\" style=\"stroke-width:2\" />\n",
       "  <line x1=\"23\" y1=\"0\" x2=\"44\" y2=\"20\" />\n",
       "  <line x1=\"39\" y1=\"0\" x2=\"60\" y2=\"20\" />\n",
       "  <line x1=\"55\" y1=\"0\" x2=\"76\" y2=\"20\" />\n",
       "  <line x1=\"71\" y1=\"0\" x2=\"92\" y2=\"20\" />\n",
       "  <line x1=\"87\" y1=\"0\" x2=\"108\" y2=\"20\" />\n",
       "  <line x1=\"103\" y1=\"0\" x2=\"124\" y2=\"20\" />\n",
       "  <line x1=\"119\" y1=\"0\" x2=\"140\" y2=\"20\" />\n",
       "  <line x1=\"130\" y1=\"0\" x2=\"150\" y2=\"20\" style=\"stroke-width:2\" />\n",
       "\n",
       "  <!-- Colored Rectangle -->\n",
       "  <polygon points=\"10.0,0.0 130.0,0.0 150.85439180092723,20.85439180092724 30.85439180092724,20.85439180092724\" style=\"fill:#ECB172A0;stroke-width:0\"/>\n",
       "\n",
       "  <!-- Horizontal lines -->\n",
       "  <line x1=\"30\" y1=\"20\" x2=\"150\" y2=\"20\" style=\"stroke-width:2\" />\n",
       "  <line x1=\"30\" y1=\"29\" x2=\"150\" y2=\"29\" />\n",
       "  <line x1=\"30\" y1=\"38\" x2=\"150\" y2=\"38\" />\n",
       "  <line x1=\"30\" y1=\"46\" x2=\"150\" y2=\"46\" />\n",
       "  <line x1=\"30\" y1=\"55\" x2=\"150\" y2=\"55\" style=\"stroke-width:2\" />\n",
       "\n",
       "  <!-- Vertical lines -->\n",
       "  <line x1=\"30\" y1=\"20\" x2=\"30\" y2=\"55\" style=\"stroke-width:2\" />\n",
       "  <line x1=\"44\" y1=\"20\" x2=\"44\" y2=\"55\" />\n",
       "  <line x1=\"60\" y1=\"20\" x2=\"60\" y2=\"55\" />\n",
       "  <line x1=\"76\" y1=\"20\" x2=\"76\" y2=\"55\" />\n",
       "  <line x1=\"92\" y1=\"20\" x2=\"92\" y2=\"55\" />\n",
       "  <line x1=\"108\" y1=\"20\" x2=\"108\" y2=\"55\" />\n",
       "  <line x1=\"124\" y1=\"20\" x2=\"124\" y2=\"55\" />\n",
       "  <line x1=\"140\" y1=\"20\" x2=\"140\" y2=\"55\" />\n",
       "  <line x1=\"150\" y1=\"20\" x2=\"150\" y2=\"55\" style=\"stroke-width:2\" />\n",
       "\n",
       "  <!-- Colored Rectangle -->\n",
       "  <polygon points=\"30.85439180092724,20.85439180092724 150.85439180092723,20.85439180092724 150.85439180092723,55.664746706239505 30.85439180092724,55.664746706239505\" style=\"fill:#ECB172A0;stroke-width:0\"/>\n",
       "\n",
       "  <!-- Text -->\n",
       "  <text x=\"90.854392\" y=\"75.664747\" font-size=\"1.0rem\" font-weight=\"100\" text-anchor=\"middle\" >1369</text>\n",
       "  <text x=\"170.854392\" y=\"38.259569\" font-size=\"1.0rem\" font-weight=\"100\" text-anchor=\"middle\" transform=\"rotate(0,170.854392,38.259569)\">72</text>\n",
       "  <text x=\"10.427196\" y=\"65.237551\" font-size=\"1.0rem\" font-weight=\"100\" text-anchor=\"middle\" transform=\"rotate(45,10.427196,65.237551)\">80</text>\n",
       "</svg>\n",
       "        </td>\n",
       "    </tr>\n",
       "</table></div></li></ul></div></li><li class='xr-section-item'><input id='section-2936722c-1efc-4749-a121-df29a8d7fe05' class='xr-section-summary-in' type='checkbox' disabled ><label for='section-2936722c-1efc-4749-a121-df29a8d7fe05' class='xr-section-summary'  title='Expand/collapse section'>Attributes: <span>(0)</span></label><div class='xr-section-inline-details'></div><div class='xr-section-details'><dl class='xr-attrs'></dl></div></li></ul></div></div>"
      ],
      "text/plain": [
       "<xarray.Dataset>\n",
       "Dimensions:    (lat: 80, lon: 72, time: 1369, quantile: 5)\n",
       "Coordinates:\n",
       "    dayofyear  (time) int64 32 33 34 35 36 37 38 ... 299 300 301 302 303 304 305\n",
       "  * lat        (lat) float32 -49.88 -49.62 -49.38 ... -30.62 -30.38 -30.12\n",
       "  * lon        (lon) float32 162.1 162.4 162.6 162.9 ... 179.1 179.4 179.6 179.9\n",
       "  * quantile   (quantile) float64 0.1 0.25 0.5 0.75 0.9\n",
       "  * time       (time) object 2019-02-01 00:00:00 ... 2022-11-01 00:00:00\n",
       "Data variables:\n",
       "    average    (lat, lon, time) float64 dask.array<chunksize=(20, 18, 152), meta=np.ndarray>\n",
       "    quantiles  (time, quantile, lat, lon) float64 dask.array<chunksize=(61, 2, 20, 36), meta=np.ndarray>\n",
       "    std        (lat, lon, time) float64 dask.array<chunksize=(20, 18, 152), meta=np.ndarray>"
      ]
     },
     "execution_count": 30,
     "metadata": {},
     "output_type": "execute_result"
    }
   ],
   "source": [
    "clim_repeat"
   ]
  },
  {
   "cell_type": "markdown",
   "id": "e6489b4b-a47c-4b8e-a3b6-e9114a872668",
   "metadata": {
    "papermill": {
     "duration": 0.009517,
     "end_time": "2022-11-03T01:53:03.009782",
     "exception": false,
     "start_time": "2022-11-03T01:53:03.000265",
     "status": "completed"
    },
    "tags": []
   },
   "source": [
    "### creates the masks for each NZ regions"
   ]
  },
  {
   "cell_type": "code",
   "execution_count": 31,
   "id": "b511769c-86a7-45ef-a98a-e3c7864a191b",
   "metadata": {
    "execution": {
     "iopub.execute_input": "2022-11-03T01:53:03.029218Z",
     "iopub.status.busy": "2022-11-03T01:53:03.029073Z",
     "iopub.status.idle": "2022-11-03T01:53:03.365750Z",
     "shell.execute_reply": "2022-11-03T01:53:03.365212Z"
    },
    "papermill": {
     "duration": 0.347693,
     "end_time": "2022-11-03T01:53:03.366989",
     "exception": false,
     "start_time": "2022-11-03T01:53:03.019296",
     "status": "completed"
    },
    "tags": []
   },
   "outputs": [],
   "source": [
    "l_masks = []\n",
    "\n",
    "for NZ_region in NZ_regions:\n",
    "\n",
    "    mask = src.make_mask_from_shape(\n",
    "        shapes_path.joinpath(f\"{NZ_region}_buffered_50km.shp\"),\n",
    "        dset,\n",
    "        to_crs=\"EPSG:4326\",\n",
    "        mask_name=NZ_region,\n",
    "    )\n",
    "\n",
    "    l_masks.append(mask)"
   ]
  },
  {
   "cell_type": "code",
   "execution_count": 32,
   "id": "f4ad5f13-75c8-4de7-a880-b31bc7d8973d",
   "metadata": {
    "execution": {
     "iopub.execute_input": "2022-11-03T01:53:03.386525Z",
     "iopub.status.busy": "2022-11-03T01:53:03.386384Z",
     "iopub.status.idle": "2022-11-03T01:53:03.406085Z",
     "shell.execute_reply": "2022-11-03T01:53:03.405643Z"
    },
    "papermill": {
     "duration": 0.031653,
     "end_time": "2022-11-03T01:53:03.407932",
     "exception": false,
     "start_time": "2022-11-03T01:53:03.376279",
     "status": "completed"
    },
    "tags": []
   },
   "outputs": [],
   "source": [
    "NZ_regions_masks = xr.merge(l_masks)"
   ]
  },
  {
   "cell_type": "markdown",
   "id": "0cb6c3e4-bb70-44a2-b712-7b79d00e569c",
   "metadata": {
    "papermill": {
     "duration": 0.009295,
     "end_time": "2022-11-03T01:53:03.427156",
     "exception": false,
     "start_time": "2022-11-03T01:53:03.417861",
     "status": "completed"
    },
    "tags": []
   },
   "source": [
    "### Now merge the masks with the anomalies, the raw data and the climatology "
   ]
  },
  {
   "cell_type": "code",
   "execution_count": 33,
   "id": "89b5d7b9-e13f-4ab8-b0a6-d19c5f875680",
   "metadata": {
    "execution": {
     "iopub.execute_input": "2022-11-03T01:53:03.446350Z",
     "iopub.status.busy": "2022-11-03T01:53:03.446205Z",
     "iopub.status.idle": "2022-11-03T01:53:03.463039Z",
     "shell.execute_reply": "2022-11-03T01:53:03.462602Z"
    },
    "papermill": {
     "duration": 0.027798,
     "end_time": "2022-11-03T01:53:03.464295",
     "exception": false,
     "start_time": "2022-11-03T01:53:03.436497",
     "status": "completed"
    },
    "tags": []
   },
   "outputs": [],
   "source": [
    "anoms = anoms.merge(NZ_regions_masks)"
   ]
  },
  {
   "cell_type": "code",
   "execution_count": 34,
   "id": "f5211c74-1dae-45d5-b03f-8db430d06197",
   "metadata": {
    "execution": {
     "iopub.execute_input": "2022-11-03T01:53:03.483997Z",
     "iopub.status.busy": "2022-11-03T01:53:03.483861Z",
     "iopub.status.idle": "2022-11-03T01:53:03.501068Z",
     "shell.execute_reply": "2022-11-03T01:53:03.500575Z"
    },
    "papermill": {
     "duration": 0.028253,
     "end_time": "2022-11-03T01:53:03.502295",
     "exception": false,
     "start_time": "2022-11-03T01:53:03.474042",
     "status": "completed"
    },
    "tags": []
   },
   "outputs": [],
   "source": [
    "dset = dset.merge(NZ_regions_masks)"
   ]
  },
  {
   "cell_type": "code",
   "execution_count": 35,
   "id": "9083a361-393a-4dcf-8d58-4e9d3894b499",
   "metadata": {
    "execution": {
     "iopub.execute_input": "2022-11-03T01:53:03.523530Z",
     "iopub.status.busy": "2022-11-03T01:53:03.523379Z",
     "iopub.status.idle": "2022-11-03T01:53:03.541036Z",
     "shell.execute_reply": "2022-11-03T01:53:03.540575Z"
    },
    "papermill": {
     "duration": 0.030154,
     "end_time": "2022-11-03T01:53:03.542252",
     "exception": false,
     "start_time": "2022-11-03T01:53:03.512098",
     "status": "completed"
    },
    "tags": []
   },
   "outputs": [],
   "source": [
    "clim_repeat = clim_repeat.merge(NZ_regions_masks)"
   ]
  },
  {
   "cell_type": "markdown",
   "id": "b33bc93f-280d-48b4-b53a-3fd7c6e514bb",
   "metadata": {
    "papermill": {
     "duration": 0.010143,
     "end_time": "2022-11-03T01:53:03.563624",
     "exception": false,
     "start_time": "2022-11-03T01:53:03.553481",
     "status": "completed"
    },
    "tags": []
   },
   "source": [
    "### Now calculates the average anomalies "
   ]
  },
  {
   "cell_type": "markdown",
   "id": "9e670cda-831f-41bc-bd3b-c2576867e546",
   "metadata": {
    "papermill": {
     "duration": 0.0092,
     "end_time": "2022-11-03T01:53:03.582483",
     "exception": false,
     "start_time": "2022-11-03T01:53:03.573283",
     "status": "completed"
    },
    "tags": []
   },
   "source": [
    "##### Note: The regional averages of the anomalies is the same as the regional averages of the raw values minus the regional averages of the climatological average"
   ]
  },
  {
   "cell_type": "code",
   "execution_count": 36,
   "id": "35baa21e-cc8e-4095-8456-525ede193b35",
   "metadata": {
    "execution": {
     "iopub.execute_input": "2022-11-03T01:53:03.602187Z",
     "iopub.status.busy": "2022-11-03T01:53:03.602036Z",
     "iopub.status.idle": "2022-11-03T01:53:03.645869Z",
     "shell.execute_reply": "2022-11-03T01:53:03.645431Z"
    },
    "papermill": {
     "duration": 0.055236,
     "end_time": "2022-11-03T01:53:03.647062",
     "exception": false,
     "start_time": "2022-11-03T01:53:03.591826",
     "status": "completed"
    },
    "tags": []
   },
   "outputs": [],
   "source": [
    "anoms_ts = []\n",
    "\n",
    "for NZ_region in NZ_regions:\n",
    "\n",
    "    anom_ts = (anoms[\"sst\"] * anoms[NZ_region]).mean([\"lat\", \"lon\"])\n",
    "\n",
    "    anom_ts.name = f\"SST_anomalies_{NZ_region}\"\n",
    "\n",
    "    anoms_ts.append(anom_ts)"
   ]
  },
  {
   "cell_type": "code",
   "execution_count": 37,
   "id": "8b87cf7d-3bfc-4068-ba6c-c7739c57a7c3",
   "metadata": {
    "execution": {
     "iopub.execute_input": "2022-11-03T01:53:03.668336Z",
     "iopub.status.busy": "2022-11-03T01:53:03.668102Z",
     "iopub.status.idle": "2022-11-03T01:53:03.691103Z",
     "shell.execute_reply": "2022-11-03T01:53:03.690652Z"
    },
    "papermill": {
     "duration": 0.035595,
     "end_time": "2022-11-03T01:53:03.692336",
     "exception": false,
     "start_time": "2022-11-03T01:53:03.656741",
     "status": "completed"
    },
    "tags": []
   },
   "outputs": [],
   "source": [
    "anoms_ts = xr.merge(anoms_ts)"
   ]
  },
  {
   "cell_type": "markdown",
   "id": "1b1cb319-c7f5-4216-b5fc-bb55a837fd61",
   "metadata": {
    "papermill": {
     "duration": 0.010679,
     "end_time": "2022-11-03T01:53:03.714835",
     "exception": false,
     "start_time": "2022-11-03T01:53:03.704156",
     "status": "completed"
    },
    "tags": []
   },
   "source": [
    "### Now interpolate over the standard calendar "
   ]
  },
  {
   "cell_type": "code",
   "execution_count": 38,
   "id": "aa0ce5b2-25f2-4163-864c-c007739d286a",
   "metadata": {
    "execution": {
     "iopub.execute_input": "2022-11-03T01:53:03.734492Z",
     "iopub.status.busy": "2022-11-03T01:53:03.734341Z",
     "iopub.status.idle": "2022-11-03T01:53:03.817249Z",
     "shell.execute_reply": "2022-11-03T01:53:03.816817Z"
    },
    "papermill": {
     "duration": 0.094072,
     "end_time": "2022-11-03T01:53:03.818521",
     "exception": false,
     "start_time": "2022-11-03T01:53:03.724449",
     "status": "completed"
    },
    "tags": []
   },
   "outputs": [],
   "source": [
    "anoms_ts = anoms_ts.interp_calendar(standard_calendar)"
   ]
  },
  {
   "cell_type": "markdown",
   "id": "33ff6035-5687-4f45-a1a7-44775d1c9d50",
   "metadata": {
    "papermill": {
     "duration": 0.009759,
     "end_time": "2022-11-03T01:53:03.838890",
     "exception": false,
     "start_time": "2022-11-03T01:53:03.829131",
     "status": "completed"
    },
    "tags": []
   },
   "source": [
    "### casts to a pandas dataframe "
   ]
  },
  {
   "cell_type": "code",
   "execution_count": 39,
   "id": "2373324f-326e-4fbe-ae1c-5d302a48d289",
   "metadata": {
    "execution": {
     "iopub.execute_input": "2022-11-03T01:53:03.859617Z",
     "iopub.status.busy": "2022-11-03T01:53:03.859289Z",
     "iopub.status.idle": "2022-11-03T01:53:05.440899Z",
     "shell.execute_reply": "2022-11-03T01:53:05.440401Z"
    },
    "papermill": {
     "duration": 1.592802,
     "end_time": "2022-11-03T01:53:05.442181",
     "exception": false,
     "start_time": "2022-11-03T01:53:03.849379",
     "status": "completed"
    },
    "tags": []
   },
   "outputs": [],
   "source": [
    "anoms_ts = anoms_ts.to_pandas()"
   ]
  },
  {
   "cell_type": "code",
   "execution_count": 40,
   "id": "c3c590d7-71b9-47ec-8a76-136f52ae265d",
   "metadata": {
    "execution": {
     "iopub.execute_input": "2022-11-03T01:53:05.462336Z",
     "iopub.status.busy": "2022-11-03T01:53:05.462182Z",
     "iopub.status.idle": "2022-11-03T01:53:05.487607Z",
     "shell.execute_reply": "2022-11-03T01:53:05.487144Z"
    },
    "papermill": {
     "duration": 0.036655,
     "end_time": "2022-11-03T01:53:05.488759",
     "exception": false,
     "start_time": "2022-11-03T01:53:05.452104",
     "status": "completed"
    },
    "tags": []
   },
   "outputs": [
    {
     "data": {
      "text/html": [
       "<div>\n",
       "<style scoped>\n",
       "    .dataframe tbody tr th:only-of-type {\n",
       "        vertical-align: middle;\n",
       "    }\n",
       "\n",
       "    .dataframe tbody tr th {\n",
       "        vertical-align: top;\n",
       "    }\n",
       "\n",
       "    .dataframe thead th {\n",
       "        text-align: right;\n",
       "    }\n",
       "</style>\n",
       "<table border=\"1\" class=\"dataframe\">\n",
       "  <thead>\n",
       "    <tr style=\"text-align: right;\">\n",
       "      <th></th>\n",
       "      <th>dayofyear</th>\n",
       "      <th>SST_anomalies_NNI</th>\n",
       "      <th>SST_anomalies_WNI</th>\n",
       "      <th>SST_anomalies_ENI</th>\n",
       "      <th>SST_anomalies_NSI</th>\n",
       "      <th>SST_anomalies_WSI</th>\n",
       "      <th>SST_anomalies_ESI</th>\n",
       "    </tr>\n",
       "    <tr>\n",
       "      <th>time</th>\n",
       "      <th></th>\n",
       "      <th></th>\n",
       "      <th></th>\n",
       "      <th></th>\n",
       "      <th></th>\n",
       "      <th></th>\n",
       "      <th></th>\n",
       "    </tr>\n",
       "  </thead>\n",
       "  <tbody>\n",
       "    <tr>\n",
       "      <th>2019-02-01</th>\n",
       "      <td>32.0</td>\n",
       "      <td>1.056881</td>\n",
       "      <td>0.671362</td>\n",
       "      <td>1.573662</td>\n",
       "      <td>0.778107</td>\n",
       "      <td>0.335311</td>\n",
       "      <td>1.185544</td>\n",
       "    </tr>\n",
       "    <tr>\n",
       "      <th>2019-02-02</th>\n",
       "      <td>33.0</td>\n",
       "      <td>1.051969</td>\n",
       "      <td>0.625898</td>\n",
       "      <td>1.539284</td>\n",
       "      <td>0.706839</td>\n",
       "      <td>0.283668</td>\n",
       "      <td>1.138908</td>\n",
       "    </tr>\n",
       "    <tr>\n",
       "      <th>2019-02-03</th>\n",
       "      <td>34.0</td>\n",
       "      <td>1.051218</td>\n",
       "      <td>0.591726</td>\n",
       "      <td>1.511650</td>\n",
       "      <td>0.647656</td>\n",
       "      <td>0.239037</td>\n",
       "      <td>1.111813</td>\n",
       "    </tr>\n",
       "    <tr>\n",
       "      <th>2019-02-04</th>\n",
       "      <td>35.0</td>\n",
       "      <td>1.061901</td>\n",
       "      <td>0.566079</td>\n",
       "      <td>1.494981</td>\n",
       "      <td>0.600580</td>\n",
       "      <td>0.206072</td>\n",
       "      <td>1.081313</td>\n",
       "    </tr>\n",
       "    <tr>\n",
       "      <th>2019-02-05</th>\n",
       "      <td>36.0</td>\n",
       "      <td>1.059350</td>\n",
       "      <td>0.538761</td>\n",
       "      <td>1.475569</td>\n",
       "      <td>0.558590</td>\n",
       "      <td>0.173350</td>\n",
       "      <td>1.031035</td>\n",
       "    </tr>\n",
       "  </tbody>\n",
       "</table>\n",
       "</div>"
      ],
      "text/plain": [
       "            dayofyear  SST_anomalies_NNI  SST_anomalies_WNI  \\\n",
       "time                                                          \n",
       "2019-02-01       32.0           1.056881           0.671362   \n",
       "2019-02-02       33.0           1.051969           0.625898   \n",
       "2019-02-03       34.0           1.051218           0.591726   \n",
       "2019-02-04       35.0           1.061901           0.566079   \n",
       "2019-02-05       36.0           1.059350           0.538761   \n",
       "\n",
       "            SST_anomalies_ENI  SST_anomalies_NSI  SST_anomalies_WSI  \\\n",
       "time                                                                  \n",
       "2019-02-01           1.573662           0.778107           0.335311   \n",
       "2019-02-02           1.539284           0.706839           0.283668   \n",
       "2019-02-03           1.511650           0.647656           0.239037   \n",
       "2019-02-04           1.494981           0.600580           0.206072   \n",
       "2019-02-05           1.475569           0.558590           0.173350   \n",
       "\n",
       "            SST_anomalies_ESI  \n",
       "time                           \n",
       "2019-02-01           1.185544  \n",
       "2019-02-02           1.138908  \n",
       "2019-02-03           1.111813  \n",
       "2019-02-04           1.081313  \n",
       "2019-02-05           1.031035  "
      ]
     },
     "execution_count": 40,
     "metadata": {},
     "output_type": "execute_result"
    }
   ],
   "source": [
    "anoms_ts.head()"
   ]
  },
  {
   "cell_type": "code",
   "execution_count": 41,
   "id": "9c793538-5a57-4350-8483-bd59e9d9c2ee",
   "metadata": {
    "execution": {
     "iopub.execute_input": "2022-11-03T01:53:05.508610Z",
     "iopub.status.busy": "2022-11-03T01:53:05.508414Z",
     "iopub.status.idle": "2022-11-03T01:53:05.526047Z",
     "shell.execute_reply": "2022-11-03T01:53:05.525565Z"
    },
    "papermill": {
     "duration": 0.028801,
     "end_time": "2022-11-03T01:53:05.527278",
     "exception": false,
     "start_time": "2022-11-03T01:53:05.498477",
     "status": "completed"
    },
    "tags": []
   },
   "outputs": [],
   "source": [
    "anoms_ts = anoms_ts.drop(\"dayofyear\", axis=1)"
   ]
  },
  {
   "cell_type": "code",
   "execution_count": 42,
   "id": "d9c85c9a-d5e3-47cd-beee-3ef9f8189331",
   "metadata": {
    "execution": {
     "iopub.execute_input": "2022-11-03T01:53:05.546949Z",
     "iopub.status.busy": "2022-11-03T01:53:05.546797Z",
     "iopub.status.idle": "2022-11-03T01:53:05.564669Z",
     "shell.execute_reply": "2022-11-03T01:53:05.564170Z"
    },
    "papermill": {
     "duration": 0.029022,
     "end_time": "2022-11-03T01:53:05.565791",
     "exception": false,
     "start_time": "2022-11-03T01:53:05.536769",
     "status": "completed"
    },
    "tags": []
   },
   "outputs": [],
   "source": [
    "anoms_ts.columns = NZ_regions"
   ]
  },
  {
   "cell_type": "code",
   "execution_count": 43,
   "id": "10c9865d-316d-4762-80d7-751b74f7107d",
   "metadata": {
    "execution": {
     "iopub.execute_input": "2022-11-03T01:53:05.586077Z",
     "iopub.status.busy": "2022-11-03T01:53:05.585870Z",
     "iopub.status.idle": "2022-11-03T01:53:05.606736Z",
     "shell.execute_reply": "2022-11-03T01:53:05.606304Z"
    },
    "papermill": {
     "duration": 0.032201,
     "end_time": "2022-11-03T01:53:05.607850",
     "exception": false,
     "start_time": "2022-11-03T01:53:05.575649",
     "status": "completed"
    },
    "tags": []
   },
   "outputs": [
    {
     "data": {
      "text/html": [
       "<div>\n",
       "<style scoped>\n",
       "    .dataframe tbody tr th:only-of-type {\n",
       "        vertical-align: middle;\n",
       "    }\n",
       "\n",
       "    .dataframe tbody tr th {\n",
       "        vertical-align: top;\n",
       "    }\n",
       "\n",
       "    .dataframe thead th {\n",
       "        text-align: right;\n",
       "    }\n",
       "</style>\n",
       "<table border=\"1\" class=\"dataframe\">\n",
       "  <thead>\n",
       "    <tr style=\"text-align: right;\">\n",
       "      <th></th>\n",
       "      <th>NNI</th>\n",
       "      <th>WNI</th>\n",
       "      <th>ENI</th>\n",
       "      <th>NSI</th>\n",
       "      <th>WSI</th>\n",
       "      <th>ESI</th>\n",
       "    </tr>\n",
       "    <tr>\n",
       "      <th>time</th>\n",
       "      <th></th>\n",
       "      <th></th>\n",
       "      <th></th>\n",
       "      <th></th>\n",
       "      <th></th>\n",
       "      <th></th>\n",
       "    </tr>\n",
       "  </thead>\n",
       "  <tbody>\n",
       "    <tr>\n",
       "      <th>2019-02-01</th>\n",
       "      <td>1.056881</td>\n",
       "      <td>0.671362</td>\n",
       "      <td>1.573662</td>\n",
       "      <td>0.778107</td>\n",
       "      <td>0.335311</td>\n",
       "      <td>1.185544</td>\n",
       "    </tr>\n",
       "    <tr>\n",
       "      <th>2019-02-02</th>\n",
       "      <td>1.051969</td>\n",
       "      <td>0.625898</td>\n",
       "      <td>1.539284</td>\n",
       "      <td>0.706839</td>\n",
       "      <td>0.283668</td>\n",
       "      <td>1.138908</td>\n",
       "    </tr>\n",
       "    <tr>\n",
       "      <th>2019-02-03</th>\n",
       "      <td>1.051218</td>\n",
       "      <td>0.591726</td>\n",
       "      <td>1.511650</td>\n",
       "      <td>0.647656</td>\n",
       "      <td>0.239037</td>\n",
       "      <td>1.111813</td>\n",
       "    </tr>\n",
       "    <tr>\n",
       "      <th>2019-02-04</th>\n",
       "      <td>1.061901</td>\n",
       "      <td>0.566079</td>\n",
       "      <td>1.494981</td>\n",
       "      <td>0.600580</td>\n",
       "      <td>0.206072</td>\n",
       "      <td>1.081313</td>\n",
       "    </tr>\n",
       "    <tr>\n",
       "      <th>2019-02-05</th>\n",
       "      <td>1.059350</td>\n",
       "      <td>0.538761</td>\n",
       "      <td>1.475569</td>\n",
       "      <td>0.558590</td>\n",
       "      <td>0.173350</td>\n",
       "      <td>1.031035</td>\n",
       "    </tr>\n",
       "  </tbody>\n",
       "</table>\n",
       "</div>"
      ],
      "text/plain": [
       "                 NNI       WNI       ENI       NSI       WSI       ESI\n",
       "time                                                                  \n",
       "2019-02-01  1.056881  0.671362  1.573662  0.778107  0.335311  1.185544\n",
       "2019-02-02  1.051969  0.625898  1.539284  0.706839  0.283668  1.138908\n",
       "2019-02-03  1.051218  0.591726  1.511650  0.647656  0.239037  1.111813\n",
       "2019-02-04  1.061901  0.566079  1.494981  0.600580  0.206072  1.081313\n",
       "2019-02-05  1.059350  0.538761  1.475569  0.558590  0.173350  1.031035"
      ]
     },
     "execution_count": 43,
     "metadata": {},
     "output_type": "execute_result"
    }
   ],
   "source": [
    "anoms_ts.head()"
   ]
  },
  {
   "cell_type": "markdown",
   "id": "aa99049c-c55a-4977-a04b-d345d357ba0b",
   "metadata": {
    "papermill": {
     "duration": 0.009568,
     "end_time": "2022-11-03T01:53:05.627227",
     "exception": false,
     "start_time": "2022-11-03T01:53:05.617659",
     "status": "completed"
    },
    "tags": []
   },
   "source": [
    "### Plot the time-series "
   ]
  },
  {
   "cell_type": "code",
   "execution_count": 44,
   "id": "16a8abd7-0961-44da-86bc-fb650dd44356",
   "metadata": {
    "execution": {
     "iopub.execute_input": "2022-11-03T01:53:05.647065Z",
     "iopub.status.busy": "2022-11-03T01:53:05.646874Z",
     "iopub.status.idle": "2022-11-03T01:53:07.389234Z",
     "shell.execute_reply": "2022-11-03T01:53:07.388794Z"
    },
    "papermill": {
     "duration": 1.754337,
     "end_time": "2022-11-03T01:53:07.391022",
     "exception": false,
     "start_time": "2022-11-03T01:53:05.636685",
     "status": "completed"
    },
    "tags": []
   },
   "outputs": [
    {
     "data": {
      "image/png": "[encoded data removed]",
      "text/plain": [
       "<Figure size 720x1296 with 6 Axes>"
      ]
     },
     "metadata": {
      "needs_background": "light"
     },
     "output_type": "display_data"
    }
   ],
   "source": [
    "f, axes = plt.subplots(\n",
    "    nrows=len(NZ_regions), figsize=(10, 18), sharex=True, sharey=True\n",
    ")\n",
    "\n",
    "plt.subplots_adjust(hspace=0.4)\n",
    "\n",
    "for i, NZ_region in enumerate(NZ_regions):\n",
    "\n",
    "    ax = axes[i]\n",
    "\n",
    "    df = anoms_ts.loc[:, NZ_region]\n",
    "\n",
    "    ax.fill_between(\n",
    "        df.index, 0, df.values, df.values > 0, interpolate=True, color=\"coral\"\n",
    "    )\n",
    "    ax.fill_between(\n",
    "        df.index, 0, df.values, df.values <= 0, interpolate=True, color=\"steelblue\"\n",
    "    )\n",
    "\n",
    "    ax.plot(df.index, df.values, color=\"k\", lw=0.5)\n",
    "\n",
    "    ax.grid(ls=\":\")\n",
    "\n",
    "    title = (\n",
    "        r\"$\\bf{\"\n",
    "        + NZ_region\n",
    "        + \"}$\"\n",
    "        + f\" OISST V2 {ndays_agg} day(s) anomalies to {last_day:%Y-%m-%d}\\nMin: {df.min():+4.2f}°C ({df.idxmin():%Y-%m-%d}), Max: {df.max():+4.2f}°C ({df.idxmax():%Y-%m-%d}), latest: {df.iloc[-1]:+4.2f}°C\"\n",
    "    )\n",
    "\n",
    "    ax.set_title(title, loc=\"left\")\n",
    "\n",
    "    ax.axhline(0, color=\"0.8\", zorder=-1)\n",
    "\n",
    "    ax.axvline(df.idxmin(), color=\"b\", alpha=0.5)\n",
    "    ax.axvline(df.idxmax(), color=\"r\", alpha=0.5)\n",
    "\n",
    "    ax.set_xlim(first_day, last_day)"
   ]
  },
  {
   "cell_type": "code",
   "execution_count": 45,
   "id": "4fdb2aed-0808-44fa-8c41-017630150ba8",
   "metadata": {
    "execution": {
     "iopub.execute_input": "2022-11-03T01:53:07.414740Z",
     "iopub.status.busy": "2022-11-03T01:53:07.414555Z",
     "iopub.status.idle": "2022-11-03T01:53:08.474731Z",
     "shell.execute_reply": "2022-11-03T01:53:08.474270Z"
    },
    "papermill": {
     "duration": 1.073371,
     "end_time": "2022-11-03T01:53:08.475915",
     "exception": false,
     "start_time": "2022-11-03T01:53:07.402544",
     "status": "completed"
    },
    "tags": []
   },
   "outputs": [],
   "source": [
    "f.savefig(\n",
    "    fig_path.joinpath(\n",
    "        f\"prototype_NZ_coastal_indices_{ndays_agg}days_agg_to_{last_day:%Y%m%d}.png\"\n",
    "    ),\n",
    "    dpi=200,\n",
    "    bbox_inches=\"tight\",\n",
    "    facecolor=\"w\",\n",
    ")"
   ]
  },
  {
   "cell_type": "code",
   "execution_count": 46,
   "id": "342119a8-23bf-4309-8299-692131905126",
   "metadata": {
    "execution": {
     "iopub.execute_input": "2022-11-03T01:53:08.499114Z",
     "iopub.status.busy": "2022-11-03T01:53:08.498934Z",
     "iopub.status.idle": "2022-11-03T01:53:08.522031Z",
     "shell.execute_reply": "2022-11-03T01:53:08.521624Z"
    },
    "papermill": {
     "duration": 0.035736,
     "end_time": "2022-11-03T01:53:08.523033",
     "exception": false,
     "start_time": "2022-11-03T01:53:08.487297",
     "status": "completed"
    },
    "tags": []
   },
   "outputs": [
    {
     "data": {
      "text/html": [
       "<div>\n",
       "<style scoped>\n",
       "    .dataframe tbody tr th:only-of-type {\n",
       "        vertical-align: middle;\n",
       "    }\n",
       "\n",
       "    .dataframe tbody tr th {\n",
       "        vertical-align: top;\n",
       "    }\n",
       "\n",
       "    .dataframe thead th {\n",
       "        text-align: right;\n",
       "    }\n",
       "</style>\n",
       "<table border=\"1\" class=\"dataframe\">\n",
       "  <thead>\n",
       "    <tr style=\"text-align: right;\">\n",
       "      <th></th>\n",
       "      <th>NNI</th>\n",
       "      <th>WNI</th>\n",
       "      <th>ENI</th>\n",
       "      <th>NSI</th>\n",
       "      <th>WSI</th>\n",
       "      <th>ESI</th>\n",
       "    </tr>\n",
       "    <tr>\n",
       "      <th>time</th>\n",
       "      <th></th>\n",
       "      <th></th>\n",
       "      <th></th>\n",
       "      <th></th>\n",
       "      <th></th>\n",
       "      <th></th>\n",
       "    </tr>\n",
       "  </thead>\n",
       "  <tbody>\n",
       "    <tr>\n",
       "      <th>2022-10-28</th>\n",
       "      <td>0.911151</td>\n",
       "      <td>0.621658</td>\n",
       "      <td>0.333366</td>\n",
       "      <td>0.636653</td>\n",
       "      <td>1.009247</td>\n",
       "      <td>0.455045</td>\n",
       "    </tr>\n",
       "    <tr>\n",
       "      <th>2022-10-29</th>\n",
       "      <td>0.925638</td>\n",
       "      <td>0.622920</td>\n",
       "      <td>0.345865</td>\n",
       "      <td>0.642747</td>\n",
       "      <td>1.011454</td>\n",
       "      <td>0.450528</td>\n",
       "    </tr>\n",
       "    <tr>\n",
       "      <th>2022-10-30</th>\n",
       "      <td>0.942047</td>\n",
       "      <td>0.629484</td>\n",
       "      <td>0.354274</td>\n",
       "      <td>0.652408</td>\n",
       "      <td>1.015861</td>\n",
       "      <td>0.463238</td>\n",
       "    </tr>\n",
       "    <tr>\n",
       "      <th>2022-10-31</th>\n",
       "      <td>0.960194</td>\n",
       "      <td>0.650987</td>\n",
       "      <td>0.370737</td>\n",
       "      <td>0.671141</td>\n",
       "      <td>1.022095</td>\n",
       "      <td>0.484956</td>\n",
       "    </tr>\n",
       "    <tr>\n",
       "      <th>2022-11-01</th>\n",
       "      <td>0.990573</td>\n",
       "      <td>0.676701</td>\n",
       "      <td>0.393174</td>\n",
       "      <td>0.695860</td>\n",
       "      <td>1.026873</td>\n",
       "      <td>0.518886</td>\n",
       "    </tr>\n",
       "  </tbody>\n",
       "</table>\n",
       "</div>"
      ],
      "text/plain": [
       "                 NNI       WNI       ENI       NSI       WSI       ESI\n",
       "time                                                                  \n",
       "2022-10-28  0.911151  0.621658  0.333366  0.636653  1.009247  0.455045\n",
       "2022-10-29  0.925638  0.622920  0.345865  0.642747  1.011454  0.450528\n",
       "2022-10-30  0.942047  0.629484  0.354274  0.652408  1.015861  0.463238\n",
       "2022-10-31  0.960194  0.650987  0.370737  0.671141  1.022095  0.484956\n",
       "2022-11-01  0.990573  0.676701  0.393174  0.695860  1.026873  0.518886"
      ]
     },
     "execution_count": 46,
     "metadata": {},
     "output_type": "execute_result"
    }
   ],
   "source": [
    "anoms_ts.tail()"
   ]
  },
  {
   "cell_type": "code",
   "execution_count": 47,
   "id": "6b934b63-b26b-4a53-9d33-09656bc95979",
   "metadata": {
    "execution": {
     "iopub.execute_input": "2022-11-03T01:53:08.546888Z",
     "iopub.status.busy": "2022-11-03T01:53:08.546739Z",
     "iopub.status.idle": "2022-11-03T01:53:08.562798Z",
     "shell.execute_reply": "2022-11-03T01:53:08.562313Z"
    },
    "papermill": {
     "duration": 0.029597,
     "end_time": "2022-11-03T01:53:08.564191",
     "exception": false,
     "start_time": "2022-11-03T01:53:08.534594",
     "status": "completed"
    },
    "tags": []
   },
   "outputs": [],
   "source": [
    "dset.close()"
   ]
  },
  {
   "cell_type": "code",
   "execution_count": 48,
   "id": "a8153f4e-7e8b-409f-ab16-342b9562080f",
   "metadata": {
    "execution": {
     "iopub.execute_input": "2022-11-03T01:53:08.589173Z",
     "iopub.status.busy": "2022-11-03T01:53:08.589019Z",
     "iopub.status.idle": "2022-11-03T01:53:08.605008Z",
     "shell.execute_reply": "2022-11-03T01:53:08.604574Z"
    },
    "papermill": {
     "duration": 0.029549,
     "end_time": "2022-11-03T01:53:08.606118",
     "exception": false,
     "start_time": "2022-11-03T01:53:08.576569",
     "status": "completed"
    },
    "tags": []
   },
   "outputs": [
    {
     "data": {
      "text/plain": [
       "'ESI'"
      ]
     },
     "execution_count": 48,
     "metadata": {},
     "output_type": "execute_result"
    }
   ],
   "source": [
    "NZ_region"
   ]
  },
  {
   "cell_type": "code",
   "execution_count": 49,
   "id": "718128a8-3adf-4d52-bfad-1eb5d1b95927",
   "metadata": {
    "execution": {
     "iopub.execute_input": "2022-11-03T01:53:08.629821Z",
     "iopub.status.busy": "2022-11-03T01:53:08.629673Z",
     "iopub.status.idle": "2022-11-03T01:53:08.644936Z",
     "shell.execute_reply": "2022-11-03T01:53:08.644437Z"
    },
    "papermill": {
     "duration": 0.028401,
     "end_time": "2022-11-03T01:53:08.646044",
     "exception": false,
     "start_time": "2022-11-03T01:53:08.617643",
     "status": "completed"
    },
    "tags": []
   },
   "outputs": [],
   "source": [
    "import geopandas as gpd"
   ]
  },
  {
   "cell_type": "code",
   "execution_count": 50,
   "id": "28f071a3-3604-424e-8958-3ec677663f2f",
   "metadata": {
    "execution": {
     "iopub.execute_input": "2022-11-03T01:53:08.670434Z",
     "iopub.status.busy": "2022-11-03T01:53:08.670247Z",
     "iopub.status.idle": "2022-11-03T01:53:08.702014Z",
     "shell.execute_reply": "2022-11-03T01:53:08.701522Z"
    },
    "papermill": {
     "duration": 0.045515,
     "end_time": "2022-11-03T01:53:08.703479",
     "exception": false,
     "start_time": "2022-11-03T01:53:08.657964",
     "status": "completed"
    },
    "tags": []
   },
   "outputs": [],
   "source": [
    "reg = gpd.read_file(shapes_path.joinpath(f\"{NZ_region}_buffered_50km.shp\"))\n",
    "\n",
    "reg = reg.to_crs(\"EPSG:4326\")"
   ]
  },
  {
   "cell_type": "code",
   "execution_count": 51,
   "id": "d38a08a3-7c56-4411-a579-9ae985f1645b",
   "metadata": {
    "execution": {
     "iopub.execute_input": "2022-11-03T01:53:08.730930Z",
     "iopub.status.busy": "2022-11-03T01:53:08.730669Z",
     "iopub.status.idle": "2022-11-03T01:53:08.754968Z",
     "shell.execute_reply": "2022-11-03T01:53:08.754506Z"
    },
    "papermill": {
     "duration": 0.037834,
     "end_time": "2022-11-03T01:53:08.756163",
     "exception": false,
     "start_time": "2022-11-03T01:53:08.718329",
     "status": "completed"
    },
    "tags": []
   },
   "outputs": [],
   "source": [
    "from cartopy import crs as ccrs"
   ]
  },
  {
   "cell_type": "code",
   "execution_count": 52,
   "id": "7bff1ddf-ad1c-4af8-9d51-84f6259f6f3f",
   "metadata": {
    "execution": {
     "iopub.execute_input": "2022-11-03T01:53:08.780635Z",
     "iopub.status.busy": "2022-11-03T01:53:08.780213Z",
     "iopub.status.idle": "2022-11-03T01:53:08.801072Z",
     "shell.execute_reply": "2022-11-03T01:53:08.800565Z"
    },
    "papermill": {
     "duration": 0.034214,
     "end_time": "2022-11-03T01:53:08.802152",
     "exception": false,
     "start_time": "2022-11-03T01:53:08.767938",
     "status": "completed"
    },
    "tags": []
   },
   "outputs": [
    {
     "data": {
      "text/html": [
       "<div>\n",
       "<style scoped>\n",
       "    .dataframe tbody tr th:only-of-type {\n",
       "        vertical-align: middle;\n",
       "    }\n",
       "\n",
       "    .dataframe tbody tr th {\n",
       "        vertical-align: top;\n",
       "    }\n",
       "\n",
       "    .dataframe thead th {\n",
       "        text-align: right;\n",
       "    }\n",
       "</style>\n",
       "<table border=\"1\" class=\"dataframe\">\n",
       "  <thead>\n",
       "    <tr style=\"text-align: right;\">\n",
       "      <th></th>\n",
       "      <th>id</th>\n",
       "      <th>geometry</th>\n",
       "    </tr>\n",
       "  </thead>\n",
       "  <tbody>\n",
       "    <tr>\n",
       "      <th>0</th>\n",
       "      <td>4</td>\n",
       "      <td>POLYGON ((170.18123 -46.55128, 170.17955 -46.5...</td>\n",
       "    </tr>\n",
       "  </tbody>\n",
       "</table>\n",
       "</div>"
      ],
      "text/plain": [
       "   id                                           geometry\n",
       "0   4  POLYGON ((170.18123 -46.55128, 170.17955 -46.5..."
      ]
     },
     "execution_count": 52,
     "metadata": {},
     "output_type": "execute_result"
    }
   ],
   "source": [
    "reg"
   ]
  },
  {
   "cell_type": "code",
   "execution_count": 53,
   "id": "a8ee013f-29b1-4e0d-87c5-411562bf8ee2",
   "metadata": {
    "execution": {
     "iopub.execute_input": "2022-11-03T01:53:08.825584Z",
     "iopub.status.busy": "2022-11-03T01:53:08.825403Z",
     "iopub.status.idle": "2022-11-03T01:53:08.840279Z",
     "shell.execute_reply": "2022-11-03T01:53:08.839841Z"
    },
    "papermill": {
     "duration": 0.027786,
     "end_time": "2022-11-03T01:53:08.841340",
     "exception": false,
     "start_time": "2022-11-03T01:53:08.813554",
     "status": "completed"
    },
    "tags": []
   },
   "outputs": [],
   "source": [
    "import cartopy.feature as cfeature"
   ]
  },
  {
   "cell_type": "code",
   "execution_count": 54,
   "id": "56b7cae4-5650-4d12-8a32-81d741c59ef5",
   "metadata": {
    "execution": {
     "iopub.execute_input": "2022-11-03T01:53:08.864946Z",
     "iopub.status.busy": "2022-11-03T01:53:08.864765Z",
     "iopub.status.idle": "2022-11-03T01:53:08.879887Z",
     "shell.execute_reply": "2022-11-03T01:53:08.879445Z"
    },
    "papermill": {
     "duration": 0.028248,
     "end_time": "2022-11-03T01:53:08.881111",
     "exception": false,
     "start_time": "2022-11-03T01:53:08.852863",
     "status": "completed"
    },
    "tags": []
   },
   "outputs": [],
   "source": [
    "land = cfeature.NaturalEarthFeature(\"physical\", \"land\", \"10m\")"
   ]
  },
  {
   "cell_type": "code",
   "execution_count": 55,
   "id": "9dc415a5-359a-43db-bd23-37e47db7a442",
   "metadata": {
    "execution": {
     "iopub.execute_input": "2022-11-03T01:53:08.905156Z",
     "iopub.status.busy": "2022-11-03T01:53:08.904971Z",
     "iopub.status.idle": "2022-11-03T01:53:08.920838Z",
     "shell.execute_reply": "2022-11-03T01:53:08.920351Z"
    },
    "papermill": {
     "duration": 0.029121,
     "end_time": "2022-11-03T01:53:08.921885",
     "exception": false,
     "start_time": "2022-11-03T01:53:08.892764",
     "status": "completed"
    },
    "tags": []
   },
   "outputs": [
    {
     "data": {
      "text/plain": [
       "['NNI', 'WNI', 'ENI', 'NSI', 'WSI', 'ESI']"
      ]
     },
     "execution_count": 55,
     "metadata": {},
     "output_type": "execute_result"
    }
   ],
   "source": [
    "NZ_regions"
   ]
  },
  {
   "cell_type": "code",
   "execution_count": 56,
   "id": "2703dceb-be72-40a2-88e3-faf323d1de19",
   "metadata": {
    "execution": {
     "iopub.execute_input": "2022-11-03T01:53:08.947158Z",
     "iopub.status.busy": "2022-11-03T01:53:08.946971Z",
     "iopub.status.idle": "2022-11-03T01:53:08.962292Z",
     "shell.execute_reply": "2022-11-03T01:53:08.961830Z"
    },
    "papermill": {
     "duration": 0.029837,
     "end_time": "2022-11-03T01:53:08.963445",
     "exception": false,
     "start_time": "2022-11-03T01:53:08.933608",
     "status": "completed"
    },
    "tags": []
   },
   "outputs": [],
   "source": [
    "import numpy as np\n",
    "from matplotlib.pyplot import cm"
   ]
  },
  {
   "cell_type": "code",
   "execution_count": 57,
   "id": "02d799c6-6a93-4b52-bb52-0906d36c032e",
   "metadata": {
    "execution": {
     "iopub.execute_input": "2022-11-03T01:53:08.987324Z",
     "iopub.status.busy": "2022-11-03T01:53:08.987143Z",
     "iopub.status.idle": "2022-11-03T01:53:09.002824Z",
     "shell.execute_reply": "2022-11-03T01:53:09.002347Z"
    },
    "papermill": {
     "duration": 0.028834,
     "end_time": "2022-11-03T01:53:09.003958",
     "exception": false,
     "start_time": "2022-11-03T01:53:08.975124",
     "status": "completed"
    },
    "tags": []
   },
   "outputs": [],
   "source": [
    "colors = cm.rainbow(np.linspace(0, 1, 6))"
   ]
  },
  {
   "cell_type": "code",
   "execution_count": 58,
   "id": "9a2e1c86-a101-4b85-8544-87a7ef116ff4",
   "metadata": {
    "execution": {
     "iopub.execute_input": "2022-11-03T01:53:09.027930Z",
     "iopub.status.busy": "2022-11-03T01:53:09.027743Z",
     "iopub.status.idle": "2022-11-03T01:53:22.573278Z",
     "shell.execute_reply": "2022-11-03T01:53:22.572831Z"
    },
    "papermill": {
     "duration": 13.55874,
     "end_time": "2022-11-03T01:53:22.574310",
     "exception": false,
     "start_time": "2022-11-03T01:53:09.015570",
     "status": "completed"
    },
    "tags": []
   },
   "outputs": [
    {
     "data": {
      "image/png": "[encoded data removed]",
      "text/plain": [
       "<Figure size 576x576 with 1 Axes>"
      ]
     },
     "metadata": {
      "needs_background": "light"
     },
     "output_type": "display_data"
    }
   ],
   "source": [
    "f, ax = plt.subplots(\n",
    "    subplot_kw=dict(projection=ccrs.PlateCarree(central_longitude=180)), figsize=(8, 8)\n",
    ")\n",
    "\n",
    "gl = ax.gridlines(\n",
    "    draw_labels=True,\n",
    "    crs=ccrs.PlateCarree(central_longitude=0),\n",
    "    ls=\":\",\n",
    ")\n",
    "gl.top_labels = False\n",
    "gl.right_labels = False\n",
    "\n",
    "ax.set_extent([165.5, 179.5, -47.75, -33.75])\n",
    "\n",
    "for i, NZ_region in enumerate(NZ_regions):\n",
    "\n",
    "    reg = gpd.read_file(shapes_path.joinpath(f\"{NZ_region}_buffered_50km.shp\"))\n",
    "    reg = reg.to_crs(\"EPSG:4326\")\n",
    "    reg.plot(ax=ax, transform=ccrs.PlateCarree(), zorder=-1, color=colors[i])\n",
    "    reg.boundary.plot(ax=ax, transform=ccrs.PlateCarree(), zorder=-1, lw=0.5, color=\"k\")\n",
    "\n",
    "ax.add_feature(land, facecolor=\"gainsboro\")\n",
    "\n",
    "ax.coastlines(\"10m\", lw=0.5)\n",
    "\n",
    "f.savefig(\n",
    "    fig_path.joinpath(\"NZ_6_coastal_regions.png\"),\n",
    "    dpi=200,\n",
    "    bbox_inches=\"tight\",\n",
    "    facecolor=\"w\",\n",
    ")"
   ]
  },
  {
   "cell_type": "markdown",
   "id": "60d67710-67f5-45f2-91fe-d32c6497293c",
   "metadata": {
    "papermill": {
     "duration": 0.01228,
     "end_time": "2022-11-03T01:53:22.599232",
     "exception": false,
     "start_time": "2022-11-03T01:53:22.586952",
     "status": "completed"
    },
    "tags": []
   },
   "source": [
    "### close the dataset "
   ]
  },
  {
   "cell_type": "code",
   "execution_count": 59,
   "id": "191d1125-7920-4004-a000-127b74c349d4",
   "metadata": {
    "execution": {
     "iopub.execute_input": "2022-11-03T01:53:22.624545Z",
     "iopub.status.busy": "2022-11-03T01:53:22.624389Z",
     "iopub.status.idle": "2022-11-03T01:53:22.639854Z",
     "shell.execute_reply": "2022-11-03T01:53:22.639380Z"
    },
    "papermill": {
     "duration": 0.029511,
     "end_time": "2022-11-03T01:53:22.641021",
     "exception": false,
     "start_time": "2022-11-03T01:53:22.611510",
     "status": "completed"
    },
    "tags": []
   },
   "outputs": [],
   "source": [
    "dset.close()"
   ]
  },
  {
   "cell_type": "markdown",
   "id": "1460ea1d-c4be-4689-9105-a92e308103a4",
   "metadata": {
    "papermill": {
     "duration": 0.012811,
     "end_time": "2022-11-03T01:53:22.666524",
     "exception": false,
     "start_time": "2022-11-03T01:53:22.653713",
     "status": "completed"
    },
    "tags": []
   },
   "source": [
    "### and delete the variable just to be sure "
   ]
  },
  {
   "cell_type": "code",
   "execution_count": 60,
   "id": "3956b5e2-4f2f-4df3-818a-733e1e8eadc7",
   "metadata": {
    "execution": {
     "iopub.execute_input": "2022-11-03T01:53:22.693848Z",
     "iopub.status.busy": "2022-11-03T01:53:22.693699Z",
     "iopub.status.idle": "2022-11-03T01:53:22.709024Z",
     "shell.execute_reply": "2022-11-03T01:53:22.708545Z"
    },
    "papermill": {
     "duration": 0.030279,
     "end_time": "2022-11-03T01:53:22.710192",
     "exception": false,
     "start_time": "2022-11-03T01:53:22.679913",
     "status": "completed"
    },
    "tags": []
   },
   "outputs": [],
   "source": [
    "del(dset)"
   ]
  }
 ],
 "metadata": {
  "kernelspec": {
   "display_name": "Python 3 (ipykernel)",
   "language": "python",
   "name": "python3"
  },
  "language_info": {
   "codemirror_mode": {
    "name": "ipython",
    "version": 3
   },
   "file_extension": ".py",
   "mimetype": "text/x-python",
   "name": "python",
   "nbconvert_exporter": "python",
   "pygments_lexer": "ipython3",
   "version": "3.8.13"
  },
  "papermill": {
   "default_parameters": {},
   "duration": 24.007976,
   "end_time": "2022-11-03T01:53:23.139139",
   "environment_variables": {},
   "exception": null,
   "input_path": "OISST_realtime_NZ_indices.ipynb",
   "output_path": "OISST_realtime_NZ_indices.ipynb",
   "parameters": {
    "ndays_agg": 30
   },
   "start_time": "2022-11-03T01:52:59.131163",
   "version": "2.3.3"
  }
 },
 "nbformat": 4,
 "nbformat_minor": 5
}