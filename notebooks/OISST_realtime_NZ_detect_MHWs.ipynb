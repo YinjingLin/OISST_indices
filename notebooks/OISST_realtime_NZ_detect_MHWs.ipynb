{
 "cells": [
  {
   "cell_type": "code",
   "execution_count": 1,
   "id": "d8581dde-e4fe-467e-a956-5abc98310185",
   "metadata": {},
   "outputs": [
    {
     "name": "stdout",
     "output_type": "stream",
     "text": [
      "/home/nicolasf/operational/OISST_indices/notebooks\n"
     ]
    }
   ],
   "source": [
    "!pwd"
   ]
  },
  {
   "cell_type": "code",
   "execution_count": 2,
   "id": "f72f9387-9648-4dc7-8339-ed9c5b250975",
   "metadata": {
    "papermill": {
     "duration": 0.050502,
     "end_time": "2022-08-18T00:37:50.367070",
     "exception": false,
     "start_time": "2022-08-18T00:37:50.316568",
     "status": "completed"
    },
    "tags": []
   },
   "outputs": [],
   "source": [
    "%load_ext autoreload\n",
    "%autoreload 2"
   ]
  },
  {
   "cell_type": "code",
   "execution_count": 3,
   "id": "683000b0-85be-444b-be7b-d9142c221708",
   "metadata": {
    "papermill": {
     "duration": 0.311233,
     "end_time": "2022-08-18T00:37:50.691321",
     "exception": false,
     "start_time": "2022-08-18T00:37:50.380088",
     "status": "completed"
    },
    "tags": []
   },
   "outputs": [],
   "source": [
    "%matplotlib inline\n",
    "import cmocean\n",
    "from matplotlib import pyplot as plt"
   ]
  },
  {
   "cell_type": "code",
   "execution_count": 4,
   "id": "9edbad3d-cdc6-4352-af94-836214504bc8",
   "metadata": {
    "papermill": {
     "duration": 0.015721,
     "end_time": "2022-08-18T00:37:50.714294",
     "exception": false,
     "start_time": "2022-08-18T00:37:50.698573",
     "status": "completed"
    },
    "tags": []
   },
   "outputs": [],
   "source": [
    "import os\n",
    "import pathlib\n",
    "import sys\n",
    "from subprocess import call"
   ]
  },
  {
   "cell_type": "code",
   "execution_count": 5,
   "id": "7c568508-e27c-4598-b9c0-95dc1cfae64a",
   "metadata": {
    "papermill": {
     "duration": 0.016286,
     "end_time": "2022-08-18T00:37:50.737234",
     "exception": false,
     "start_time": "2022-08-18T00:37:50.720948",
     "status": "completed"
    },
    "tags": []
   },
   "outputs": [],
   "source": [
    "from datetime import datetime, timedelta"
   ]
  },
  {
   "cell_type": "code",
   "execution_count": 6,
   "id": "a33ef180-19ea-44d6-86c4-1ee1eebfbf4c",
   "metadata": {
    "papermill": {
     "duration": 0.957595,
     "end_time": "2022-08-18T00:37:51.701258",
     "exception": false,
     "start_time": "2022-08-18T00:37:50.743663",
     "status": "completed"
    },
    "tags": []
   },
   "outputs": [],
   "source": [
    "import numpy as np\n",
    "import pandas as pd\n",
    "import xarray as xr\n",
    "import dask\n",
    "from dask.diagnostics import ProgressBar"
   ]
  },
  {
   "cell_type": "code",
   "execution_count": 7,
   "id": "c1387ac6-8911-4926-99f2-5ab76db58a1d",
   "metadata": {
    "papermill": {
     "duration": 0.022617,
     "end_time": "2022-08-18T00:37:51.730650",
     "exception": false,
     "start_time": "2022-08-18T00:37:51.708033",
     "status": "completed"
    },
    "tags": []
   },
   "outputs": [],
   "source": [
    "sys.path.append(\"../code/\")"
   ]
  },
  {
   "cell_type": "code",
   "execution_count": 8,
   "id": "6ac12e73-4926-4f8b-9d3d-f7819656baf0",
   "metadata": {
    "papermill": {
     "duration": 0.022344,
     "end_time": "2022-08-18T00:37:51.764358",
     "exception": false,
     "start_time": "2022-08-18T00:37:51.742014",
     "status": "completed"
    },
    "tags": []
   },
   "outputs": [],
   "source": [
    "import src"
   ]
  },
  {
   "cell_type": "markdown",
   "id": "d08e6eb8-0a53-477a-b1b3-453ecfa6bd08",
   "metadata": {
    "papermill": {
     "duration": 0.006222,
     "end_time": "2022-08-18T00:37:51.776768",
     "exception": false,
     "start_time": "2022-08-18T00:37:51.770546",
     "status": "completed"
    },
    "tags": []
   },
   "source": [
    "### parameters for papermill "
   ]
  },
  {
   "cell_type": "code",
   "execution_count": 9,
   "id": "d32af641-a879-4a61-bc6f-201e825cf04a",
   "metadata": {
    "papermill": {
     "duration": 0.021939,
     "end_time": "2022-08-18T00:37:51.804769",
     "exception": false,
     "start_time": "2022-08-18T00:37:51.782830",
     "status": "completed"
    },
    "tags": [
     "parameters"
    ]
   },
   "outputs": [],
   "source": [
    "domain = \"NZ\"\n",
    "ipath = \"/media/nicolasf/END19101/data/OISST/daily\"\n",
    "clim_path = \"/home/nicolasf/operational/OISST_indices/outputs/\"\n",
    "fig_path = \"/home/nicolasf/operational/OISST_indices/figures/\"\n",
    "ndays_agg = 1\n",
    "quantile = .9\n",
    "lag = 0"
   ]
  },
  {
   "cell_type": "markdown",
   "id": "73787fde-9a72-4cb2-b4a7-b55a0aa2656b",
   "metadata": {
    "papermill": {
     "duration": 0.00622,
     "end_time": "2022-08-18T00:37:51.846148",
     "exception": false,
     "start_time": "2022-08-18T00:37:51.839928",
     "status": "completed"
    },
    "tags": []
   },
   "source": [
    "### get the pathlib paths for the data and the climatology "
   ]
  },
  {
   "cell_type": "code",
   "execution_count": 10,
   "id": "5c459cca-3a66-4166-89f8-3571c3bc97af",
   "metadata": {
    "papermill": {
     "duration": 0.021826,
     "end_time": "2022-08-18T00:37:51.874072",
     "exception": false,
     "start_time": "2022-08-18T00:37:51.852246",
     "status": "completed"
    },
    "tags": []
   },
   "outputs": [],
   "source": [
    "ipath = pathlib.Path(ipath).joinpath(domain)\n",
    "clim_path = pathlib.Path(clim_path).joinpath(domain)\n",
    "fig_path = pathlib.Path(fig_path)"
   ]
  },
  {
   "cell_type": "markdown",
   "id": "149a9df1-7cf5-4d11-b237-dd9321578526",
   "metadata": {
    "papermill": {
     "duration": 0.005994,
     "end_time": "2022-08-18T00:37:51.886406",
     "exception": false,
     "start_time": "2022-08-18T00:37:51.880412",
     "status": "completed"
    },
    "tags": []
   },
   "source": [
    "### get the current date "
   ]
  },
  {
   "cell_type": "code",
   "execution_count": 11,
   "id": "2240a889-a894-4d47-998e-25b4b644f332",
   "metadata": {
    "papermill": {
     "duration": 0.021515,
     "end_time": "2022-08-18T00:37:51.914014",
     "exception": false,
     "start_time": "2022-08-18T00:37:51.892499",
     "status": "completed"
    },
    "tags": []
   },
   "outputs": [],
   "source": [
    "current_date = datetime.utcnow()"
   ]
  },
  {
   "cell_type": "markdown",
   "id": "170b3486-b0a0-468b-b9cb-2ece90766a4b",
   "metadata": {
    "papermill": {
     "duration": 0.006114,
     "end_time": "2022-08-18T00:37:51.967319",
     "exception": false,
     "start_time": "2022-08-18T00:37:51.961205",
     "status": "completed"
    },
    "tags": []
   },
   "source": [
    "## get the years to read "
   ]
  },
  {
   "cell_type": "code",
   "execution_count": 12,
   "id": "46429f7f-e066-4be1-8e2e-f4905a6a2ce0",
   "metadata": {
    "papermill": {
     "duration": 0.024348,
     "end_time": "2022-08-18T00:37:51.998061",
     "exception": false,
     "start_time": "2022-08-18T00:37:51.973713",
     "status": "completed"
    },
    "tags": []
   },
   "outputs": [],
   "source": [
    "years_to_get = np.unique(np.arange(1982, current_date.year + 1))"
   ]
  },
  {
   "cell_type": "code",
   "execution_count": 13,
   "id": "f0524331-928b-47c2-bb86-7b31ed92195b",
   "metadata": {
    "papermill": {
     "duration": 0.020962,
     "end_time": "2022-08-18T00:37:52.025731",
     "exception": false,
     "start_time": "2022-08-18T00:37:52.004769",
     "status": "completed"
    },
    "tags": []
   },
   "outputs": [],
   "source": [
    "lfiles = [ipath.joinpath(f\"sst.day.mean.{year}.v2.nc\") for year in years_to_get]"
   ]
  },
  {
   "cell_type": "code",
   "execution_count": 14,
   "id": "2ff4b110-fad1-4e81-9d13-3570ee8bb2d7",
   "metadata": {
    "papermill": {
     "duration": 0.024448,
     "end_time": "2022-08-18T00:37:52.056761",
     "exception": false,
     "start_time": "2022-08-18T00:37:52.032313",
     "status": "completed"
    },
    "tags": []
   },
   "outputs": [],
   "source": [
    "lfiles.sort()"
   ]
  },
  {
   "cell_type": "code",
   "execution_count": 15,
   "id": "40691d70-c304-45ec-90a5-d7dc340a6b3a",
   "metadata": {
    "papermill": {
     "duration": 0.024024,
     "end_time": "2022-08-18T00:37:52.087774",
     "exception": false,
     "start_time": "2022-08-18T00:37:52.063750",
     "status": "completed"
    },
    "tags": []
   },
   "outputs": [
    {
     "data": {
      "text/plain": [
       "PosixPath('/media/nicolasf/END19101/data/OISST/daily/NZ/sst.day.mean.1982.v2.nc')"
      ]
     },
     "execution_count": 15,
     "metadata": {},
     "output_type": "execute_result"
    }
   ],
   "source": [
    "lfiles[0]"
   ]
  },
  {
   "cell_type": "code",
   "execution_count": 16,
   "id": "d455c85e-03f5-459f-b12c-e15f34b30ffe",
   "metadata": {
    "papermill": {
     "duration": 0.021925,
     "end_time": "2022-08-18T00:37:52.116055",
     "exception": false,
     "start_time": "2022-08-18T00:37:52.094130",
     "status": "completed"
    },
    "tags": []
   },
   "outputs": [
    {
     "data": {
      "text/plain": [
       "PosixPath('/media/nicolasf/END19101/data/OISST/daily/NZ/sst.day.mean.2022.v2.nc')"
      ]
     },
     "execution_count": 16,
     "metadata": {},
     "output_type": "execute_result"
    }
   ],
   "source": [
    "lfiles[-1]"
   ]
  },
  {
   "cell_type": "markdown",
   "id": "b3c33238-39e5-44c2-aea3-dfab8eeb8c40",
   "metadata": {
    "papermill": {
     "duration": 0.006242,
     "end_time": "2022-08-18T00:37:52.128874",
     "exception": false,
     "start_time": "2022-08-18T00:37:52.122632",
     "status": "completed"
    },
    "tags": []
   },
   "source": [
    "## opens the near realtime dataset "
   ]
  },
  {
   "cell_type": "code",
   "execution_count": 17,
   "id": "1390586b-517e-40c0-8d2a-6c2ecd2344e5",
   "metadata": {
    "papermill": {
     "duration": 0.621053,
     "end_time": "2022-08-18T00:37:52.756274",
     "exception": false,
     "start_time": "2022-08-18T00:37:52.135221",
     "status": "completed"
    },
    "tags": []
   },
   "outputs": [],
   "source": [
    "dset = xr.open_mfdataset(lfiles, parallel=True, combine=\"by_coords\")"
   ]
  },
  {
   "cell_type": "code",
   "execution_count": 18,
   "id": "9858d6da-c4d1-4dc1-9c62-2a0d125b5b08",
   "metadata": {
    "papermill": {
     "duration": 0.034638,
     "end_time": "2022-08-18T00:37:52.797459",
     "exception": false,
     "start_time": "2022-08-18T00:37:52.762821",
     "status": "completed"
    },
    "tags": []
   },
   "outputs": [
    {
     "data": {
      "text/html": [
       "<div><svg style=\"position: absolute; width: 0; height: 0; overflow: hidden\">\n",
       "<defs>\n",
       "<symbol id=\"icon-database\" viewBox=\"0 0 32 32\">\n",
       "<path d=\"M16 0c-8.837 0-16 2.239-16 5v4c0 2.761 7.163 5 16 5s16-2.239 16-5v-4c0-2.761-7.163-5-16-5z\"></path>\n",
       "<path d=\"M16 17c-8.837 0-16-2.239-16-5v6c0 2.761 7.163 5 16 5s16-2.239 16-5v-6c0 2.761-7.163 5-16 5z\"></path>\n",
       "<path d=\"M16 26c-8.837 0-16-2.239-16-5v6c0 2.761 7.163 5 16 5s16-2.239 16-5v-6c0 2.761-7.163 5-16 5z\"></path>\n",
       "</symbol>\n",
       "<symbol id=\"icon-file-text2\" viewBox=\"0 0 32 32\">\n",
       "<path d=\"M28.681 7.159c-0.694-0.947-1.662-2.053-2.724-3.116s-2.169-2.030-3.116-2.724c-1.612-1.182-2.393-1.319-2.841-1.319h-15.5c-1.378 0-2.5 1.121-2.5 2.5v27c0 1.378 1.122 2.5 2.5 2.5h23c1.378 0 2.5-1.122 2.5-2.5v-19.5c0-0.448-0.137-1.23-1.319-2.841zM24.543 5.457c0.959 0.959 1.712 1.825 2.268 2.543h-4.811v-4.811c0.718 0.556 1.584 1.309 2.543 2.268zM28 29.5c0 0.271-0.229 0.5-0.5 0.5h-23c-0.271 0-0.5-0.229-0.5-0.5v-27c0-0.271 0.229-0.5 0.5-0.5 0 0 15.499-0 15.5 0v7c0 0.552 0.448 1 1 1h7v19.5z\"></path>\n",
       "<path d=\"M23 26h-14c-0.552 0-1-0.448-1-1s0.448-1 1-1h14c0.552 0 1 0.448 1 1s-0.448 1-1 1z\"></path>\n",
       "<path d=\"M23 22h-14c-0.552 0-1-0.448-1-1s0.448-1 1-1h14c0.552 0 1 0.448 1 1s-0.448 1-1 1z\"></path>\n",
       "<path d=\"M23 18h-14c-0.552 0-1-0.448-1-1s0.448-1 1-1h14c0.552 0 1 0.448 1 1s-0.448 1-1 1z\"></path>\n",
       "</symbol>\n",
       "</defs>\n",
       "</svg>\n",
       "<style>/* CSS stylesheet for displaying xarray objects in jupyterlab.\n",
       " *\n",
       " */\n",
       "\n",
       ":root {\n",
       "  --xr-font-color0: var(--jp-content-font-color0, rgba(0, 0, 0, 1));\n",
       "  --xr-font-color2: var(--jp-content-font-color2, rgba(0, 0, 0, 0.54));\n",
       "  --xr-font-color3: var(--jp-content-font-color3, rgba(0, 0, 0, 0.38));\n",
       "  --xr-border-color: var(--jp-border-color2, #e0e0e0);\n",
       "  --xr-disabled-color: var(--jp-layout-color3, #bdbdbd);\n",
       "  --xr-background-color: var(--jp-layout-color0, white);\n",
       "  --xr-background-color-row-even: var(--jp-layout-color1, white);\n",
       "  --xr-background-color-row-odd: var(--jp-layout-color2, #eeeeee);\n",
       "}\n",
       "\n",
       "html[theme=dark],\n",
       "body[data-theme=dark],\n",
       "body.vscode-dark {\n",
       "  --xr-font-color0: rgba(255, 255, 255, 1);\n",
       "  --xr-font-color2: rgba(255, 255, 255, 0.54);\n",
       "  --xr-font-color3: rgba(255, 255, 255, 0.38);\n",
       "  --xr-border-color: #1F1F1F;\n",
       "  --xr-disabled-color: #515151;\n",
       "  --xr-background-color: #111111;\n",
       "  --xr-background-color-row-even: #111111;\n",
       "  --xr-background-color-row-odd: #313131;\n",
       "}\n",
       "\n",
       ".xr-wrap {\n",
       "  display: block !important;\n",
       "  min-width: 300px;\n",
       "  max-width: 700px;\n",
       "}\n",
       "\n",
       ".xr-text-repr-fallback {\n",
       "  /* fallback to plain text repr when CSS is not injected (untrusted notebook) */\n",
       "  display: none;\n",
       "}\n",
       "\n",
       ".xr-header {\n",
       "  padding-top: 6px;\n",
       "  padding-bottom: 6px;\n",
       "  margin-bottom: 4px;\n",
       "  border-bottom: solid 1px var(--xr-border-color);\n",
       "}\n",
       "\n",
       ".xr-header > div,\n",
       ".xr-header > ul {\n",
       "  display: inline;\n",
       "  margin-top: 0;\n",
       "  margin-bottom: 0;\n",
       "}\n",
       "\n",
       ".xr-obj-type,\n",
       ".xr-array-name {\n",
       "  margin-left: 2px;\n",
       "  margin-right: 10px;\n",
       "}\n",
       "\n",
       ".xr-obj-type {\n",
       "  color: var(--xr-font-color2);\n",
       "}\n",
       "\n",
       ".xr-sections {\n",
       "  padding-left: 0 !important;\n",
       "  display: grid;\n",
       "  grid-template-columns: 150px auto auto 1fr 20px 20px;\n",
       "}\n",
       "\n",
       ".xr-section-item {\n",
       "  display: contents;\n",
       "}\n",
       "\n",
       ".xr-section-item input {\n",
       "  display: none;\n",
       "}\n",
       "\n",
       ".xr-section-item input + label {\n",
       "  color: var(--xr-disabled-color);\n",
       "}\n",
       "\n",
       ".xr-section-item input:enabled + label {\n",
       "  cursor: pointer;\n",
       "  color: var(--xr-font-color2);\n",
       "}\n",
       "\n",
       ".xr-section-item input:enabled + label:hover {\n",
       "  color: var(--xr-font-color0);\n",
       "}\n",
       "\n",
       ".xr-section-summary {\n",
       "  grid-column: 1;\n",
       "  color: var(--xr-font-color2);\n",
       "  font-weight: 500;\n",
       "}\n",
       "\n",
       ".xr-section-summary > span {\n",
       "  display: inline-block;\n",
       "  padding-left: 0.5em;\n",
       "}\n",
       "\n",
       ".xr-section-summary-in:disabled + label {\n",
       "  color: var(--xr-font-color2);\n",
       "}\n",
       "\n",
       ".xr-section-summary-in + label:before {\n",
       "  display: inline-block;\n",
       "  content: '►';\n",
       "  font-size: 11px;\n",
       "  width: 15px;\n",
       "  text-align: center;\n",
       "}\n",
       "\n",
       ".xr-section-summary-in:disabled + label:before {\n",
       "  color: var(--xr-disabled-color);\n",
       "}\n",
       "\n",
       ".xr-section-summary-in:checked + label:before {\n",
       "  content: '▼';\n",
       "}\n",
       "\n",
       ".xr-section-summary-in:checked + label > span {\n",
       "  display: none;\n",
       "}\n",
       "\n",
       ".xr-section-summary,\n",
       ".xr-section-inline-details {\n",
       "  padding-top: 4px;\n",
       "  padding-bottom: 4px;\n",
       "}\n",
       "\n",
       ".xr-section-inline-details {\n",
       "  grid-column: 2 / -1;\n",
       "}\n",
       "\n",
       ".xr-section-details {\n",
       "  display: none;\n",
       "  grid-column: 1 / -1;\n",
       "  margin-bottom: 5px;\n",
       "}\n",
       "\n",
       ".xr-section-summary-in:checked ~ .xr-section-details {\n",
       "  display: contents;\n",
       "}\n",
       "\n",
       ".xr-array-wrap {\n",
       "  grid-column: 1 / -1;\n",
       "  display: grid;\n",
       "  grid-template-columns: 20px auto;\n",
       "}\n",
       "\n",
       ".xr-array-wrap > label {\n",
       "  grid-column: 1;\n",
       "  vertical-align: top;\n",
       "}\n",
       "\n",
       ".xr-preview {\n",
       "  color: var(--xr-font-color3);\n",
       "}\n",
       "\n",
       ".xr-array-preview,\n",
       ".xr-array-data {\n",
       "  padding: 0 5px !important;\n",
       "  grid-column: 2;\n",
       "}\n",
       "\n",
       ".xr-array-data,\n",
       ".xr-array-in:checked ~ .xr-array-preview {\n",
       "  display: none;\n",
       "}\n",
       "\n",
       ".xr-array-in:checked ~ .xr-array-data,\n",
       ".xr-array-preview {\n",
       "  display: inline-block;\n",
       "}\n",
       "\n",
       ".xr-dim-list {\n",
       "  display: inline-block !important;\n",
       "  list-style: none;\n",
       "  padding: 0 !important;\n",
       "  margin: 0;\n",
       "}\n",
       "\n",
       ".xr-dim-list li {\n",
       "  display: inline-block;\n",
       "  padding: 0;\n",
       "  margin: 0;\n",
       "}\n",
       "\n",
       ".xr-dim-list:before {\n",
       "  content: '(';\n",
       "}\n",
       "\n",
       ".xr-dim-list:after {\n",
       "  content: ')';\n",
       "}\n",
       "\n",
       ".xr-dim-list li:not(:last-child):after {\n",
       "  content: ',';\n",
       "  padding-right: 5px;\n",
       "}\n",
       "\n",
       ".xr-has-index {\n",
       "  font-weight: bold;\n",
       "}\n",
       "\n",
       ".xr-var-list,\n",
       ".xr-var-item {\n",
       "  display: contents;\n",
       "}\n",
       "\n",
       ".xr-var-item > div,\n",
       ".xr-var-item label,\n",
       ".xr-var-item > .xr-var-name span {\n",
       "  background-color: var(--xr-background-color-row-even);\n",
       "  margin-bottom: 0;\n",
       "}\n",
       "\n",
       ".xr-var-item > .xr-var-name:hover span {\n",
       "  padding-right: 5px;\n",
       "}\n",
       "\n",
       ".xr-var-list > li:nth-child(odd) > div,\n",
       ".xr-var-list > li:nth-child(odd) > label,\n",
       ".xr-var-list > li:nth-child(odd) > .xr-var-name span {\n",
       "  background-color: var(--xr-background-color-row-odd);\n",
       "}\n",
       "\n",
       ".xr-var-name {\n",
       "  grid-column: 1;\n",
       "}\n",
       "\n",
       ".xr-var-dims {\n",
       "  grid-column: 2;\n",
       "}\n",
       "\n",
       ".xr-var-dtype {\n",
       "  grid-column: 3;\n",
       "  text-align: right;\n",
       "  color: var(--xr-font-color2);\n",
       "}\n",
       "\n",
       ".xr-var-preview {\n",
       "  grid-column: 4;\n",
       "}\n",
       "\n",
       ".xr-var-name,\n",
       ".xr-var-dims,\n",
       ".xr-var-dtype,\n",
       ".xr-preview,\n",
       ".xr-attrs dt {\n",
       "  white-space: nowrap;\n",
       "  overflow: hidden;\n",
       "  text-overflow: ellipsis;\n",
       "  padding-right: 10px;\n",
       "}\n",
       "\n",
       ".xr-var-name:hover,\n",
       ".xr-var-dims:hover,\n",
       ".xr-var-dtype:hover,\n",
       ".xr-attrs dt:hover {\n",
       "  overflow: visible;\n",
       "  width: auto;\n",
       "  z-index: 1;\n",
       "}\n",
       "\n",
       ".xr-var-attrs,\n",
       ".xr-var-data {\n",
       "  display: none;\n",
       "  background-color: var(--xr-background-color) !important;\n",
       "  padding-bottom: 5px !important;\n",
       "}\n",
       "\n",
       ".xr-var-attrs-in:checked ~ .xr-var-attrs,\n",
       ".xr-var-data-in:checked ~ .xr-var-data {\n",
       "  display: block;\n",
       "}\n",
       "\n",
       ".xr-var-data > table {\n",
       "  float: right;\n",
       "}\n",
       "\n",
       ".xr-var-name span,\n",
       ".xr-var-data,\n",
       ".xr-attrs {\n",
       "  padding-left: 25px !important;\n",
       "}\n",
       "\n",
       ".xr-attrs,\n",
       ".xr-var-attrs,\n",
       ".xr-var-data {\n",
       "  grid-column: 1 / -1;\n",
       "}\n",
       "\n",
       "dl.xr-attrs {\n",
       "  padding: 0;\n",
       "  margin: 0;\n",
       "  display: grid;\n",
       "  grid-template-columns: 125px auto;\n",
       "}\n",
       "\n",
       ".xr-attrs dt,\n",
       ".xr-attrs dd {\n",
       "  padding: 0;\n",
       "  margin: 0;\n",
       "  float: left;\n",
       "  padding-right: 10px;\n",
       "  width: auto;\n",
       "}\n",
       "\n",
       ".xr-attrs dt {\n",
       "  font-weight: normal;\n",
       "  grid-column: 1;\n",
       "}\n",
       "\n",
       ".xr-attrs dt:hover span {\n",
       "  display: inline-block;\n",
       "  background: var(--xr-background-color);\n",
       "  padding-right: 10px;\n",
       "}\n",
       "\n",
       ".xr-attrs dd {\n",
       "  grid-column: 2;\n",
       "  white-space: pre-wrap;\n",
       "  word-break: break-all;\n",
       "}\n",
       "\n",
       ".xr-icon-database,\n",
       ".xr-icon-file-text2 {\n",
       "  display: inline-block;\n",
       "  vertical-align: middle;\n",
       "  width: 1em;\n",
       "  height: 1.5em !important;\n",
       "  stroke-width: 0;\n",
       "  stroke: currentColor;\n",
       "  fill: currentColor;\n",
       "}\n",
       "</style><pre class='xr-text-repr-fallback'>&lt;xarray.Dataset&gt;\n",
       "Dimensions:  (time: 14846, lon: 72, lat: 80)\n",
       "Coordinates:\n",
       "  * time     (time) datetime64[ns] 1982-01-01 1982-01-02 ... 2022-08-24\n",
       "  * lon      (lon) float32 162.1 162.4 162.6 162.9 ... 179.1 179.4 179.6 179.9\n",
       "  * lat      (lat) float32 -49.88 -49.62 -49.38 -49.12 ... -30.62 -30.38 -30.12\n",
       "Data variables:\n",
       "    sst      (time, lat, lon) float32 dask.array&lt;chunksize=(365, 80, 72), meta=np.ndarray&gt;</pre><div class='xr-wrap' style='display:none'><div class='xr-header'><div class='xr-obj-type'>xarray.Dataset</div></div><ul class='xr-sections'><li class='xr-section-item'><input id='section-a8d30e3e-97ba-4552-9f4c-bfaf6ad41230' class='xr-section-summary-in' type='checkbox' disabled ><label for='section-a8d30e3e-97ba-4552-9f4c-bfaf6ad41230' class='xr-section-summary'  title='Expand/collapse section'>Dimensions:</label><div class='xr-section-inline-details'><ul class='xr-dim-list'><li><span class='xr-has-index'>time</span>: 14846</li><li><span class='xr-has-index'>lon</span>: 72</li><li><span class='xr-has-index'>lat</span>: 80</li></ul></div><div class='xr-section-details'></div></li><li class='xr-section-item'><input id='section-673e8e60-be5d-40bb-bae5-54684dd9b121' class='xr-section-summary-in' type='checkbox'  checked><label for='section-673e8e60-be5d-40bb-bae5-54684dd9b121' class='xr-section-summary' >Coordinates: <span>(3)</span></label><div class='xr-section-inline-details'></div><div class='xr-section-details'><ul class='xr-var-list'><li class='xr-var-item'><div class='xr-var-name'><span class='xr-has-index'>time</span></div><div class='xr-var-dims'>(time)</div><div class='xr-var-dtype'>datetime64[ns]</div><div class='xr-var-preview xr-preview'>1982-01-01 ... 2022-08-24</div><input id='attrs-611e9b4c-79e9-430a-a702-a853acf3aa8e' class='xr-var-attrs-in' type='checkbox' ><label for='attrs-611e9b4c-79e9-430a-a702-a853acf3aa8e' title='Show/Hide attributes'><svg class='icon xr-icon-file-text2'><use xlink:href='#icon-file-text2'></use></svg></label><input id='data-e260d450-fb45-4371-a518-ff5217ba8d54' class='xr-var-data-in' type='checkbox'><label for='data-e260d450-fb45-4371-a518-ff5217ba8d54' title='Show/Hide data repr'><svg class='icon xr-icon-database'><use xlink:href='#icon-database'></use></svg></label><div class='xr-var-attrs'><dl class='xr-attrs'><dt><span>long_name :</span></dt><dd>Time</dd><dt><span>delta_t :</span></dt><dd>0000-00-01 00:00:00</dd><dt><span>avg_period :</span></dt><dd>0000-00-01 00:00:00</dd><dt><span>axis :</span></dt><dd>T</dd><dt><span>actual_range :</span></dt><dd>[66474. 66838.]</dd><dt><span>_ChunkSizes :</span></dt><dd>1</dd></dl></div><div class='xr-var-data'><pre>array([&#x27;1982-01-01T00:00:00.000000000&#x27;, &#x27;1982-01-02T00:00:00.000000000&#x27;,\n",
       "       &#x27;1982-01-03T00:00:00.000000000&#x27;, ..., &#x27;2022-08-22T00:00:00.000000000&#x27;,\n",
       "       &#x27;2022-08-23T00:00:00.000000000&#x27;, &#x27;2022-08-24T00:00:00.000000000&#x27;],\n",
       "      dtype=&#x27;datetime64[ns]&#x27;)</pre></div></li><li class='xr-var-item'><div class='xr-var-name'><span class='xr-has-index'>lon</span></div><div class='xr-var-dims'>(lon)</div><div class='xr-var-dtype'>float32</div><div class='xr-var-preview xr-preview'>162.1 162.4 162.6 ... 179.6 179.9</div><input id='attrs-88c86ff4-7fb2-4b98-b432-0ea60d14ba5a' class='xr-var-attrs-in' type='checkbox' ><label for='attrs-88c86ff4-7fb2-4b98-b432-0ea60d14ba5a' title='Show/Hide attributes'><svg class='icon xr-icon-file-text2'><use xlink:href='#icon-file-text2'></use></svg></label><input id='data-f9b9af08-c114-4caa-9b17-5f9586a2c105' class='xr-var-data-in' type='checkbox'><label for='data-f9b9af08-c114-4caa-9b17-5f9586a2c105' title='Show/Hide data repr'><svg class='icon xr-icon-database'><use xlink:href='#icon-database'></use></svg></label><div class='xr-var-attrs'><dl class='xr-attrs'><dt><span>axis :</span></dt><dd>X</dd><dt><span>long_name :</span></dt><dd>Longitude</dd><dt><span>standard_name :</span></dt><dd>longitude</dd><dt><span>units :</span></dt><dd>degrees_east</dd><dt><span>actual_range :</span></dt><dd>[1.25000e-01 3.59875e+02]</dd></dl></div><div class='xr-var-data'><pre>array([162.125, 162.375, 162.625, 162.875, 163.125, 163.375, 163.625, 163.875,\n",
       "       164.125, 164.375, 164.625, 164.875, 165.125, 165.375, 165.625, 165.875,\n",
       "       166.125, 166.375, 166.625, 166.875, 167.125, 167.375, 167.625, 167.875,\n",
       "       168.125, 168.375, 168.625, 168.875, 169.125, 169.375, 169.625, 169.875,\n",
       "       170.125, 170.375, 170.625, 170.875, 171.125, 171.375, 171.625, 171.875,\n",
       "       172.125, 172.375, 172.625, 172.875, 173.125, 173.375, 173.625, 173.875,\n",
       "       174.125, 174.375, 174.625, 174.875, 175.125, 175.375, 175.625, 175.875,\n",
       "       176.125, 176.375, 176.625, 176.875, 177.125, 177.375, 177.625, 177.875,\n",
       "       178.125, 178.375, 178.625, 178.875, 179.125, 179.375, 179.625, 179.875],\n",
       "      dtype=float32)</pre></div></li><li class='xr-var-item'><div class='xr-var-name'><span class='xr-has-index'>lat</span></div><div class='xr-var-dims'>(lat)</div><div class='xr-var-dtype'>float32</div><div class='xr-var-preview xr-preview'>-49.88 -49.62 ... -30.38 -30.12</div><input id='attrs-d61071df-9516-4ac8-bdde-e9be6492c6b7' class='xr-var-attrs-in' type='checkbox' ><label for='attrs-d61071df-9516-4ac8-bdde-e9be6492c6b7' title='Show/Hide attributes'><svg class='icon xr-icon-file-text2'><use xlink:href='#icon-file-text2'></use></svg></label><input id='data-c4ad474a-4d53-4681-a768-084613f06258' class='xr-var-data-in' type='checkbox'><label for='data-c4ad474a-4d53-4681-a768-084613f06258' title='Show/Hide data repr'><svg class='icon xr-icon-database'><use xlink:href='#icon-database'></use></svg></label><div class='xr-var-attrs'><dl class='xr-attrs'><dt><span>units :</span></dt><dd>degrees_north</dd><dt><span>actual_range :</span></dt><dd>[-89.875  89.875]</dd><dt><span>axis :</span></dt><dd>Y</dd><dt><span>standard_name :</span></dt><dd>latitude</dd><dt><span>long_name :</span></dt><dd>Latitude</dd></dl></div><div class='xr-var-data'><pre>array([-49.875, -49.625, -49.375, -49.125, -48.875, -48.625, -48.375, -48.125,\n",
       "       -47.875, -47.625, -47.375, -47.125, -46.875, -46.625, -46.375, -46.125,\n",
       "       -45.875, -45.625, -45.375, -45.125, -44.875, -44.625, -44.375, -44.125,\n",
       "       -43.875, -43.625, -43.375, -43.125, -42.875, -42.625, -42.375, -42.125,\n",
       "       -41.875, -41.625, -41.375, -41.125, -40.875, -40.625, -40.375, -40.125,\n",
       "       -39.875, -39.625, -39.375, -39.125, -38.875, -38.625, -38.375, -38.125,\n",
       "       -37.875, -37.625, -37.375, -37.125, -36.875, -36.625, -36.375, -36.125,\n",
       "       -35.875, -35.625, -35.375, -35.125, -34.875, -34.625, -34.375, -34.125,\n",
       "       -33.875, -33.625, -33.375, -33.125, -32.875, -32.625, -32.375, -32.125,\n",
       "       -31.875, -31.625, -31.375, -31.125, -30.875, -30.625, -30.375, -30.125],\n",
       "      dtype=float32)</pre></div></li></ul></div></li><li class='xr-section-item'><input id='section-5a7c6201-cb34-4266-9dd1-cba000362890' class='xr-section-summary-in' type='checkbox'  checked><label for='section-5a7c6201-cb34-4266-9dd1-cba000362890' class='xr-section-summary' >Data variables: <span>(1)</span></label><div class='xr-section-inline-details'></div><div class='xr-section-details'><ul class='xr-var-list'><li class='xr-var-item'><div class='xr-var-name'><span>sst</span></div><div class='xr-var-dims'>(time, lat, lon)</div><div class='xr-var-dtype'>float32</div><div class='xr-var-preview xr-preview'>dask.array&lt;chunksize=(365, 80, 72), meta=np.ndarray&gt;</div><input id='attrs-2400a18b-112c-4e56-8f35-e70117c02e82' class='xr-var-attrs-in' type='checkbox' ><label for='attrs-2400a18b-112c-4e56-8f35-e70117c02e82' title='Show/Hide attributes'><svg class='icon xr-icon-file-text2'><use xlink:href='#icon-file-text2'></use></svg></label><input id='data-68879d12-fc95-412b-aee2-088ef7c372d7' class='xr-var-data-in' type='checkbox'><label for='data-68879d12-fc95-412b-aee2-088ef7c372d7' title='Show/Hide data repr'><svg class='icon xr-icon-database'><use xlink:href='#icon-database'></use></svg></label><div class='xr-var-attrs'><dl class='xr-attrs'><dt><span>long_name :</span></dt><dd>Daily Sea Surface Temperature</dd><dt><span>units :</span></dt><dd>degC</dd><dt><span>valid_range :</span></dt><dd>[-3. 45.]</dd><dt><span>precision :</span></dt><dd>2.0</dd><dt><span>dataset :</span></dt><dd>NOAA High-resolution Blended Analysis</dd><dt><span>var_desc :</span></dt><dd>Sea Surface Temperature</dd><dt><span>level_desc :</span></dt><dd>Surface</dd><dt><span>statistic :</span></dt><dd>Mean</dd><dt><span>parent_stat :</span></dt><dd>Individual Observations</dd><dt><span>actual_range :</span></dt><dd>[-1.8  34.48]</dd><dt><span>_ChunkSizes :</span></dt><dd>[   1  720 1440]</dd></dl></div><div class='xr-var-data'><table>\n",
       "    <tr>\n",
       "        <td>\n",
       "            <table>\n",
       "                <thead>\n",
       "                    <tr>\n",
       "                        <td> </td>\n",
       "                        <th> Array </th>\n",
       "                        <th> Chunk </th>\n",
       "                    </tr>\n",
       "                </thead>\n",
       "                <tbody>\n",
       "                    \n",
       "                    <tr>\n",
       "                        <th> Bytes </th>\n",
       "                        <td> 326.21 MiB </td>\n",
       "                        <td> 8.04 MiB </td>\n",
       "                    </tr>\n",
       "                    \n",
       "                    <tr>\n",
       "                        <th> Shape </th>\n",
       "                        <td> (14846, 80, 72) </td>\n",
       "                        <td> (366, 80, 72) </td>\n",
       "                    </tr>\n",
       "                    <tr>\n",
       "                        <th> Count </th>\n",
       "                        <td> 123 Tasks </td>\n",
       "                        <td> 41 Chunks </td>\n",
       "                    </tr>\n",
       "                    <tr>\n",
       "                    <th> Type </th>\n",
       "                    <td> float32 </td>\n",
       "                    <td> numpy.ndarray </td>\n",
       "                    </tr>\n",
       "                </tbody>\n",
       "            </table>\n",
       "        </td>\n",
       "        <td>\n",
       "        <svg width=\"156\" height=\"146\" style=\"stroke:rgb(0,0,0);stroke-width:1\" >\n",
       "\n",
       "  <!-- Horizontal lines -->\n",
       "  <line x1=\"10\" y1=\"0\" x2=\"80\" y2=\"70\" style=\"stroke-width:2\" />\n",
       "  <line x1=\"10\" y1=\"25\" x2=\"80\" y2=\"96\" style=\"stroke-width:2\" />\n",
       "\n",
       "  <!-- Vertical lines -->\n",
       "  <line x1=\"10\" y1=\"0\" x2=\"10\" y2=\"25\" style=\"stroke-width:2\" />\n",
       "  <line x1=\"13\" y1=\"3\" x2=\"13\" y2=\"28\" />\n",
       "  <line x1=\"16\" y1=\"6\" x2=\"16\" y2=\"32\" />\n",
       "  <line x1=\"20\" y1=\"10\" x2=\"20\" y2=\"35\" />\n",
       "  <line x1=\"23\" y1=\"13\" x2=\"23\" y2=\"39\" />\n",
       "  <line x1=\"27\" y1=\"17\" x2=\"27\" y2=\"42\" />\n",
       "  <line x1=\"30\" y1=\"20\" x2=\"30\" y2=\"46\" />\n",
       "  <line x1=\"36\" y1=\"26\" x2=\"36\" y2=\"51\" />\n",
       "  <line x1=\"39\" y1=\"29\" x2=\"39\" y2=\"54\" />\n",
       "  <line x1=\"42\" y1=\"32\" x2=\"42\" y2=\"58\" />\n",
       "  <line x1=\"46\" y1=\"36\" x2=\"46\" y2=\"61\" />\n",
       "  <line x1=\"49\" y1=\"39\" x2=\"49\" y2=\"65\" />\n",
       "  <line x1=\"53\" y1=\"43\" x2=\"53\" y2=\"68\" />\n",
       "  <line x1=\"58\" y1=\"48\" x2=\"58\" y2=\"74\" />\n",
       "  <line x1=\"62\" y1=\"52\" x2=\"62\" y2=\"77\" />\n",
       "  <line x1=\"65\" y1=\"55\" x2=\"65\" y2=\"80\" />\n",
       "  <line x1=\"69\" y1=\"59\" x2=\"69\" y2=\"84\" />\n",
       "  <line x1=\"72\" y1=\"62\" x2=\"72\" y2=\"87\" />\n",
       "  <line x1=\"75\" y1=\"65\" x2=\"75\" y2=\"91\" />\n",
       "  <line x1=\"80\" y1=\"70\" x2=\"80\" y2=\"96\" style=\"stroke-width:2\" />\n",
       "\n",
       "  <!-- Colored Rectangle -->\n",
       "  <polygon points=\"10.0,0.0 80.58823529411765,70.58823529411765 80.58823529411765,96.00085180870013 10.0,25.412616514582485\" style=\"fill:#8B4903A0;stroke-width:0\"/>\n",
       "\n",
       "  <!-- Horizontal lines -->\n",
       "  <line x1=\"10\" y1=\"0\" x2=\"35\" y2=\"0\" style=\"stroke-width:2\" />\n",
       "  <line x1=\"13\" y1=\"3\" x2=\"38\" y2=\"3\" />\n",
       "  <line x1=\"16\" y1=\"6\" x2=\"42\" y2=\"6\" />\n",
       "  <line x1=\"20\" y1=\"10\" x2=\"45\" y2=\"10\" />\n",
       "  <line x1=\"23\" y1=\"13\" x2=\"49\" y2=\"13\" />\n",
       "  <line x1=\"27\" y1=\"17\" x2=\"52\" y2=\"17\" />\n",
       "  <line x1=\"30\" y1=\"20\" x2=\"56\" y2=\"20\" />\n",
       "  <line x1=\"36\" y1=\"26\" x2=\"61\" y2=\"26\" />\n",
       "  <line x1=\"39\" y1=\"29\" x2=\"64\" y2=\"29\" />\n",
       "  <line x1=\"42\" y1=\"32\" x2=\"68\" y2=\"32\" />\n",
       "  <line x1=\"46\" y1=\"36\" x2=\"71\" y2=\"36\" />\n",
       "  <line x1=\"49\" y1=\"39\" x2=\"75\" y2=\"39\" />\n",
       "  <line x1=\"53\" y1=\"43\" x2=\"78\" y2=\"43\" />\n",
       "  <line x1=\"58\" y1=\"48\" x2=\"84\" y2=\"48\" />\n",
       "  <line x1=\"62\" y1=\"52\" x2=\"87\" y2=\"52\" />\n",
       "  <line x1=\"65\" y1=\"55\" x2=\"90\" y2=\"55\" />\n",
       "  <line x1=\"69\" y1=\"59\" x2=\"94\" y2=\"59\" />\n",
       "  <line x1=\"72\" y1=\"62\" x2=\"97\" y2=\"62\" />\n",
       "  <line x1=\"75\" y1=\"65\" x2=\"101\" y2=\"65\" />\n",
       "  <line x1=\"80\" y1=\"70\" x2=\"106\" y2=\"70\" style=\"stroke-width:2\" />\n",
       "\n",
       "  <!-- Vertical lines -->\n",
       "  <line x1=\"10\" y1=\"0\" x2=\"80\" y2=\"70\" style=\"stroke-width:2\" />\n",
       "  <line x1=\"35\" y1=\"0\" x2=\"106\" y2=\"70\" style=\"stroke-width:2\" />\n",
       "\n",
       "  <!-- Colored Rectangle -->\n",
       "  <polygon points=\"10.0,0.0 35.41261651458248,0.0 106.00085180870013,70.58823529411765 80.58823529411765,70.58823529411765\" style=\"fill:#8B4903A0;stroke-width:0\"/>\n",
       "\n",
       "  <!-- Horizontal lines -->\n",
       "  <line x1=\"80\" y1=\"70\" x2=\"106\" y2=\"70\" style=\"stroke-width:2\" />\n",
       "  <line x1=\"80\" y1=\"96\" x2=\"106\" y2=\"96\" style=\"stroke-width:2\" />\n",
       "\n",
       "  <!-- Vertical lines -->\n",
       "  <line x1=\"80\" y1=\"70\" x2=\"80\" y2=\"96\" style=\"stroke-width:2\" />\n",
       "  <line x1=\"106\" y1=\"70\" x2=\"106\" y2=\"96\" style=\"stroke-width:2\" />\n",
       "\n",
       "  <!-- Colored Rectangle -->\n",
       "  <polygon points=\"80.58823529411765,70.58823529411765 106.00085180870013,70.58823529411765 106.00085180870013,96.00085180870013 80.58823529411765,96.00085180870013\" style=\"fill:#ECB172A0;stroke-width:0\"/>\n",
       "\n",
       "  <!-- Text -->\n",
       "  <text x=\"93.294544\" y=\"116.000852\" font-size=\"1.0rem\" font-weight=\"100\" text-anchor=\"middle\" >72</text>\n",
       "  <text x=\"126.000852\" y=\"83.294544\" font-size=\"1.0rem\" font-weight=\"100\" text-anchor=\"middle\" transform=\"rotate(0,126.000852,83.294544)\">80</text>\n",
       "  <text x=\"35.294118\" y=\"80.706734\" font-size=\"1.0rem\" font-weight=\"100\" text-anchor=\"middle\" transform=\"rotate(45,35.294118,80.706734)\">14846</text>\n",
       "</svg>\n",
       "        </td>\n",
       "    </tr>\n",
       "</table></div></li></ul></div></li><li class='xr-section-item'><input id='section-a76b1db2-888c-4bc8-9b58-73f44cf2dcbf' class='xr-section-summary-in' type='checkbox' disabled ><label for='section-a76b1db2-888c-4bc8-9b58-73f44cf2dcbf' class='xr-section-summary'  title='Expand/collapse section'>Attributes: <span>(0)</span></label><div class='xr-section-inline-details'></div><div class='xr-section-details'><dl class='xr-attrs'></dl></div></li></ul></div></div>"
      ],
      "text/plain": [
       "<xarray.Dataset>\n",
       "Dimensions:  (time: 14846, lon: 72, lat: 80)\n",
       "Coordinates:\n",
       "  * time     (time) datetime64[ns] 1982-01-01 1982-01-02 ... 2022-08-24\n",
       "  * lon      (lon) float32 162.1 162.4 162.6 162.9 ... 179.1 179.4 179.6 179.9\n",
       "  * lat      (lat) float32 -49.88 -49.62 -49.38 -49.12 ... -30.62 -30.38 -30.12\n",
       "Data variables:\n",
       "    sst      (time, lat, lon) float32 dask.array<chunksize=(365, 80, 72), meta=np.ndarray>"
      ]
     },
     "execution_count": 18,
     "metadata": {},
     "output_type": "execute_result"
    }
   ],
   "source": [
    "dset"
   ]
  },
  {
   "cell_type": "markdown",
   "id": "04bf5698-b821-49c6-9f9d-099d634d091c",
   "metadata": {
    "papermill": {
     "duration": 0.006881,
     "end_time": "2022-08-18T00:37:52.811443",
     "exception": false,
     "start_time": "2022-08-18T00:37:52.804562",
     "status": "completed"
    },
    "tags": []
   },
   "source": [
    "### calculates the rolling averages here if the number of days > 1"
   ]
  },
  {
   "cell_type": "code",
   "execution_count": 19,
   "id": "9c1a3688-2a75-45de-a804-12e828031f75",
   "metadata": {
    "papermill": {
     "duration": 0.050701,
     "end_time": "2022-08-18T00:37:52.869039",
     "exception": false,
     "start_time": "2022-08-18T00:37:52.818338",
     "status": "completed"
    },
    "tags": []
   },
   "outputs": [],
   "source": [
    "if ndays_agg > 1:\n",
    "\n",
    "    dset = dset.rolling({\"time\": ndays_agg}, min_periods=ndays_agg, center=False).mean(\n",
    "        \"time\"\n",
    "    )\n",
    "\n",
    "    dset = dset.isel(time=slice(ndays_agg + 1, None))"
   ]
  },
  {
   "cell_type": "markdown",
   "id": "3f36b4c3-af4f-48f3-bfa5-23da2a9189db",
   "metadata": {
    "papermill": {
     "duration": 0.007015,
     "end_time": "2022-08-18T00:37:52.883504",
     "exception": false,
     "start_time": "2022-08-18T00:37:52.876489",
     "status": "completed"
    },
    "tags": []
   },
   "source": [
    "### first and last day in the dataset "
   ]
  },
  {
   "cell_type": "code",
   "execution_count": 20,
   "id": "725bc761-6eeb-4554-a418-33eecd86fdf8",
   "metadata": {
    "papermill": {
     "duration": 0.024785,
     "end_time": "2022-08-18T00:37:52.915076",
     "exception": false,
     "start_time": "2022-08-18T00:37:52.890291",
     "status": "completed"
    },
    "tags": []
   },
   "outputs": [],
   "source": [
    "first_day = pd.to_datetime(dset.time.data[0])\n",
    "last_day = pd.to_datetime(dset.time.data[-1])"
   ]
  },
  {
   "cell_type": "code",
   "execution_count": 21,
   "id": "a9ddbfe1-8acb-4975-894f-4ecc9ecbc8f0",
   "metadata": {},
   "outputs": [
    {
     "name": "stderr",
     "output_type": "stream",
     "text": [
      "/home/nicolasf/mambaforge/envs/climetlab/lib/python3.8/site-packages/xarray/coding/cftime_offsets.py:1130: FutureWarning: Argument `closed` is deprecated in favor of `inclusive`.\n",
      "  return pd.date_range(\n"
     ]
    }
   ],
   "source": [
    "standard_calendar = xr.date_range(start=first_day, end=last_day)"
   ]
  },
  {
   "cell_type": "markdown",
   "id": "ee40ef4a-75cc-4d8c-8aa6-9fe66fe74e2f",
   "metadata": {
    "papermill": {
     "duration": 0.006786,
     "end_time": "2022-08-18T00:37:52.928785",
     "exception": false,
     "start_time": "2022-08-18T00:37:52.921999",
     "status": "completed"
    },
    "tags": []
   },
   "source": [
    "### get rid of the 29th of Feb if present "
   ]
  },
  {
   "cell_type": "code",
   "execution_count": 22,
   "id": "0f4d446f-07d8-4405-8521-de9daf057f4b",
   "metadata": {
    "papermill": {
     "duration": 0.037421,
     "end_time": "2022-08-18T00:37:52.972971",
     "exception": false,
     "start_time": "2022-08-18T00:37:52.935550",
     "status": "completed"
    },
    "tags": []
   },
   "outputs": [],
   "source": [
    "dset = dset.convert_calendar(\"noleap\")"
   ]
  },
  {
   "cell_type": "markdown",
   "id": "a032362e-441e-46db-b323-fe3053e3f790",
   "metadata": {
    "papermill": {
     "duration": 0.006958,
     "end_time": "2022-08-18T00:37:52.987232",
     "exception": false,
     "start_time": "2022-08-18T00:37:52.980274",
     "status": "completed"
    },
    "tags": []
   },
   "source": [
    "### opens the climatology "
   ]
  },
  {
   "cell_type": "code",
   "execution_count": 23,
   "id": "a96bd200-e09a-40b7-9177-b0ae1bd4efae",
   "metadata": {
    "papermill": {
     "duration": 0.029003,
     "end_time": "2022-08-18T00:37:53.023088",
     "exception": false,
     "start_time": "2022-08-18T00:37:52.994085",
     "status": "completed"
    },
    "tags": []
   },
   "outputs": [],
   "source": [
    "clim = xr.open_zarr(\n",
    "    clim_path.joinpath(f\"{domain}_OISST_{ndays_agg}days_climatology_15_window.zarr\")\n",
    ")"
   ]
  },
  {
   "cell_type": "code",
   "execution_count": 24,
   "id": "75582df6-1ce6-4a26-9534-42c90ff9add0",
   "metadata": {
    "papermill": {
     "duration": 0.039122,
     "end_time": "2022-08-18T00:37:53.069217",
     "exception": false,
     "start_time": "2022-08-18T00:37:53.030095",
     "status": "completed"
    },
    "tags": []
   },
   "outputs": [],
   "source": [
    "clim = clim[['quantiles']]"
   ]
  },
  {
   "cell_type": "code",
   "execution_count": 25,
   "id": "61b12ade-ee48-4f41-a240-8b53444c8bc4",
   "metadata": {},
   "outputs": [],
   "source": [
    "clim = clim.chunk({'dayofyear':-1, 'quantile':-1, 'lat':2, 'lon':2})"
   ]
  },
  {
   "cell_type": "markdown",
   "id": "557a7ac1-a062-4336-ad67-b04e1698f8a0",
   "metadata": {
    "papermill": {
     "duration": 0.007492,
     "end_time": "2022-08-18T00:37:53.140888",
     "exception": false,
     "start_time": "2022-08-18T00:37:53.133396",
     "status": "completed"
    },
    "tags": []
   },
   "source": [
    "### repeat the climatology over the time dimension "
   ]
  },
  {
   "cell_type": "code",
   "execution_count": 26,
   "id": "161e9d6f-2301-48fa-af75-fe2b4bca3818",
   "metadata": {
    "papermill": {
     "duration": 0.031275,
     "end_time": "2022-08-18T00:37:53.179636",
     "exception": false,
     "start_time": "2022-08-18T00:37:53.148361",
     "status": "completed"
    },
    "tags": []
   },
   "outputs": [],
   "source": [
    "with dask.config.set(**{'array.slicing.split_large_chunks': True}):\n",
    "    clim_repeat = clim.sel(dayofyear=dset.time.dt.dayofyear)"
   ]
  },
  {
   "cell_type": "code",
   "execution_count": 27,
   "id": "2cbf0ba9-4771-45c4-bfdb-48f6880bf530",
   "metadata": {
    "papermill": {
     "duration": 0.042861,
     "end_time": "2022-08-18T00:37:53.234403",
     "exception": false,
     "start_time": "2022-08-18T00:37:53.191542",
     "status": "completed"
    },
    "tags": []
   },
   "outputs": [
    {
     "data": {
      "text/html": [
       "<div><svg style=\"position: absolute; width: 0; height: 0; overflow: hidden\">\n",
       "<defs>\n",
       "<symbol id=\"icon-database\" viewBox=\"0 0 32 32\">\n",
       "<path d=\"M16 0c-8.837 0-16 2.239-16 5v4c0 2.761 7.163 5 16 5s16-2.239 16-5v-4c0-2.761-7.163-5-16-5z\"></path>\n",
       "<path d=\"M16 17c-8.837 0-16-2.239-16-5v6c0 2.761 7.163 5 16 5s16-2.239 16-5v-6c0 2.761-7.163 5-16 5z\"></path>\n",
       "<path d=\"M16 26c-8.837 0-16-2.239-16-5v6c0 2.761 7.163 5 16 5s16-2.239 16-5v-6c0 2.761-7.163 5-16 5z\"></path>\n",
       "</symbol>\n",
       "<symbol id=\"icon-file-text2\" viewBox=\"0 0 32 32\">\n",
       "<path d=\"M28.681 7.159c-0.694-0.947-1.662-2.053-2.724-3.116s-2.169-2.030-3.116-2.724c-1.612-1.182-2.393-1.319-2.841-1.319h-15.5c-1.378 0-2.5 1.121-2.5 2.5v27c0 1.378 1.122 2.5 2.5 2.5h23c1.378 0 2.5-1.122 2.5-2.5v-19.5c0-0.448-0.137-1.23-1.319-2.841zM24.543 5.457c0.959 0.959 1.712 1.825 2.268 2.543h-4.811v-4.811c0.718 0.556 1.584 1.309 2.543 2.268zM28 29.5c0 0.271-0.229 0.5-0.5 0.5h-23c-0.271 0-0.5-0.229-0.5-0.5v-27c0-0.271 0.229-0.5 0.5-0.5 0 0 15.499-0 15.5 0v7c0 0.552 0.448 1 1 1h7v19.5z\"></path>\n",
       "<path d=\"M23 26h-14c-0.552 0-1-0.448-1-1s0.448-1 1-1h14c0.552 0 1 0.448 1 1s-0.448 1-1 1z\"></path>\n",
       "<path d=\"M23 22h-14c-0.552 0-1-0.448-1-1s0.448-1 1-1h14c0.552 0 1 0.448 1 1s-0.448 1-1 1z\"></path>\n",
       "<path d=\"M23 18h-14c-0.552 0-1-0.448-1-1s0.448-1 1-1h14c0.552 0 1 0.448 1 1s-0.448 1-1 1z\"></path>\n",
       "</symbol>\n",
       "</defs>\n",
       "</svg>\n",
       "<style>/* CSS stylesheet for displaying xarray objects in jupyterlab.\n",
       " *\n",
       " */\n",
       "\n",
       ":root {\n",
       "  --xr-font-color0: var(--jp-content-font-color0, rgba(0, 0, 0, 1));\n",
       "  --xr-font-color2: var(--jp-content-font-color2, rgba(0, 0, 0, 0.54));\n",
       "  --xr-font-color3: var(--jp-content-font-color3, rgba(0, 0, 0, 0.38));\n",
       "  --xr-border-color: var(--jp-border-color2, #e0e0e0);\n",
       "  --xr-disabled-color: var(--jp-layout-color3, #bdbdbd);\n",
       "  --xr-background-color: var(--jp-layout-color0, white);\n",
       "  --xr-background-color-row-even: var(--jp-layout-color1, white);\n",
       "  --xr-background-color-row-odd: var(--jp-layout-color2, #eeeeee);\n",
       "}\n",
       "\n",
       "html[theme=dark],\n",
       "body[data-theme=dark],\n",
       "body.vscode-dark {\n",
       "  --xr-font-color0: rgba(255, 255, 255, 1);\n",
       "  --xr-font-color2: rgba(255, 255, 255, 0.54);\n",
       "  --xr-font-color3: rgba(255, 255, 255, 0.38);\n",
       "  --xr-border-color: #1F1F1F;\n",
       "  --xr-disabled-color: #515151;\n",
       "  --xr-background-color: #111111;\n",
       "  --xr-background-color-row-even: #111111;\n",
       "  --xr-background-color-row-odd: #313131;\n",
       "}\n",
       "\n",
       ".xr-wrap {\n",
       "  display: block !important;\n",
       "  min-width: 300px;\n",
       "  max-width: 700px;\n",
       "}\n",
       "\n",
       ".xr-text-repr-fallback {\n",
       "  /* fallback to plain text repr when CSS is not injected (untrusted notebook) */\n",
       "  display: none;\n",
       "}\n",
       "\n",
       ".xr-header {\n",
       "  padding-top: 6px;\n",
       "  padding-bottom: 6px;\n",
       "  margin-bottom: 4px;\n",
       "  border-bottom: solid 1px var(--xr-border-color);\n",
       "}\n",
       "\n",
       ".xr-header > div,\n",
       ".xr-header > ul {\n",
       "  display: inline;\n",
       "  margin-top: 0;\n",
       "  margin-bottom: 0;\n",
       "}\n",
       "\n",
       ".xr-obj-type,\n",
       ".xr-array-name {\n",
       "  margin-left: 2px;\n",
       "  margin-right: 10px;\n",
       "}\n",
       "\n",
       ".xr-obj-type {\n",
       "  color: var(--xr-font-color2);\n",
       "}\n",
       "\n",
       ".xr-sections {\n",
       "  padding-left: 0 !important;\n",
       "  display: grid;\n",
       "  grid-template-columns: 150px auto auto 1fr 20px 20px;\n",
       "}\n",
       "\n",
       ".xr-section-item {\n",
       "  display: contents;\n",
       "}\n",
       "\n",
       ".xr-section-item input {\n",
       "  display: none;\n",
       "}\n",
       "\n",
       ".xr-section-item input + label {\n",
       "  color: var(--xr-disabled-color);\n",
       "}\n",
       "\n",
       ".xr-section-item input:enabled + label {\n",
       "  cursor: pointer;\n",
       "  color: var(--xr-font-color2);\n",
       "}\n",
       "\n",
       ".xr-section-item input:enabled + label:hover {\n",
       "  color: var(--xr-font-color0);\n",
       "}\n",
       "\n",
       ".xr-section-summary {\n",
       "  grid-column: 1;\n",
       "  color: var(--xr-font-color2);\n",
       "  font-weight: 500;\n",
       "}\n",
       "\n",
       ".xr-section-summary > span {\n",
       "  display: inline-block;\n",
       "  padding-left: 0.5em;\n",
       "}\n",
       "\n",
       ".xr-section-summary-in:disabled + label {\n",
       "  color: var(--xr-font-color2);\n",
       "}\n",
       "\n",
       ".xr-section-summary-in + label:before {\n",
       "  display: inline-block;\n",
       "  content: '►';\n",
       "  font-size: 11px;\n",
       "  width: 15px;\n",
       "  text-align: center;\n",
       "}\n",
       "\n",
       ".xr-section-summary-in:disabled + label:before {\n",
       "  color: var(--xr-disabled-color);\n",
       "}\n",
       "\n",
       ".xr-section-summary-in:checked + label:before {\n",
       "  content: '▼';\n",
       "}\n",
       "\n",
       ".xr-section-summary-in:checked + label > span {\n",
       "  display: none;\n",
       "}\n",
       "\n",
       ".xr-section-summary,\n",
       ".xr-section-inline-details {\n",
       "  padding-top: 4px;\n",
       "  padding-bottom: 4px;\n",
       "}\n",
       "\n",
       ".xr-section-inline-details {\n",
       "  grid-column: 2 / -1;\n",
       "}\n",
       "\n",
       ".xr-section-details {\n",
       "  display: none;\n",
       "  grid-column: 1 / -1;\n",
       "  margin-bottom: 5px;\n",
       "}\n",
       "\n",
       ".xr-section-summary-in:checked ~ .xr-section-details {\n",
       "  display: contents;\n",
       "}\n",
       "\n",
       ".xr-array-wrap {\n",
       "  grid-column: 1 / -1;\n",
       "  display: grid;\n",
       "  grid-template-columns: 20px auto;\n",
       "}\n",
       "\n",
       ".xr-array-wrap > label {\n",
       "  grid-column: 1;\n",
       "  vertical-align: top;\n",
       "}\n",
       "\n",
       ".xr-preview {\n",
       "  color: var(--xr-font-color3);\n",
       "}\n",
       "\n",
       ".xr-array-preview,\n",
       ".xr-array-data {\n",
       "  padding: 0 5px !important;\n",
       "  grid-column: 2;\n",
       "}\n",
       "\n",
       ".xr-array-data,\n",
       ".xr-array-in:checked ~ .xr-array-preview {\n",
       "  display: none;\n",
       "}\n",
       "\n",
       ".xr-array-in:checked ~ .xr-array-data,\n",
       ".xr-array-preview {\n",
       "  display: inline-block;\n",
       "}\n",
       "\n",
       ".xr-dim-list {\n",
       "  display: inline-block !important;\n",
       "  list-style: none;\n",
       "  padding: 0 !important;\n",
       "  margin: 0;\n",
       "}\n",
       "\n",
       ".xr-dim-list li {\n",
       "  display: inline-block;\n",
       "  padding: 0;\n",
       "  margin: 0;\n",
       "}\n",
       "\n",
       ".xr-dim-list:before {\n",
       "  content: '(';\n",
       "}\n",
       "\n",
       ".xr-dim-list:after {\n",
       "  content: ')';\n",
       "}\n",
       "\n",
       ".xr-dim-list li:not(:last-child):after {\n",
       "  content: ',';\n",
       "  padding-right: 5px;\n",
       "}\n",
       "\n",
       ".xr-has-index {\n",
       "  font-weight: bold;\n",
       "}\n",
       "\n",
       ".xr-var-list,\n",
       ".xr-var-item {\n",
       "  display: contents;\n",
       "}\n",
       "\n",
       ".xr-var-item > div,\n",
       ".xr-var-item label,\n",
       ".xr-var-item > .xr-var-name span {\n",
       "  background-color: var(--xr-background-color-row-even);\n",
       "  margin-bottom: 0;\n",
       "}\n",
       "\n",
       ".xr-var-item > .xr-var-name:hover span {\n",
       "  padding-right: 5px;\n",
       "}\n",
       "\n",
       ".xr-var-list > li:nth-child(odd) > div,\n",
       ".xr-var-list > li:nth-child(odd) > label,\n",
       ".xr-var-list > li:nth-child(odd) > .xr-var-name span {\n",
       "  background-color: var(--xr-background-color-row-odd);\n",
       "}\n",
       "\n",
       ".xr-var-name {\n",
       "  grid-column: 1;\n",
       "}\n",
       "\n",
       ".xr-var-dims {\n",
       "  grid-column: 2;\n",
       "}\n",
       "\n",
       ".xr-var-dtype {\n",
       "  grid-column: 3;\n",
       "  text-align: right;\n",
       "  color: var(--xr-font-color2);\n",
       "}\n",
       "\n",
       ".xr-var-preview {\n",
       "  grid-column: 4;\n",
       "}\n",
       "\n",
       ".xr-var-name,\n",
       ".xr-var-dims,\n",
       ".xr-var-dtype,\n",
       ".xr-preview,\n",
       ".xr-attrs dt {\n",
       "  white-space: nowrap;\n",
       "  overflow: hidden;\n",
       "  text-overflow: ellipsis;\n",
       "  padding-right: 10px;\n",
       "}\n",
       "\n",
       ".xr-var-name:hover,\n",
       ".xr-var-dims:hover,\n",
       ".xr-var-dtype:hover,\n",
       ".xr-attrs dt:hover {\n",
       "  overflow: visible;\n",
       "  width: auto;\n",
       "  z-index: 1;\n",
       "}\n",
       "\n",
       ".xr-var-attrs,\n",
       ".xr-var-data {\n",
       "  display: none;\n",
       "  background-color: var(--xr-background-color) !important;\n",
       "  padding-bottom: 5px !important;\n",
       "}\n",
       "\n",
       ".xr-var-attrs-in:checked ~ .xr-var-attrs,\n",
       ".xr-var-data-in:checked ~ .xr-var-data {\n",
       "  display: block;\n",
       "}\n",
       "\n",
       ".xr-var-data > table {\n",
       "  float: right;\n",
       "}\n",
       "\n",
       ".xr-var-name span,\n",
       ".xr-var-data,\n",
       ".xr-attrs {\n",
       "  padding-left: 25px !important;\n",
       "}\n",
       "\n",
       ".xr-attrs,\n",
       ".xr-var-attrs,\n",
       ".xr-var-data {\n",
       "  grid-column: 1 / -1;\n",
       "}\n",
       "\n",
       "dl.xr-attrs {\n",
       "  padding: 0;\n",
       "  margin: 0;\n",
       "  display: grid;\n",
       "  grid-template-columns: 125px auto;\n",
       "}\n",
       "\n",
       ".xr-attrs dt,\n",
       ".xr-attrs dd {\n",
       "  padding: 0;\n",
       "  margin: 0;\n",
       "  float: left;\n",
       "  padding-right: 10px;\n",
       "  width: auto;\n",
       "}\n",
       "\n",
       ".xr-attrs dt {\n",
       "  font-weight: normal;\n",
       "  grid-column: 1;\n",
       "}\n",
       "\n",
       ".xr-attrs dt:hover span {\n",
       "  display: inline-block;\n",
       "  background: var(--xr-background-color);\n",
       "  padding-right: 10px;\n",
       "}\n",
       "\n",
       ".xr-attrs dd {\n",
       "  grid-column: 2;\n",
       "  white-space: pre-wrap;\n",
       "  word-break: break-all;\n",
       "}\n",
       "\n",
       ".xr-icon-database,\n",
       ".xr-icon-file-text2 {\n",
       "  display: inline-block;\n",
       "  vertical-align: middle;\n",
       "  width: 1em;\n",
       "  height: 1.5em !important;\n",
       "  stroke-width: 0;\n",
       "  stroke: currentColor;\n",
       "  fill: currentColor;\n",
       "}\n",
       "</style><pre class='xr-text-repr-fallback'>&lt;xarray.Dataset&gt;\n",
       "Dimensions:    (time: 14836, quantile: 7, lat: 80, lon: 72)\n",
       "Coordinates:\n",
       "    dayofyear  (time) int64 1 2 3 4 5 6 7 8 ... 229 230 231 232 233 234 235 236\n",
       "  * lat        (lat) float32 -49.88 -49.62 -49.38 ... -30.62 -30.38 -30.12\n",
       "  * lon        (lon) float32 162.1 162.4 162.6 162.9 ... 179.1 179.4 179.6 179.9\n",
       "  * quantile   (quantile) float64 0.01 0.1 0.25 0.5 0.75 0.9 0.99\n",
       "  * time       (time) object 1982-01-01 00:00:00 ... 2022-08-24 00:00:00\n",
       "Data variables:\n",
       "    quantiles  (time, quantile, lat, lon) float64 dask.array&lt;chunksize=(413, 7, 2, 2), meta=np.ndarray&gt;</pre><div class='xr-wrap' style='display:none'><div class='xr-header'><div class='xr-obj-type'>xarray.Dataset</div></div><ul class='xr-sections'><li class='xr-section-item'><input id='section-6f79cea9-f700-4c9a-92a1-3e6e4791a7a7' class='xr-section-summary-in' type='checkbox' disabled ><label for='section-6f79cea9-f700-4c9a-92a1-3e6e4791a7a7' class='xr-section-summary'  title='Expand/collapse section'>Dimensions:</label><div class='xr-section-inline-details'><ul class='xr-dim-list'><li><span class='xr-has-index'>time</span>: 14836</li><li><span class='xr-has-index'>quantile</span>: 7</li><li><span class='xr-has-index'>lat</span>: 80</li><li><span class='xr-has-index'>lon</span>: 72</li></ul></div><div class='xr-section-details'></div></li><li class='xr-section-item'><input id='section-61a61142-e8e0-4893-927a-463722496563' class='xr-section-summary-in' type='checkbox'  checked><label for='section-61a61142-e8e0-4893-927a-463722496563' class='xr-section-summary' >Coordinates: <span>(5)</span></label><div class='xr-section-inline-details'></div><div class='xr-section-details'><ul class='xr-var-list'><li class='xr-var-item'><div class='xr-var-name'><span>dayofyear</span></div><div class='xr-var-dims'>(time)</div><div class='xr-var-dtype'>int64</div><div class='xr-var-preview xr-preview'>1 2 3 4 5 6 ... 232 233 234 235 236</div><input id='attrs-e1cd3691-96ea-4533-b151-ea39665e9114' class='xr-var-attrs-in' type='checkbox' disabled><label for='attrs-e1cd3691-96ea-4533-b151-ea39665e9114' title='Show/Hide attributes'><svg class='icon xr-icon-file-text2'><use xlink:href='#icon-file-text2'></use></svg></label><input id='data-6f445d56-8c89-4e74-8c2f-26e386fc4f54' class='xr-var-data-in' type='checkbox'><label for='data-6f445d56-8c89-4e74-8c2f-26e386fc4f54' title='Show/Hide data repr'><svg class='icon xr-icon-database'><use xlink:href='#icon-database'></use></svg></label><div class='xr-var-attrs'><dl class='xr-attrs'></dl></div><div class='xr-var-data'><pre>array([  1,   2,   3, ..., 234, 235, 236])</pre></div></li><li class='xr-var-item'><div class='xr-var-name'><span class='xr-has-index'>lat</span></div><div class='xr-var-dims'>(lat)</div><div class='xr-var-dtype'>float32</div><div class='xr-var-preview xr-preview'>-49.88 -49.62 ... -30.38 -30.12</div><input id='attrs-741e4bc1-7f41-43db-af0b-6efb1b09e949' class='xr-var-attrs-in' type='checkbox' disabled><label for='attrs-741e4bc1-7f41-43db-af0b-6efb1b09e949' title='Show/Hide attributes'><svg class='icon xr-icon-file-text2'><use xlink:href='#icon-file-text2'></use></svg></label><input id='data-644563f8-cfda-45cf-b121-934fd149019d' class='xr-var-data-in' type='checkbox'><label for='data-644563f8-cfda-45cf-b121-934fd149019d' title='Show/Hide data repr'><svg class='icon xr-icon-database'><use xlink:href='#icon-database'></use></svg></label><div class='xr-var-attrs'><dl class='xr-attrs'></dl></div><div class='xr-var-data'><pre>array([-49.875, -49.625, -49.375, -49.125, -48.875, -48.625, -48.375, -48.125,\n",
       "       -47.875, -47.625, -47.375, -47.125, -46.875, -46.625, -46.375, -46.125,\n",
       "       -45.875, -45.625, -45.375, -45.125, -44.875, -44.625, -44.375, -44.125,\n",
       "       -43.875, -43.625, -43.375, -43.125, -42.875, -42.625, -42.375, -42.125,\n",
       "       -41.875, -41.625, -41.375, -41.125, -40.875, -40.625, -40.375, -40.125,\n",
       "       -39.875, -39.625, -39.375, -39.125, -38.875, -38.625, -38.375, -38.125,\n",
       "       -37.875, -37.625, -37.375, -37.125, -36.875, -36.625, -36.375, -36.125,\n",
       "       -35.875, -35.625, -35.375, -35.125, -34.875, -34.625, -34.375, -34.125,\n",
       "       -33.875, -33.625, -33.375, -33.125, -32.875, -32.625, -32.375, -32.125,\n",
       "       -31.875, -31.625, -31.375, -31.125, -30.875, -30.625, -30.375, -30.125],\n",
       "      dtype=float32)</pre></div></li><li class='xr-var-item'><div class='xr-var-name'><span class='xr-has-index'>lon</span></div><div class='xr-var-dims'>(lon)</div><div class='xr-var-dtype'>float32</div><div class='xr-var-preview xr-preview'>162.1 162.4 162.6 ... 179.6 179.9</div><input id='attrs-d75438fb-aaf5-4f4e-bb4d-10a3cde8f4d7' class='xr-var-attrs-in' type='checkbox' disabled><label for='attrs-d75438fb-aaf5-4f4e-bb4d-10a3cde8f4d7' title='Show/Hide attributes'><svg class='icon xr-icon-file-text2'><use xlink:href='#icon-file-text2'></use></svg></label><input id='data-cff25668-f293-4bf2-bc2c-9e6eea6b681f' class='xr-var-data-in' type='checkbox'><label for='data-cff25668-f293-4bf2-bc2c-9e6eea6b681f' title='Show/Hide data repr'><svg class='icon xr-icon-database'><use xlink:href='#icon-database'></use></svg></label><div class='xr-var-attrs'><dl class='xr-attrs'></dl></div><div class='xr-var-data'><pre>array([162.125, 162.375, 162.625, 162.875, 163.125, 163.375, 163.625, 163.875,\n",
       "       164.125, 164.375, 164.625, 164.875, 165.125, 165.375, 165.625, 165.875,\n",
       "       166.125, 166.375, 166.625, 166.875, 167.125, 167.375, 167.625, 167.875,\n",
       "       168.125, 168.375, 168.625, 168.875, 169.125, 169.375, 169.625, 169.875,\n",
       "       170.125, 170.375, 170.625, 170.875, 171.125, 171.375, 171.625, 171.875,\n",
       "       172.125, 172.375, 172.625, 172.875, 173.125, 173.375, 173.625, 173.875,\n",
       "       174.125, 174.375, 174.625, 174.875, 175.125, 175.375, 175.625, 175.875,\n",
       "       176.125, 176.375, 176.625, 176.875, 177.125, 177.375, 177.625, 177.875,\n",
       "       178.125, 178.375, 178.625, 178.875, 179.125, 179.375, 179.625, 179.875],\n",
       "      dtype=float32)</pre></div></li><li class='xr-var-item'><div class='xr-var-name'><span class='xr-has-index'>quantile</span></div><div class='xr-var-dims'>(quantile)</div><div class='xr-var-dtype'>float64</div><div class='xr-var-preview xr-preview'>0.01 0.1 0.25 0.5 0.75 0.9 0.99</div><input id='attrs-01a96449-44ba-4791-8155-e665785ce8ac' class='xr-var-attrs-in' type='checkbox' disabled><label for='attrs-01a96449-44ba-4791-8155-e665785ce8ac' title='Show/Hide attributes'><svg class='icon xr-icon-file-text2'><use xlink:href='#icon-file-text2'></use></svg></label><input id='data-b8ab8b66-14f0-4be6-9358-2c352fc4adf8' class='xr-var-data-in' type='checkbox'><label for='data-b8ab8b66-14f0-4be6-9358-2c352fc4adf8' title='Show/Hide data repr'><svg class='icon xr-icon-database'><use xlink:href='#icon-database'></use></svg></label><div class='xr-var-attrs'><dl class='xr-attrs'></dl></div><div class='xr-var-data'><pre>array([0.01, 0.1 , 0.25, 0.5 , 0.75, 0.9 , 0.99])</pre></div></li><li class='xr-var-item'><div class='xr-var-name'><span class='xr-has-index'>time</span></div><div class='xr-var-dims'>(time)</div><div class='xr-var-dtype'>object</div><div class='xr-var-preview xr-preview'>1982-01-01 00:00:00 ... 2022-08-...</div><input id='attrs-1e50af72-a94a-41b3-8043-8ffbb98c3210' class='xr-var-attrs-in' type='checkbox' ><label for='attrs-1e50af72-a94a-41b3-8043-8ffbb98c3210' title='Show/Hide attributes'><svg class='icon xr-icon-file-text2'><use xlink:href='#icon-file-text2'></use></svg></label><input id='data-60bf25bf-7024-43e9-ae12-b1cb402fc04a' class='xr-var-data-in' type='checkbox'><label for='data-60bf25bf-7024-43e9-ae12-b1cb402fc04a' title='Show/Hide data repr'><svg class='icon xr-icon-database'><use xlink:href='#icon-database'></use></svg></label><div class='xr-var-attrs'><dl class='xr-attrs'><dt><span>long_name :</span></dt><dd>Time</dd><dt><span>delta_t :</span></dt><dd>0000-00-01 00:00:00</dd><dt><span>avg_period :</span></dt><dd>0000-00-01 00:00:00</dd><dt><span>axis :</span></dt><dd>T</dd><dt><span>actual_range :</span></dt><dd>[66474. 66838.]</dd><dt><span>_ChunkSizes :</span></dt><dd>1</dd></dl></div><div class='xr-var-data'><pre>array([cftime.DatetimeNoLeap(1982, 1, 1, 0, 0, 0, 0, has_year_zero=True),\n",
       "       cftime.DatetimeNoLeap(1982, 1, 2, 0, 0, 0, 0, has_year_zero=True),\n",
       "       cftime.DatetimeNoLeap(1982, 1, 3, 0, 0, 0, 0, has_year_zero=True), ...,\n",
       "       cftime.DatetimeNoLeap(2022, 8, 22, 0, 0, 0, 0, has_year_zero=True),\n",
       "       cftime.DatetimeNoLeap(2022, 8, 23, 0, 0, 0, 0, has_year_zero=True),\n",
       "       cftime.DatetimeNoLeap(2022, 8, 24, 0, 0, 0, 0, has_year_zero=True)],\n",
       "      dtype=object)</pre></div></li></ul></div></li><li class='xr-section-item'><input id='section-5b28daad-9359-4d4d-b3d4-ec6952bceaf7' class='xr-section-summary-in' type='checkbox'  checked><label for='section-5b28daad-9359-4d4d-b3d4-ec6952bceaf7' class='xr-section-summary' >Data variables: <span>(1)</span></label><div class='xr-section-inline-details'></div><div class='xr-section-details'><ul class='xr-var-list'><li class='xr-var-item'><div class='xr-var-name'><span>quantiles</span></div><div class='xr-var-dims'>(time, quantile, lat, lon)</div><div class='xr-var-dtype'>float64</div><div class='xr-var-preview xr-preview'>dask.array&lt;chunksize=(413, 7, 2, 2), meta=np.ndarray&gt;</div><input id='attrs-96d05f69-f7dc-4f40-ac61-f95d0556f9c5' class='xr-var-attrs-in' type='checkbox' disabled><label for='attrs-96d05f69-f7dc-4f40-ac61-f95d0556f9c5' title='Show/Hide attributes'><svg class='icon xr-icon-file-text2'><use xlink:href='#icon-file-text2'></use></svg></label><input id='data-fbff889d-4245-4598-b0b7-9dc6c306f18c' class='xr-var-data-in' type='checkbox'><label for='data-fbff889d-4245-4598-b0b7-9dc6c306f18c' title='Show/Hide data repr'><svg class='icon xr-icon-database'><use xlink:href='#icon-database'></use></svg></label><div class='xr-var-attrs'><dl class='xr-attrs'></dl></div><div class='xr-var-data'><table>\n",
       "    <tr>\n",
       "        <td>\n",
       "            <table>\n",
       "                <thead>\n",
       "                    <tr>\n",
       "                        <td> </td>\n",
       "                        <th> Array </th>\n",
       "                        <th> Chunk </th>\n",
       "                    </tr>\n",
       "                </thead>\n",
       "                <tbody>\n",
       "                    \n",
       "                    <tr>\n",
       "                        <th> Bytes </th>\n",
       "                        <td> 4.46 GiB </td>\n",
       "                        <td> 90.34 kiB </td>\n",
       "                    </tr>\n",
       "                    \n",
       "                    <tr>\n",
       "                        <th> Shape </th>\n",
       "                        <td> (14836, 7, 80, 72) </td>\n",
       "                        <td> (413, 7, 2, 2) </td>\n",
       "                    </tr>\n",
       "                    <tr>\n",
       "                        <th> Count </th>\n",
       "                        <td> 54857 Tasks </td>\n",
       "                        <td> 51840 Chunks </td>\n",
       "                    </tr>\n",
       "                    <tr>\n",
       "                    <th> Type </th>\n",
       "                    <td> float64 </td>\n",
       "                    <td> numpy.ndarray </td>\n",
       "                    </tr>\n",
       "                </tbody>\n",
       "            </table>\n",
       "        </td>\n",
       "        <td>\n",
       "        <svg width=\"470\" height=\"90\" style=\"stroke:rgb(0,0,0);stroke-width:1\" >\n",
       "\n",
       "  <!-- Horizontal lines -->\n",
       "  <line x1=\"0\" y1=\"0\" x2=\"120\" y2=\"0\" style=\"stroke-width:2\" />\n",
       "  <line x1=\"0\" y1=\"25\" x2=\"120\" y2=\"25\" style=\"stroke-width:2\" />\n",
       "\n",
       "  <!-- Vertical lines -->\n",
       "  <line x1=\"0\" y1=\"0\" x2=\"0\" y2=\"25\" style=\"stroke-width:2\" />\n",
       "  <line x1=\"3\" y1=\"0\" x2=\"3\" y2=\"25\" />\n",
       "  <line x1=\"6\" y1=\"0\" x2=\"6\" y2=\"25\" />\n",
       "  <line x1=\"10\" y1=\"0\" x2=\"10\" y2=\"25\" />\n",
       "  <line x1=\"13\" y1=\"0\" x2=\"13\" y2=\"25\" />\n",
       "  <line x1=\"16\" y1=\"0\" x2=\"16\" y2=\"25\" />\n",
       "  <line x1=\"20\" y1=\"0\" x2=\"20\" y2=\"25\" />\n",
       "  <line x1=\"23\" y1=\"0\" x2=\"23\" y2=\"25\" />\n",
       "  <line x1=\"30\" y1=\"0\" x2=\"30\" y2=\"25\" />\n",
       "  <line x1=\"33\" y1=\"0\" x2=\"33\" y2=\"25\" />\n",
       "  <line x1=\"36\" y1=\"0\" x2=\"36\" y2=\"25\" />\n",
       "  <line x1=\"40\" y1=\"0\" x2=\"40\" y2=\"25\" />\n",
       "  <line x1=\"43\" y1=\"0\" x2=\"43\" y2=\"25\" />\n",
       "  <line x1=\"46\" y1=\"0\" x2=\"46\" y2=\"25\" />\n",
       "  <line x1=\"50\" y1=\"0\" x2=\"50\" y2=\"25\" />\n",
       "  <line x1=\"53\" y1=\"0\" x2=\"53\" y2=\"25\" />\n",
       "  <line x1=\"60\" y1=\"0\" x2=\"60\" y2=\"25\" />\n",
       "  <line x1=\"63\" y1=\"0\" x2=\"63\" y2=\"25\" />\n",
       "  <line x1=\"66\" y1=\"0\" x2=\"66\" y2=\"25\" />\n",
       "  <line x1=\"70\" y1=\"0\" x2=\"70\" y2=\"25\" />\n",
       "  <line x1=\"73\" y1=\"0\" x2=\"73\" y2=\"25\" />\n",
       "  <line x1=\"76\" y1=\"0\" x2=\"76\" y2=\"25\" />\n",
       "  <line x1=\"80\" y1=\"0\" x2=\"80\" y2=\"25\" />\n",
       "  <line x1=\"83\" y1=\"0\" x2=\"83\" y2=\"25\" />\n",
       "  <line x1=\"90\" y1=\"0\" x2=\"90\" y2=\"25\" />\n",
       "  <line x1=\"93\" y1=\"0\" x2=\"93\" y2=\"25\" />\n",
       "  <line x1=\"96\" y1=\"0\" x2=\"96\" y2=\"25\" />\n",
       "  <line x1=\"100\" y1=\"0\" x2=\"100\" y2=\"25\" />\n",
       "  <line x1=\"103\" y1=\"0\" x2=\"103\" y2=\"25\" />\n",
       "  <line x1=\"106\" y1=\"0\" x2=\"106\" y2=\"25\" />\n",
       "  <line x1=\"110\" y1=\"0\" x2=\"110\" y2=\"25\" />\n",
       "  <line x1=\"113\" y1=\"0\" x2=\"113\" y2=\"25\" />\n",
       "  <line x1=\"120\" y1=\"0\" x2=\"120\" y2=\"25\" style=\"stroke-width:2\" />\n",
       "\n",
       "  <!-- Colored Rectangle -->\n",
       "  <polygon points=\"0.0,0.0 120.0,0.0 120.0,25.412616514582485 0.0,25.412616514582485\" style=\"fill:#8B4903A0;stroke-width:0\"/>\n",
       "\n",
       "  <!-- Text -->\n",
       "  <text x=\"60.000000\" y=\"45.412617\" font-size=\"1.0rem\" font-weight=\"100\" text-anchor=\"middle\" >14836</text>\n",
       "  <text x=\"140.000000\" y=\"12.706308\" font-size=\"1.0rem\" font-weight=\"100\" text-anchor=\"middle\" transform=\"rotate(0,140.000000,12.706308)\">1</text>\n",
       "\n",
       "\n",
       "  <!-- Horizontal lines -->\n",
       "  <line x1=\"190\" y1=\"0\" x2=\"204\" y2=\"14\" style=\"stroke-width:2\" />\n",
       "  <line x1=\"190\" y1=\"0\" x2=\"204\" y2=\"15\" />\n",
       "  <line x1=\"190\" y1=\"1\" x2=\"204\" y2=\"16\" />\n",
       "  <line x1=\"190\" y1=\"1\" x2=\"204\" y2=\"16\" />\n",
       "  <line x1=\"190\" y1=\"3\" x2=\"204\" y2=\"18\" />\n",
       "  <line x1=\"190\" y1=\"3\" x2=\"204\" y2=\"18\" />\n",
       "  <line x1=\"190\" y1=\"4\" x2=\"204\" y2=\"19\" />\n",
       "  <line x1=\"190\" y1=\"5\" x2=\"204\" y2=\"20\" />\n",
       "  <line x1=\"190\" y1=\"6\" x2=\"204\" y2=\"21\" />\n",
       "  <line x1=\"190\" y1=\"6\" x2=\"204\" y2=\"21\" />\n",
       "  <line x1=\"190\" y1=\"7\" x2=\"204\" y2=\"22\" />\n",
       "  <line x1=\"190\" y1=\"8\" x2=\"204\" y2=\"23\" />\n",
       "  <line x1=\"190\" y1=\"9\" x2=\"204\" y2=\"24\" />\n",
       "  <line x1=\"190\" y1=\"10\" x2=\"204\" y2=\"25\" />\n",
       "  <line x1=\"190\" y1=\"10\" x2=\"204\" y2=\"25\" />\n",
       "  <line x1=\"190\" y1=\"11\" x2=\"204\" y2=\"26\" />\n",
       "  <line x1=\"190\" y1=\"12\" x2=\"204\" y2=\"27\" />\n",
       "  <line x1=\"190\" y1=\"13\" x2=\"204\" y2=\"28\" />\n",
       "  <line x1=\"190\" y1=\"13\" x2=\"204\" y2=\"28\" />\n",
       "  <line x1=\"190\" y1=\"14\" x2=\"204\" y2=\"29\" />\n",
       "  <line x1=\"190\" y1=\"15\" x2=\"204\" y2=\"30\" />\n",
       "  <line x1=\"190\" y1=\"16\" x2=\"204\" y2=\"31\" />\n",
       "  <line x1=\"190\" y1=\"17\" x2=\"204\" y2=\"32\" />\n",
       "  <line x1=\"190\" y1=\"17\" x2=\"204\" y2=\"32\" />\n",
       "  <line x1=\"190\" y1=\"19\" x2=\"204\" y2=\"34\" />\n",
       "  <line x1=\"190\" y1=\"19\" x2=\"204\" y2=\"34\" />\n",
       "  <line x1=\"190\" y1=\"20\" x2=\"204\" y2=\"35\" />\n",
       "  <line x1=\"190\" y1=\"20\" x2=\"204\" y2=\"35\" />\n",
       "  <line x1=\"190\" y1=\"22\" x2=\"204\" y2=\"37\" />\n",
       "  <line x1=\"190\" y1=\"22\" x2=\"204\" y2=\"37\" />\n",
       "  <line x1=\"190\" y1=\"23\" x2=\"204\" y2=\"38\" />\n",
       "  <line x1=\"190\" y1=\"24\" x2=\"204\" y2=\"39\" />\n",
       "  <line x1=\"190\" y1=\"25\" x2=\"204\" y2=\"40\" style=\"stroke-width:2\" />\n",
       "\n",
       "  <!-- Vertical lines -->\n",
       "  <line x1=\"190\" y1=\"0\" x2=\"190\" y2=\"25\" style=\"stroke-width:2\" />\n",
       "  <line x1=\"204\" y1=\"14\" x2=\"204\" y2=\"40\" style=\"stroke-width:2\" />\n",
       "\n",
       "  <!-- Colored Rectangle -->\n",
       "  <polygon points=\"190.0,0.0 204.9485979497544,14.948597949754403 204.9485979497544,40.36121446433689 190.0,25.412616514582485\" style=\"fill:#8B4903A0;stroke-width:0\"/>\n",
       "\n",
       "  <!-- Horizontal lines -->\n",
       "  <line x1=\"190\" y1=\"0\" x2=\"215\" y2=\"0\" style=\"stroke-width:2\" />\n",
       "  <line x1=\"204\" y1=\"14\" x2=\"230\" y2=\"14\" style=\"stroke-width:2\" />\n",
       "\n",
       "  <!-- Vertical lines -->\n",
       "  <line x1=\"190\" y1=\"0\" x2=\"204\" y2=\"14\" style=\"stroke-width:2\" />\n",
       "  <line x1=\"190\" y1=\"0\" x2=\"205\" y2=\"14\" />\n",
       "  <line x1=\"191\" y1=\"0\" x2=\"206\" y2=\"14\" />\n",
       "  <line x1=\"192\" y1=\"0\" x2=\"207\" y2=\"14\" />\n",
       "  <line x1=\"192\" y1=\"0\" x2=\"207\" y2=\"14\" />\n",
       "  <line x1=\"193\" y1=\"0\" x2=\"208\" y2=\"14\" />\n",
       "  <line x1=\"194\" y1=\"0\" x2=\"209\" y2=\"14\" />\n",
       "  <line x1=\"194\" y1=\"0\" x2=\"209\" y2=\"14\" />\n",
       "  <line x1=\"196\" y1=\"0\" x2=\"211\" y2=\"14\" />\n",
       "  <line x1=\"197\" y1=\"0\" x2=\"212\" y2=\"14\" />\n",
       "  <line x1=\"197\" y1=\"0\" x2=\"212\" y2=\"14\" />\n",
       "  <line x1=\"198\" y1=\"0\" x2=\"213\" y2=\"14\" />\n",
       "  <line x1=\"199\" y1=\"0\" x2=\"214\" y2=\"14\" />\n",
       "  <line x1=\"199\" y1=\"0\" x2=\"214\" y2=\"14\" />\n",
       "  <line x1=\"200\" y1=\"0\" x2=\"215\" y2=\"14\" />\n",
       "  <line x1=\"201\" y1=\"0\" x2=\"216\" y2=\"14\" />\n",
       "  <line x1=\"202\" y1=\"0\" x2=\"217\" y2=\"14\" />\n",
       "  <line x1=\"203\" y1=\"0\" x2=\"218\" y2=\"14\" />\n",
       "  <line x1=\"204\" y1=\"0\" x2=\"219\" y2=\"14\" />\n",
       "  <line x1=\"204\" y1=\"0\" x2=\"219\" y2=\"14\" />\n",
       "  <line x1=\"205\" y1=\"0\" x2=\"220\" y2=\"14\" />\n",
       "  <line x1=\"206\" y1=\"0\" x2=\"221\" y2=\"14\" />\n",
       "  <line x1=\"206\" y1=\"0\" x2=\"221\" y2=\"14\" />\n",
       "  <line x1=\"207\" y1=\"0\" x2=\"222\" y2=\"14\" />\n",
       "  <line x1=\"209\" y1=\"0\" x2=\"224\" y2=\"14\" />\n",
       "  <line x1=\"209\" y1=\"0\" x2=\"224\" y2=\"14\" />\n",
       "  <line x1=\"210\" y1=\"0\" x2=\"225\" y2=\"14\" />\n",
       "  <line x1=\"211\" y1=\"0\" x2=\"226\" y2=\"14\" />\n",
       "  <line x1=\"211\" y1=\"0\" x2=\"226\" y2=\"14\" />\n",
       "  <line x1=\"212\" y1=\"0\" x2=\"227\" y2=\"14\" />\n",
       "  <line x1=\"213\" y1=\"0\" x2=\"228\" y2=\"14\" />\n",
       "  <line x1=\"214\" y1=\"0\" x2=\"228\" y2=\"14\" />\n",
       "  <line x1=\"215\" y1=\"0\" x2=\"230\" y2=\"14\" style=\"stroke-width:2\" />\n",
       "\n",
       "  <!-- Colored Rectangle -->\n",
       "  <polygon points=\"190.0,0.0 215.41261651458248,0.0 230.36121446433688,14.948597949754403 204.9485979497544,14.948597949754403\" style=\"fill:#8B4903A0;stroke-width:0\"/>\n",
       "\n",
       "  <!-- Horizontal lines -->\n",
       "  <line x1=\"204\" y1=\"14\" x2=\"230\" y2=\"14\" style=\"stroke-width:2\" />\n",
       "  <line x1=\"204\" y1=\"15\" x2=\"230\" y2=\"15\" />\n",
       "  <line x1=\"204\" y1=\"16\" x2=\"230\" y2=\"16\" />\n",
       "  <line x1=\"204\" y1=\"16\" x2=\"230\" y2=\"16\" />\n",
       "  <line x1=\"204\" y1=\"18\" x2=\"230\" y2=\"18\" />\n",
       "  <line x1=\"204\" y1=\"18\" x2=\"230\" y2=\"18\" />\n",
       "  <line x1=\"204\" y1=\"19\" x2=\"230\" y2=\"19\" />\n",
       "  <line x1=\"204\" y1=\"20\" x2=\"230\" y2=\"20\" />\n",
       "  <line x1=\"204\" y1=\"21\" x2=\"230\" y2=\"21\" />\n",
       "  <line x1=\"204\" y1=\"21\" x2=\"230\" y2=\"21\" />\n",
       "  <line x1=\"204\" y1=\"22\" x2=\"230\" y2=\"22\" />\n",
       "  <line x1=\"204\" y1=\"23\" x2=\"230\" y2=\"23\" />\n",
       "  <line x1=\"204\" y1=\"24\" x2=\"230\" y2=\"24\" />\n",
       "  <line x1=\"204\" y1=\"25\" x2=\"230\" y2=\"25\" />\n",
       "  <line x1=\"204\" y1=\"25\" x2=\"230\" y2=\"25\" />\n",
       "  <line x1=\"204\" y1=\"26\" x2=\"230\" y2=\"26\" />\n",
       "  <line x1=\"204\" y1=\"27\" x2=\"230\" y2=\"27\" />\n",
       "  <line x1=\"204\" y1=\"28\" x2=\"230\" y2=\"28\" />\n",
       "  <line x1=\"204\" y1=\"28\" x2=\"230\" y2=\"28\" />\n",
       "  <line x1=\"204\" y1=\"29\" x2=\"230\" y2=\"29\" />\n",
       "  <line x1=\"204\" y1=\"30\" x2=\"230\" y2=\"30\" />\n",
       "  <line x1=\"204\" y1=\"31\" x2=\"230\" y2=\"31\" />\n",
       "  <line x1=\"204\" y1=\"32\" x2=\"230\" y2=\"32\" />\n",
       "  <line x1=\"204\" y1=\"32\" x2=\"230\" y2=\"32\" />\n",
       "  <line x1=\"204\" y1=\"34\" x2=\"230\" y2=\"34\" />\n",
       "  <line x1=\"204\" y1=\"34\" x2=\"230\" y2=\"34\" />\n",
       "  <line x1=\"204\" y1=\"35\" x2=\"230\" y2=\"35\" />\n",
       "  <line x1=\"204\" y1=\"35\" x2=\"230\" y2=\"35\" />\n",
       "  <line x1=\"204\" y1=\"37\" x2=\"230\" y2=\"37\" />\n",
       "  <line x1=\"204\" y1=\"37\" x2=\"230\" y2=\"37\" />\n",
       "  <line x1=\"204\" y1=\"38\" x2=\"230\" y2=\"38\" />\n",
       "  <line x1=\"204\" y1=\"39\" x2=\"230\" y2=\"39\" />\n",
       "  <line x1=\"204\" y1=\"40\" x2=\"230\" y2=\"40\" style=\"stroke-width:2\" />\n",
       "\n",
       "  <!-- Vertical lines -->\n",
       "  <line x1=\"204\" y1=\"14\" x2=\"204\" y2=\"40\" style=\"stroke-width:2\" />\n",
       "  <line x1=\"205\" y1=\"14\" x2=\"205\" y2=\"40\" />\n",
       "  <line x1=\"206\" y1=\"14\" x2=\"206\" y2=\"40\" />\n",
       "  <line x1=\"207\" y1=\"14\" x2=\"207\" y2=\"40\" />\n",
       "  <line x1=\"207\" y1=\"14\" x2=\"207\" y2=\"40\" />\n",
       "  <line x1=\"208\" y1=\"14\" x2=\"208\" y2=\"40\" />\n",
       "  <line x1=\"209\" y1=\"14\" x2=\"209\" y2=\"40\" />\n",
       "  <line x1=\"209\" y1=\"14\" x2=\"209\" y2=\"40\" />\n",
       "  <line x1=\"211\" y1=\"14\" x2=\"211\" y2=\"40\" />\n",
       "  <line x1=\"212\" y1=\"14\" x2=\"212\" y2=\"40\" />\n",
       "  <line x1=\"212\" y1=\"14\" x2=\"212\" y2=\"40\" />\n",
       "  <line x1=\"213\" y1=\"14\" x2=\"213\" y2=\"40\" />\n",
       "  <line x1=\"214\" y1=\"14\" x2=\"214\" y2=\"40\" />\n",
       "  <line x1=\"214\" y1=\"14\" x2=\"214\" y2=\"40\" />\n",
       "  <line x1=\"215\" y1=\"14\" x2=\"215\" y2=\"40\" />\n",
       "  <line x1=\"216\" y1=\"14\" x2=\"216\" y2=\"40\" />\n",
       "  <line x1=\"217\" y1=\"14\" x2=\"217\" y2=\"40\" />\n",
       "  <line x1=\"218\" y1=\"14\" x2=\"218\" y2=\"40\" />\n",
       "  <line x1=\"219\" y1=\"14\" x2=\"219\" y2=\"40\" />\n",
       "  <line x1=\"219\" y1=\"14\" x2=\"219\" y2=\"40\" />\n",
       "  <line x1=\"220\" y1=\"14\" x2=\"220\" y2=\"40\" />\n",
       "  <line x1=\"221\" y1=\"14\" x2=\"221\" y2=\"40\" />\n",
       "  <line x1=\"221\" y1=\"14\" x2=\"221\" y2=\"40\" />\n",
       "  <line x1=\"222\" y1=\"14\" x2=\"222\" y2=\"40\" />\n",
       "  <line x1=\"224\" y1=\"14\" x2=\"224\" y2=\"40\" />\n",
       "  <line x1=\"224\" y1=\"14\" x2=\"224\" y2=\"40\" />\n",
       "  <line x1=\"225\" y1=\"14\" x2=\"225\" y2=\"40\" />\n",
       "  <line x1=\"226\" y1=\"14\" x2=\"226\" y2=\"40\" />\n",
       "  <line x1=\"226\" y1=\"14\" x2=\"226\" y2=\"40\" />\n",
       "  <line x1=\"227\" y1=\"14\" x2=\"227\" y2=\"40\" />\n",
       "  <line x1=\"228\" y1=\"14\" x2=\"228\" y2=\"40\" />\n",
       "  <line x1=\"228\" y1=\"14\" x2=\"228\" y2=\"40\" />\n",
       "  <line x1=\"230\" y1=\"14\" x2=\"230\" y2=\"40\" style=\"stroke-width:2\" />\n",
       "\n",
       "  <!-- Colored Rectangle -->\n",
       "  <polygon points=\"204.9485979497544,14.948597949754403 230.36121446433688,14.948597949754403 230.36121446433688,40.36121446433689 204.9485979497544,40.36121446433689\" style=\"fill:#8B4903A0;stroke-width:0\"/>\n",
       "\n",
       "  <!-- Text -->\n",
       "  <text x=\"217.654906\" y=\"60.361214\" font-size=\"1.0rem\" font-weight=\"100\" text-anchor=\"middle\" >72</text>\n",
       "  <text x=\"250.361214\" y=\"27.654906\" font-size=\"1.0rem\" font-weight=\"100\" text-anchor=\"middle\" transform=\"rotate(0,250.361214,27.654906)\">80</text>\n",
       "  <text x=\"187.474299\" y=\"52.886915\" font-size=\"1.0rem\" font-weight=\"100\" text-anchor=\"middle\" transform=\"rotate(45,187.474299,52.886915)\">7</text>\n",
       "</svg>\n",
       "        </td>\n",
       "    </tr>\n",
       "</table></div></li></ul></div></li><li class='xr-section-item'><input id='section-c52e011a-7083-49da-8885-548268a188f1' class='xr-section-summary-in' type='checkbox' disabled ><label for='section-c52e011a-7083-49da-8885-548268a188f1' class='xr-section-summary'  title='Expand/collapse section'>Attributes: <span>(0)</span></label><div class='xr-section-inline-details'></div><div class='xr-section-details'><dl class='xr-attrs'></dl></div></li></ul></div></div>"
      ],
      "text/plain": [
       "<xarray.Dataset>\n",
       "Dimensions:    (time: 14836, quantile: 7, lat: 80, lon: 72)\n",
       "Coordinates:\n",
       "    dayofyear  (time) int64 1 2 3 4 5 6 7 8 ... 229 230 231 232 233 234 235 236\n",
       "  * lat        (lat) float32 -49.88 -49.62 -49.38 ... -30.62 -30.38 -30.12\n",
       "  * lon        (lon) float32 162.1 162.4 162.6 162.9 ... 179.1 179.4 179.6 179.9\n",
       "  * quantile   (quantile) float64 0.01 0.1 0.25 0.5 0.75 0.9 0.99\n",
       "  * time       (time) object 1982-01-01 00:00:00 ... 2022-08-24 00:00:00\n",
       "Data variables:\n",
       "    quantiles  (time, quantile, lat, lon) float64 dask.array<chunksize=(413, 7, 2, 2), meta=np.ndarray>"
      ]
     },
     "execution_count": 27,
     "metadata": {},
     "output_type": "execute_result"
    }
   ],
   "source": [
    "clim_repeat"
   ]
  },
  {
   "cell_type": "markdown",
   "id": "2ac3f8c3-f306-4c1e-9960-4ebe7fef487d",
   "metadata": {
    "papermill": {
     "duration": 0.008327,
     "end_time": "2022-08-18T00:37:53.255987",
     "exception": false,
     "start_time": "2022-08-18T00:37:53.247660",
     "status": "completed"
    },
    "tags": []
   },
   "source": [
    "### derive the mask highlighting MHW conditions"
   ]
  },
  {
   "cell_type": "code",
   "execution_count": 28,
   "id": "627e852f-3b84-486a-bf51-3ee3309848f2",
   "metadata": {
    "papermill": {
     "duration": 0.037228,
     "end_time": "2022-08-18T00:37:53.301482",
     "exception": false,
     "start_time": "2022-08-18T00:37:53.264254",
     "status": "completed"
    },
    "tags": []
   },
   "outputs": [],
   "source": [
    "mask = dset[\"sst\"].where(dset[\"sst\"] >= clim_repeat[\"quantiles\"].sel(quantile=quantile))"
   ]
  },
  {
   "cell_type": "code",
   "execution_count": 29,
   "id": "14b95b98-b566-4b8d-80e1-211875f07afe",
   "metadata": {},
   "outputs": [],
   "source": [
    "mask = mask.where(np.isnan(mask), other=1)"
   ]
  },
  {
   "cell_type": "code",
   "execution_count": 30,
   "id": "3201e7cb-ac45-4a9b-b11b-019a27097fa7",
   "metadata": {},
   "outputs": [],
   "source": [
    "mask = mask.interp_calendar(standard_calendar)"
   ]
  },
  {
   "cell_type": "markdown",
   "id": "968d04bb-cc60-4b2f-8921-aca63ef8b419",
   "metadata": {},
   "source": [
    "### chunks "
   ]
  },
  {
   "cell_type": "code",
   "execution_count": 31,
   "id": "60bba8fe-52a2-44ee-a390-af46c260f4fc",
   "metadata": {},
   "outputs": [],
   "source": [
    "mask_to_detect = mask.chunk(dict(time=-1, lat=1, lon=1))"
   ]
  },
  {
   "cell_type": "markdown",
   "id": "94e548b2-36c2-4128-bab1-d2a6be75e072",
   "metadata": {},
   "source": [
    "### get the index "
   ]
  },
  {
   "cell_type": "code",
   "execution_count": 32,
   "id": "ffdd274f-8a8b-40aa-9ecd-5a0846cf8510",
   "metadata": {},
   "outputs": [],
   "source": [
    "index = mask_to_detect['time'].to_index()"
   ]
  },
  {
   "cell_type": "markdown",
   "id": "aef0b475-2af8-4842-8bca-18877d716ab7",
   "metadata": {},
   "source": [
    "### interpolate the NaN values for sequences shorter than max_gap"
   ]
  },
  {
   "cell_type": "code",
   "execution_count": 33,
   "id": "ede1f899-c576-4abd-861a-eeb66e2dd21a",
   "metadata": {},
   "outputs": [],
   "source": [
    "max_gap = 5"
   ]
  },
  {
   "cell_type": "code",
   "execution_count": 34,
   "id": "a7e985ef-fb68-4fba-be0b-8bfd6a65e7b5",
   "metadata": {},
   "outputs": [
    {
     "name": "stderr",
     "output_type": "stream",
     "text": [
      "/home/nicolasf/mambaforge/envs/climetlab/lib/python3.8/site-packages/dask/array/core.py:4571: PerformanceWarning: Increasing number of chunks by factor of 72\n",
      "  result = blockwise(\n"
     ]
    }
   ],
   "source": [
    "with dask.config.set(**{'array.slicing.split_large_chunks': True}):\n",
    "\n",
    "    mask_to_detect = mask_to_detect.interpolate_na(use_coordinate=True, dim='time', max_gap=f'{max_gap}D', method='nearest')"
   ]
  },
  {
   "cell_type": "code",
   "execution_count": 35,
   "id": "be702b9d-c8f1-4c84-b974-056df4e2b45b",
   "metadata": {},
   "outputs": [],
   "source": [
    "mask_to_detect = mask_to_detect.stack(z=('lat','lon'))"
   ]
  },
  {
   "cell_type": "code",
   "execution_count": 36,
   "id": "d14db5be-56bd-4c87-a401-7b42362c74bf",
   "metadata": {},
   "outputs": [
    {
     "name": "stderr",
     "output_type": "stream",
     "text": [
      "/home/nicolasf/mambaforge/envs/climetlab/lib/python3.8/site-packages/dask/array/reductions.py:567: RuntimeWarning: All-NaN slice encountered\n",
      "  return np.nanmax(x_chunk, axis=axis, keepdims=keepdims)\n",
      "/home/nicolasf/mambaforge/envs/climetlab/lib/python3.8/site-packages/dask/array/reductions.py:567: RuntimeWarning: All-NaN slice encountered\n",
      "  return np.nanmax(x_chunk, axis=axis, keepdims=keepdims)\n",
      "/home/nicolasf/mambaforge/envs/climetlab/lib/python3.8/site-packages/dask/array/reductions.py:567: RuntimeWarning: All-NaN slice encountered\n",
      "  return np.nanmax(x_chunk, axis=axis, keepdims=keepdims)\n",
      "/home/nicolasf/mambaforge/envs/climetlab/lib/python3.8/site-packages/dask/array/reductions.py:567: RuntimeWarning: All-NaN slice encountered\n",
      "  return np.nanmax(x_chunk, axis=axis, keepdims=keepdims)\n",
      "/home/nicolasf/mambaforge/envs/climetlab/lib/python3.8/site-packages/dask/array/reductions.py:567: RuntimeWarning: All-NaN slice encountered\n",
      "  return np.nanmax(x_chunk, axis=axis, keepdims=keepdims)\n",
      "/home/nicolasf/mambaforge/envs/climetlab/lib/python3.8/site-packages/dask/array/reductions.py:567: RuntimeWarning: All-NaN slice encountered\n",
      "  return np.nanmax(x_chunk, axis=axis, keepdims=keepdims)\n",
      "/home/nicolasf/mambaforge/envs/climetlab/lib/python3.8/site-packages/dask/array/reductions.py:567: RuntimeWarning: All-NaN slice encountered\n",
      "  return np.nanmax(x_chunk, axis=axis, keepdims=keepdims)\n",
      "/home/nicolasf/mambaforge/envs/climetlab/lib/python3.8/site-packages/dask/array/reductions.py:567: RuntimeWarning: All-NaN slice encountered\n",
      "  return np.nanmax(x_chunk, axis=axis, keepdims=keepdims)\n",
      "/home/nicolasf/mambaforge/envs/climetlab/lib/python3.8/site-packages/dask/array/reductions.py:567: RuntimeWarning: All-NaN slice encountered\n",
      "  return np.nanmax(x_chunk, axis=axis, keepdims=keepdims)\n",
      "/home/nicolasf/mambaforge/envs/climetlab/lib/python3.8/site-packages/dask/array/reductions.py:567: RuntimeWarning: All-NaN slice encountered\n",
      "  return np.nanmax(x_chunk, axis=axis, keepdims=keepdims)\n",
      "/home/nicolasf/mambaforge/envs/climetlab/lib/python3.8/site-packages/dask/array/reductions.py:567: RuntimeWarning: All-NaN slice encountered\n",
      "  return np.nanmax(x_chunk, axis=axis, keepdims=keepdims)\n",
      "/home/nicolasf/mambaforge/envs/climetlab/lib/python3.8/site-packages/dask/array/reductions.py:567: RuntimeWarning: All-NaN slice encountered\n",
      "  return np.nanmax(x_chunk, axis=axis, keepdims=keepdims)\n",
      "/home/nicolasf/mambaforge/envs/climetlab/lib/python3.8/site-packages/dask/array/reductions.py:567: RuntimeWarning: All-NaN slice encountered\n",
      "  return np.nanmax(x_chunk, axis=axis, keepdims=keepdims)\n",
      "/home/nicolasf/mambaforge/envs/climetlab/lib/python3.8/site-packages/dask/array/reductions.py:567: RuntimeWarning: All-NaN slice encountered\n",
      "  return np.nanmax(x_chunk, axis=axis, keepdims=keepdims)\n",
      "/home/nicolasf/mambaforge/envs/climetlab/lib/python3.8/site-packages/dask/array/reductions.py:567: RuntimeWarning: All-NaN slice encountered\n",
      "  return np.nanmax(x_chunk, axis=axis, keepdims=keepdims)\n",
      "/home/nicolasf/mambaforge/envs/climetlab/lib/python3.8/site-packages/dask/array/reductions.py:567: RuntimeWarning: All-NaN slice encountered\n",
      "  return np.nanmax(x_chunk, axis=axis, keepdims=keepdims)\n",
      "/home/nicolasf/mambaforge/envs/climetlab/lib/python3.8/site-packages/dask/array/reductions.py:567: RuntimeWarning: All-NaN slice encountered\n",
      "  return np.nanmax(x_chunk, axis=axis, keepdims=keepdims)\n",
      "/home/nicolasf/mambaforge/envs/climetlab/lib/python3.8/site-packages/dask/array/reductions.py:567: RuntimeWarning: All-NaN slice encountered\n",
      "  return np.nanmax(x_chunk, axis=axis, keepdims=keepdims)\n",
      "/home/nicolasf/mambaforge/envs/climetlab/lib/python3.8/site-packages/dask/array/reductions.py:567: RuntimeWarning: All-NaN slice encountered\n",
      "  return np.nanmax(x_chunk, axis=axis, keepdims=keepdims)\n",
      "/home/nicolasf/mambaforge/envs/climetlab/lib/python3.8/site-packages/dask/array/reductions.py:567: RuntimeWarning: All-NaN slice encountered\n",
      "  return np.nanmax(x_chunk, axis=axis, keepdims=keepdims)\n",
      "/home/nicolasf/mambaforge/envs/climetlab/lib/python3.8/site-packages/dask/array/reductions.py:567: RuntimeWarning: All-NaN slice encountered\n",
      "  return np.nanmax(x_chunk, axis=axis, keepdims=keepdims)\n",
      "/home/nicolasf/mambaforge/envs/climetlab/lib/python3.8/site-packages/dask/array/reductions.py:567: RuntimeWarning: All-NaN slice encountered\n",
      "  return np.nanmax(x_chunk, axis=axis, keepdims=keepdims)\n",
      "/home/nicolasf/mambaforge/envs/climetlab/lib/python3.8/site-packages/dask/array/reductions.py:567: RuntimeWarning: All-NaN slice encountered\n",
      "  return np.nanmax(x_chunk, axis=axis, keepdims=keepdims)\n",
      "/home/nicolasf/mambaforge/envs/climetlab/lib/python3.8/site-packages/dask/array/reductions.py:567: RuntimeWarning: All-NaN slice encountered\n",
      "  return np.nanmax(x_chunk, axis=axis, keepdims=keepdims)\n",
      "/home/nicolasf/mambaforge/envs/climetlab/lib/python3.8/site-packages/dask/array/reductions.py:567: RuntimeWarning: All-NaN slice encountered\n",
      "  return np.nanmax(x_chunk, axis=axis, keepdims=keepdims)\n",
      "/home/nicolasf/mambaforge/envs/climetlab/lib/python3.8/site-packages/dask/array/reductions.py:567: RuntimeWarning: All-NaN slice encountered\n",
      "  return np.nanmax(x_chunk, axis=axis, keepdims=keepdims)\n",
      "/home/nicolasf/mambaforge/envs/climetlab/lib/python3.8/site-packages/dask/array/reductions.py:567: RuntimeWarning: All-NaN slice encountered\n",
      "  return np.nanmax(x_chunk, axis=axis, keepdims=keepdims)\n",
      "/home/nicolasf/mambaforge/envs/climetlab/lib/python3.8/site-packages/dask/array/reductions.py:567: RuntimeWarning: All-NaN slice encountered\n",
      "  return np.nanmax(x_chunk, axis=axis, keepdims=keepdims)\n",
      "/home/nicolasf/mambaforge/envs/climetlab/lib/python3.8/site-packages/dask/array/reductions.py:567: RuntimeWarning: All-NaN slice encountered\n",
      "  return np.nanmax(x_chunk, axis=axis, keepdims=keepdims)\n",
      "/home/nicolasf/mambaforge/envs/climetlab/lib/python3.8/site-packages/dask/array/reductions.py:567: RuntimeWarning: All-NaN slice encountered\n",
      "  return np.nanmax(x_chunk, axis=axis, keepdims=keepdims)\n",
      "/home/nicolasf/mambaforge/envs/climetlab/lib/python3.8/site-packages/dask/array/reductions.py:567: RuntimeWarning: All-NaN slice encountered\n",
      "  return np.nanmax(x_chunk, axis=axis, keepdims=keepdims)\n",
      "/home/nicolasf/mambaforge/envs/climetlab/lib/python3.8/site-packages/dask/array/reductions.py:567: RuntimeWarning: All-NaN slice encountered\n",
      "  return np.nanmax(x_chunk, axis=axis, keepdims=keepdims)\n",
      "/home/nicolasf/mambaforge/envs/climetlab/lib/python3.8/site-packages/dask/array/reductions.py:567: RuntimeWarning: All-NaN slice encountered\n",
      "  return np.nanmax(x_chunk, axis=axis, keepdims=keepdims)\n",
      "/home/nicolasf/mambaforge/envs/climetlab/lib/python3.8/site-packages/dask/array/reductions.py:567: RuntimeWarning: All-NaN slice encountered\n",
      "  return np.nanmax(x_chunk, axis=axis, keepdims=keepdims)\n",
      "/home/nicolasf/mambaforge/envs/climetlab/lib/python3.8/site-packages/dask/array/reductions.py:567: RuntimeWarning: All-NaN slice encountered\n",
      "  return np.nanmax(x_chunk, axis=axis, keepdims=keepdims)\n",
      "/home/nicolasf/mambaforge/envs/climetlab/lib/python3.8/site-packages/dask/array/reductions.py:567: RuntimeWarning: All-NaN slice encountered\n",
      "  return np.nanmax(x_chunk, axis=axis, keepdims=keepdims)\n",
      "/home/nicolasf/mambaforge/envs/climetlab/lib/python3.8/site-packages/dask/array/reductions.py:567: RuntimeWarning: All-NaN slice encountered\n",
      "  return np.nanmax(x_chunk, axis=axis, keepdims=keepdims)\n",
      "/home/nicolasf/mambaforge/envs/climetlab/lib/python3.8/site-packages/dask/array/reductions.py:567: RuntimeWarning: All-NaN slice encountered\n",
      "  return np.nanmax(x_chunk, axis=axis, keepdims=keepdims)\n",
      "/home/nicolasf/mambaforge/envs/climetlab/lib/python3.8/site-packages/dask/array/reductions.py:567: RuntimeWarning: All-NaN slice encountered\n",
      "  return np.nanmax(x_chunk, axis=axis, keepdims=keepdims)\n",
      "/home/nicolasf/mambaforge/envs/climetlab/lib/python3.8/site-packages/dask/array/reductions.py:567: RuntimeWarning: All-NaN slice encountered\n",
      "  return np.nanmax(x_chunk, axis=axis, keepdims=keepdims)\n",
      "/home/nicolasf/mambaforge/envs/climetlab/lib/python3.8/site-packages/dask/array/reductions.py:567: RuntimeWarning: All-NaN slice encountered\n",
      "  return np.nanmax(x_chunk, axis=axis, keepdims=keepdims)\n",
      "/home/nicolasf/mambaforge/envs/climetlab/lib/python3.8/site-packages/dask/array/reductions.py:567: RuntimeWarning: All-NaN slice encountered\n",
      "  return np.nanmax(x_chunk, axis=axis, keepdims=keepdims)\n",
      "/home/nicolasf/mambaforge/envs/climetlab/lib/python3.8/site-packages/dask/array/reductions.py:567: RuntimeWarning: All-NaN slice encountered\n",
      "  return np.nanmax(x_chunk, axis=axis, keepdims=keepdims)\n",
      "/home/nicolasf/mambaforge/envs/climetlab/lib/python3.8/site-packages/dask/array/reductions.py:567: RuntimeWarning: All-NaN slice encountered\n",
      "  return np.nanmax(x_chunk, axis=axis, keepdims=keepdims)\n",
      "/home/nicolasf/mambaforge/envs/climetlab/lib/python3.8/site-packages/dask/array/reductions.py:567: RuntimeWarning: All-NaN slice encountered\n",
      "  return np.nanmax(x_chunk, axis=axis, keepdims=keepdims)\n",
      "/home/nicolasf/mambaforge/envs/climetlab/lib/python3.8/site-packages/dask/array/reductions.py:567: RuntimeWarning: All-NaN slice encountered\n",
      "  return np.nanmax(x_chunk, axis=axis, keepdims=keepdims)\n",
      "/home/nicolasf/mambaforge/envs/climetlab/lib/python3.8/site-packages/dask/array/reductions.py:567: RuntimeWarning: All-NaN slice encountered\n",
      "  return np.nanmax(x_chunk, axis=axis, keepdims=keepdims)\n",
      "/home/nicolasf/mambaforge/envs/climetlab/lib/python3.8/site-packages/dask/array/reductions.py:567: RuntimeWarning: All-NaN slice encountered\n",
      "  return np.nanmax(x_chunk, axis=axis, keepdims=keepdims)\n",
      "/home/nicolasf/mambaforge/envs/climetlab/lib/python3.8/site-packages/dask/array/reductions.py:567: RuntimeWarning: All-NaN slice encountered\n",
      "  return np.nanmax(x_chunk, axis=axis, keepdims=keepdims)\n",
      "/home/nicolasf/mambaforge/envs/climetlab/lib/python3.8/site-packages/dask/array/reductions.py:567: RuntimeWarning: All-NaN slice encountered\n",
      "  return np.nanmax(x_chunk, axis=axis, keepdims=keepdims)\n",
      "/home/nicolasf/mambaforge/envs/climetlab/lib/python3.8/site-packages/dask/array/reductions.py:567: RuntimeWarning: All-NaN slice encountered\n",
      "  return np.nanmax(x_chunk, axis=axis, keepdims=keepdims)\n",
      "/home/nicolasf/mambaforge/envs/climetlab/lib/python3.8/site-packages/dask/array/reductions.py:567: RuntimeWarning: All-NaN slice encountered\n",
      "  return np.nanmax(x_chunk, axis=axis, keepdims=keepdims)\n",
      "/home/nicolasf/mambaforge/envs/climetlab/lib/python3.8/site-packages/dask/array/reductions.py:567: RuntimeWarning: All-NaN slice encountered\n",
      "  return np.nanmax(x_chunk, axis=axis, keepdims=keepdims)\n",
      "/home/nicolasf/mambaforge/envs/climetlab/lib/python3.8/site-packages/dask/array/reductions.py:567: RuntimeWarning: All-NaN slice encountered\n",
      "  return np.nanmax(x_chunk, axis=axis, keepdims=keepdims)\n",
      "/home/nicolasf/mambaforge/envs/climetlab/lib/python3.8/site-packages/dask/array/reductions.py:567: RuntimeWarning: All-NaN slice encountered\n",
      "  return np.nanmax(x_chunk, axis=axis, keepdims=keepdims)\n",
      "/home/nicolasf/mambaforge/envs/climetlab/lib/python3.8/site-packages/dask/array/reductions.py:567: RuntimeWarning: All-NaN slice encountered\n",
      "  return np.nanmax(x_chunk, axis=axis, keepdims=keepdims)\n",
      "/home/nicolasf/mambaforge/envs/climetlab/lib/python3.8/site-packages/dask/array/reductions.py:567: RuntimeWarning: All-NaN slice encountered\n",
      "  return np.nanmax(x_chunk, axis=axis, keepdims=keepdims)\n",
      "/home/nicolasf/mambaforge/envs/climetlab/lib/python3.8/site-packages/dask/array/reductions.py:567: RuntimeWarning: All-NaN slice encountered\n",
      "  return np.nanmax(x_chunk, axis=axis, keepdims=keepdims)\n",
      "/home/nicolasf/mambaforge/envs/climetlab/lib/python3.8/site-packages/dask/array/reductions.py:567: RuntimeWarning: All-NaN slice encountered\n",
      "  return np.nanmax(x_chunk, axis=axis, keepdims=keepdims)\n",
      "/home/nicolasf/mambaforge/envs/climetlab/lib/python3.8/site-packages/dask/array/reductions.py:567: RuntimeWarning: All-NaN slice encountered\n",
      "  return np.nanmax(x_chunk, axis=axis, keepdims=keepdims)\n",
      "/home/nicolasf/mambaforge/envs/climetlab/lib/python3.8/site-packages/dask/array/reductions.py:567: RuntimeWarning: All-NaN slice encountered\n",
      "  return np.nanmax(x_chunk, axis=axis, keepdims=keepdims)\n",
      "/home/nicolasf/mambaforge/envs/climetlab/lib/python3.8/site-packages/dask/array/reductions.py:567: RuntimeWarning: All-NaN slice encountered\n",
      "  return np.nanmax(x_chunk, axis=axis, keepdims=keepdims)\n",
      "/home/nicolasf/mambaforge/envs/climetlab/lib/python3.8/site-packages/dask/array/reductions.py:567: RuntimeWarning: All-NaN slice encountered\n",
      "  return np.nanmax(x_chunk, axis=axis, keepdims=keepdims)\n",
      "/home/nicolasf/mambaforge/envs/climetlab/lib/python3.8/site-packages/dask/array/reductions.py:567: RuntimeWarning: All-NaN slice encountered\n",
      "  return np.nanmax(x_chunk, axis=axis, keepdims=keepdims)\n",
      "/home/nicolasf/mambaforge/envs/climetlab/lib/python3.8/site-packages/dask/array/reductions.py:567: RuntimeWarning: All-NaN slice encountered\n",
      "  return np.nanmax(x_chunk, axis=axis, keepdims=keepdims)\n",
      "/home/nicolasf/mambaforge/envs/climetlab/lib/python3.8/site-packages/dask/array/reductions.py:567: RuntimeWarning: All-NaN slice encountered\n",
      "  return np.nanmax(x_chunk, axis=axis, keepdims=keepdims)\n",
      "/home/nicolasf/mambaforge/envs/climetlab/lib/python3.8/site-packages/dask/array/reductions.py:567: RuntimeWarning: All-NaN slice encountered\n",
      "  return np.nanmax(x_chunk, axis=axis, keepdims=keepdims)\n",
      "/home/nicolasf/mambaforge/envs/climetlab/lib/python3.8/site-packages/dask/array/reductions.py:567: RuntimeWarning: All-NaN slice encountered\n",
      "  return np.nanmax(x_chunk, axis=axis, keepdims=keepdims)\n",
      "/home/nicolasf/mambaforge/envs/climetlab/lib/python3.8/site-packages/dask/array/reductions.py:567: RuntimeWarning: All-NaN slice encountered\n",
      "  return np.nanmax(x_chunk, axis=axis, keepdims=keepdims)\n",
      "/home/nicolasf/mambaforge/envs/climetlab/lib/python3.8/site-packages/dask/array/reductions.py:567: RuntimeWarning: All-NaN slice encountered\n",
      "  return np.nanmax(x_chunk, axis=axis, keepdims=keepdims)\n",
      "/home/nicolasf/mambaforge/envs/climetlab/lib/python3.8/site-packages/dask/array/reductions.py:567: RuntimeWarning: All-NaN slice encountered\n",
      "  return np.nanmax(x_chunk, axis=axis, keepdims=keepdims)\n",
      "/home/nicolasf/mambaforge/envs/climetlab/lib/python3.8/site-packages/dask/array/reductions.py:567: RuntimeWarning: All-NaN slice encountered\n",
      "  return np.nanmax(x_chunk, axis=axis, keepdims=keepdims)\n",
      "/home/nicolasf/mambaforge/envs/climetlab/lib/python3.8/site-packages/dask/array/reductions.py:567: RuntimeWarning: All-NaN slice encountered\n",
      "  return np.nanmax(x_chunk, axis=axis, keepdims=keepdims)\n",
      "/home/nicolasf/mambaforge/envs/climetlab/lib/python3.8/site-packages/dask/array/reductions.py:567: RuntimeWarning: All-NaN slice encountered\n",
      "  return np.nanmax(x_chunk, axis=axis, keepdims=keepdims)\n",
      "/home/nicolasf/mambaforge/envs/climetlab/lib/python3.8/site-packages/dask/array/reductions.py:567: RuntimeWarning: All-NaN slice encountered\n",
      "  return np.nanmax(x_chunk, axis=axis, keepdims=keepdims)\n",
      "/home/nicolasf/mambaforge/envs/climetlab/lib/python3.8/site-packages/dask/array/reductions.py:567: RuntimeWarning: All-NaN slice encountered\n",
      "  return np.nanmax(x_chunk, axis=axis, keepdims=keepdims)\n",
      "/home/nicolasf/mambaforge/envs/climetlab/lib/python3.8/site-packages/dask/array/reductions.py:567: RuntimeWarning: All-NaN slice encountered\n",
      "  return np.nanmax(x_chunk, axis=axis, keepdims=keepdims)\n",
      "/home/nicolasf/mambaforge/envs/climetlab/lib/python3.8/site-packages/dask/array/reductions.py:567: RuntimeWarning: All-NaN slice encountered\n",
      "  return np.nanmax(x_chunk, axis=axis, keepdims=keepdims)\n",
      "/home/nicolasf/mambaforge/envs/climetlab/lib/python3.8/site-packages/dask/array/reductions.py:567: RuntimeWarning: All-NaN slice encountered\n",
      "  return np.nanmax(x_chunk, axis=axis, keepdims=keepdims)\n",
      "/home/nicolasf/mambaforge/envs/climetlab/lib/python3.8/site-packages/dask/array/reductions.py:567: RuntimeWarning: All-NaN slice encountered\n",
      "  return np.nanmax(x_chunk, axis=axis, keepdims=keepdims)\n",
      "/home/nicolasf/mambaforge/envs/climetlab/lib/python3.8/site-packages/dask/array/reductions.py:567: RuntimeWarning: All-NaN slice encountered\n",
      "  return np.nanmax(x_chunk, axis=axis, keepdims=keepdims)\n",
      "/home/nicolasf/mambaforge/envs/climetlab/lib/python3.8/site-packages/dask/array/reductions.py:567: RuntimeWarning: All-NaN slice encountered\n",
      "  return np.nanmax(x_chunk, axis=axis, keepdims=keepdims)\n",
      "/home/nicolasf/mambaforge/envs/climetlab/lib/python3.8/site-packages/dask/array/reductions.py:567: RuntimeWarning: All-NaN slice encountered\n",
      "  return np.nanmax(x_chunk, axis=axis, keepdims=keepdims)\n",
      "/home/nicolasf/mambaforge/envs/climetlab/lib/python3.8/site-packages/dask/array/reductions.py:567: RuntimeWarning: All-NaN slice encountered\n",
      "  return np.nanmax(x_chunk, axis=axis, keepdims=keepdims)\n",
      "/home/nicolasf/mambaforge/envs/climetlab/lib/python3.8/site-packages/dask/array/reductions.py:567: RuntimeWarning: All-NaN slice encountered\n",
      "  return np.nanmax(x_chunk, axis=axis, keepdims=keepdims)\n",
      "/home/nicolasf/mambaforge/envs/climetlab/lib/python3.8/site-packages/dask/array/reductions.py:567: RuntimeWarning: All-NaN slice encountered\n",
      "  return np.nanmax(x_chunk, axis=axis, keepdims=keepdims)\n",
      "/home/nicolasf/mambaforge/envs/climetlab/lib/python3.8/site-packages/dask/array/reductions.py:567: RuntimeWarning: All-NaN slice encountered\n",
      "  return np.nanmax(x_chunk, axis=axis, keepdims=keepdims)\n",
      "/home/nicolasf/mambaforge/envs/climetlab/lib/python3.8/site-packages/dask/array/reductions.py:567: RuntimeWarning: All-NaN slice encountered\n",
      "  return np.nanmax(x_chunk, axis=axis, keepdims=keepdims)\n",
      "/home/nicolasf/mambaforge/envs/climetlab/lib/python3.8/site-packages/dask/array/reductions.py:567: RuntimeWarning: All-NaN slice encountered\n",
      "  return np.nanmax(x_chunk, axis=axis, keepdims=keepdims)\n",
      "/home/nicolasf/mambaforge/envs/climetlab/lib/python3.8/site-packages/dask/array/reductions.py:567: RuntimeWarning: All-NaN slice encountered\n",
      "  return np.nanmax(x_chunk, axis=axis, keepdims=keepdims)\n",
      "/home/nicolasf/mambaforge/envs/climetlab/lib/python3.8/site-packages/dask/array/reductions.py:567: RuntimeWarning: All-NaN slice encountered\n",
      "  return np.nanmax(x_chunk, axis=axis, keepdims=keepdims)\n",
      "/home/nicolasf/mambaforge/envs/climetlab/lib/python3.8/site-packages/dask/array/reductions.py:567: RuntimeWarning: All-NaN slice encountered\n",
      "  return np.nanmax(x_chunk, axis=axis, keepdims=keepdims)\n",
      "/home/nicolasf/mambaforge/envs/climetlab/lib/python3.8/site-packages/dask/array/reductions.py:567: RuntimeWarning: All-NaN slice encountered\n",
      "  return np.nanmax(x_chunk, axis=axis, keepdims=keepdims)\n",
      "/home/nicolasf/mambaforge/envs/climetlab/lib/python3.8/site-packages/dask/array/reductions.py:567: RuntimeWarning: All-NaN slice encountered\n",
      "  return np.nanmax(x_chunk, axis=axis, keepdims=keepdims)\n",
      "/home/nicolasf/mambaforge/envs/climetlab/lib/python3.8/site-packages/dask/array/reductions.py:567: RuntimeWarning: All-NaN slice encountered\n",
      "  return np.nanmax(x_chunk, axis=axis, keepdims=keepdims)\n",
      "/home/nicolasf/mambaforge/envs/climetlab/lib/python3.8/site-packages/dask/array/reductions.py:567: RuntimeWarning: All-NaN slice encountered\n",
      "  return np.nanmax(x_chunk, axis=axis, keepdims=keepdims)\n",
      "/home/nicolasf/mambaforge/envs/climetlab/lib/python3.8/site-packages/dask/array/reductions.py:567: RuntimeWarning: All-NaN slice encountered\n",
      "  return np.nanmax(x_chunk, axis=axis, keepdims=keepdims)\n",
      "/home/nicolasf/mambaforge/envs/climetlab/lib/python3.8/site-packages/dask/array/reductions.py:567: RuntimeWarning: All-NaN slice encountered\n",
      "  return np.nanmax(x_chunk, axis=axis, keepdims=keepdims)\n",
      "/home/nicolasf/mambaforge/envs/climetlab/lib/python3.8/site-packages/dask/array/reductions.py:567: RuntimeWarning: All-NaN slice encountered\n",
      "  return np.nanmax(x_chunk, axis=axis, keepdims=keepdims)\n",
      "/home/nicolasf/mambaforge/envs/climetlab/lib/python3.8/site-packages/dask/array/reductions.py:567: RuntimeWarning: All-NaN slice encountered\n",
      "  return np.nanmax(x_chunk, axis=axis, keepdims=keepdims)\n",
      "/home/nicolasf/mambaforge/envs/climetlab/lib/python3.8/site-packages/dask/array/reductions.py:567: RuntimeWarning: All-NaN slice encountered\n",
      "  return np.nanmax(x_chunk, axis=axis, keepdims=keepdims)\n",
      "/home/nicolasf/mambaforge/envs/climetlab/lib/python3.8/site-packages/dask/array/reductions.py:567: RuntimeWarning: All-NaN slice encountered\n",
      "  return np.nanmax(x_chunk, axis=axis, keepdims=keepdims)\n",
      "/home/nicolasf/mambaforge/envs/climetlab/lib/python3.8/site-packages/dask/array/reductions.py:567: RuntimeWarning: All-NaN slice encountered\n",
      "  return np.nanmax(x_chunk, axis=axis, keepdims=keepdims)\n",
      "/home/nicolasf/mambaforge/envs/climetlab/lib/python3.8/site-packages/dask/array/reductions.py:567: RuntimeWarning: All-NaN slice encountered\n",
      "  return np.nanmax(x_chunk, axis=axis, keepdims=keepdims)\n",
      "/home/nicolasf/mambaforge/envs/climetlab/lib/python3.8/site-packages/dask/array/reductions.py:567: RuntimeWarning: All-NaN slice encountered\n",
      "  return np.nanmax(x_chunk, axis=axis, keepdims=keepdims)\n",
      "/home/nicolasf/mambaforge/envs/climetlab/lib/python3.8/site-packages/dask/array/reductions.py:567: RuntimeWarning: All-NaN slice encountered\n",
      "  return np.nanmax(x_chunk, axis=axis, keepdims=keepdims)\n",
      "/home/nicolasf/mambaforge/envs/climetlab/lib/python3.8/site-packages/dask/array/reductions.py:567: RuntimeWarning: All-NaN slice encountered\n",
      "  return np.nanmax(x_chunk, axis=axis, keepdims=keepdims)\n",
      "/home/nicolasf/mambaforge/envs/climetlab/lib/python3.8/site-packages/dask/array/reductions.py:567: RuntimeWarning: All-NaN slice encountered\n",
      "  return np.nanmax(x_chunk, axis=axis, keepdims=keepdims)\n",
      "/home/nicolasf/mambaforge/envs/climetlab/lib/python3.8/site-packages/dask/array/reductions.py:567: RuntimeWarning: All-NaN slice encountered\n",
      "  return np.nanmax(x_chunk, axis=axis, keepdims=keepdims)\n",
      "/home/nicolasf/mambaforge/envs/climetlab/lib/python3.8/site-packages/dask/array/reductions.py:567: RuntimeWarning: All-NaN slice encountered\n",
      "  return np.nanmax(x_chunk, axis=axis, keepdims=keepdims)\n",
      "/home/nicolasf/mambaforge/envs/climetlab/lib/python3.8/site-packages/dask/array/reductions.py:567: RuntimeWarning: All-NaN slice encountered\n",
      "  return np.nanmax(x_chunk, axis=axis, keepdims=keepdims)\n",
      "/home/nicolasf/mambaforge/envs/climetlab/lib/python3.8/site-packages/dask/array/reductions.py:567: RuntimeWarning: All-NaN slice encountered\n",
      "  return np.nanmax(x_chunk, axis=axis, keepdims=keepdims)\n",
      "/home/nicolasf/mambaforge/envs/climetlab/lib/python3.8/site-packages/dask/array/reductions.py:567: RuntimeWarning: All-NaN slice encountered\n",
      "  return np.nanmax(x_chunk, axis=axis, keepdims=keepdims)\n",
      "/home/nicolasf/mambaforge/envs/climetlab/lib/python3.8/site-packages/dask/array/reductions.py:567: RuntimeWarning: All-NaN slice encountered\n",
      "  return np.nanmax(x_chunk, axis=axis, keepdims=keepdims)\n",
      "/home/nicolasf/mambaforge/envs/climetlab/lib/python3.8/site-packages/dask/array/reductions.py:567: RuntimeWarning: All-NaN slice encountered\n",
      "  return np.nanmax(x_chunk, axis=axis, keepdims=keepdims)\n",
      "/home/nicolasf/mambaforge/envs/climetlab/lib/python3.8/site-packages/dask/array/reductions.py:567: RuntimeWarning: All-NaN slice encountered\n",
      "  return np.nanmax(x_chunk, axis=axis, keepdims=keepdims)\n",
      "/home/nicolasf/mambaforge/envs/climetlab/lib/python3.8/site-packages/dask/array/reductions.py:567: RuntimeWarning: All-NaN slice encountered\n",
      "  return np.nanmax(x_chunk, axis=axis, keepdims=keepdims)\n",
      "/home/nicolasf/mambaforge/envs/climetlab/lib/python3.8/site-packages/dask/array/reductions.py:567: RuntimeWarning: All-NaN slice encountered\n",
      "  return np.nanmax(x_chunk, axis=axis, keepdims=keepdims)\n",
      "/home/nicolasf/mambaforge/envs/climetlab/lib/python3.8/site-packages/dask/array/reductions.py:567: RuntimeWarning: All-NaN slice encountered\n",
      "  return np.nanmax(x_chunk, axis=axis, keepdims=keepdims)\n",
      "/home/nicolasf/mambaforge/envs/climetlab/lib/python3.8/site-packages/dask/array/reductions.py:567: RuntimeWarning: All-NaN slice encountered\n",
      "  return np.nanmax(x_chunk, axis=axis, keepdims=keepdims)\n",
      "/home/nicolasf/mambaforge/envs/climetlab/lib/python3.8/site-packages/dask/array/reductions.py:567: RuntimeWarning: All-NaN slice encountered\n",
      "  return np.nanmax(x_chunk, axis=axis, keepdims=keepdims)\n",
      "/home/nicolasf/mambaforge/envs/climetlab/lib/python3.8/site-packages/dask/array/reductions.py:567: RuntimeWarning: All-NaN slice encountered\n",
      "  return np.nanmax(x_chunk, axis=axis, keepdims=keepdims)\n",
      "/home/nicolasf/mambaforge/envs/climetlab/lib/python3.8/site-packages/dask/array/reductions.py:567: RuntimeWarning: All-NaN slice encountered\n",
      "  return np.nanmax(x_chunk, axis=axis, keepdims=keepdims)\n",
      "/home/nicolasf/mambaforge/envs/climetlab/lib/python3.8/site-packages/dask/array/reductions.py:567: RuntimeWarning: All-NaN slice encountered\n",
      "  return np.nanmax(x_chunk, axis=axis, keepdims=keepdims)\n",
      "/home/nicolasf/mambaforge/envs/climetlab/lib/python3.8/site-packages/dask/array/reductions.py:567: RuntimeWarning: All-NaN slice encountered\n",
      "  return np.nanmax(x_chunk, axis=axis, keepdims=keepdims)\n",
      "/home/nicolasf/mambaforge/envs/climetlab/lib/python3.8/site-packages/dask/array/reductions.py:567: RuntimeWarning: All-NaN slice encountered\n",
      "  return np.nanmax(x_chunk, axis=axis, keepdims=keepdims)\n",
      "/home/nicolasf/mambaforge/envs/climetlab/lib/python3.8/site-packages/dask/array/reductions.py:567: RuntimeWarning: All-NaN slice encountered\n",
      "  return np.nanmax(x_chunk, axis=axis, keepdims=keepdims)\n",
      "/home/nicolasf/mambaforge/envs/climetlab/lib/python3.8/site-packages/dask/array/reductions.py:567: RuntimeWarning: All-NaN slice encountered\n",
      "  return np.nanmax(x_chunk, axis=axis, keepdims=keepdims)\n",
      "/home/nicolasf/mambaforge/envs/climetlab/lib/python3.8/site-packages/dask/array/reductions.py:567: RuntimeWarning: All-NaN slice encountered\n",
      "  return np.nanmax(x_chunk, axis=axis, keepdims=keepdims)\n",
      "/home/nicolasf/mambaforge/envs/climetlab/lib/python3.8/site-packages/dask/array/reductions.py:567: RuntimeWarning: All-NaN slice encountered\n",
      "  return np.nanmax(x_chunk, axis=axis, keepdims=keepdims)\n",
      "/home/nicolasf/mambaforge/envs/climetlab/lib/python3.8/site-packages/dask/array/reductions.py:567: RuntimeWarning: All-NaN slice encountered\n",
      "  return np.nanmax(x_chunk, axis=axis, keepdims=keepdims)\n",
      "/home/nicolasf/mambaforge/envs/climetlab/lib/python3.8/site-packages/dask/array/reductions.py:567: RuntimeWarning: All-NaN slice encountered\n",
      "  return np.nanmax(x_chunk, axis=axis, keepdims=keepdims)\n",
      "/home/nicolasf/mambaforge/envs/climetlab/lib/python3.8/site-packages/dask/array/reductions.py:567: RuntimeWarning: All-NaN slice encountered\n",
      "  return np.nanmax(x_chunk, axis=axis, keepdims=keepdims)\n",
      "/home/nicolasf/mambaforge/envs/climetlab/lib/python3.8/site-packages/dask/array/reductions.py:567: RuntimeWarning: All-NaN slice encountered\n",
      "  return np.nanmax(x_chunk, axis=axis, keepdims=keepdims)\n",
      "/home/nicolasf/mambaforge/envs/climetlab/lib/python3.8/site-packages/dask/array/reductions.py:567: RuntimeWarning: All-NaN slice encountered\n",
      "  return np.nanmax(x_chunk, axis=axis, keepdims=keepdims)\n",
      "/home/nicolasf/mambaforge/envs/climetlab/lib/python3.8/site-packages/dask/array/reductions.py:567: RuntimeWarning: All-NaN slice encountered\n",
      "  return np.nanmax(x_chunk, axis=axis, keepdims=keepdims)\n",
      "/home/nicolasf/mambaforge/envs/climetlab/lib/python3.8/site-packages/dask/array/reductions.py:567: RuntimeWarning: All-NaN slice encountered\n",
      "  return np.nanmax(x_chunk, axis=axis, keepdims=keepdims)\n",
      "/home/nicolasf/mambaforge/envs/climetlab/lib/python3.8/site-packages/dask/array/reductions.py:567: RuntimeWarning: All-NaN slice encountered\n",
      "  return np.nanmax(x_chunk, axis=axis, keepdims=keepdims)\n",
      "/home/nicolasf/mambaforge/envs/climetlab/lib/python3.8/site-packages/dask/array/reductions.py:567: RuntimeWarning: All-NaN slice encountered\n",
      "  return np.nanmax(x_chunk, axis=axis, keepdims=keepdims)\n",
      "/home/nicolasf/mambaforge/envs/climetlab/lib/python3.8/site-packages/dask/array/reductions.py:567: RuntimeWarning: All-NaN slice encountered\n",
      "  return np.nanmax(x_chunk, axis=axis, keepdims=keepdims)\n",
      "/home/nicolasf/mambaforge/envs/climetlab/lib/python3.8/site-packages/dask/array/reductions.py:567: RuntimeWarning: All-NaN slice encountered\n",
      "  return np.nanmax(x_chunk, axis=axis, keepdims=keepdims)\n",
      "/home/nicolasf/mambaforge/envs/climetlab/lib/python3.8/site-packages/dask/array/reductions.py:567: RuntimeWarning: All-NaN slice encountered\n",
      "  return np.nanmax(x_chunk, axis=axis, keepdims=keepdims)\n"
     ]
    }
   ],
   "source": [
    "mask_to_detect = mask_to_detect.dropna('z', how='all')"
   ]
  },
  {
   "cell_type": "code",
   "execution_count": 37,
   "id": "7577cac9-3c1a-4206-a15b-8c9be836445d",
   "metadata": {},
   "outputs": [],
   "source": [
    "mask_to_detect = mask_to_detect.fillna(0)"
   ]
  },
  {
   "cell_type": "code",
   "execution_count": null,
   "id": "5d649632-e25f-4abc-9979-42435082c510",
   "metadata": {},
   "outputs": [],
   "source": []
  },
  {
   "cell_type": "code",
   "execution_count": null,
   "id": "b41ea12f-0391-400c-83cb-64f25ca4f2a7",
   "metadata": {},
   "outputs": [],
   "source": []
  },
  {
   "cell_type": "code",
   "execution_count": null,
   "id": "64e5252e-d74e-4ae9-8a5f-240fe8dbe966",
   "metadata": {},
   "outputs": [],
   "source": []
  },
  {
   "cell_type": "code",
   "execution_count": null,
   "id": "f49efc2b-25e8-4b06-abee-02f7a8a04ab4",
   "metadata": {},
   "outputs": [],
   "source": []
  },
  {
   "cell_type": "code",
   "execution_count": 38,
   "id": "c2ea6f90-212b-4e7b-866e-6393648da597",
   "metadata": {},
   "outputs": [],
   "source": [
    "def detect_MWH(data): \n",
    "    \n",
    "    import numpy as np\n",
    "    from scipy import ndimage\n",
    "    \n",
    "    data_zeroes = np.zeros_like(data)\n",
    "    \n",
    "    events, n_events = ndimage.label(data)\n",
    "    \n",
    "    istarts = []\n",
    "    durations = []\n",
    "\n",
    "    for ev in range(1, n_events+1):\n",
    "\n",
    "        durations.append((events == ev).sum()) \n",
    "        istarts.append(np.where(events == ev)[0][0])\n",
    "        \n",
    "    data_zeroes[istarts] = durations\n",
    "    \n",
    "    return data_zeroes, events"
   ]
  },
  {
   "cell_type": "code",
   "execution_count": 39,
   "id": "0cc444c2-e8a3-4be0-a8f3-a96bc15d070c",
   "metadata": {},
   "outputs": [],
   "source": [
    "starts_and_durations, events = np.apply_along_axis(detect_MWH, 0, mask_to_detect.data)"
   ]
  },
  {
   "cell_type": "code",
   "execution_count": null,
   "id": "388fa4cb-09d7-4429-8753-454a83815802",
   "metadata": {},
   "outputs": [],
   "source": [
    "with ProgressBar(): \n",
    "    starts_and_durations = starts_and_durations.compute()\n",
    "    events = events.compute()"
   ]
  },
  {
   "cell_type": "code",
   "execution_count": 41,
   "id": "c6620f5f-5814-495b-8a69-78721baa53d5",
   "metadata": {},
   "outputs": [
    {
     "data": {
      "text/plain": [
       "(14846, 5331)"
      ]
     },
     "execution_count": 41,
     "metadata": {},
     "output_type": "execute_result"
    }
   ],
   "source": [
    "starts_and_durations.shape"
   ]
  },
  {
   "cell_type": "code",
   "execution_count": 42,
   "id": "4bf3c91b-1f1d-4cd7-ac9c-c9d4fda2d0c8",
   "metadata": {},
   "outputs": [
    {
     "data": {
      "text/plain": [
       "(14846, 5331)"
      ]
     },
     "execution_count": 42,
     "metadata": {},
     "output_type": "execute_result"
    }
   ],
   "source": [
    "events.shape"
   ]
  },
  {
   "cell_type": "code",
   "execution_count": 49,
   "id": "f3b87617-96c6-4397-a14a-b97089ed58a1",
   "metadata": {},
   "outputs": [],
   "source": [
    "mask_to_detect['mhw'] = (('time','z'), starts_and_durations)"
   ]
  },
  {
   "cell_type": "code",
   "execution_count": 51,
   "id": "9abf6fba-72d4-49a8-afd5-396152f5d4d7",
   "metadata": {},
   "outputs": [],
   "source": [
    "mask_to_detect = mask_to_detect.unstack()"
   ]
  },
  {
   "cell_type": "code",
   "execution_count": 52,
   "id": "54f196b2-e434-45cf-ba39-6601627a40e6",
   "metadata": {},
   "outputs": [
    {
     "data": {
      "text/plain": [
       "[<matplotlib.lines.Line2D at 0x7f016bf62220>]"
      ]
     },
     "execution_count": 52,
     "metadata": {},
     "output_type": "execute_result"
    },
    {
     "data": {
      "image/png": "[encoded data removed]",
      "text/plain": [
       "<Figure size 432x288 with 1 Axes>"
      ]
     },
     "metadata": {
      "needs_background": "light"
     },
     "output_type": "display_data"
    }
   ],
   "source": [
    "mask_to_detect['mhw'].isel(lat=10, lon=10).plot()"
   ]
  },
  {
   "cell_type": "code",
   "execution_count": 53,
   "id": "1a19c60a-0c21-4068-b39d-d76ef455c477",
   "metadata": {},
   "outputs": [
    {
     "data": {
      "text/plain": [
       "[<matplotlib.lines.Line2D at 0x7f01a02cf160>]"
      ]
     },
     "execution_count": 53,
     "metadata": {},
     "output_type": "execute_result"
    },
    {
     "data": {
      "image/png": "[encoded data removed]",
      "text/plain": [
       "<Figure size 432x288 with 1 Axes>"
      ]
     },
     "metadata": {
      "needs_background": "light"
     },
     "output_type": "display_data"
    }
   ],
   "source": [
    "mask_to_detect['mhw'].isel(lat=10, lon=10, time=slice(-365*10, None)).resample(dict(time='1M')).sum().plot()"
   ]
  },
  {
   "cell_type": "code",
   "execution_count": 54,
   "id": "8ad0dc0f-97a3-4e5e-9cd1-2b42c5272db7",
   "metadata": {},
   "outputs": [],
   "source": [
    "MHWs = mask_to_detect['mhw']"
   ]
  },
  {
   "cell_type": "code",
   "execution_count": 55,
   "id": "28fd7d5f-9079-4b8c-948f-005a1584b998",
   "metadata": {},
   "outputs": [],
   "source": [
    "MHWs = MHWs.drop('mhw')"
   ]
  },
  {
   "cell_type": "code",
   "execution_count": 56,
   "id": "fc2ec491-8aeb-47c7-b1f4-25692fce153a",
   "metadata": {},
   "outputs": [],
   "source": [
    "MHWs = MHWs.to_dataset()"
   ]
  },
  {
   "cell_type": "code",
   "execution_count": 57,
   "id": "cc860337-cb67-40d3-ba9a-9aedd8f0700d",
   "metadata": {},
   "outputs": [
    {
     "data": {
      "text/plain": [
       "<matplotlib.collections.QuadMesh at 0x7f01a016e400>"
      ]
     },
     "execution_count": 57,
     "metadata": {},
     "output_type": "execute_result"
    },
    {
     "data": {
      "image/png": "[encoded data removed]",
      "text/plain": [
       "<Figure size 432x288 with 2 Axes>"
      ]
     },
     "metadata": {
      "needs_background": "light"
     },
     "output_type": "display_data"
    }
   ],
   "source": [
    "MHWs.mean('time')['mhw'].plot()"
   ]
  },
  {
   "cell_type": "code",
   "execution_count": 65,
   "id": "b078f917-7daf-43fe-a546-17d9880ecc9f",
   "metadata": {},
   "outputs": [
    {
     "data": {
      "text/plain": [
       "<matplotlib.contour.QuadContourSet at 0x7f01251b7f10>"
      ]
     },
     "execution_count": 65,
     "metadata": {},
     "output_type": "execute_result"
    },
    {
     "data": {
      "image/png": "[encoded data removed]",
      "text/plain": [
       "<Figure size 432x288 with 2 Axes>"
      ]
     },
     "metadata": {
      "needs_background": "light"
     },
     "output_type": "display_data"
    }
   ],
   "source": [
    "MHWs.where(MHWs['mhw']>0).mean('time')['mhw'].plot.contourf(levels=10)"
   ]
  },
  {
   "cell_type": "code",
   "execution_count": null,
   "id": "6a738230-b6e8-4f04-9ce4-ec742c248f49",
   "metadata": {},
   "outputs": [],
   "source": []
  }
 ],
 "metadata": {
  "kernelspec": {
   "display_name": "Python 3 (ipykernel)",
   "language": "python",
   "name": "python3"
  },
  "language_info": {
   "codemirror_mode": {
    "name": "ipython",
    "version": 3
   },
   "file_extension": ".py",
   "mimetype": "text/x-python",
   "name": "python",
   "nbconvert_exporter": "python",
   "pygments_lexer": "ipython3",
   "version": "3.8.13"
  },
  "papermill": {
   "default_parameters": {},
   "duration": 36.05409,
   "end_time": "2022-08-18T00:38:25.006818",
   "environment_variables": {},
   "exception": null,
   "input_path": "OISST_realtime_NZ_maps.ipynb",
   "output_path": "OISST_realtime_NZ_maps.ipynb",
   "parameters": {
    "ndays_agg": 30
   },
   "start_time": "2022-08-18T00:37:48.952728",
   "version": "2.3.3"
  }
 },
 "nbformat": 4,
 "nbformat_minor": 5
}
